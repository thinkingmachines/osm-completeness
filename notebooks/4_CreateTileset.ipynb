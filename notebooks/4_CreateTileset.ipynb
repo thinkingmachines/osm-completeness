{
 "cells": [
  {
   "cell_type": "code",
   "execution_count": 1,
   "id": "dcc7adc3-4ba0-40f6-9b4e-e9d8b8f269d8",
   "metadata": {},
   "outputs": [],
   "source": [
    "import geopandas as gpd"
   ]
  },
  {
   "cell_type": "code",
   "execution_count": 3,
   "id": "a10e81b6-7d3c-49fa-bcf1-fcc3e69ad380",
   "metadata": {},
   "outputs": [],
   "source": [
    "mdg_adm2 = gpd.read_file(\"../data/mapthegap-mdg-adm2-2021-07-12.gpkg\",driver=\"GPKG\")"
   ]
  },
  {
   "cell_type": "code",
   "execution_count": 11,
   "id": "502ce5e0-d137-47ff-8cb2-461abc3a8afe",
   "metadata": {},
   "outputs": [],
   "source": [
    "mdg_adm2.to_file(\"../data/mapthegap-mdg-adm2-2021-07-12.geojson\",driver=\"GeoJSON\")"
   ]
  },
  {
   "cell_type": "code",
   "execution_count": 4,
   "id": "677bffad-74e8-465d-99fb-669566c66cc5",
   "metadata": {},
   "outputs": [],
   "source": [
    "mdg_adm3 = gpd.read_file(\"../data/mapthegap-mdg-adm3-2021-07-12.gpkg\",driver=\"GPKG\")"
   ]
  },
  {
   "cell_type": "code",
   "execution_count": 12,
   "id": "37c9f8db-cbfe-486b-85eb-769dbf8163bd",
   "metadata": {},
   "outputs": [],
   "source": [
    "mdg_adm3.to_file(\"../data/mapthegap-mdg-adm3-2021-07-12.geojson\",driver=\"GeoJSON\")"
   ]
  },
  {
   "cell_type": "code",
   "execution_count": 6,
   "id": "830178e6-9eb5-4b38-8941-d7b9f812c3c2",
   "metadata": {},
   "outputs": [
    {
     "data": {
      "text/html": [
       "<div>\n",
       "<style scoped>\n",
       "    .dataframe tbody tr th:only-of-type {\n",
       "        vertical-align: middle;\n",
       "    }\n",
       "\n",
       "    .dataframe tbody tr th {\n",
       "        vertical-align: top;\n",
       "    }\n",
       "\n",
       "    .dataframe thead th {\n",
       "        text-align: right;\n",
       "    }\n",
       "</style>\n",
       "<table border=\"1\" class=\"dataframe\">\n",
       "  <thead>\n",
       "    <tr style=\"text-align: right;\">\n",
       "      <th></th>\n",
       "      <th>ADM3_PCODE</th>\n",
       "      <th>ADM3_EN</th>\n",
       "      <th>ADM3_TYPE</th>\n",
       "      <th>pixels_withbuilding_july2021</th>\n",
       "      <th>pixels_nobuilding_july2021</th>\n",
       "      <th>percentage_completeness_july2021</th>\n",
       "      <th>pixels_withbuilding_jan2020</th>\n",
       "      <th>pixels_nobuilding_jan2020</th>\n",
       "      <th>percentage_completeness_jan2020</th>\n",
       "      <th>geometry</th>\n",
       "    </tr>\n",
       "  </thead>\n",
       "  <tbody>\n",
       "    <tr>\n",
       "      <th>0</th>\n",
       "      <td>MG11101001</td>\n",
       "      <td>1er Arrondissement</td>\n",
       "      <td>Commune</td>\n",
       "      <td>3216</td>\n",
       "      <td>990</td>\n",
       "      <td>76.462197</td>\n",
       "      <td>2472</td>\n",
       "      <td>1734</td>\n",
       "      <td>58.773181</td>\n",
       "      <td>POLYGON ((47.50556 -18.89146, 47.50563 -18.891...</td>\n",
       "    </tr>\n",
       "    <tr>\n",
       "      <th>1</th>\n",
       "      <td>MG11101002</td>\n",
       "      <td>2e Arrondissement</td>\n",
       "      <td>Commune</td>\n",
       "      <td>1519</td>\n",
       "      <td>3911</td>\n",
       "      <td>27.974217</td>\n",
       "      <td>1439</td>\n",
       "      <td>3991</td>\n",
       "      <td>26.500921</td>\n",
       "      <td>POLYGON ((47.55842 -18.91178, 47.55857 -18.911...</td>\n",
       "    </tr>\n",
       "    <tr>\n",
       "      <th>2</th>\n",
       "      <td>MG11101003</td>\n",
       "      <td>3e Arrondissement</td>\n",
       "      <td>Commune</td>\n",
       "      <td>1456</td>\n",
       "      <td>1742</td>\n",
       "      <td>45.528455</td>\n",
       "      <td>1424</td>\n",
       "      <td>1774</td>\n",
       "      <td>44.527830</td>\n",
       "      <td>POLYGON ((47.51365 -18.87834, 47.51775 -18.879...</td>\n",
       "    </tr>\n",
       "    <tr>\n",
       "      <th>3</th>\n",
       "      <td>MG11101004</td>\n",
       "      <td>4e Arrondissement</td>\n",
       "      <td>Commune</td>\n",
       "      <td>2789</td>\n",
       "      <td>2304</td>\n",
       "      <td>54.761437</td>\n",
       "      <td>1646</td>\n",
       "      <td>3447</td>\n",
       "      <td>32.318869</td>\n",
       "      <td>POLYGON ((47.50262 -18.91043, 47.50261 -18.910...</td>\n",
       "    </tr>\n",
       "    <tr>\n",
       "      <th>4</th>\n",
       "      <td>MG11101005</td>\n",
       "      <td>5e Arrondissement</td>\n",
       "      <td>Commune</td>\n",
       "      <td>3037</td>\n",
       "      <td>6104</td>\n",
       "      <td>33.223936</td>\n",
       "      <td>2153</td>\n",
       "      <td>6988</td>\n",
       "      <td>23.553222</td>\n",
       "      <td>POLYGON ((47.53500 -18.85464, 47.53518 -18.854...</td>\n",
       "    </tr>\n",
       "  </tbody>\n",
       "</table>\n",
       "</div>"
      ],
      "text/plain": [
       "   ADM3_PCODE             ADM3_EN ADM3_TYPE  pixels_withbuilding_july2021  \\\n",
       "0  MG11101001  1er Arrondissement   Commune                          3216   \n",
       "1  MG11101002   2e Arrondissement   Commune                          1519   \n",
       "2  MG11101003   3e Arrondissement   Commune                          1456   \n",
       "3  MG11101004   4e Arrondissement   Commune                          2789   \n",
       "4  MG11101005   5e Arrondissement   Commune                          3037   \n",
       "\n",
       "   pixels_nobuilding_july2021  percentage_completeness_july2021  \\\n",
       "0                         990                         76.462197   \n",
       "1                        3911                         27.974217   \n",
       "2                        1742                         45.528455   \n",
       "3                        2304                         54.761437   \n",
       "4                        6104                         33.223936   \n",
       "\n",
       "   pixels_withbuilding_jan2020  pixels_nobuilding_jan2020  \\\n",
       "0                         2472                       1734   \n",
       "1                         1439                       3991   \n",
       "2                         1424                       1774   \n",
       "3                         1646                       3447   \n",
       "4                         2153                       6988   \n",
       "\n",
       "   percentage_completeness_jan2020  \\\n",
       "0                        58.773181   \n",
       "1                        26.500921   \n",
       "2                        44.527830   \n",
       "3                        32.318869   \n",
       "4                        23.553222   \n",
       "\n",
       "                                            geometry  \n",
       "0  POLYGON ((47.50556 -18.89146, 47.50563 -18.891...  \n",
       "1  POLYGON ((47.55842 -18.91178, 47.55857 -18.911...  \n",
       "2  POLYGON ((47.51365 -18.87834, 47.51775 -18.879...  \n",
       "3  POLYGON ((47.50262 -18.91043, 47.50261 -18.910...  \n",
       "4  POLYGON ((47.53500 -18.85464, 47.53518 -18.854...  "
      ]
     },
     "execution_count": 6,
     "metadata": {},
     "output_type": "execute_result"
    }
   ],
   "source": [
    "mdg_adm3.head()"
   ]
  },
  {
   "cell_type": "code",
   "execution_count": 7,
   "id": "dba83924-f3ce-40cc-8628-3b30708fbcc7",
   "metadata": {},
   "outputs": [
    {
     "name": "stdout",
     "output_type": "stream",
     "text": [
      "tippecanoe: must specify -o out.mbtiles or -e directory\n"
     ]
    }
   ],
   "source": [
    "# Checking if tippecanoe is installed\n",
    "! tippecanoe"
   ]
  },
  {
   "cell_type": "code",
   "execution_count": 9,
   "id": "7777c858-9bf9-4104-b122-c8b5f6fa8e38",
   "metadata": {},
   "outputs": [
    {
     "name": "stdout",
     "output_type": "stream",
     "text": [
      "Usage: tippecanoe [options] [file.json ...]\n",
      "  Output tileset\n",
      "         --output=output.mbtiles [--output-to-directory=...] [--force]\n",
      "         [--allow-existing]\n",
      "  Tileset description and attribution\n",
      "         [--name=...] [--attribution=...] [--description=...]\n",
      "  Input files and layer names\n",
      "         [--layer=...] [--named-layer=...]\n",
      "  Parallel processing of input\n",
      "         [--read-parallel]\n",
      "  Projection of input\n",
      "         [--projection=...]\n",
      "  Zoom levels\n",
      "         [--maximum-zoom=...] [--minimum-zoom=...]\n",
      "         [--extend-zooms-if-still-dropping] [--one-tile=...]\n",
      "  Tile resolution\n",
      "         [--full-detail=...] [--low-detail=...] [--minimum-detail=...]\n",
      "  Filtering feature attributes\n",
      "         [--exclude=...] [--include=...] [--exclude-all]\n",
      "  Modifying feature attributes\n",
      "         [--attribute-type=...] [--attribute-description=...]\n",
      "         [--accumulate-attribute=...] [--empty-csv-columns-are-null]\n",
      "         [--convert-stringified-ids-to-numbers]\n",
      "         [--use-attribute-for-id=...]\n",
      "  Filtering features by attributes\n",
      "         [--feature-filter-file=...] [--feature-filter=...]\n",
      "  Dropping a fixed fraction of features by zoom level\n",
      "         [--drop-rate=...] [--base-zoom=...] [--drop-lines]\n",
      "         [--drop-polygons] [--cluster-distance=...]\n",
      "  Dropping or merging a fraction of features to keep under tile size limits\n",
      "         [--drop-densest-as-needed] [--drop-fraction-as-needed]\n",
      "         [--drop-smallest-as-needed] [--coalesce-densest-as-needed]\n",
      "         [--coalesce-fraction-as-needed]\n",
      "         [--coalesce-smallest-as-needed] [--force-feature-limit]\n",
      "         [--cluster-densest-as-needed]\n",
      "  Dropping tightly overlapping features\n",
      "         [--gamma=...] [--increase-gamma-as-needed]\n",
      "  Line and polygon simplification\n",
      "         [--simplification=...] [--no-line-simplification]\n",
      "         [--simplify-only-low-zooms] [--no-tiny-polygon-reduction]\n",
      "         [--no-simplification-of-shared-nodes]\n",
      "  Attempts to improve shared polygon boundaries\n",
      "         [--detect-shared-borders] [--grid-low-zooms]\n",
      "  Controlling clipping to tile boundaries\n",
      "         [--buffer=...] [--no-clipping] [--no-duplication]\n",
      "  Reordering features within each tile\n",
      "         [--preserve-input-order] [--reorder] [--coalesce]\n",
      "         [--reverse] [--hilbert]\n",
      "  Adding calculated attributes\n",
      "         [--calculate-feature-density] [--generate-ids]\n",
      "  Trying to correct bad source geometry\n",
      "         [--detect-longitude-wraparound] [--use-source-polygon-winding]\n",
      "         [--reverse-source-polygon-winding] [--clip-bounding-box=...]\n",
      "  Filtering tile contents\n",
      "         [--prefilter=...] [--postfilter=...]\n",
      "  Setting or disabling tile size limits\n",
      "         [--maximum-tile-bytes=...] [--maximum-tile-features=...]\n",
      "         [--no-feature-limit] [--no-tile-size-limit]\n",
      "         [--no-tile-compression] [--no-tile-stats]\n",
      "         [--tile-stats-attributes-limit=...]\n",
      "         [--tile-stats-sample-values-limit=...] [--tile-stats-values-limit=...]\n",
      "  Temporary storage\n",
      "         [--temporary-directory=...]\n",
      "  Progress indicator\n",
      "         [--quiet] [--no-progress-indicator] [--progress-interval=...]\n",
      "         [--version]\n"
     ]
    }
   ],
   "source": [
    "!tippecanoe --help"
   ]
  },
  {
   "cell_type": "code",
   "execution_count": 18,
   "id": "0e48a6b6-419c-4013-a372-4ad2644775e3",
   "metadata": {},
   "outputs": [
    {
     "name": "stdout",
     "output_type": "stream",
     "text": [
      "119 features, 3492453 bytes of geometry, 4248 bytes of separate metadata, 10118 bytes of string pool\n",
      "Choosing a maxzoom of -z1 for features about 221074 feet (67384 meters) apart\n",
      "Choosing a maxzoom of -z11 for resolution of about 166 feet (50 meters) within features\n",
      "  99.9%  11/1296/1137  \n"
     ]
    }
   ],
   "source": [
    "!tippecanoe -zg -o ../data/mapthegap-mdg-adm2-2021-07-12.mbtiles --drop-densest-as-needed -l mapthegap-mdg-adm2-2021-07-12 \"../data/mapthegap-mdg-adm2-2021-07-12.geojson\""
   ]
  },
  {
   "cell_type": "code",
   "execution_count": 19,
   "id": "c9ad3373-8d9d-4eba-862b-5ef69b0d5c05",
   "metadata": {},
   "outputs": [
    {
     "name": "stdout",
     "output_type": "stream",
     "text": [
      "1579 features, 8119583 bytes of geometry, 61998 bytes of separate metadata, 79198 bytes of string pool\n",
      "Choosing a maxzoom of -z3 for features about 49003 feet (14936 meters) apart\n",
      "Choosing a maxzoom of -z11 for resolution of about 223 feet (68 meters) within features\n",
      "  99.9%  11/1292/1119  \n"
     ]
    }
   ],
   "source": [
    "!tippecanoe -zg -o ../data/mapthegap-mdg-adm3-2021-07-12.mbtiles --drop-densest-as-needed -l mapthegap-mdg-adm3-2021-07-12 \"../data/mapthegap-mdg-adm3-2021-07-12.geojson\""
   ]
  },
  {
   "cell_type": "code",
   "execution_count": 26,
   "id": "338aaa59-b708-4d70-aa78-460b623be01e",
   "metadata": {},
   "outputs": [
    {
     "name": "stdout",
     "output_type": "stream",
     "text": [
      "Copying file:///home/jupyter/osm-completeness/download_data/mdg_hrsl_oct_2018/population_mdg_2018-10-01.tif [Content-Type=image/tiff]...\n",
      "- [1 files][ 18.4 MiB/ 18.4 MiB]                                                \n",
      "Operation completed over 1 objects/18.4 MiB.                                     \n"
     ]
    }
   ],
   "source": [
    "! gsutil cp ~/osm-completeness/download_data/mdg_hrsl_oct_2018/population_mdg_2018-10-01.tif gs://tm-ardie/2021-07-13-osm-completeness-madagascar/"
   ]
  },
  {
   "cell_type": "code",
   "execution_count": 24,
   "id": "ba8748fe-2c20-4fd3-bf03-356b7243f4ee",
   "metadata": {},
   "outputs": [
    {
     "name": "stdout",
     "output_type": "stream",
     "text": [
      "/bin/bash: gdalinfo: command not found\n"
     ]
    }
   ],
   "source": [
    "! gdalinfo ../download_data/mdg_hrsl_oct_2018/population_mdg_2018-10-01.tif"
   ]
  }
 ],
 "metadata": {
  "environment": {
   "name": "common-cpu.m71",
   "type": "gcloud",
   "uri": "gcr.io/deeplearning-platform-release/base-cpu:m71"
  },
  "kernelspec": {
   "display_name": "Python 3",
   "language": "python",
   "name": "python3"
  },
  "language_info": {
   "codemirror_mode": {
    "name": "ipython",
    "version": 3
   },
   "file_extension": ".py",
   "mimetype": "text/x-python",
   "name": "python",
   "nbconvert_exporter": "python",
   "pygments_lexer": "ipython3",
   "version": "3.7.10"
  }
 },
 "nbformat": 4,
 "nbformat_minor": 5
}
