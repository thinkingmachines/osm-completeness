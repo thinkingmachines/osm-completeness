{
 "cells": [
  {
   "cell_type": "markdown",
   "metadata": {},
   "source": [
    "# Analysis"
   ]
  },
  {
   "cell_type": "markdown",
   "metadata": {},
   "source": [
    "This notebook shows the analysis for the paper \"Measuring OpenStreetMap building footprint completeness using human settlement layers\"."
   ]
  },
  {
   "cell_type": "markdown",
   "metadata": {},
   "source": [
    "## Setup"
   ]
  },
  {
   "cell_type": "code",
   "execution_count": 1,
   "metadata": {},
   "outputs": [],
   "source": [
    "import numpy as np\n",
    "import pandas as pd\n",
    "import matplotlib.pyplot as plt\n",
    "\n",
    "import shapely\n",
    "import geopandas as gpd"
   ]
  },
  {
   "cell_type": "code",
   "execution_count": 3,
   "metadata": {},
   "outputs": [],
   "source": [
    "phl_pixels_all = pd.read_csv(\"../data/phl_pixels_all.csv\")"
   ]
  },
  {
   "cell_type": "code",
   "execution_count": 4,
   "metadata": {},
   "outputs": [
    {
     "name": "stdout",
     "output_type": "stream",
     "text": [
      "<class 'pandas.core.frame.DataFrame'>\n",
      "RangeIndex: 5500996 entries, 0 to 5500995\n",
      "Data columns (total 5 columns):\n",
      " #   Column           Dtype \n",
      "---  ------           ----- \n",
      " 0   index            int64 \n",
      " 1   ADM3_PCODE       object\n",
      " 2   RURBAN           object\n",
      " 3   ADM4_PCODE_NAME  object\n",
      " 4   status           object\n",
      "dtypes: int64(1), object(4)\n",
      "memory usage: 209.8+ MB\n"
     ]
    }
   ],
   "source": [
    "phl_pixels_all.info()"
   ]
  },
  {
   "cell_type": "markdown",
   "metadata": {},
   "source": [
    "## Are the unmapped areas urban or rural?"
   ]
  },
  {
   "cell_type": "code",
   "execution_count": 34,
   "metadata": {},
   "outputs": [
    {
     "data": {
      "text/plain": [
       "array(['R', 'U', nan, '-'], dtype=object)"
      ]
     },
     "execution_count": 34,
     "metadata": {},
     "output_type": "execute_result"
    }
   ],
   "source": [
    "phl_pixels_all[\"RURBAN\"].unique()"
   ]
  },
  {
   "cell_type": "code",
   "execution_count": 45,
   "metadata": {},
   "outputs": [
    {
     "data": {
      "text/html": [
       "<div>\n",
       "<style scoped>\n",
       "    .dataframe tbody tr th:only-of-type {\n",
       "        vertical-align: middle;\n",
       "    }\n",
       "\n",
       "    .dataframe tbody tr th {\n",
       "        vertical-align: top;\n",
       "    }\n",
       "\n",
       "    .dataframe thead th {\n",
       "        text-align: right;\n",
       "    }\n",
       "</style>\n",
       "<table border=\"1\" class=\"dataframe\">\n",
       "  <thead>\n",
       "    <tr style=\"text-align: right;\">\n",
       "      <th></th>\n",
       "      <th></th>\n",
       "      <th>index</th>\n",
       "      <th>ADM3_PCODE</th>\n",
       "      <th>ADM4_PCODE_NAME</th>\n",
       "    </tr>\n",
       "    <tr>\n",
       "      <th>RURBAN</th>\n",
       "      <th>status</th>\n",
       "      <th></th>\n",
       "      <th></th>\n",
       "      <th></th>\n",
       "    </tr>\n",
       "  </thead>\n",
       "  <tbody>\n",
       "    <tr>\n",
       "      <th rowspan=\"2\" valign=\"top\">R</th>\n",
       "      <th>mapped</th>\n",
       "      <td>992074</td>\n",
       "      <td>992074</td>\n",
       "      <td>992074</td>\n",
       "    </tr>\n",
       "    <tr>\n",
       "      <th>unmapped</th>\n",
       "      <td>2600890</td>\n",
       "      <td>2600890</td>\n",
       "      <td>2600890</td>\n",
       "    </tr>\n",
       "    <tr>\n",
       "      <th rowspan=\"2\" valign=\"top\">U</th>\n",
       "      <th>mapped</th>\n",
       "      <td>736423</td>\n",
       "      <td>736423</td>\n",
       "      <td>736423</td>\n",
       "    </tr>\n",
       "    <tr>\n",
       "      <th>unmapped</th>\n",
       "      <td>1168036</td>\n",
       "      <td>1168036</td>\n",
       "      <td>1168036</td>\n",
       "    </tr>\n",
       "  </tbody>\n",
       "</table>\n",
       "</div>"
      ],
      "text/plain": [
       "                   index  ADM3_PCODE  ADM4_PCODE_NAME\n",
       "RURBAN status                                        \n",
       "R      mapped     992074      992074           992074\n",
       "       unmapped  2600890     2600890          2600890\n",
       "U      mapped     736423      736423           736423\n",
       "       unmapped  1168036     1168036          1168036"
      ]
     },
     "execution_count": 45,
     "metadata": {},
     "output_type": "execute_result"
    }
   ],
   "source": [
    "phl_pixels_all.loc[phl_pixels_all[\"RURBAN\"] != \"-\"].loc[\n",
    "    phl_pixels_all[\"RURBAN\"].notnull()\n",
    "].groupby([\"RURBAN\", \"status\"]).count()"
   ]
  },
  {
   "cell_type": "code",
   "execution_count": null,
   "metadata": {},
   "outputs": [],
   "source": []
  }
 ],
 "metadata": {
  "environment": {
   "name": "common-cpu.m46",
   "type": "gcloud",
   "uri": "gcr.io/deeplearning-platform-release/base-cpu:m46"
  },
  "kernelspec": {
   "display_name": "Python 3",
   "language": "python",
   "name": "python3"
  },
  "language_info": {
   "codemirror_mode": {
    "name": "ipython",
    "version": 3
   },
   "file_extension": ".py",
   "mimetype": "text/x-python",
   "name": "python",
   "nbconvert_exporter": "python",
   "pygments_lexer": "ipython3",
   "version": "3.7.6"
  }
 },
 "nbformat": 4,
 "nbformat_minor": 4
}
