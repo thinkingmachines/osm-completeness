{
 "cells": [
  {
   "cell_type": "markdown",
   "metadata": {},
   "source": [
    "# Methodology"
   ]
  },
  {
   "cell_type": "markdown",
   "metadata": {},
   "source": [
    "This notebook shows the methodology for the paper \"Measuring OpenStreetMap building footprint completeness using human settlement layers\"."
   ]
  },
  {
   "cell_type": "markdown",
   "metadata": {},
   "source": [
    "## Setup"
   ]
  },
  {
   "cell_type": "markdown",
   "metadata": {},
   "source": [
    "We import all of the relevant packages as well as download the datasets.\n",
    "\n",
    "For reference, here are the original download links for the datasets:\n",
    "1. High Resolution Settlement Layer (HRSL) ([Philippines](https://data.humdata.org/dataset/philippines-high-resolution-population-density-maps-demographic-estimates)) ([Madagascar](https://data.humdata.org/dataset/highresolutionpopulationdensitymaps-mdg))\n",
    "2. Administrative Boundaries ([Philippines](https://data.humdata.org/dataset/philippines-administrative-levels-0-to-3)) ([Madagascar](https://data.humdata.org/dataset/madagascar-administrative-level-0-4-boundaries))\n",
    "3. OpenStreetMap (OSM) ([Philippines](https://download.geofabrik.de/asia/philippines.html)) ([Madagascar](https://download.geofabrik.de/africa/madagascar.html))"
   ]
  },
  {
   "cell_type": "code",
   "execution_count": 1,
   "metadata": {},
   "outputs": [],
   "source": [
    "import numpy as np\n",
    "import pandas as pd\n",
    "import matplotlib.pyplot as plt\n",
    "\n",
    "import shapely\n",
    "import geopandas as gpd\n",
    "import rasterio\n",
    "import rasterio.features\n",
    "\n",
    "import wget\n",
    "\n",
    "import os\n",
    "import glob\n",
    "from zipfile import ZipFile"
   ]
  },
  {
   "cell_type": "code",
   "execution_count": 2,
   "metadata": {},
   "outputs": [],
   "source": [
    "try:\n",
    "    os.mkdir(\"../download_data\")\n",
    "except Exception:\n",
    "    pass"
   ]
  },
  {
   "cell_type": "markdown",
   "metadata": {},
   "source": [
    "### HRSL download"
   ]
  },
  {
   "cell_type": "markdown",
   "metadata": {},
   "source": [
    "Uncomment the cells below if you have not yet downloaded the HRSL datasets."
   ]
  },
  {
   "cell_type": "code",
   "execution_count": 5,
   "metadata": {},
   "outputs": [],
   "source": [
    "hrsl_phl_men_url = \"https://data.humdata.org/dataset/6d9f35c0-4764-49ee-b364-329db0b7a47d/resource/5a13bb60-4506-42a5-a08a-7ccf20413179/download/phl_men_2019-06-01_geotiff.zip\"\n",
    "hrsl_phl_women_url = \"https://data.humdata.org/dataset/6d9f35c0-4764-49ee-b364-329db0b7a47d/resource/4aff438c-43d9-47d0-853f-5a6b6ae28223/download/phl_women_2019-06-01_geotiff.zip\""
   ]
  },
  {
   "cell_type": "code",
   "execution_count": 6,
   "metadata": {},
   "outputs": [
    {
     "data": {
      "text/plain": [
       "'../download_data/phl_hrsl_men_jun_2019.zip'"
      ]
     },
     "execution_count": 6,
     "metadata": {},
     "output_type": "execute_result"
    }
   ],
   "source": [
    "wget.download(hrsl_phl_men_url, '../download_data/phl_hrsl_men_jun_2019.zip')"
   ]
  },
  {
   "cell_type": "code",
   "execution_count": 7,
   "metadata": {},
   "outputs": [
    {
     "data": {
      "text/plain": [
       "'../download_data/phl_hrsl_women_jun_2019.zip'"
      ]
     },
     "execution_count": 7,
     "metadata": {},
     "output_type": "execute_result"
    }
   ],
   "source": [
    "wget.download(hrsl_phl_women_url, '../download_data/phl_hrsl_women_jun_2019.zip')"
   ]
  },
  {
   "cell_type": "markdown",
   "metadata": {},
   "source": [
    "### Admin boundary download"
   ]
  },
  {
   "cell_type": "markdown",
   "metadata": {},
   "source": [
    "We note that the level 4 (barangay) admin boundary dataset for the Philippines is not available in the HDX website. We provide an external download link so that our results can still be reproduced.\n",
    "\n",
    "Uncomment the cells below if you have not yet downloaded the admin boundary datasets."
   ]
  },
  {
   "cell_type": "code",
   "execution_count": null,
   "metadata": {},
   "outputs": [],
   "source": [
    "adm_phl_url = \"https://data.humdata.org/dataset/caf116df-f984-4deb-85ca-41b349d3f313/resource/12457689-6a86-4474-8032-5ca9464d38a8/download/phl_adm_psa_namria_20200529_shp.zip\""
   ]
  },
  {
   "cell_type": "code",
   "execution_count": null,
   "metadata": {},
   "outputs": [],
   "source": [
    "wget.download(adm_phl_url, '../download_data/phl_adm_all.zip')"
   ]
  },
  {
   "cell_type": "code",
   "execution_count": null,
   "metadata": {},
   "outputs": [],
   "source": [
    "adm4_phl_url = \"https://storage.googleapis.com/osm-completeness-thinkingmachines/phl_adm_2015_level4_barangay.gpkg.zip\""
   ]
  },
  {
   "cell_type": "code",
   "execution_count": null,
   "metadata": {},
   "outputs": [],
   "source": [
    "wget.download(adm4_phl_url, '../download_data/phl_adm_2015_level4_barangay.gpkg.zip')"
   ]
  },
  {
   "cell_type": "markdown",
   "metadata": {},
   "source": [
    "### OSM download"
   ]
  },
  {
   "cell_type": "markdown",
   "metadata": {},
   "source": [
    "Uncomment the cells below if you have not yet downloaded the OSM datasets."
   ]
  },
  {
   "cell_type": "code",
   "execution_count": null,
   "metadata": {},
   "outputs": [],
   "source": [
    "##### 2020 OSM Dataset\n",
    "# osm_phl_url = \"https://storage.googleapis.com/osm-completeness-thinkingmachines/phl_osm_jan_2020_buildings.gpkg.zip\""
   ]
  },
  {
   "cell_type": "code",
   "execution_count": null,
   "metadata": {},
   "outputs": [],
   "source": [
    "##### 2021 OSM Dataset\n",
    "osm_phl_url = \"https://download.geofabrik.de/asia/philippines-latest-free.shp.zip\""
   ]
  },
  {
   "cell_type": "code",
   "execution_count": null,
   "metadata": {},
   "outputs": [],
   "source": [
    "# wget.download(osm_phl_url, '../download_data/phl_osm_jan_2020_buildings.gpkg.zip')"
   ]
  },
  {
   "cell_type": "code",
   "execution_count": null,
   "metadata": {},
   "outputs": [],
   "source": [
    "wget.download(osm_phl_url, '../download_data/philippines-latest-free.shp.zip')"
   ]
  },
  {
   "cell_type": "markdown",
   "metadata": {},
   "source": [
    "### Unzip all datasets"
   ]
  },
  {
   "cell_type": "code",
   "execution_count": null,
   "metadata": {},
   "outputs": [],
   "source": [
    "for i in glob.glob(\"../download_data/*.zip\"):\n",
    "    if os.path.isdir(os.path.splitext(i)[0]):\n",
    "        pass\n",
    "    else:\n",
    "        with ZipFile(i) as myzip:\n",
    "            myzip.extractall(os.path.splitext(i)[0])"
   ]
  },
  {
   "cell_type": "markdown",
   "metadata": {},
   "source": [
    "## What do we want our final output to look like?"
   ]
  },
  {
   "cell_type": "code",
   "execution_count": 15,
   "metadata": {},
   "outputs": [
    {
     "data": {
      "text/plain": [
       "'../download_data/mapthegap-phl-adm4-2021-05-29.csv'"
      ]
     },
     "execution_count": 15,
     "metadata": {},
     "output_type": "execute_result"
    }
   ],
   "source": [
    "wget.download('https://storage.googleapis.com/osm-completeness-thinkingmachines/mapthegap-phl-adm2-2021-05-29.csv', '../download_data/mapthegap-phl-adm2-2021-05-29.csv')\n",
    "wget.download('https://storage.googleapis.com/osm-completeness-thinkingmachines/mapthegap-phl-adm3-2021-05-29.csv', '../download_data/mapthegap-phl-adm3-2021-05-29.csv')\n",
    "wget.download('https://storage.googleapis.com/osm-completeness-thinkingmachines/mapthegap-phl-adm4-2021-05-29.csv', '../download_data/mapthegap-phl-adm4-2021-05-29.csv')"
   ]
  },
  {
   "cell_type": "code",
   "execution_count": 16,
   "metadata": {},
   "outputs": [],
   "source": [
    "province_output = pd.read_csv('../download_data/mapthegap-phl-adm2-2021-05-29.csv')"
   ]
  },
  {
   "cell_type": "code",
   "execution_count": 17,
   "metadata": {},
   "outputs": [
    {
     "data": {
      "text/html": [
       "<div>\n",
       "<style scoped>\n",
       "    .dataframe tbody tr th:only-of-type {\n",
       "        vertical-align: middle;\n",
       "    }\n",
       "\n",
       "    .dataframe tbody tr th {\n",
       "        vertical-align: top;\n",
       "    }\n",
       "\n",
       "    .dataframe thead th {\n",
       "        text-align: right;\n",
       "    }\n",
       "</style>\n",
       "<table border=\"1\" class=\"dataframe\">\n",
       "  <thead>\n",
       "    <tr style=\"text-align: right;\">\n",
       "      <th></th>\n",
       "      <th>ADM2_EN</th>\n",
       "      <th>ADM2_PCODE</th>\n",
       "      <th>ADM2_REF</th>\n",
       "      <th>ADM2ALT1EN</th>\n",
       "      <th>ADM2ALT2EN</th>\n",
       "      <th>pixels_withbuilding_june2020</th>\n",
       "      <th>pixels_nobuilding_june2020</th>\n",
       "      <th>percentage_completeness_june2020</th>\n",
       "      <th>pixels_withbuilding_may2021</th>\n",
       "      <th>pixels_nobuilding_may2021</th>\n",
       "      <th>percentage_completeness_may2021</th>\n",
       "    </tr>\n",
       "  </thead>\n",
       "  <tbody>\n",
       "    <tr>\n",
       "      <th>0</th>\n",
       "      <td>Abra</td>\n",
       "      <td>PH140100000</td>\n",
       "      <td>NaN</td>\n",
       "      <td>NaN</td>\n",
       "      <td>NaN</td>\n",
       "      <td>13790</td>\n",
       "      <td>5152</td>\n",
       "      <td>72.801183</td>\n",
       "      <td>13862</td>\n",
       "      <td>5080</td>\n",
       "      <td>73.181290</td>\n",
       "    </tr>\n",
       "    <tr>\n",
       "      <th>1</th>\n",
       "      <td>Agusan del Norte</td>\n",
       "      <td>PH160200000</td>\n",
       "      <td>NaN</td>\n",
       "      <td>NaN</td>\n",
       "      <td>NaN</td>\n",
       "      <td>4202</td>\n",
       "      <td>35688</td>\n",
       "      <td>10.533968</td>\n",
       "      <td>15586</td>\n",
       "      <td>24304</td>\n",
       "      <td>39.072449</td>\n",
       "    </tr>\n",
       "    <tr>\n",
       "      <th>2</th>\n",
       "      <td>Agusan del Sur</td>\n",
       "      <td>PH160300000</td>\n",
       "      <td>NaN</td>\n",
       "      <td>NaN</td>\n",
       "      <td>NaN</td>\n",
       "      <td>2953</td>\n",
       "      <td>38147</td>\n",
       "      <td>7.184915</td>\n",
       "      <td>3422</td>\n",
       "      <td>37678</td>\n",
       "      <td>8.326034</td>\n",
       "    </tr>\n",
       "    <tr>\n",
       "      <th>3</th>\n",
       "      <td>Aklan</td>\n",
       "      <td>PH060400000</td>\n",
       "      <td>NaN</td>\n",
       "      <td>NaN</td>\n",
       "      <td>NaN</td>\n",
       "      <td>14693</td>\n",
       "      <td>31978</td>\n",
       "      <td>31.482077</td>\n",
       "      <td>21519</td>\n",
       "      <td>25152</td>\n",
       "      <td>46.107861</td>\n",
       "    </tr>\n",
       "    <tr>\n",
       "      <th>4</th>\n",
       "      <td>Albay</td>\n",
       "      <td>PH050500000</td>\n",
       "      <td>NaN</td>\n",
       "      <td>NaN</td>\n",
       "      <td>NaN</td>\n",
       "      <td>27168</td>\n",
       "      <td>31532</td>\n",
       "      <td>46.282794</td>\n",
       "      <td>32756</td>\n",
       "      <td>25944</td>\n",
       "      <td>55.802385</td>\n",
       "    </tr>\n",
       "  </tbody>\n",
       "</table>\n",
       "</div>"
      ],
      "text/plain": [
       "            ADM2_EN   ADM2_PCODE  ADM2_REF  ADM2ALT1EN  ADM2ALT2EN  \\\n",
       "0              Abra  PH140100000       NaN         NaN         NaN   \n",
       "1  Agusan del Norte  PH160200000       NaN         NaN         NaN   \n",
       "2    Agusan del Sur  PH160300000       NaN         NaN         NaN   \n",
       "3             Aklan  PH060400000       NaN         NaN         NaN   \n",
       "4             Albay  PH050500000       NaN         NaN         NaN   \n",
       "\n",
       "   pixels_withbuilding_june2020  pixels_nobuilding_june2020  \\\n",
       "0                         13790                        5152   \n",
       "1                          4202                       35688   \n",
       "2                          2953                       38147   \n",
       "3                         14693                       31978   \n",
       "4                         27168                       31532   \n",
       "\n",
       "   percentage_completeness_june2020  pixels_withbuilding_may2021  \\\n",
       "0                         72.801183                        13862   \n",
       "1                         10.533968                        15586   \n",
       "2                          7.184915                         3422   \n",
       "3                         31.482077                        21519   \n",
       "4                         46.282794                        32756   \n",
       "\n",
       "   pixels_nobuilding_may2021  percentage_completeness_may2021  \n",
       "0                       5080                        73.181290  \n",
       "1                      24304                        39.072449  \n",
       "2                      37678                         8.326034  \n",
       "3                      25152                        46.107861  \n",
       "4                      25944                        55.802385  "
      ]
     },
     "execution_count": 17,
     "metadata": {},
     "output_type": "execute_result"
    }
   ],
   "source": [
    "province_output.head()"
   ]
  },
  {
   "cell_type": "code",
   "execution_count": 18,
   "metadata": {},
   "outputs": [],
   "source": [
    "citymuni_output = pd.read_csv('../download_data/mapthegap-phl-adm3-2021-05-29.csv')"
   ]
  },
  {
   "cell_type": "code",
   "execution_count": 19,
   "metadata": {},
   "outputs": [
    {
     "data": {
      "text/html": [
       "<div>\n",
       "<style scoped>\n",
       "    .dataframe tbody tr th:only-of-type {\n",
       "        vertical-align: middle;\n",
       "    }\n",
       "\n",
       "    .dataframe tbody tr th {\n",
       "        vertical-align: top;\n",
       "    }\n",
       "\n",
       "    .dataframe thead th {\n",
       "        text-align: right;\n",
       "    }\n",
       "</style>\n",
       "<table border=\"1\" class=\"dataframe\">\n",
       "  <thead>\n",
       "    <tr style=\"text-align: right;\">\n",
       "      <th></th>\n",
       "      <th>ADM3_EN</th>\n",
       "      <th>ADM3_PCODE</th>\n",
       "      <th>ADM3_REF</th>\n",
       "      <th>ADM3ALT1EN</th>\n",
       "      <th>ADM3ALT2EN</th>\n",
       "      <th>pixels_withbuilding_june2020</th>\n",
       "      <th>pixels_nobuilding_june2020</th>\n",
       "      <th>percentage_completeness_june2020</th>\n",
       "      <th>pixels_withbuilding_may2021</th>\n",
       "      <th>pixels_nobuilding_may2021</th>\n",
       "      <th>percentage_completeness_may2021</th>\n",
       "    </tr>\n",
       "  </thead>\n",
       "  <tbody>\n",
       "    <tr>\n",
       "      <th>0</th>\n",
       "      <td>Aborlan</td>\n",
       "      <td>PH175301000</td>\n",
       "      <td>NaN</td>\n",
       "      <td>NaN</td>\n",
       "      <td>NaN</td>\n",
       "      <td>594</td>\n",
       "      <td>3599</td>\n",
       "      <td>14.166468</td>\n",
       "      <td>652</td>\n",
       "      <td>3541</td>\n",
       "      <td>15.549726</td>\n",
       "    </tr>\n",
       "    <tr>\n",
       "      <th>1</th>\n",
       "      <td>Abra de Ilog</td>\n",
       "      <td>PH175101000</td>\n",
       "      <td>NaN</td>\n",
       "      <td>NaN</td>\n",
       "      <td>NaN</td>\n",
       "      <td>1315</td>\n",
       "      <td>729</td>\n",
       "      <td>64.334638</td>\n",
       "      <td>1316</td>\n",
       "      <td>728</td>\n",
       "      <td>64.383562</td>\n",
       "    </tr>\n",
       "    <tr>\n",
       "      <th>2</th>\n",
       "      <td>Abucay</td>\n",
       "      <td>PH030801000</td>\n",
       "      <td>NaN</td>\n",
       "      <td>NaN</td>\n",
       "      <td>NaN</td>\n",
       "      <td>1996</td>\n",
       "      <td>646</td>\n",
       "      <td>75.548827</td>\n",
       "      <td>1993</td>\n",
       "      <td>649</td>\n",
       "      <td>75.435276</td>\n",
       "    </tr>\n",
       "    <tr>\n",
       "      <th>3</th>\n",
       "      <td>Abulug</td>\n",
       "      <td>PH021501000</td>\n",
       "      <td>NaN</td>\n",
       "      <td>NaN</td>\n",
       "      <td>NaN</td>\n",
       "      <td>3396</td>\n",
       "      <td>927</td>\n",
       "      <td>78.556558</td>\n",
       "      <td>3405</td>\n",
       "      <td>918</td>\n",
       "      <td>78.764747</td>\n",
       "    </tr>\n",
       "    <tr>\n",
       "      <th>4</th>\n",
       "      <td>Abuyog</td>\n",
       "      <td>PH083701000</td>\n",
       "      <td>NaN</td>\n",
       "      <td>NaN</td>\n",
       "      <td>NaN</td>\n",
       "      <td>1456</td>\n",
       "      <td>1005</td>\n",
       "      <td>59.162942</td>\n",
       "      <td>1473</td>\n",
       "      <td>988</td>\n",
       "      <td>59.853718</td>\n",
       "    </tr>\n",
       "  </tbody>\n",
       "</table>\n",
       "</div>"
      ],
      "text/plain": [
       "        ADM3_EN   ADM3_PCODE ADM3_REF  ADM3ALT1EN  ADM3ALT2EN  \\\n",
       "0       Aborlan  PH175301000      NaN         NaN         NaN   \n",
       "1  Abra de Ilog  PH175101000      NaN         NaN         NaN   \n",
       "2        Abucay  PH030801000      NaN         NaN         NaN   \n",
       "3        Abulug  PH021501000      NaN         NaN         NaN   \n",
       "4        Abuyog  PH083701000      NaN         NaN         NaN   \n",
       "\n",
       "   pixels_withbuilding_june2020  pixels_nobuilding_june2020  \\\n",
       "0                           594                        3599   \n",
       "1                          1315                         729   \n",
       "2                          1996                         646   \n",
       "3                          3396                         927   \n",
       "4                          1456                        1005   \n",
       "\n",
       "   percentage_completeness_june2020  pixels_withbuilding_may2021  \\\n",
       "0                         14.166468                          652   \n",
       "1                         64.334638                         1316   \n",
       "2                         75.548827                         1993   \n",
       "3                         78.556558                         3405   \n",
       "4                         59.162942                         1473   \n",
       "\n",
       "   pixels_nobuilding_may2021  percentage_completeness_may2021  \n",
       "0                       3541                        15.549726  \n",
       "1                        728                        64.383562  \n",
       "2                        649                        75.435276  \n",
       "3                        918                        78.764747  \n",
       "4                        988                        59.853718  "
      ]
     },
     "execution_count": 19,
     "metadata": {},
     "output_type": "execute_result"
    }
   ],
   "source": [
    "citymuni_output.head()"
   ]
  },
  {
   "cell_type": "code",
   "execution_count": 20,
   "metadata": {},
   "outputs": [],
   "source": [
    "brgy_output = pd.read_csv('../download_data/mapthegap-phl-adm4-2021-05-29.csv')"
   ]
  },
  {
   "cell_type": "code",
   "execution_count": 21,
   "metadata": {},
   "outputs": [
    {
     "data": {
      "text/html": [
       "<div>\n",
       "<style scoped>\n",
       "    .dataframe tbody tr th:only-of-type {\n",
       "        vertical-align: middle;\n",
       "    }\n",
       "\n",
       "    .dataframe tbody tr th {\n",
       "        vertical-align: top;\n",
       "    }\n",
       "\n",
       "    .dataframe thead th {\n",
       "        text-align: right;\n",
       "    }\n",
       "</style>\n",
       "<table border=\"1\" class=\"dataframe\">\n",
       "  <thead>\n",
       "    <tr style=\"text-align: right;\">\n",
       "      <th></th>\n",
       "      <th>Reg_Code</th>\n",
       "      <th>Reg_Name</th>\n",
       "      <th>Pro_Code</th>\n",
       "      <th>Pro_Name</th>\n",
       "      <th>Mun_Code</th>\n",
       "      <th>Mun_Name</th>\n",
       "      <th>Bgy_Code</th>\n",
       "      <th>Bgy_Name</th>\n",
       "      <th>RURBAN</th>\n",
       "      <th>ADM4_PCODE_NAME</th>\n",
       "      <th>pixels_withbuilding_june2020</th>\n",
       "      <th>pixels_nobuilding_june2020</th>\n",
       "      <th>percentage_completeness_june2020</th>\n",
       "      <th>ADM4_PCODE</th>\n",
       "      <th>pixels_withbuilding_may2021</th>\n",
       "      <th>pixels_nobuilding_may2021</th>\n",
       "      <th>percentage_completeness_may2021</th>\n",
       "    </tr>\n",
       "  </thead>\n",
       "  <tbody>\n",
       "    <tr>\n",
       "      <th>0</th>\n",
       "      <td>110000000</td>\n",
       "      <td>REGION XI (DAVAO REGION)</td>\n",
       "      <td>118200000</td>\n",
       "      <td>COMPOSTELA VALLEY</td>\n",
       "      <td>118206000.0</td>\n",
       "      <td>MAWAB</td>\n",
       "      <td>118206010.0</td>\n",
       "      <td>Sawangan</td>\n",
       "      <td>R</td>\n",
       "      <td>118206010_Sawangan</td>\n",
       "      <td>3</td>\n",
       "      <td>71</td>\n",
       "      <td>4.054054</td>\n",
       "      <td>118206010.0</td>\n",
       "      <td>6</td>\n",
       "      <td>68</td>\n",
       "      <td>8.108108</td>\n",
       "    </tr>\n",
       "    <tr>\n",
       "      <th>1</th>\n",
       "      <td>180000000</td>\n",
       "      <td>NEGROS ISLAND REGION (NIR)</td>\n",
       "      <td>184500000</td>\n",
       "      <td>NEGROS OCCIDENTAL</td>\n",
       "      <td>184501000.0</td>\n",
       "      <td>BACOLOD CITY (Capital)</td>\n",
       "      <td>184501048.0</td>\n",
       "      <td>Felisa</td>\n",
       "      <td>U</td>\n",
       "      <td>184501048_Felisa</td>\n",
       "      <td>2</td>\n",
       "      <td>272</td>\n",
       "      <td>0.729927</td>\n",
       "      <td>184501048.0</td>\n",
       "      <td>3</td>\n",
       "      <td>271</td>\n",
       "      <td>1.094891</td>\n",
       "    </tr>\n",
       "    <tr>\n",
       "      <th>2</th>\n",
       "      <td>120000000</td>\n",
       "      <td>REGION XII (SOCCSKSARGEN)</td>\n",
       "      <td>126300000</td>\n",
       "      <td>SOUTH COTABATO</td>\n",
       "      <td>126311000.0</td>\n",
       "      <td>NORALA</td>\n",
       "      <td>126311020.0</td>\n",
       "      <td>Simsiman</td>\n",
       "      <td>R</td>\n",
       "      <td>126311020_Simsiman</td>\n",
       "      <td>116</td>\n",
       "      <td>90</td>\n",
       "      <td>56.310680</td>\n",
       "      <td>126311020.0</td>\n",
       "      <td>147</td>\n",
       "      <td>59</td>\n",
       "      <td>71.359223</td>\n",
       "    </tr>\n",
       "    <tr>\n",
       "      <th>3</th>\n",
       "      <td>150000000</td>\n",
       "      <td>AUTONOMOUS REGION IN MUSLIM MINDANAO (ARMM)</td>\n",
       "      <td>157000000</td>\n",
       "      <td>TAWI-TAWI</td>\n",
       "      <td>157001000.0</td>\n",
       "      <td>PANGLIMA SUGALA (BALIMBING)</td>\n",
       "      <td>157001001.0</td>\n",
       "      <td>Balimbing Proper</td>\n",
       "      <td>R</td>\n",
       "      <td>157001001_Balimbing Proper</td>\n",
       "      <td>0</td>\n",
       "      <td>93</td>\n",
       "      <td>0.000000</td>\n",
       "      <td>157001001.0</td>\n",
       "      <td>5</td>\n",
       "      <td>88</td>\n",
       "      <td>5.376344</td>\n",
       "    </tr>\n",
       "    <tr>\n",
       "      <th>4</th>\n",
       "      <td>150000000</td>\n",
       "      <td>AUTONOMOUS REGION IN MUSLIM MINDANAO (ARMM)</td>\n",
       "      <td>157000000</td>\n",
       "      <td>TAWI-TAWI</td>\n",
       "      <td>157001000.0</td>\n",
       "      <td>PANGLIMA SUGALA (BALIMBING)</td>\n",
       "      <td>157001002.0</td>\n",
       "      <td>Batu-batu (Pob.)</td>\n",
       "      <td>R</td>\n",
       "      <td>157001002_Batu-batu (Pob.)</td>\n",
       "      <td>11</td>\n",
       "      <td>182</td>\n",
       "      <td>5.699482</td>\n",
       "      <td>157001002.0</td>\n",
       "      <td>25</td>\n",
       "      <td>168</td>\n",
       "      <td>12.953368</td>\n",
       "    </tr>\n",
       "  </tbody>\n",
       "</table>\n",
       "</div>"
      ],
      "text/plain": [
       "    Reg_Code                                     Reg_Name   Pro_Code  \\\n",
       "0  110000000                     REGION XI (DAVAO REGION)  118200000   \n",
       "1  180000000                   NEGROS ISLAND REGION (NIR)  184500000   \n",
       "2  120000000                    REGION XII (SOCCSKSARGEN)  126300000   \n",
       "3  150000000  AUTONOMOUS REGION IN MUSLIM MINDANAO (ARMM)  157000000   \n",
       "4  150000000  AUTONOMOUS REGION IN MUSLIM MINDANAO (ARMM)  157000000   \n",
       "\n",
       "            Pro_Name     Mun_Code                     Mun_Name     Bgy_Code  \\\n",
       "0  COMPOSTELA VALLEY  118206000.0                        MAWAB  118206010.0   \n",
       "1  NEGROS OCCIDENTAL  184501000.0       BACOLOD CITY (Capital)  184501048.0   \n",
       "2     SOUTH COTABATO  126311000.0                       NORALA  126311020.0   \n",
       "3          TAWI-TAWI  157001000.0  PANGLIMA SUGALA (BALIMBING)  157001001.0   \n",
       "4          TAWI-TAWI  157001000.0  PANGLIMA SUGALA (BALIMBING)  157001002.0   \n",
       "\n",
       "           Bgy_Name RURBAN             ADM4_PCODE_NAME  \\\n",
       "0          Sawangan      R          118206010_Sawangan   \n",
       "1            Felisa      U            184501048_Felisa   \n",
       "2          Simsiman      R          126311020_Simsiman   \n",
       "3  Balimbing Proper      R  157001001_Balimbing Proper   \n",
       "4  Batu-batu (Pob.)      R  157001002_Batu-batu (Pob.)   \n",
       "\n",
       "   pixels_withbuilding_june2020  pixels_nobuilding_june2020  \\\n",
       "0                             3                          71   \n",
       "1                             2                         272   \n",
       "2                           116                          90   \n",
       "3                             0                          93   \n",
       "4                            11                         182   \n",
       "\n",
       "   percentage_completeness_june2020   ADM4_PCODE  pixels_withbuilding_may2021  \\\n",
       "0                          4.054054  118206010.0                            6   \n",
       "1                          0.729927  184501048.0                            3   \n",
       "2                         56.310680  126311020.0                          147   \n",
       "3                          0.000000  157001001.0                            5   \n",
       "4                          5.699482  157001002.0                           25   \n",
       "\n",
       "   pixels_nobuilding_may2021  percentage_completeness_may2021  \n",
       "0                         68                         8.108108  \n",
       "1                        271                         1.094891  \n",
       "2                         59                        71.359223  \n",
       "3                         88                         5.376344  \n",
       "4                        168                        12.953368  "
      ]
     },
     "execution_count": 21,
     "metadata": {},
     "output_type": "execute_result"
    }
   ],
   "source": [
    "brgy_output.head()"
   ]
  },
  {
   "cell_type": "markdown",
   "metadata": {},
   "source": [
    "## Get intersection of HRSL pixels and OSM buildings"
   ]
  },
  {
   "cell_type": "markdown",
   "metadata": {},
   "source": [
    "We use Facebook’s High Resolution Settlement Layer (HRSL) as a proxy ground truth for building footprints. We then measure data completeness by getting the “percentage completeness” of pixels which is computed using the total percentage of pixels within the intersection of the human settlement layer and the OSM building footprints.\n",
    "\n",
    "![](../assets/formula.png)\n",
    "\n",
    "Pixels that intersect OSM buildings are *mapped*.\n",
    "\n",
    "Pixels that do not intersect OSM buildings are *unmapped*."
   ]
  },
  {
   "cell_type": "markdown",
   "metadata": {},
   "source": [
    "### Philippines"
   ]
  },
  {
   "cell_type": "markdown",
   "metadata": {},
   "source": [
    "Uncomment the cells down below if you have not yet saved the `with_buildings` and `no_buildings` GPKG files."
   ]
  },
  {
   "cell_type": "markdown",
   "metadata": {},
   "source": [
    "#### Load HRSL dataset"
   ]
  },
  {
   "cell_type": "code",
   "execution_count": null,
   "metadata": {},
   "outputs": [],
   "source": [
    "# hrsl_phl_men = rasterio.open(\n",
    "#     \"../download_data/phl_hrsl_men_jun_2019/PHL_men_2019-06-01.tif\"\n",
    "# )\n",
    "\n",
    "# hrsl_phl_women = rasterio.open(\n",
    "#     \"../download_data/phl_hrsl_women_jun_2019/PHL_women_2019-06-01.tif\"\n",
    "# )"
   ]
  },
  {
   "cell_type": "code",
   "execution_count": null,
   "metadata": {},
   "outputs": [],
   "source": [
    "# hrsl_phl_crs = hrsl_phl_men.crs"
   ]
  },
  {
   "cell_type": "markdown",
   "metadata": {},
   "source": [
    "#### Add male and female population to get total population"
   ]
  },
  {
   "cell_type": "code",
   "execution_count": null,
   "metadata": {},
   "outputs": [],
   "source": [
    "# hrsl_phl_men_band1_mask = hrsl_phl_men.read_masks(1)"
   ]
  },
  {
   "cell_type": "code",
   "execution_count": null,
   "metadata": {},
   "outputs": [],
   "source": [
    "# hrsl_phl_women_band1_mask = hrsl_phl_women.read_masks(1)"
   ]
  },
  {
   "cell_type": "code",
   "execution_count": null,
   "metadata": {},
   "outputs": [],
   "source": [
    "# hrsl_phl_band1_mask = hrsl_phl_men_band1_mask + hrsl_phl_women_band1_mask"
   ]
  },
  {
   "cell_type": "markdown",
   "metadata": {},
   "source": [
    "#### Convert HRSL dataset from raster to vector"
   ]
  },
  {
   "cell_type": "code",
   "execution_count": null,
   "metadata": {},
   "outputs": [],
   "source": [
    "# hrsl_phl_rand = np.random.rand(\n",
    "#     np.shape(hrsl_phl_band1_mask)[0], np.shape(hrsl_phl_band1_mask)[1]\n",
    "# )\n",
    "# hrsl_phl_rand = hrsl_phl_rand.astype(\"float32\")"
   ]
  },
  {
   "cell_type": "code",
   "execution_count": null,
   "metadata": {},
   "outputs": [],
   "source": [
    "# hrsl_phl_band1_poly = list(\n",
    "#     rasterio.features.shapes(\n",
    "#         hrsl_phl_rand, transform=hrsl_phl_men.transform, mask=hrsl_phl_band1_mask\n",
    "#     )\n",
    "# )"
   ]
  },
  {
   "cell_type": "code",
   "execution_count": null,
   "metadata": {},
   "outputs": [],
   "source": [
    "# hrsl_phl_geom = []\n",
    "# for geom, value in hrsl_phl_band1_poly:\n",
    "#     geom = shapely.geometry.shape(geom)\n",
    "#     hrsl_phl_geom.append(geom)"
   ]
  },
  {
   "cell_type": "code",
   "execution_count": null,
   "metadata": {},
   "outputs": [],
   "source": [
    "# hrsl_phl_gdf = pd.DataFrame(hrsl_phl_geom)\n",
    "# hrsl_phl_gdf = gpd.GeoDataFrame(hrsl_phl_gdf, geometry=hrsl_phl_gdf[0], crs=\"EPSG:4326\")\n",
    "# hrsl_phl_gdf.drop(columns=[0], inplace=True)\n",
    "# hrsl_phl_gdf.reset_index(level=0, inplace=True)"
   ]
  },
  {
   "cell_type": "code",
   "execution_count": null,
   "metadata": {},
   "outputs": [],
   "source": [
    "# hrsl_phl_gdf.to_file('../data/hrsl_phl.gpkg', driver='GPKG')"
   ]
  },
  {
   "cell_type": "markdown",
   "metadata": {},
   "source": [
    "#### Load OSM dataset"
   ]
  },
  {
   "cell_type": "code",
   "execution_count": null,
   "metadata": {},
   "outputs": [],
   "source": [
    "# osm_phl = gpd.read_file(\n",
    "#     \"../download_data/phl_osm_jan_2020_buildings.gpkg/phl_osm_jan_2020_buildings.gpkg\",\n",
    "#     driver=\"GPKG\",\n",
    "# )"
   ]
  },
  {
   "cell_type": "code",
   "execution_count": null,
   "metadata": {},
   "outputs": [],
   "source": [
    "osm_phl = gpd.read_file(\n",
    "    \"../download_data/philippines-latest-free.shp/gis_osm_buildings_a_free_1.shp\",\n",
    "    driver=\"GPKG\",\n",
    ")"
   ]
  },
  {
   "cell_type": "markdown",
   "metadata": {},
   "source": [
    "#### Get mapped pixels"
   ]
  },
  {
   "cell_type": "code",
   "execution_count": null,
   "metadata": {},
   "outputs": [],
   "source": [
    "# # Just run this so you don't have to rerun everything up top\n",
    "# hrsl_phl_gdf = gpd.read_file('../data/hrsl_phl.gpkg', driver='GPKG')"
   ]
  },
  {
   "cell_type": "code",
   "execution_count": null,
   "metadata": {},
   "outputs": [],
   "source": [
    "# phl_pixels_with_buildings = gpd.sjoin(\n",
    "#     hrsl_phl_gdf, osm_phl, how=\"inner\", op=\"intersects\"\n",
    "# )"
   ]
  },
  {
   "cell_type": "code",
   "execution_count": null,
   "metadata": {},
   "outputs": [],
   "source": [
    "# phl_pixels_with_buildings = phl_pixels_with_buildings.drop_duplicates(subset='index')"
   ]
  },
  {
   "cell_type": "code",
   "execution_count": null,
   "metadata": {},
   "outputs": [],
   "source": [
    "# phl_pixels_with_buildings.drop(columns=['index_right', 'osm_id', 'code', 'fclass', 'name', 'type'], inplace=True)"
   ]
  },
  {
   "cell_type": "code",
   "execution_count": null,
   "metadata": {},
   "outputs": [],
   "source": [
    "# phl_pixels_with_buildings.to_file('../data/phl_pixels_with_buildings.gpkg', driver='GPKG')"
   ]
  },
  {
   "cell_type": "markdown",
   "metadata": {},
   "source": [
    "#### Get unmapped pixels"
   ]
  },
  {
   "cell_type": "code",
   "execution_count": null,
   "metadata": {},
   "outputs": [],
   "source": [
    "# phl_pixels_no_buildings = pd.merge(hrsl_phl_gdf, phl_pixels_with_buildings, how='outer', indicator=True)"
   ]
  },
  {
   "cell_type": "code",
   "execution_count": null,
   "metadata": {},
   "outputs": [],
   "source": [
    "# phl_pixels_no_buildings = phl_pixels_no_buildings[phl_pixels_no_buildings['_merge'] == 'left_only']"
   ]
  },
  {
   "cell_type": "code",
   "execution_count": null,
   "metadata": {},
   "outputs": [],
   "source": [
    "# phl_pixels_no_buildings.drop(columns=['_merge'], inplace=True)"
   ]
  },
  {
   "cell_type": "code",
   "execution_count": null,
   "metadata": {},
   "outputs": [],
   "source": [
    "# phl_pixels_no_buildings.to_file('../data/phl_pixels_no_buildings.gpkg', driver='GPKG')"
   ]
  },
  {
   "cell_type": "markdown",
   "metadata": {},
   "source": [
    "#### Calculate percentage completeness"
   ]
  },
  {
   "cell_type": "markdown",
   "metadata": {},
   "source": [
    "In 2020, it was 31.39%. What is it now?"
   ]
  },
  {
   "cell_type": "code",
   "execution_count": null,
   "metadata": {},
   "outputs": [],
   "source": [
    "# len(phl_pixels_with_buildings) / (len(phl_pixels_with_buildings) + len(phl_pixels_no_buildings)) * 100"
   ]
  },
  {
   "cell_type": "markdown",
   "metadata": {},
   "source": [
    "## Aggregate to different admin boundaries"
   ]
  },
  {
   "cell_type": "markdown",
   "metadata": {},
   "source": [
    "### Philippines"
   ]
  },
  {
   "cell_type": "markdown",
   "metadata": {},
   "source": [
    "#### Turn mapped pixels from a polygon layer to a point layer"
   ]
  },
  {
   "cell_type": "code",
   "execution_count": null,
   "metadata": {},
   "outputs": [],
   "source": [
    "# Just run this so you don't have to rerun everything up top\n",
    "phl_pixels_with_buildings = gpd.read_file(\n",
    "    \"../data/phl_pixels_with_buildings.gpkg\", driver=\"GPKG\"\n",
    ")"
   ]
  },
  {
   "cell_type": "code",
   "execution_count": null,
   "metadata": {},
   "outputs": [],
   "source": [
    "phl_pixels_with_buildings[\"geometry\"] = phl_pixels_with_buildings[\"geometry\"].centroid"
   ]
  },
  {
   "cell_type": "markdown",
   "metadata": {},
   "source": [
    "#### Turn unmapped pixels from a polygon layer to a point layer"
   ]
  },
  {
   "cell_type": "code",
   "execution_count": null,
   "metadata": {},
   "outputs": [],
   "source": [
    "# Just run this so you don't have to rerun everything up top\n",
    "phl_pixels_no_buildings = gpd.read_file(\n",
    "    \"../data/phl_pixels_no_buildings.gpkg\", driver=\"GPKG\"\n",
    ")"
   ]
  },
  {
   "cell_type": "code",
   "execution_count": null,
   "metadata": {},
   "outputs": [],
   "source": [
    "phl_pixels_no_buildings[\"geometry\"] = phl_pixels_no_buildings[\"geometry\"].centroid"
   ]
  },
  {
   "cell_type": "markdown",
   "metadata": {},
   "source": [
    "#### Load level 4 admin boundary"
   ]
  },
  {
   "cell_type": "code",
   "execution_count": null,
   "metadata": {},
   "outputs": [],
   "source": [
    "phl_adm4 = gpd.read_file(\n",
    "    \"../download_data/phl_adm_2015_level4_barangay.gpkg/phl_adm_2015_level4_barangay.gpkg\"\n",
    ")"
   ]
  },
  {
   "cell_type": "markdown",
   "metadata": {},
   "source": [
    "#### Create index for level 4 admin boundary"
   ]
  },
  {
   "cell_type": "code",
   "execution_count": null,
   "metadata": {},
   "outputs": [],
   "source": [
    "phl_adm4[\"ADM4_PCODE_NAME\"] = phl_adm4[\"Bgy_Code\"] + \"_\" + phl_adm4[\"Bgy_Name\"]"
   ]
  },
  {
   "cell_type": "markdown",
   "metadata": {},
   "source": [
    "#### Find intersection of mapped pixels and level 4 admin boundary"
   ]
  },
  {
   "cell_type": "code",
   "execution_count": null,
   "metadata": {},
   "outputs": [],
   "source": [
    "phl_pixels_with_buildings_sjoin_adm4 = gpd.sjoin(\n",
    "    phl_pixels_with_buildings, phl_adm4, how=\"left\", op=\"within\"\n",
    ")"
   ]
  },
  {
   "cell_type": "code",
   "execution_count": null,
   "metadata": {},
   "outputs": [],
   "source": [
    "phl_pixels_with_buildings_sjoin_adm4.drop(\n",
    "    columns=[\n",
    "        \"index_right\",\n",
    "        \"Reg_Code\",\n",
    "        \"Reg_Name\",\n",
    "        \"Pro_Code\",\n",
    "        \"Pro_Name\",\n",
    "        \"Mun_Code\",\n",
    "        \"Mun_Name\",\n",
    "        \"Bgy_Code\",\n",
    "        \"Bgy_Name\",\n",
    "    ],\n",
    "    inplace=True,\n",
    ")"
   ]
  },
  {
   "cell_type": "code",
   "execution_count": null,
   "metadata": {},
   "outputs": [],
   "source": [
    "phl_pixels_with_buildings_sjoin_adm4.to_file(\n",
    "    \"../data/phl_pixels_with_buildings_sjoin_adm4.gpkg\", driver=\"GPKG\"\n",
    ")"
   ]
  },
  {
   "cell_type": "markdown",
   "metadata": {},
   "source": [
    "#### Find intersection of unmapped pixels and level 4 admin boundary"
   ]
  },
  {
   "cell_type": "code",
   "execution_count": null,
   "metadata": {},
   "outputs": [],
   "source": [
    "phl_pixels_no_buildings_sjoin_adm4 = gpd.sjoin(\n",
    "    phl_pixels_no_buildings, phl_adm4, how=\"left\", op=\"within\"\n",
    ")"
   ]
  },
  {
   "cell_type": "code",
   "execution_count": null,
   "metadata": {},
   "outputs": [],
   "source": [
    "phl_pixels_no_buildings_sjoin_adm4.drop(\n",
    "    columns=[\n",
    "        \"index_right\",\n",
    "        \"Reg_Code\",\n",
    "        \"Reg_Name\",\n",
    "        \"Pro_Code\",\n",
    "        \"Pro_Name\",\n",
    "        \"Mun_Code\",\n",
    "        \"Mun_Name\",\n",
    "        \"Bgy_Code\",\n",
    "        \"Bgy_Name\",\n",
    "    ],\n",
    "    inplace=True,\n",
    ")"
   ]
  },
  {
   "cell_type": "code",
   "execution_count": null,
   "metadata": {},
   "outputs": [],
   "source": [
    "phl_pixels_no_buildings_sjoin_adm4.to_file(\n",
    "    \"../data/phl_pixels_no_buildings_sjoin_adm4.gpkg\", driver=\"GPKG\"\n",
    ")"
   ]
  },
  {
   "cell_type": "markdown",
   "metadata": {},
   "source": [
    "#### Load level 3 admin boundary"
   ]
  },
  {
   "cell_type": "code",
   "execution_count": null,
   "metadata": {},
   "outputs": [],
   "source": [
    "phl_adm3 = gpd.read_file(\n",
    "    \"../download_data/phl_adm_all/phl_admbnda_adm3_psa_namria_20200529.shp\"\n",
    ")"
   ]
  },
  {
   "cell_type": "markdown",
   "metadata": {},
   "source": [
    "#### Find intersection of mapped pixels and level 3 admin boundary"
   ]
  },
  {
   "cell_type": "code",
   "execution_count": null,
   "metadata": {},
   "outputs": [],
   "source": [
    "phl_pixels_with_buildings_sjoin_adm3 = gpd.sjoin(\n",
    "    phl_pixels_with_buildings, phl_adm3, how=\"left\", op=\"within\"\n",
    ")"
   ]
  },
  {
   "cell_type": "code",
   "execution_count": null,
   "metadata": {},
   "outputs": [],
   "source": [
    "phl_pixels_with_buildings_sjoin_adm3.drop(\n",
    "    columns=[\n",
    "        \"index_right\",\n",
    "        \"Shape_Leng\",\n",
    "        \"Shape_Area\",\n",
    "        \"ADM3_EN\",\n",
    "        \"ADM3_REF\",\n",
    "        \"ADM3ALT1EN\",\n",
    "        \"ADM3ALT2EN\",\n",
    "        \"ADM2_EN\",\n",
    "        \"ADM2_PCODE\",\n",
    "        \"ADM1_EN\",\n",
    "        \"ADM1_PCODE\",\n",
    "        \"ADM0_EN\",\n",
    "        \"ADM0_PCODE\",\n",
    "        \"date\",\n",
    "        \"validOn\",\n",
    "        \"validTo\",\n",
    "    ],\n",
    "    inplace=True,\n",
    ")"
   ]
  },
  {
   "cell_type": "code",
   "execution_count": null,
   "metadata": {},
   "outputs": [],
   "source": [
    "phl_pixels_with_buildings_sjoin_adm3.to_file(\n",
    "    \"../data/phl_pixels_with_buildings_sjoin_adm3.gpkg\", driver=\"GPKG\"\n",
    ")"
   ]
  },
  {
   "cell_type": "markdown",
   "metadata": {},
   "source": [
    "#### Find intersection of unmapped pixels and level 3 admin boundary"
   ]
  },
  {
   "cell_type": "code",
   "execution_count": null,
   "metadata": {},
   "outputs": [],
   "source": [
    "phl_pixels_no_buildings_sjoin_adm3 = gpd.sjoin(\n",
    "    phl_pixels_no_buildings, phl_adm3, how=\"left\", op=\"within\"\n",
    ")"
   ]
  },
  {
   "cell_type": "code",
   "execution_count": null,
   "metadata": {},
   "outputs": [],
   "source": [
    "phl_pixels_no_buildings_sjoin_adm3.drop(\n",
    "    columns=[\n",
    "        \"index_right\",\n",
    "        \"Shape_Leng\",\n",
    "        \"Shape_Area\",\n",
    "        \"ADM3_EN\",\n",
    "        \"ADM3_REF\",\n",
    "        \"ADM3ALT1EN\",\n",
    "        \"ADM3ALT2EN\",\n",
    "        \"ADM2_EN\",\n",
    "        \"ADM2_PCODE\",\n",
    "        \"ADM1_EN\",\n",
    "        \"ADM1_PCODE\",\n",
    "        \"ADM0_EN\",\n",
    "        \"ADM0_PCODE\",\n",
    "        \"date\",\n",
    "        \"validOn\",\n",
    "        \"validTo\",\n",
    "    ],\n",
    "    inplace=True,\n",
    ")"
   ]
  },
  {
   "cell_type": "code",
   "execution_count": null,
   "metadata": {},
   "outputs": [],
   "source": [
    "phl_pixels_no_buildings_sjoin_adm3.to_file(\n",
    "    \"../data/phl_pixels_no_buildings_sjoin_adm3.gpkg\", driver=\"GPKG\"\n",
    ")"
   ]
  },
  {
   "cell_type": "markdown",
   "metadata": {},
   "source": [
    "#### Find intersection of unmapped pixels and level 2 admin boundary"
   ]
  },
  {
   "cell_type": "markdown",
   "metadata": {},
   "source": [
    "Please add this as well!"
   ]
  },
  {
   "cell_type": "code",
   "execution_count": null,
   "metadata": {},
   "outputs": [],
   "source": []
  },
  {
   "cell_type": "markdown",
   "metadata": {},
   "source": [
    "#### Merge and concatenate dataframes"
   ]
  },
  {
   "cell_type": "markdown",
   "metadata": {},
   "source": [
    "Uncomment the cell below if you have not yet loaded these variables."
   ]
  },
  {
   "cell_type": "code",
   "execution_count": null,
   "metadata": {},
   "outputs": [],
   "source": [
    "# # You can run this so you don't have to rerun everything up top\n",
    "# phl_pixels_with_buildings_sjoin_adm4 = gpd.read_file(\n",
    "#     \"../data/phl_pixels_with_buildings_sjoin_adm4.gpkg\", driver=\"GPKG\"\n",
    "# )\n",
    "# phl_pixels_with_buildings_sjoin_adm3 = gpd.read_file(\n",
    "#     \"../data/phl_pixels_with_buildings_sjoin_adm3.gpkg\", driver=\"GPKG\"\n",
    "# )\n",
    "# phl_pixels_no_buildings_sjoin_adm4 = gpd.read_file(\n",
    "#     \"../data/phl_pixels_no_buildings_sjoin_adm4.gpkg\", driver=\"GPKG\"\n",
    "# )\n",
    "# phl_pixels_no_buildings_sjoin_adm3 = gpd.read_file(\n",
    "#     \"../data/phl_pixels_no_buildings_sjoin_adm3.gpkg\", driver=\"GPKG\"\n",
    "# )"
   ]
  },
  {
   "cell_type": "markdown",
   "metadata": {},
   "source": [
    "Please merge and concatenate for level 2 admin boundaries as well!"
   ]
  },
  {
   "cell_type": "code",
   "execution_count": null,
   "metadata": {},
   "outputs": [],
   "source": [
    "phl_pixels_with_buildings_sjoin = phl_pixels_with_buildings_sjoin_adm3.merge(\n",
    "    phl_pixels_with_buildings_sjoin_adm4[[\"index\", \"RURBAN\", \"ADM4_PCODE_NAME\"]],\n",
    "    how=\"left\",\n",
    "    left_on=\"index\",\n",
    "    right_on=\"index\",\n",
    ")"
   ]
  },
  {
   "cell_type": "code",
   "execution_count": null,
   "metadata": {},
   "outputs": [],
   "source": [
    "phl_pixels_with_buildings_sjoin.dropna(\n",
    "    subset=[\"ADM3_PCODE\", \"RURBAN\", \"ADM4_PCODE_NAME\"], inplace=True\n",
    ")"
   ]
  },
  {
   "cell_type": "code",
   "execution_count": null,
   "metadata": {},
   "outputs": [],
   "source": [
    "phl_pixels_with_buildings_sjoin[\"status\"] = \"mapped\""
   ]
  },
  {
   "cell_type": "code",
   "execution_count": null,
   "metadata": {},
   "outputs": [],
   "source": [
    "phl_pixels_no_buildings_sjoin = phl_pixels_no_buildings_sjoin_adm3.merge(\n",
    "    phl_pixels_no_buildings_sjoin_adm4[[\"index\", \"RURBAN\", \"ADM4_PCODE_NAME\"]],\n",
    "    how=\"left\",\n",
    "    left_on=\"index\",\n",
    "    right_on=\"index\",\n",
    ")"
   ]
  },
  {
   "cell_type": "code",
   "execution_count": null,
   "metadata": {},
   "outputs": [],
   "source": [
    "phl_pixels_no_buildings_sjoin.dropna(\n",
    "    subset=[\"ADM3_PCODE\", \"RURBAN\", \"ADM4_PCODE_NAME\"], inplace=True\n",
    ")"
   ]
  },
  {
   "cell_type": "code",
   "execution_count": null,
   "metadata": {},
   "outputs": [],
   "source": [
    "phl_pixels_no_buildings_sjoin[\"status\"] = \"unmapped\""
   ]
  },
  {
   "cell_type": "code",
   "execution_count": null,
   "metadata": {},
   "outputs": [],
   "source": [
    "phl_pixels_all = pd.concat(\n",
    "    [phl_pixels_with_buildings_sjoin, phl_pixels_no_buildings_sjoin]\n",
    ")"
   ]
  },
  {
   "cell_type": "code",
   "execution_count": null,
   "metadata": {},
   "outputs": [],
   "source": [
    "phl_pixels_all.to_file(\"../data/phl_pixels_all.gpkg\", driver=\"GPKG\")"
   ]
  },
  {
   "cell_type": "code",
   "execution_count": null,
   "metadata": {},
   "outputs": [],
   "source": [
    "phl_pixels_all.drop(columns=[\"geometry\"], inplace=True)"
   ]
  },
  {
   "cell_type": "code",
   "execution_count": null,
   "metadata": {},
   "outputs": [],
   "source": [
    "phl_pixels_all.to_csv(\"../data/phl_pixels_all.csv\", index=False)"
   ]
  }
 ],
 "metadata": {
  "environment": {
   "name": "common-cpu.m46",
   "type": "gcloud",
   "uri": "gcr.io/deeplearning-platform-release/base-cpu:m46"
  },
  "kernelspec": {
   "display_name": "Python 3",
   "language": "python",
   "name": "python3"
  },
  "language_info": {
   "codemirror_mode": {
    "name": "ipython",
    "version": 3
   },
   "file_extension": ".py",
   "mimetype": "text/x-python",
   "name": "python",
   "nbconvert_exporter": "python",
   "pygments_lexer": "ipython3",
   "version": "3.8.10"
  }
 },
 "nbformat": 4,
 "nbformat_minor": 4
}
