{
 "cells": [
  {
   "cell_type": "markdown",
   "id": "22f1aded-81a2-4d19-ba68-397481f82780",
   "metadata": {},
   "source": [
    "# Methodology (PHL)"
   ]
  },
  {
   "cell_type": "markdown",
   "id": "2f6a6017-397b-4135-b94c-534bf0c674d8",
   "metadata": {},
   "source": [
    "This notebook shows the methodology for the paper \"Measuring OpenStreetMap building footprint completeness using human settlement layers\", specifically for the Philippines \n",
    "\n",
    "Note: the notebook processes OSM completeness for June 28, 2021, and combines this with results from past years. "
   ]
  },
  {
   "cell_type": "markdown",
   "id": "4ac9629e-66aa-480e-86a4-98bae88a389b",
   "metadata": {},
   "source": [
    "## Setup"
   ]
  },
  {
   "cell_type": "markdown",
   "id": "8ec65cee-a9b3-4de3-92ef-00a5a7e3a019",
   "metadata": {},
   "source": [
    "We import all of the relevant packages as well as download the datasets.\n",
    "\n",
    "For reference, here are the original download links for the datasets:\n",
    "1. High Resolution Settlement Layer (HRSL) ([Philippines](https://data.humdata.org/dataset/philippines-high-resolution-population-density-maps-demographic-estimates)) ([Madagascar](https://data.humdata.org/dataset/highresolutionpopulationdensitymaps-mdg))\n",
    "2. Administrative Boundaries ([Philippines](https://data.humdata.org/dataset/philippines-administrative-levels-0-to-3)) ([Madagascar](https://data.humdata.org/dataset/madagascar-administrative-level-0-4-boundaries))\n",
    "3. OpenStreetMap (OSM) ([Philippines](https://download.geofabrik.de/asia/philippines.html)) ([Madagascar](https://download.geofabrik.de/africa/madagascar.html))"
   ]
  },
  {
   "cell_type": "code",
   "execution_count": 2,
   "id": "349cb515-58f0-4259-b2a7-2275d097e446",
   "metadata": {},
   "outputs": [],
   "source": [
    "import numpy as np\n",
    "import pandas as pd\n",
    "import matplotlib.pyplot as plt\n",
    "\n",
    "import shapely\n",
    "import geopandas as gpd\n",
    "import rasterio\n",
    "import rasterio.features\n",
    "\n",
    "import wget\n",
    "\n",
    "import os\n",
    "import glob\n",
    "from zipfile import ZipFile"
   ]
  },
  {
   "cell_type": "code",
   "execution_count": 3,
   "id": "7677b699-3947-4461-9eac-5c1c8e283daa",
   "metadata": {},
   "outputs": [],
   "source": [
    "try:\n",
    "    os.mkdir(\"../download_data\")\n",
    "except Exception:\n",
    "    pass"
   ]
  },
  {
   "cell_type": "markdown",
   "id": "4a04932d-4cd2-49b5-b06e-ad3babaede75",
   "metadata": {},
   "source": [
    "### HRSL download"
   ]
  },
  {
   "cell_type": "markdown",
   "id": "0658fccb-c6e5-4731-ae3a-0c68ef422e13",
   "metadata": {},
   "source": [
    "Uncomment the cells below if you have not yet downloaded the HRSL datasets."
   ]
  },
  {
   "cell_type": "code",
   "execution_count": 5,
   "id": "dfe4dfb3-bf06-46eb-b150-266be29b1594",
   "metadata": {},
   "outputs": [],
   "source": [
    "hrsl_phl_men_url = \"https://data.humdata.org/dataset/6d9f35c0-4764-49ee-b364-329db0b7a47d/resource/5a13bb60-4506-42a5-a08a-7ccf20413179/download/phl_men_2019-06-01_geotiff.zip\"\n",
    "hrsl_phl_women_url = \"https://data.humdata.org/dataset/6d9f35c0-4764-49ee-b364-329db0b7a47d/resource/4aff438c-43d9-47d0-853f-5a6b6ae28223/download/phl_women_2019-06-01_geotiff.zip\""
   ]
  },
  {
   "cell_type": "code",
   "execution_count": 6,
   "id": "667b57fa-b13c-44e5-9211-14fd4eab261f",
   "metadata": {},
   "outputs": [
    {
     "data": {
      "text/plain": [
       "'../download_data/phl_hrsl_men_jun_2019 (1).zip'"
      ]
     },
     "execution_count": 6,
     "metadata": {},
     "output_type": "execute_result"
    }
   ],
   "source": [
    "wget.download(hrsl_phl_men_url, '../download_data/phl_hrsl_men_jun_2019.zip')"
   ]
  },
  {
   "cell_type": "code",
   "execution_count": 7,
   "id": "9ccd0e7d-43cd-4304-90e9-48b8ccd9fd36",
   "metadata": {},
   "outputs": [
    {
     "data": {
      "text/plain": [
       "'../download_data/phl_hrsl_women_jun_2019 (1).zip'"
      ]
     },
     "execution_count": 7,
     "metadata": {},
     "output_type": "execute_result"
    }
   ],
   "source": [
    "wget.download(hrsl_phl_women_url, '../download_data/phl_hrsl_women_jun_2019.zip')"
   ]
  },
  {
   "cell_type": "markdown",
   "id": "2c44256e-f3d9-46f2-b96a-5eda15dd75f9",
   "metadata": {},
   "source": [
    "### Admin boundary download"
   ]
  },
  {
   "cell_type": "markdown",
   "id": "2851ce21-9527-4728-b01c-404343950ee6",
   "metadata": {},
   "source": [
    "We note that the level 4 (barangay) admin boundary dataset for the Philippines is not available in the HDX website. We provide an external download link so that our results can still be reproduced.\n",
    "\n",
    "Uncomment the cells below if you have not yet downloaded the admin boundary datasets."
   ]
  },
  {
   "cell_type": "code",
   "execution_count": 8,
   "id": "59b3b1dc-f91f-4b23-a304-826954e891a2",
   "metadata": {},
   "outputs": [],
   "source": [
    "adm_phl_url = \"https://data.humdata.org/dataset/caf116df-f984-4deb-85ca-41b349d3f313/resource/12457689-6a86-4474-8032-5ca9464d38a8/download/phl_adm_psa_namria_20200529_shp.zip\""
   ]
  },
  {
   "cell_type": "code",
   "execution_count": 9,
   "id": "9f143784-ea21-401e-9bc3-697a2316b2f2",
   "metadata": {},
   "outputs": [
    {
     "data": {
      "text/plain": [
       "'../download_data/phl_adm_all (1).zip'"
      ]
     },
     "execution_count": 9,
     "metadata": {},
     "output_type": "execute_result"
    }
   ],
   "source": [
    "wget.download(adm_phl_url, '../download_data/phl_adm_all.zip')"
   ]
  },
  {
   "cell_type": "code",
   "execution_count": 10,
   "id": "5a91ec7f-3c00-45b8-804d-08e4be289165",
   "metadata": {},
   "outputs": [],
   "source": [
    "adm4_phl_url = \"https://storage.googleapis.com/osm-completeness-thinkingmachines/phl_adm_2015_level4_barangay.gpkg.zip\""
   ]
  },
  {
   "cell_type": "code",
   "execution_count": 11,
   "id": "48e3b5fd-8ebd-4de4-a836-7d4437a2871b",
   "metadata": {},
   "outputs": [
    {
     "data": {
      "text/plain": [
       "'../download_data/phl_adm_2015_level4_barangay.gpkg (1).zip'"
      ]
     },
     "execution_count": 11,
     "metadata": {},
     "output_type": "execute_result"
    }
   ],
   "source": [
    "wget.download(adm4_phl_url, '../download_data/phl_adm_2015_level4_barangay.gpkg.zip')"
   ]
  },
  {
   "cell_type": "markdown",
   "id": "b599cdae-cf2f-40ca-b7f7-c891a32f6cc9",
   "metadata": {},
   "source": [
    "### OSM download"
   ]
  },
  {
   "cell_type": "markdown",
   "id": "b8e0c304-b270-4bfa-ab4f-01674c28e278",
   "metadata": {},
   "source": [
    "Uncomment the cells below if you have not yet downloaded the OSM datasets."
   ]
  },
  {
   "cell_type": "code",
   "execution_count": 19,
   "id": "db2e4fce-5944-40b1-97c7-eed77ec0bca7",
   "metadata": {},
   "outputs": [],
   "source": [
    "# #### 2020 OSM Dataset\n",
    "# osm_phl_url = \"https://storage.googleapis.com/osm-completeness-thinkingmachines/phl_osm_jan_2020_buildings.gpkg.zip\""
   ]
  },
  {
   "cell_type": "code",
   "execution_count": 13,
   "id": "b56a9084-4750-40e3-98f8-59e12b51be8f",
   "metadata": {},
   "outputs": [],
   "source": [
    "##### 2021 OSM Dataset\n",
    "osm_phl_url = \"https://download.geofabrik.de/asia/philippines-latest-free.shp.zip\""
   ]
  },
  {
   "cell_type": "code",
   "execution_count": 20,
   "id": "417859e2-625d-45a5-b743-167faf64337f",
   "metadata": {},
   "outputs": [
    {
     "data": {
      "text/plain": [
       "'../download_data/phl_osm_jan_2020_buildings.gpkg.zip'"
      ]
     },
     "execution_count": 20,
     "metadata": {},
     "output_type": "execute_result"
    }
   ],
   "source": [
    "# wget.download(osm_phl_url, '../download_data/phl_osm_jan_2020_buildings.gpkg.zip')"
   ]
  },
  {
   "cell_type": "code",
   "execution_count": 15,
   "id": "bd216acc-d5b2-4c43-a78b-25ff44c0ce91",
   "metadata": {},
   "outputs": [
    {
     "data": {
      "text/plain": [
       "'../download_data/philippines-latest-free.shp (1).zip'"
      ]
     },
     "execution_count": 15,
     "metadata": {},
     "output_type": "execute_result"
    }
   ],
   "source": [
    "wget.download(osm_phl_url, '../download_data/philippines-latest-free.shp.zip')"
   ]
  },
  {
   "cell_type": "markdown",
   "id": "4ff527e5-5633-4080-b9a2-bfb943a0b88e",
   "metadata": {},
   "source": [
    "### Unzip all datasets"
   ]
  },
  {
   "cell_type": "code",
   "execution_count": 21,
   "id": "25c990be-834b-4666-b65d-2be3c1b9d4a2",
   "metadata": {},
   "outputs": [],
   "source": [
    "for i in glob.glob(\"../download_data/*.zip\"):\n",
    "    if os.path.isdir(os.path.splitext(i)[0]):\n",
    "        pass\n",
    "    else:\n",
    "        with ZipFile(i) as myzip:\n",
    "            myzip.extractall(os.path.splitext(i)[0])"
   ]
  },
  {
   "cell_type": "markdown",
   "id": "31ac3359-c36b-402d-9b1d-badb5f2634bf",
   "metadata": {},
   "source": [
    "## What do we want our final output to look like?"
   ]
  },
  {
   "cell_type": "code",
   "execution_count": 17,
   "id": "6596a390-7405-4627-ba03-a4c70f06207a",
   "metadata": {},
   "outputs": [
    {
     "data": {
      "text/plain": [
       "'../download_data/mapthegap-phl-adm4-2021-05-29 (1).csv'"
      ]
     },
     "execution_count": 17,
     "metadata": {},
     "output_type": "execute_result"
    }
   ],
   "source": [
    "wget.download('https://storage.googleapis.com/osm-completeness-thinkingmachines/mapthegap-phl-adm2-2021-05-29.csv', '../download_data/mapthegap-phl-adm2-2021-05-29.csv')\n",
    "wget.download('https://storage.googleapis.com/osm-completeness-thinkingmachines/mapthegap-phl-adm3-2021-05-29.csv', '../download_data/mapthegap-phl-adm3-2021-05-29.csv')\n",
    "wget.download('https://storage.googleapis.com/osm-completeness-thinkingmachines/mapthegap-phl-adm4-2021-05-29.csv', '../download_data/mapthegap-phl-adm4-2021-05-29.csv')"
   ]
  },
  {
   "cell_type": "code",
   "execution_count": 18,
   "id": "6ff8345c-0ef3-4c9c-96a1-0515fd93b9f9",
   "metadata": {},
   "outputs": [],
   "source": [
    "province_output = pd.read_csv('../download_data/mapthegap-phl-adm2-2021-05-29.csv')"
   ]
  },
  {
   "cell_type": "code",
   "execution_count": 19,
   "id": "acbb580c-ab4d-4d8e-839d-e00e7ab29386",
   "metadata": {},
   "outputs": [
    {
     "data": {
      "text/html": [
       "<div>\n",
       "<style scoped>\n",
       "    .dataframe tbody tr th:only-of-type {\n",
       "        vertical-align: middle;\n",
       "    }\n",
       "\n",
       "    .dataframe tbody tr th {\n",
       "        vertical-align: top;\n",
       "    }\n",
       "\n",
       "    .dataframe thead th {\n",
       "        text-align: right;\n",
       "    }\n",
       "</style>\n",
       "<table border=\"1\" class=\"dataframe\">\n",
       "  <thead>\n",
       "    <tr style=\"text-align: right;\">\n",
       "      <th></th>\n",
       "      <th>ADM2_EN</th>\n",
       "      <th>ADM2_PCODE</th>\n",
       "      <th>ADM2_REF</th>\n",
       "      <th>ADM2ALT1EN</th>\n",
       "      <th>ADM2ALT2EN</th>\n",
       "      <th>pixels_withbuilding_june2020</th>\n",
       "      <th>pixels_nobuilding_june2020</th>\n",
       "      <th>percentage_completeness_june2020</th>\n",
       "      <th>pixels_withbuilding_may2021</th>\n",
       "      <th>pixels_nobuilding_may2021</th>\n",
       "      <th>percentage_completeness_may2021</th>\n",
       "    </tr>\n",
       "  </thead>\n",
       "  <tbody>\n",
       "    <tr>\n",
       "      <th>0</th>\n",
       "      <td>Abra</td>\n",
       "      <td>PH140100000</td>\n",
       "      <td>NaN</td>\n",
       "      <td>NaN</td>\n",
       "      <td>NaN</td>\n",
       "      <td>13790</td>\n",
       "      <td>5152</td>\n",
       "      <td>72.801183</td>\n",
       "      <td>13862</td>\n",
       "      <td>5080</td>\n",
       "      <td>73.181290</td>\n",
       "    </tr>\n",
       "    <tr>\n",
       "      <th>1</th>\n",
       "      <td>Agusan del Norte</td>\n",
       "      <td>PH160200000</td>\n",
       "      <td>NaN</td>\n",
       "      <td>NaN</td>\n",
       "      <td>NaN</td>\n",
       "      <td>4202</td>\n",
       "      <td>35688</td>\n",
       "      <td>10.533968</td>\n",
       "      <td>15586</td>\n",
       "      <td>24304</td>\n",
       "      <td>39.072449</td>\n",
       "    </tr>\n",
       "    <tr>\n",
       "      <th>2</th>\n",
       "      <td>Agusan del Sur</td>\n",
       "      <td>PH160300000</td>\n",
       "      <td>NaN</td>\n",
       "      <td>NaN</td>\n",
       "      <td>NaN</td>\n",
       "      <td>2953</td>\n",
       "      <td>38147</td>\n",
       "      <td>7.184915</td>\n",
       "      <td>3422</td>\n",
       "      <td>37678</td>\n",
       "      <td>8.326034</td>\n",
       "    </tr>\n",
       "    <tr>\n",
       "      <th>3</th>\n",
       "      <td>Aklan</td>\n",
       "      <td>PH060400000</td>\n",
       "      <td>NaN</td>\n",
       "      <td>NaN</td>\n",
       "      <td>NaN</td>\n",
       "      <td>14693</td>\n",
       "      <td>31978</td>\n",
       "      <td>31.482077</td>\n",
       "      <td>21519</td>\n",
       "      <td>25152</td>\n",
       "      <td>46.107861</td>\n",
       "    </tr>\n",
       "    <tr>\n",
       "      <th>4</th>\n",
       "      <td>Albay</td>\n",
       "      <td>PH050500000</td>\n",
       "      <td>NaN</td>\n",
       "      <td>NaN</td>\n",
       "      <td>NaN</td>\n",
       "      <td>27168</td>\n",
       "      <td>31532</td>\n",
       "      <td>46.282794</td>\n",
       "      <td>32756</td>\n",
       "      <td>25944</td>\n",
       "      <td>55.802385</td>\n",
       "    </tr>\n",
       "  </tbody>\n",
       "</table>\n",
       "</div>"
      ],
      "text/plain": [
       "            ADM2_EN   ADM2_PCODE  ADM2_REF  ADM2ALT1EN  ADM2ALT2EN  \\\n",
       "0              Abra  PH140100000       NaN         NaN         NaN   \n",
       "1  Agusan del Norte  PH160200000       NaN         NaN         NaN   \n",
       "2    Agusan del Sur  PH160300000       NaN         NaN         NaN   \n",
       "3             Aklan  PH060400000       NaN         NaN         NaN   \n",
       "4             Albay  PH050500000       NaN         NaN         NaN   \n",
       "\n",
       "   pixels_withbuilding_june2020  pixels_nobuilding_june2020  \\\n",
       "0                         13790                        5152   \n",
       "1                          4202                       35688   \n",
       "2                          2953                       38147   \n",
       "3                         14693                       31978   \n",
       "4                         27168                       31532   \n",
       "\n",
       "   percentage_completeness_june2020  pixels_withbuilding_may2021  \\\n",
       "0                         72.801183                        13862   \n",
       "1                         10.533968                        15586   \n",
       "2                          7.184915                         3422   \n",
       "3                         31.482077                        21519   \n",
       "4                         46.282794                        32756   \n",
       "\n",
       "   pixels_nobuilding_may2021  percentage_completeness_may2021  \n",
       "0                       5080                        73.181290  \n",
       "1                      24304                        39.072449  \n",
       "2                      37678                         8.326034  \n",
       "3                      25152                        46.107861  \n",
       "4                      25944                        55.802385  "
      ]
     },
     "execution_count": 19,
     "metadata": {},
     "output_type": "execute_result"
    }
   ],
   "source": [
    "province_output.head()"
   ]
  },
  {
   "cell_type": "code",
   "execution_count": 20,
   "id": "c1e020e6-fb22-4a97-9a04-c92adfe52019",
   "metadata": {},
   "outputs": [],
   "source": [
    "citymuni_output = pd.read_csv('../download_data/mapthegap-phl-adm3-2021-05-29.csv')"
   ]
  },
  {
   "cell_type": "code",
   "execution_count": 21,
   "id": "c8f94ad5-2e6f-4d0c-b49e-92efd4046ac1",
   "metadata": {},
   "outputs": [
    {
     "data": {
      "text/html": [
       "<div>\n",
       "<style scoped>\n",
       "    .dataframe tbody tr th:only-of-type {\n",
       "        vertical-align: middle;\n",
       "    }\n",
       "\n",
       "    .dataframe tbody tr th {\n",
       "        vertical-align: top;\n",
       "    }\n",
       "\n",
       "    .dataframe thead th {\n",
       "        text-align: right;\n",
       "    }\n",
       "</style>\n",
       "<table border=\"1\" class=\"dataframe\">\n",
       "  <thead>\n",
       "    <tr style=\"text-align: right;\">\n",
       "      <th></th>\n",
       "      <th>ADM3_EN</th>\n",
       "      <th>ADM3_PCODE</th>\n",
       "      <th>ADM3_REF</th>\n",
       "      <th>ADM3ALT1EN</th>\n",
       "      <th>ADM3ALT2EN</th>\n",
       "      <th>pixels_withbuilding_june2020</th>\n",
       "      <th>pixels_nobuilding_june2020</th>\n",
       "      <th>percentage_completeness_june2020</th>\n",
       "      <th>pixels_withbuilding_may2021</th>\n",
       "      <th>pixels_nobuilding_may2021</th>\n",
       "      <th>percentage_completeness_may2021</th>\n",
       "    </tr>\n",
       "  </thead>\n",
       "  <tbody>\n",
       "    <tr>\n",
       "      <th>0</th>\n",
       "      <td>Aborlan</td>\n",
       "      <td>PH175301000</td>\n",
       "      <td>NaN</td>\n",
       "      <td>NaN</td>\n",
       "      <td>NaN</td>\n",
       "      <td>594</td>\n",
       "      <td>3599</td>\n",
       "      <td>14.166468</td>\n",
       "      <td>652</td>\n",
       "      <td>3541</td>\n",
       "      <td>15.549726</td>\n",
       "    </tr>\n",
       "    <tr>\n",
       "      <th>1</th>\n",
       "      <td>Abra de Ilog</td>\n",
       "      <td>PH175101000</td>\n",
       "      <td>NaN</td>\n",
       "      <td>NaN</td>\n",
       "      <td>NaN</td>\n",
       "      <td>1315</td>\n",
       "      <td>729</td>\n",
       "      <td>64.334638</td>\n",
       "      <td>1316</td>\n",
       "      <td>728</td>\n",
       "      <td>64.383562</td>\n",
       "    </tr>\n",
       "    <tr>\n",
       "      <th>2</th>\n",
       "      <td>Abucay</td>\n",
       "      <td>PH030801000</td>\n",
       "      <td>NaN</td>\n",
       "      <td>NaN</td>\n",
       "      <td>NaN</td>\n",
       "      <td>1996</td>\n",
       "      <td>646</td>\n",
       "      <td>75.548827</td>\n",
       "      <td>1993</td>\n",
       "      <td>649</td>\n",
       "      <td>75.435276</td>\n",
       "    </tr>\n",
       "    <tr>\n",
       "      <th>3</th>\n",
       "      <td>Abulug</td>\n",
       "      <td>PH021501000</td>\n",
       "      <td>NaN</td>\n",
       "      <td>NaN</td>\n",
       "      <td>NaN</td>\n",
       "      <td>3396</td>\n",
       "      <td>927</td>\n",
       "      <td>78.556558</td>\n",
       "      <td>3405</td>\n",
       "      <td>918</td>\n",
       "      <td>78.764747</td>\n",
       "    </tr>\n",
       "    <tr>\n",
       "      <th>4</th>\n",
       "      <td>Abuyog</td>\n",
       "      <td>PH083701000</td>\n",
       "      <td>NaN</td>\n",
       "      <td>NaN</td>\n",
       "      <td>NaN</td>\n",
       "      <td>1456</td>\n",
       "      <td>1005</td>\n",
       "      <td>59.162942</td>\n",
       "      <td>1473</td>\n",
       "      <td>988</td>\n",
       "      <td>59.853718</td>\n",
       "    </tr>\n",
       "  </tbody>\n",
       "</table>\n",
       "</div>"
      ],
      "text/plain": [
       "        ADM3_EN   ADM3_PCODE ADM3_REF  ADM3ALT1EN  ADM3ALT2EN  \\\n",
       "0       Aborlan  PH175301000      NaN         NaN         NaN   \n",
       "1  Abra de Ilog  PH175101000      NaN         NaN         NaN   \n",
       "2        Abucay  PH030801000      NaN         NaN         NaN   \n",
       "3        Abulug  PH021501000      NaN         NaN         NaN   \n",
       "4        Abuyog  PH083701000      NaN         NaN         NaN   \n",
       "\n",
       "   pixels_withbuilding_june2020  pixels_nobuilding_june2020  \\\n",
       "0                           594                        3599   \n",
       "1                          1315                         729   \n",
       "2                          1996                         646   \n",
       "3                          3396                         927   \n",
       "4                          1456                        1005   \n",
       "\n",
       "   percentage_completeness_june2020  pixels_withbuilding_may2021  \\\n",
       "0                         14.166468                          652   \n",
       "1                         64.334638                         1316   \n",
       "2                         75.548827                         1993   \n",
       "3                         78.556558                         3405   \n",
       "4                         59.162942                         1473   \n",
       "\n",
       "   pixels_nobuilding_may2021  percentage_completeness_may2021  \n",
       "0                       3541                        15.549726  \n",
       "1                        728                        64.383562  \n",
       "2                        649                        75.435276  \n",
       "3                        918                        78.764747  \n",
       "4                        988                        59.853718  "
      ]
     },
     "execution_count": 21,
     "metadata": {},
     "output_type": "execute_result"
    }
   ],
   "source": [
    "citymuni_output.head()"
   ]
  },
  {
   "cell_type": "code",
   "execution_count": 22,
   "id": "3cbb7d95-5cfb-4455-b49b-1d1c7c9fb4aa",
   "metadata": {},
   "outputs": [],
   "source": [
    "brgy_output = pd.read_csv('../download_data/mapthegap-phl-adm4-2021-05-29.csv')"
   ]
  },
  {
   "cell_type": "code",
   "execution_count": 23,
   "id": "5e8f3906-be89-498a-a90d-a55fb479f803",
   "metadata": {},
   "outputs": [
    {
     "data": {
      "text/html": [
       "<div>\n",
       "<style scoped>\n",
       "    .dataframe tbody tr th:only-of-type {\n",
       "        vertical-align: middle;\n",
       "    }\n",
       "\n",
       "    .dataframe tbody tr th {\n",
       "        vertical-align: top;\n",
       "    }\n",
       "\n",
       "    .dataframe thead th {\n",
       "        text-align: right;\n",
       "    }\n",
       "</style>\n",
       "<table border=\"1\" class=\"dataframe\">\n",
       "  <thead>\n",
       "    <tr style=\"text-align: right;\">\n",
       "      <th></th>\n",
       "      <th>Reg_Code</th>\n",
       "      <th>Reg_Name</th>\n",
       "      <th>Pro_Code</th>\n",
       "      <th>Pro_Name</th>\n",
       "      <th>Mun_Code</th>\n",
       "      <th>Mun_Name</th>\n",
       "      <th>Bgy_Code</th>\n",
       "      <th>Bgy_Name</th>\n",
       "      <th>RURBAN</th>\n",
       "      <th>ADM4_PCODE_NAME</th>\n",
       "      <th>pixels_withbuilding_june2020</th>\n",
       "      <th>pixels_nobuilding_june2020</th>\n",
       "      <th>percentage_completeness_june2020</th>\n",
       "      <th>ADM4_PCODE</th>\n",
       "      <th>pixels_withbuilding_may2021</th>\n",
       "      <th>pixels_nobuilding_may2021</th>\n",
       "      <th>percentage_completeness_may2021</th>\n",
       "    </tr>\n",
       "  </thead>\n",
       "  <tbody>\n",
       "    <tr>\n",
       "      <th>0</th>\n",
       "      <td>110000000</td>\n",
       "      <td>REGION XI (DAVAO REGION)</td>\n",
       "      <td>118200000</td>\n",
       "      <td>COMPOSTELA VALLEY</td>\n",
       "      <td>118206000.0</td>\n",
       "      <td>MAWAB</td>\n",
       "      <td>118206010.0</td>\n",
       "      <td>Sawangan</td>\n",
       "      <td>R</td>\n",
       "      <td>118206010_Sawangan</td>\n",
       "      <td>3</td>\n",
       "      <td>71</td>\n",
       "      <td>4.054054</td>\n",
       "      <td>118206010.0</td>\n",
       "      <td>6</td>\n",
       "      <td>68</td>\n",
       "      <td>8.108108</td>\n",
       "    </tr>\n",
       "    <tr>\n",
       "      <th>1</th>\n",
       "      <td>180000000</td>\n",
       "      <td>NEGROS ISLAND REGION (NIR)</td>\n",
       "      <td>184500000</td>\n",
       "      <td>NEGROS OCCIDENTAL</td>\n",
       "      <td>184501000.0</td>\n",
       "      <td>BACOLOD CITY (Capital)</td>\n",
       "      <td>184501048.0</td>\n",
       "      <td>Felisa</td>\n",
       "      <td>U</td>\n",
       "      <td>184501048_Felisa</td>\n",
       "      <td>2</td>\n",
       "      <td>272</td>\n",
       "      <td>0.729927</td>\n",
       "      <td>184501048.0</td>\n",
       "      <td>3</td>\n",
       "      <td>271</td>\n",
       "      <td>1.094891</td>\n",
       "    </tr>\n",
       "    <tr>\n",
       "      <th>2</th>\n",
       "      <td>120000000</td>\n",
       "      <td>REGION XII (SOCCSKSARGEN)</td>\n",
       "      <td>126300000</td>\n",
       "      <td>SOUTH COTABATO</td>\n",
       "      <td>126311000.0</td>\n",
       "      <td>NORALA</td>\n",
       "      <td>126311020.0</td>\n",
       "      <td>Simsiman</td>\n",
       "      <td>R</td>\n",
       "      <td>126311020_Simsiman</td>\n",
       "      <td>116</td>\n",
       "      <td>90</td>\n",
       "      <td>56.310680</td>\n",
       "      <td>126311020.0</td>\n",
       "      <td>147</td>\n",
       "      <td>59</td>\n",
       "      <td>71.359223</td>\n",
       "    </tr>\n",
       "    <tr>\n",
       "      <th>3</th>\n",
       "      <td>150000000</td>\n",
       "      <td>AUTONOMOUS REGION IN MUSLIM MINDANAO (ARMM)</td>\n",
       "      <td>157000000</td>\n",
       "      <td>TAWI-TAWI</td>\n",
       "      <td>157001000.0</td>\n",
       "      <td>PANGLIMA SUGALA (BALIMBING)</td>\n",
       "      <td>157001001.0</td>\n",
       "      <td>Balimbing Proper</td>\n",
       "      <td>R</td>\n",
       "      <td>157001001_Balimbing Proper</td>\n",
       "      <td>0</td>\n",
       "      <td>93</td>\n",
       "      <td>0.000000</td>\n",
       "      <td>157001001.0</td>\n",
       "      <td>5</td>\n",
       "      <td>88</td>\n",
       "      <td>5.376344</td>\n",
       "    </tr>\n",
       "    <tr>\n",
       "      <th>4</th>\n",
       "      <td>150000000</td>\n",
       "      <td>AUTONOMOUS REGION IN MUSLIM MINDANAO (ARMM)</td>\n",
       "      <td>157000000</td>\n",
       "      <td>TAWI-TAWI</td>\n",
       "      <td>157001000.0</td>\n",
       "      <td>PANGLIMA SUGALA (BALIMBING)</td>\n",
       "      <td>157001002.0</td>\n",
       "      <td>Batu-batu (Pob.)</td>\n",
       "      <td>R</td>\n",
       "      <td>157001002_Batu-batu (Pob.)</td>\n",
       "      <td>11</td>\n",
       "      <td>182</td>\n",
       "      <td>5.699482</td>\n",
       "      <td>157001002.0</td>\n",
       "      <td>25</td>\n",
       "      <td>168</td>\n",
       "      <td>12.953368</td>\n",
       "    </tr>\n",
       "  </tbody>\n",
       "</table>\n",
       "</div>"
      ],
      "text/plain": [
       "    Reg_Code                                     Reg_Name   Pro_Code  \\\n",
       "0  110000000                     REGION XI (DAVAO REGION)  118200000   \n",
       "1  180000000                   NEGROS ISLAND REGION (NIR)  184500000   \n",
       "2  120000000                    REGION XII (SOCCSKSARGEN)  126300000   \n",
       "3  150000000  AUTONOMOUS REGION IN MUSLIM MINDANAO (ARMM)  157000000   \n",
       "4  150000000  AUTONOMOUS REGION IN MUSLIM MINDANAO (ARMM)  157000000   \n",
       "\n",
       "            Pro_Name     Mun_Code                     Mun_Name     Bgy_Code  \\\n",
       "0  COMPOSTELA VALLEY  118206000.0                        MAWAB  118206010.0   \n",
       "1  NEGROS OCCIDENTAL  184501000.0       BACOLOD CITY (Capital)  184501048.0   \n",
       "2     SOUTH COTABATO  126311000.0                       NORALA  126311020.0   \n",
       "3          TAWI-TAWI  157001000.0  PANGLIMA SUGALA (BALIMBING)  157001001.0   \n",
       "4          TAWI-TAWI  157001000.0  PANGLIMA SUGALA (BALIMBING)  157001002.0   \n",
       "\n",
       "           Bgy_Name RURBAN             ADM4_PCODE_NAME  \\\n",
       "0          Sawangan      R          118206010_Sawangan   \n",
       "1            Felisa      U            184501048_Felisa   \n",
       "2          Simsiman      R          126311020_Simsiman   \n",
       "3  Balimbing Proper      R  157001001_Balimbing Proper   \n",
       "4  Batu-batu (Pob.)      R  157001002_Batu-batu (Pob.)   \n",
       "\n",
       "   pixels_withbuilding_june2020  pixels_nobuilding_june2020  \\\n",
       "0                             3                          71   \n",
       "1                             2                         272   \n",
       "2                           116                          90   \n",
       "3                             0                          93   \n",
       "4                            11                         182   \n",
       "\n",
       "   percentage_completeness_june2020   ADM4_PCODE  pixels_withbuilding_may2021  \\\n",
       "0                          4.054054  118206010.0                            6   \n",
       "1                          0.729927  184501048.0                            3   \n",
       "2                         56.310680  126311020.0                          147   \n",
       "3                          0.000000  157001001.0                            5   \n",
       "4                          5.699482  157001002.0                           25   \n",
       "\n",
       "   pixels_nobuilding_may2021  percentage_completeness_may2021  \n",
       "0                         68                         8.108108  \n",
       "1                        271                         1.094891  \n",
       "2                         59                        71.359223  \n",
       "3                         88                         5.376344  \n",
       "4                        168                        12.953368  "
      ]
     },
     "execution_count": 23,
     "metadata": {},
     "output_type": "execute_result"
    }
   ],
   "source": [
    "brgy_output.head()"
   ]
  },
  {
   "cell_type": "markdown",
   "id": "c2225a44-5410-4eec-9367-e016001c944b",
   "metadata": {},
   "source": [
    "## Get intersection of HRSL pixels and OSM buildings"
   ]
  },
  {
   "cell_type": "markdown",
   "id": "bf28d434-5cbd-4f32-84f7-d1b2d613bef4",
   "metadata": {},
   "source": [
    "We use Facebook’s High Resolution Settlement Layer (HRSL) as a proxy ground truth for building footprints. We then measure data completeness by getting the “percentage completeness” of pixels which is computed using the total percentage of pixels within the intersection of the human settlement layer and the OSM building footprints.\n",
    "\n",
    "![](../assets/formula.png)\n",
    "\n",
    "Pixels that intersect OSM buildings are *mapped*.\n",
    "\n",
    "Pixels that do not intersect OSM buildings are *unmapped*."
   ]
  },
  {
   "cell_type": "markdown",
   "id": "e301751b-30b3-4239-bbaf-0fc33d7cf956",
   "metadata": {},
   "source": [
    "### Philippines"
   ]
  },
  {
   "cell_type": "markdown",
   "id": "d210d8dd-d6a2-4754-947b-8f1ccdd6b692",
   "metadata": {},
   "source": [
    "Uncomment the cells down below if you have not yet saved the `with_buildings` and `no_buildings` GPKG files."
   ]
  },
  {
   "cell_type": "markdown",
   "id": "fd399bca-d105-4469-929d-b1fc4c85fcd6",
   "metadata": {},
   "source": [
    "#### Load HRSL dataset"
   ]
  },
  {
   "cell_type": "code",
   "execution_count": 24,
   "id": "c1fb27cc-1d69-432d-b613-34deee77b1b5",
   "metadata": {},
   "outputs": [],
   "source": [
    "hrsl_phl_men = rasterio.open(\n",
    "    \"../download_data/phl_hrsl_men_jun_2019/PHL_men_2019-06-01.tif\"\n",
    ")\n",
    "\n",
    "hrsl_phl_women = rasterio.open(\n",
    "    \"../download_data/phl_hrsl_women_jun_2019/PHL_women_2019-06-01.tif\"\n",
    ")"
   ]
  },
  {
   "cell_type": "code",
   "execution_count": 25,
   "id": "93cde89b-3612-4e88-b8f7-d828ee4c269b",
   "metadata": {},
   "outputs": [],
   "source": [
    "# hrsl_phl_crs = hrsl_phl_men.crs"
   ]
  },
  {
   "cell_type": "markdown",
   "id": "3ef60849-ad43-4081-a706-8d0b2b5c9275",
   "metadata": {},
   "source": [
    "#### Add male and female population to get total population"
   ]
  },
  {
   "cell_type": "code",
   "execution_count": 26,
   "id": "a91c8b50-f87a-45aa-8956-4245c6b95a38",
   "metadata": {},
   "outputs": [],
   "source": [
    "hrsl_phl_men_band1_mask = hrsl_phl_men.read_masks(1)"
   ]
  },
  {
   "cell_type": "code",
   "execution_count": 27,
   "id": "e00f6d71-3dc8-4c75-81fa-863d7295fdc5",
   "metadata": {},
   "outputs": [],
   "source": [
    "hrsl_phl_women_band1_mask = hrsl_phl_women.read_masks(1)"
   ]
  },
  {
   "cell_type": "code",
   "execution_count": 28,
   "id": "43b1c1cb-d666-4a86-8a53-de5b701d25ae",
   "metadata": {},
   "outputs": [],
   "source": [
    "hrsl_phl_band1_mask = hrsl_phl_men_band1_mask + hrsl_phl_women_band1_mask"
   ]
  },
  {
   "cell_type": "markdown",
   "id": "b1454b78-684a-429c-9f5e-43d2dc246eaf",
   "metadata": {},
   "source": [
    "#### Convert HRSL dataset from raster to vector"
   ]
  },
  {
   "cell_type": "code",
   "execution_count": 29,
   "id": "002e1b16-7adc-45e2-bb92-2dbfc2ab50c2",
   "metadata": {},
   "outputs": [],
   "source": [
    "hrsl_phl_rand = np.random.rand(\n",
    "    np.shape(hrsl_phl_band1_mask)[0], np.shape(hrsl_phl_band1_mask)[1]\n",
    ")\n",
    "hrsl_phl_rand = hrsl_phl_rand.astype(\"float32\")"
   ]
  },
  {
   "cell_type": "code",
   "execution_count": 30,
   "id": "b425d4c8-1ac2-4769-b3b3-14187e22847f",
   "metadata": {},
   "outputs": [],
   "source": [
    "hrsl_phl_band1_poly = list(\n",
    "    rasterio.features.shapes(\n",
    "        hrsl_phl_rand, transform=hrsl_phl_men.transform, mask=hrsl_phl_band1_mask\n",
    "    )\n",
    ")"
   ]
  },
  {
   "cell_type": "code",
   "execution_count": 31,
   "id": "d20c73dc-6175-4461-8e26-c7d218669a37",
   "metadata": {},
   "outputs": [],
   "source": [
    "hrsl_phl_geom = []\n",
    "for geom, value in hrsl_phl_band1_poly:\n",
    "    geom = shapely.geometry.shape(geom)\n",
    "    hrsl_phl_geom.append(geom)"
   ]
  },
  {
   "cell_type": "code",
   "execution_count": 32,
   "id": "da60fc37-2844-404e-ac0d-4a5b1b2e176a",
   "metadata": {},
   "outputs": [],
   "source": [
    "hrsl_phl_gdf = pd.DataFrame(hrsl_phl_geom)\n",
    "hrsl_phl_gdf = gpd.GeoDataFrame(hrsl_phl_gdf, geometry=hrsl_phl_gdf[0], crs=\"EPSG:4326\")\n",
    "hrsl_phl_gdf.drop(columns=[0], inplace=True)\n",
    "hrsl_phl_gdf.reset_index(level=0, inplace=True)"
   ]
  },
  {
   "cell_type": "code",
   "execution_count": 33,
   "id": "b362572f-e590-41e6-a890-187259814ab7",
   "metadata": {},
   "outputs": [],
   "source": [
    "## TODO: make mkdir command for ../data"
   ]
  },
  {
   "cell_type": "code",
   "execution_count": 34,
   "id": "a2d0a419-e8b8-4713-81bf-b549341ca78a",
   "metadata": {},
   "outputs": [],
   "source": [
    "hrsl_phl_gdf.to_file('../data/hrsl_phl.gpkg', driver='GPKG')"
   ]
  },
  {
   "cell_type": "code",
   "execution_count": null,
   "id": "4fde9273-53f7-4ad7-9ba0-b1ed84dc0e50",
   "metadata": {},
   "outputs": [],
   "source": []
  },
  {
   "cell_type": "markdown",
   "id": "6ea7c7c3-ca22-4393-96eb-08a7318c9c75",
   "metadata": {},
   "source": [
    "#### Load OSM dataset"
   ]
  },
  {
   "cell_type": "code",
   "execution_count": 23,
   "id": "6c46de47-939c-40c0-bcdf-bc8eb5335d20",
   "metadata": {},
   "outputs": [],
   "source": [
    "# The 2021 zip file contains many shapefiles for points of interests, landuse, waterways, etc. \n",
    "# We are only interested in loading the building footprint data\n",
    "osm_phl = gpd.read_file(\n",
    "    \"../download_data/philippines-latest-free.shp/gis_osm_buildings_a_free_1.shp\",\n",
    "    driver=\"shp\",\n",
    ")"
   ]
  },
  {
   "cell_type": "code",
   "execution_count": 24,
   "id": "99c61d6a-b8b7-48ca-aecf-9ddc68d96435",
   "metadata": {},
   "outputs": [
    {
     "data": {
      "text/html": [
       "<div>\n",
       "<style scoped>\n",
       "    .dataframe tbody tr th:only-of-type {\n",
       "        vertical-align: middle;\n",
       "    }\n",
       "\n",
       "    .dataframe tbody tr th {\n",
       "        vertical-align: top;\n",
       "    }\n",
       "\n",
       "    .dataframe thead th {\n",
       "        text-align: right;\n",
       "    }\n",
       "</style>\n",
       "<table border=\"1\" class=\"dataframe\">\n",
       "  <thead>\n",
       "    <tr style=\"text-align: right;\">\n",
       "      <th></th>\n",
       "      <th>osm_id</th>\n",
       "      <th>code</th>\n",
       "      <th>fclass</th>\n",
       "      <th>name</th>\n",
       "      <th>type</th>\n",
       "      <th>geometry</th>\n",
       "    </tr>\n",
       "  </thead>\n",
       "  <tbody>\n",
       "    <tr>\n",
       "      <th>0</th>\n",
       "      <td>4350725</td>\n",
       "      <td>1500</td>\n",
       "      <td>building</td>\n",
       "      <td>None</td>\n",
       "      <td>None</td>\n",
       "      <td>POLYGON ((120.99286 14.59423, 120.99300 14.594...</td>\n",
       "    </tr>\n",
       "    <tr>\n",
       "      <th>1</th>\n",
       "      <td>4392200</td>\n",
       "      <td>1500</td>\n",
       "      <td>building</td>\n",
       "      <td>None</td>\n",
       "      <td>None</td>\n",
       "      <td>POLYGON ((121.09786 14.63354, 121.09815 14.633...</td>\n",
       "    </tr>\n",
       "    <tr>\n",
       "      <th>2</th>\n",
       "      <td>4418475</td>\n",
       "      <td>1500</td>\n",
       "      <td>building</td>\n",
       "      <td>Greenbelt 3</td>\n",
       "      <td>None</td>\n",
       "      <td>POLYGON ((121.02102 14.55166, 121.02105 14.552...</td>\n",
       "    </tr>\n",
       "    <tr>\n",
       "      <th>3</th>\n",
       "      <td>4872564</td>\n",
       "      <td>1500</td>\n",
       "      <td>building</td>\n",
       "      <td>Manila Film Center</td>\n",
       "      <td>None</td>\n",
       "      <td>POLYGON ((120.98150 14.55072, 120.98236 14.551...</td>\n",
       "    </tr>\n",
       "    <tr>\n",
       "      <th>4</th>\n",
       "      <td>4913806</td>\n",
       "      <td>1500</td>\n",
       "      <td>building</td>\n",
       "      <td>None</td>\n",
       "      <td>None</td>\n",
       "      <td>POLYGON ((121.00756 14.45639, 121.00758 14.456...</td>\n",
       "    </tr>\n",
       "    <tr>\n",
       "      <th>...</th>\n",
       "      <td>...</td>\n",
       "      <td>...</td>\n",
       "      <td>...</td>\n",
       "      <td>...</td>\n",
       "      <td>...</td>\n",
       "      <td>...</td>\n",
       "    </tr>\n",
       "    <tr>\n",
       "      <th>9501609</th>\n",
       "      <td>955087886</td>\n",
       "      <td>1500</td>\n",
       "      <td>building</td>\n",
       "      <td>None</td>\n",
       "      <td>None</td>\n",
       "      <td>POLYGON ((124.59483 12.07848, 124.59488 12.078...</td>\n",
       "    </tr>\n",
       "    <tr>\n",
       "      <th>9501610</th>\n",
       "      <td>955087887</td>\n",
       "      <td>1500</td>\n",
       "      <td>building</td>\n",
       "      <td>None</td>\n",
       "      <td>None</td>\n",
       "      <td>POLYGON ((124.59450 12.07758, 124.59457 12.077...</td>\n",
       "    </tr>\n",
       "    <tr>\n",
       "      <th>9501611</th>\n",
       "      <td>955087888</td>\n",
       "      <td>1500</td>\n",
       "      <td>building</td>\n",
       "      <td>None</td>\n",
       "      <td>None</td>\n",
       "      <td>POLYGON ((124.59394 12.07685, 124.59402 12.076...</td>\n",
       "    </tr>\n",
       "    <tr>\n",
       "      <th>9501612</th>\n",
       "      <td>955087889</td>\n",
       "      <td>1500</td>\n",
       "      <td>building</td>\n",
       "      <td>None</td>\n",
       "      <td>None</td>\n",
       "      <td>POLYGON ((124.59396 12.07692, 124.59405 12.076...</td>\n",
       "    </tr>\n",
       "    <tr>\n",
       "      <th>9501613</th>\n",
       "      <td>955087890</td>\n",
       "      <td>1500</td>\n",
       "      <td>building</td>\n",
       "      <td>None</td>\n",
       "      <td>None</td>\n",
       "      <td>POLYGON ((124.59420 12.07620, 124.59426 12.076...</td>\n",
       "    </tr>\n",
       "  </tbody>\n",
       "</table>\n",
       "<p>9501614 rows × 6 columns</p>\n",
       "</div>"
      ],
      "text/plain": [
       "            osm_id  code    fclass                name  type  \\\n",
       "0          4350725  1500  building                None  None   \n",
       "1          4392200  1500  building                None  None   \n",
       "2          4418475  1500  building         Greenbelt 3  None   \n",
       "3          4872564  1500  building  Manila Film Center  None   \n",
       "4          4913806  1500  building                None  None   \n",
       "...            ...   ...       ...                 ...   ...   \n",
       "9501609  955087886  1500  building                None  None   \n",
       "9501610  955087887  1500  building                None  None   \n",
       "9501611  955087888  1500  building                None  None   \n",
       "9501612  955087889  1500  building                None  None   \n",
       "9501613  955087890  1500  building                None  None   \n",
       "\n",
       "                                                  geometry  \n",
       "0        POLYGON ((120.99286 14.59423, 120.99300 14.594...  \n",
       "1        POLYGON ((121.09786 14.63354, 121.09815 14.633...  \n",
       "2        POLYGON ((121.02102 14.55166, 121.02105 14.552...  \n",
       "3        POLYGON ((120.98150 14.55072, 120.98236 14.551...  \n",
       "4        POLYGON ((121.00756 14.45639, 121.00758 14.456...  \n",
       "...                                                    ...  \n",
       "9501609  POLYGON ((124.59483 12.07848, 124.59488 12.078...  \n",
       "9501610  POLYGON ((124.59450 12.07758, 124.59457 12.077...  \n",
       "9501611  POLYGON ((124.59394 12.07685, 124.59402 12.076...  \n",
       "9501612  POLYGON ((124.59396 12.07692, 124.59405 12.076...  \n",
       "9501613  POLYGON ((124.59420 12.07620, 124.59426 12.076...  \n",
       "\n",
       "[9501614 rows x 6 columns]"
      ]
     },
     "execution_count": 24,
     "metadata": {},
     "output_type": "execute_result"
    }
   ],
   "source": [
    "osm_phl"
   ]
  },
  {
   "cell_type": "code",
   "execution_count": 25,
   "id": "51962511-39df-41b9-8af6-39a29824516b",
   "metadata": {},
   "outputs": [],
   "source": [
    "osm_phl.to_file('../data/philippines-latest-free.gpkg',driver = 'GPKG')"
   ]
  },
  {
   "cell_type": "markdown",
   "id": "41abec43-1b98-480a-8025-42f0b5edd29c",
   "metadata": {},
   "source": [
    "#### Get mapped pixels"
   ]
  },
  {
   "cell_type": "code",
   "execution_count": 5,
   "id": "2520ed4b-8ba1-404d-8764-db8a2e65411b",
   "metadata": {},
   "outputs": [],
   "source": [
    "# Just run this so you don't have to rerun everything up top\n",
    "hrsl_phl_gdf = gpd.read_file('../data/hrsl_phl.gpkg', driver='GPKG')\n",
    "osm_phl = gpd.read_file('../data/philippines-latest-free.gpkg',driver = 'GPKG')"
   ]
  },
  {
   "cell_type": "code",
   "execution_count": 33,
   "id": "cc99685a-3a57-4e55-8c8c-925cb8b226d1",
   "metadata": {},
   "outputs": [],
   "source": [
    "phl_pixels_with_buildings = gpd.sjoin(\n",
    "    hrsl_phl_gdf, osm_phl, how=\"inner\", op=\"intersects\"\n",
    ")"
   ]
  },
  {
   "cell_type": "code",
   "execution_count": 34,
   "id": "aed6599d-60d3-4b92-a8fb-6e218b7c4bac",
   "metadata": {},
   "outputs": [
    {
     "name": "stdout",
     "output_type": "stream",
     "text": [
      "<class 'geopandas.geodataframe.GeoDataFrame'>\n",
      "Int64Index: 7769975 entries, 1 to 5515916\n",
      "Data columns (total 8 columns):\n",
      " #   Column       Dtype   \n",
      "---  ------       -----   \n",
      " 0   index        int64   \n",
      " 1   geometry     geometry\n",
      " 2   index_right  int64   \n",
      " 3   osm_id       object  \n",
      " 4   code         int64   \n",
      " 5   fclass       object  \n",
      " 6   name         object  \n",
      " 7   type         object  \n",
      "dtypes: geometry(1), int64(3), object(4)\n",
      "memory usage: 533.5+ MB\n"
     ]
    }
   ],
   "source": [
    "# Uncomment .head() commands in final output\n",
    "phl_pixels_with_buildings.info()"
   ]
  },
  {
   "cell_type": "code",
   "execution_count": 35,
   "id": "40676b16-5578-449c-850c-a6e94e8f71a2",
   "metadata": {},
   "outputs": [],
   "source": [
    "phl_pixels_with_buildings = phl_pixels_with_buildings.drop_duplicates(subset='index')"
   ]
  },
  {
   "cell_type": "code",
   "execution_count": 37,
   "id": "c4180adc-8243-43c1-aba3-003900bc16c4",
   "metadata": {},
   "outputs": [],
   "source": [
    "phl_pixels_with_buildings.drop(columns=['index_right', 'osm_id', 'code', 'fclass', 'name', 'type'], inplace=True)"
   ]
  },
  {
   "cell_type": "code",
   "execution_count": 38,
   "id": "175e31fe-646e-43dd-ada1-84238f944ff2",
   "metadata": {},
   "outputs": [
    {
     "name": "stdout",
     "output_type": "stream",
     "text": [
      "<class 'geopandas.geodataframe.GeoDataFrame'>\n",
      "Int64Index: 2155197 entries, 1 to 5515916\n",
      "Data columns (total 2 columns):\n",
      " #   Column    Dtype   \n",
      "---  ------    -----   \n",
      " 0   index     int64   \n",
      " 1   geometry  geometry\n",
      "dtypes: geometry(1), int64(1)\n",
      "memory usage: 49.3 MB\n"
     ]
    }
   ],
   "source": [
    "# Uncomment .head() commands in final output\n",
    "phl_pixels_with_buildings.info()"
   ]
  },
  {
   "cell_type": "code",
   "execution_count": 39,
   "id": "6b5c1f36-1c9d-4e93-ab13-96a90b12200d",
   "metadata": {},
   "outputs": [],
   "source": [
    "phl_pixels_with_buildings.to_file('../data/phl_pixels_with_buildings.gpkg', driver='GPKG')"
   ]
  },
  {
   "cell_type": "markdown",
   "id": "a9d23c85-f237-4d10-bb3c-7cef82091659",
   "metadata": {},
   "source": [
    "#### Get unmapped pixels"
   ]
  },
  {
   "cell_type": "code",
   "execution_count": 4,
   "id": "db7433fe-6d3d-4f31-b8e7-9d1ea8c3bd27",
   "metadata": {},
   "outputs": [],
   "source": [
    "# Just run this so you don't have to rerun everything up top\n",
    "phl_pixels_with_buildings = gpd.read_file(\n",
    "    \"../data/phl_pixels_with_buildings.gpkg\", driver=\"GPKG\"\n",
    ")"
   ]
  },
  {
   "cell_type": "code",
   "execution_count": 6,
   "id": "6f022642-4305-46bd-a032-436e9e6bd6f1",
   "metadata": {},
   "outputs": [],
   "source": [
    "phl_pixels_no_buildings = pd.merge(hrsl_phl_gdf, phl_pixels_with_buildings, how='outer', indicator=True)"
   ]
  },
  {
   "cell_type": "code",
   "execution_count": 7,
   "id": "edc6d677-4227-4813-b90a-b64155471afb",
   "metadata": {},
   "outputs": [],
   "source": [
    "phl_pixels_no_buildings = phl_pixels_no_buildings[phl_pixels_no_buildings['_merge'] == 'left_only']"
   ]
  },
  {
   "cell_type": "code",
   "execution_count": 8,
   "id": "53c24696-9ac5-489c-a024-55a47ad00226",
   "metadata": {},
   "outputs": [],
   "source": [
    "phl_pixels_no_buildings.drop(columns=['_merge'], inplace=True)"
   ]
  },
  {
   "cell_type": "code",
   "execution_count": 9,
   "id": "8652f9ec-3c06-4251-b99f-9bae2a481ccc",
   "metadata": {},
   "outputs": [],
   "source": [
    "phl_pixels_no_buildings.to_file('../data/phl_pixels_no_buildings.gpkg', driver='GPKG')"
   ]
  },
  {
   "cell_type": "markdown",
   "id": "ec414bb5-d79b-4f1e-b97b-e587154bb71e",
   "metadata": {},
   "source": [
    "#### Calculate percentage completeness"
   ]
  },
  {
   "cell_type": "markdown",
   "id": "96728ae9-b82b-48cb-8d0f-53a4b97372b9",
   "metadata": {},
   "source": [
    "In 2020, it was 31.39%. What is it now?"
   ]
  },
  {
   "cell_type": "code",
   "execution_count": 10,
   "id": "2441d7c3-510a-4ac0-af30-81d29cb7e251",
   "metadata": {},
   "outputs": [
    {
     "data": {
      "text/plain": [
       "39.072296358124056"
      ]
     },
     "execution_count": 10,
     "metadata": {},
     "output_type": "execute_result"
    }
   ],
   "source": [
    "len(phl_pixels_with_buildings) / (len(phl_pixels_with_buildings) + len(phl_pixels_no_buildings)) * 100"
   ]
  },
  {
   "cell_type": "markdown",
   "id": "cc73cb44-4778-4925-8a1f-a45ff92797c8",
   "metadata": {},
   "source": [
    "## Aggregate to different admin boundaries"
   ]
  },
  {
   "cell_type": "markdown",
   "id": "15db42e3-56dc-4528-8be1-bd047f05a81d",
   "metadata": {},
   "source": [
    "### Philippines"
   ]
  },
  {
   "cell_type": "markdown",
   "id": "8e24c6aa-cf5b-4d1b-83d0-fd870dcfed48",
   "metadata": {},
   "source": [
    "#### Turn mapped pixels from a polygon layer to a point layer"
   ]
  },
  {
   "cell_type": "code",
   "execution_count": 5,
   "id": "33bf3e59-6f16-4d4d-801f-678edc2daceb",
   "metadata": {},
   "outputs": [],
   "source": [
    "# Just run this so you don't have to rerun everything up top\n",
    "phl_pixels_with_buildings = gpd.read_file(\n",
    "    \"../data/phl_pixels_with_buildings.gpkg\", driver=\"GPKG\"\n",
    ")"
   ]
  },
  {
   "cell_type": "code",
   "execution_count": 3,
   "id": "bcbfff94-829b-4608-8fab-dcd9c9f3b238",
   "metadata": {},
   "outputs": [
    {
     "name": "stderr",
     "output_type": "stream",
     "text": [
      "/opt/conda/lib/python3.7/site-packages/ipykernel_launcher.py:1: UserWarning: Geometry is in a geographic CRS. Results from 'centroid' are likely incorrect. Use 'GeoSeries.to_crs()' to re-project geometries to a projected CRS before this operation.\n",
      "\n",
      "  \"\"\"Entry point for launching an IPython kernel.\n"
     ]
    }
   ],
   "source": [
    "# The centroid command will give a warning but we may safely ignore it\n",
    "phl_pixels_with_buildings[\"geometry\"] = phl_pixels_with_buildings[\"geometry\"].centroid"
   ]
  },
  {
   "cell_type": "markdown",
   "id": "55453344-3815-4c4b-9396-95ad7dd814a4",
   "metadata": {},
   "source": [
    "#### Turn unmapped pixels from a polygon layer to a point layer"
   ]
  },
  {
   "cell_type": "code",
   "execution_count": 4,
   "id": "2f39be5d-2807-44dc-994c-ae51ed9f716e",
   "metadata": {},
   "outputs": [],
   "source": [
    "# Just run this so you don't have to rerun everything up top\n",
    "phl_pixels_no_buildings = gpd.read_file(\n",
    "    \"../data/phl_pixels_no_buildings.gpkg\", driver=\"GPKG\"\n",
    ")"
   ]
  },
  {
   "cell_type": "code",
   "execution_count": 5,
   "id": "84d70431-b2ae-46e4-b7ef-9fa2bc590179",
   "metadata": {},
   "outputs": [
    {
     "name": "stderr",
     "output_type": "stream",
     "text": [
      "/opt/conda/lib/python3.7/site-packages/ipykernel_launcher.py:1: UserWarning: Geometry is in a geographic CRS. Results from 'centroid' are likely incorrect. Use 'GeoSeries.to_crs()' to re-project geometries to a projected CRS before this operation.\n",
      "\n",
      "  \"\"\"Entry point for launching an IPython kernel.\n"
     ]
    }
   ],
   "source": [
    "phl_pixels_no_buildings[\"geometry\"] = phl_pixels_no_buildings[\"geometry\"].centroid"
   ]
  },
  {
   "cell_type": "markdown",
   "id": "99d2e36a-c4b7-4d3a-884d-3b14bcb7702e",
   "metadata": {},
   "source": [
    "#### Load level 4 admin boundary"
   ]
  },
  {
   "cell_type": "code",
   "execution_count": 3,
   "id": "3e4b7de4-672f-4c36-b444-6bd1c7fb7644",
   "metadata": {},
   "outputs": [],
   "source": [
    "phl_adm4 = gpd.read_file(\n",
    "    \"../download_data/phl_adm_2015_level4_barangay.gpkg/phl_adm_2015_level4_barangay.gpkg\"\n",
    ")"
   ]
  },
  {
   "cell_type": "code",
   "execution_count": 5,
   "id": "81847ee2-917f-4335-8078-75e5f271a777",
   "metadata": {},
   "outputs": [
    {
     "data": {
      "text/plain": [
       "Reg_Code       18\n",
       "Reg_Name       18\n",
       "Pro_Code       87\n",
       "Pro_Name       87\n",
       "Mun_Code     1648\n",
       "Mun_Name     1445\n",
       "Bgy_Code    42037\n",
       "Bgy_Name    27092\n",
       "RURBAN          4\n",
       "geometry    42058\n",
       "dtype: int64"
      ]
     },
     "execution_count": 5,
     "metadata": {},
     "output_type": "execute_result"
    }
   ],
   "source": [
    "phl_adm4.nunique()"
   ]
  },
  {
   "cell_type": "markdown",
   "id": "b1427953-038f-4e99-a7da-e3806a6baf95",
   "metadata": {},
   "source": [
    "#### Create index for level 4 admin boundary\n",
    "\n",
    "As shown by `nunique()` result, `Bgy_Code` and `geometry` are not 1:1, indicating that barangay codes cannot be used as a unique index. We work around this by adding a new column combining `Bgy_Code` and `Bgy_Name`"
   ]
  },
  {
   "cell_type": "code",
   "execution_count": 7,
   "id": "56636db2-4003-4c78-8f2a-8e29a26fb43f",
   "metadata": {},
   "outputs": [],
   "source": [
    "# Create new column indicating both the pcode and name of the barangay\n",
    "phl_adm4[\"ADM4_PCODE_NAME\"] = phl_adm4[\"Bgy_Code\"] + \"_\" + phl_adm4[\"Bgy_Name\"]"
   ]
  },
  {
   "cell_type": "markdown",
   "id": "1f607f2d-c882-4751-8ed7-de8891e30166",
   "metadata": {},
   "source": [
    "#### Find intersection of mapped pixels and level 4 admin boundary"
   ]
  },
  {
   "cell_type": "code",
   "execution_count": 8,
   "id": "4409aa2e-f4f5-47cb-8db2-cce17c362666",
   "metadata": {},
   "outputs": [],
   "source": [
    "# Get all the pixels that are found within the level 4 admin boundaries\n",
    "phl_pixels_with_buildings_sjoin_adm4 = gpd.sjoin(\n",
    "    phl_pixels_with_buildings, phl_adm4, how=\"left\", op=\"within\"\n",
    ")"
   ]
  },
  {
   "cell_type": "code",
   "execution_count": 9,
   "id": "a1f693c4-d8be-49fc-8749-9acde56bcd06",
   "metadata": {},
   "outputs": [],
   "source": [
    "# Remove all columns besides index, geometry, RURBAN, and ADM4_PCODE_NAME\n",
    "phl_pixels_with_buildings_sjoin_adm4.drop(\n",
    "    columns=[\n",
    "        \"index_right\",\n",
    "        \"Reg_Code\",\n",
    "        \"Reg_Name\",\n",
    "        \"Pro_Code\",\n",
    "        \"Pro_Name\",\n",
    "        \"Mun_Code\",\n",
    "        \"Mun_Name\",\n",
    "        \"Bgy_Code\",\n",
    "        \"Bgy_Name\",\n",
    "    ],\n",
    "    inplace=True,\n",
    ")"
   ]
  },
  {
   "cell_type": "code",
   "execution_count": 10,
   "id": "94a806f0-9387-4d68-bb09-16364a995daa",
   "metadata": {},
   "outputs": [],
   "source": [
    "# Save to file\n",
    "phl_pixels_with_buildings_sjoin_adm4.to_file(\n",
    "    \"../data/phl_pixels_with_buildings_sjoin_adm4.gpkg\", driver=\"GPKG\"\n",
    ")"
   ]
  },
  {
   "cell_type": "markdown",
   "id": "9d861456-64a2-491e-a52e-3c92ac0a7344",
   "metadata": {},
   "source": [
    "#### Find intersection of unmapped pixels and level 4 admin boundary"
   ]
  },
  {
   "cell_type": "code",
   "execution_count": 11,
   "id": "185c6727-859a-4bca-bb46-94208b41c292",
   "metadata": {},
   "outputs": [],
   "source": [
    "phl_pixels_no_buildings_sjoin_adm4 = gpd.sjoin(\n",
    "    phl_pixels_no_buildings, phl_adm4, how=\"left\", op=\"within\"\n",
    ")"
   ]
  },
  {
   "cell_type": "code",
   "execution_count": 12,
   "id": "db797bd4-3882-4d3b-88cf-ec4fd41c3050",
   "metadata": {},
   "outputs": [],
   "source": [
    "phl_pixels_no_buildings_sjoin_adm4.drop(\n",
    "    columns=[\n",
    "        \"index_right\",\n",
    "        \"Reg_Code\",\n",
    "        \"Reg_Name\",\n",
    "        \"Pro_Code\",\n",
    "        \"Pro_Name\",\n",
    "        \"Mun_Code\",\n",
    "        \"Mun_Name\",\n",
    "        \"Bgy_Code\",\n",
    "        \"Bgy_Name\",\n",
    "    ],\n",
    "    inplace=True,\n",
    ")"
   ]
  },
  {
   "cell_type": "code",
   "execution_count": 27,
   "id": "e4fae67f-dafd-4d3c-87a1-3845699c7a78",
   "metadata": {},
   "outputs": [
    {
     "data": {
      "text/html": [
       "<div>\n",
       "<style scoped>\n",
       "    .dataframe tbody tr th:only-of-type {\n",
       "        vertical-align: middle;\n",
       "    }\n",
       "\n",
       "    .dataframe tbody tr th {\n",
       "        vertical-align: top;\n",
       "    }\n",
       "\n",
       "    .dataframe thead th {\n",
       "        text-align: right;\n",
       "    }\n",
       "</style>\n",
       "<table border=\"1\" class=\"dataframe\">\n",
       "  <thead>\n",
       "    <tr style=\"text-align: right;\">\n",
       "      <th></th>\n",
       "      <th>index</th>\n",
       "      <th>geometry</th>\n",
       "      <th>RURBAN</th>\n",
       "      <th>ADM4_PCODE_NAME</th>\n",
       "    </tr>\n",
       "  </thead>\n",
       "  <tbody>\n",
       "    <tr>\n",
       "      <th>0</th>\n",
       "      <td>1</td>\n",
       "      <td>POINT (121.84083 20.79833)</td>\n",
       "      <td>R</td>\n",
       "      <td>020902010_Santa Rosa (Kaynatuan)</td>\n",
       "    </tr>\n",
       "    <tr>\n",
       "      <th>1</th>\n",
       "      <td>3</td>\n",
       "      <td>POINT (121.84389 20.79083)</td>\n",
       "      <td>R</td>\n",
       "      <td>020902010_Santa Rosa (Kaynatuan)</td>\n",
       "    </tr>\n",
       "    <tr>\n",
       "      <th>2</th>\n",
       "      <td>4</td>\n",
       "      <td>POINT (121.84389 20.79056)</td>\n",
       "      <td>R</td>\n",
       "      <td>020902010_Santa Rosa (Kaynatuan)</td>\n",
       "    </tr>\n",
       "    <tr>\n",
       "      <th>3</th>\n",
       "      <td>5</td>\n",
       "      <td>POINT (121.84222 20.79028)</td>\n",
       "      <td>R</td>\n",
       "      <td>020902010_Santa Rosa (Kaynatuan)</td>\n",
       "    </tr>\n",
       "    <tr>\n",
       "      <th>4</th>\n",
       "      <td>8</td>\n",
       "      <td>POINT (121.84306 20.79000)</td>\n",
       "      <td>R</td>\n",
       "      <td>020902010_Santa Rosa (Kaynatuan)</td>\n",
       "    </tr>\n",
       "  </tbody>\n",
       "</table>\n",
       "</div>"
      ],
      "text/plain": [
       "   index                    geometry RURBAN                   ADM4_PCODE_NAME\n",
       "0      1  POINT (121.84083 20.79833)      R  020902010_Santa Rosa (Kaynatuan)\n",
       "1      3  POINT (121.84389 20.79083)      R  020902010_Santa Rosa (Kaynatuan)\n",
       "2      4  POINT (121.84389 20.79056)      R  020902010_Santa Rosa (Kaynatuan)\n",
       "3      5  POINT (121.84222 20.79028)      R  020902010_Santa Rosa (Kaynatuan)\n",
       "4      8  POINT (121.84306 20.79000)      R  020902010_Santa Rosa (Kaynatuan)"
      ]
     },
     "execution_count": 27,
     "metadata": {},
     "output_type": "execute_result"
    }
   ],
   "source": [
    "phl_pixels_with_buildings_sjoin_adm4.head()"
   ]
  },
  {
   "cell_type": "code",
   "execution_count": 13,
   "id": "2ba54c50-efb3-45bc-a3bc-77018eafeb2f",
   "metadata": {},
   "outputs": [],
   "source": [
    "phl_pixels_no_buildings_sjoin_adm4.to_file(\n",
    "    \"../data/phl_pixels_no_buildings_sjoin_adm4.gpkg\", driver=\"GPKG\"\n",
    ")"
   ]
  },
  {
   "cell_type": "markdown",
   "id": "2f37f990-078e-4f00-b7bb-0c22be6bbb78",
   "metadata": {},
   "source": [
    "#### Load level 3 admin boundary"
   ]
  },
  {
   "cell_type": "code",
   "execution_count": 14,
   "id": "199a8449-9427-4058-80d8-9f0bc4793281",
   "metadata": {},
   "outputs": [],
   "source": [
    "phl_adm3 = gpd.read_file(\n",
    "    \"../download_data/phl_adm_all/phl_admbnda_adm3_psa_namria_20200529.shp\"\n",
    ")"
   ]
  },
  {
   "cell_type": "markdown",
   "id": "0a833deb-9f14-4c1c-ac16-f861780dbd2d",
   "metadata": {},
   "source": [
    "#### Find intersection of mapped pixels and level 3 admin boundary"
   ]
  },
  {
   "cell_type": "code",
   "execution_count": 15,
   "id": "eb4b7cec-d3b6-4c83-8aee-a213f83cc06b",
   "metadata": {},
   "outputs": [],
   "source": [
    "phl_pixels_with_buildings_sjoin_adm3 = gpd.sjoin(\n",
    "    phl_pixels_with_buildings, phl_adm3, how=\"left\", op=\"within\"\n",
    ")"
   ]
  },
  {
   "cell_type": "code",
   "execution_count": 16,
   "id": "4019250f-2719-47cb-bf37-b4417adb7fa3",
   "metadata": {},
   "outputs": [],
   "source": [
    "phl_pixels_with_buildings_sjoin_adm3.drop(\n",
    "    columns=[\n",
    "        \"index_right\",\n",
    "        \"Shape_Leng\",\n",
    "        \"Shape_Area\",\n",
    "        \"ADM3_EN\",\n",
    "        \"ADM3_REF\",\n",
    "        \"ADM3ALT1EN\",\n",
    "        \"ADM3ALT2EN\",\n",
    "        \"ADM2_EN\",\n",
    "        \"ADM2_PCODE\",\n",
    "        \"ADM1_EN\",\n",
    "        \"ADM1_PCODE\",\n",
    "        \"ADM0_EN\",\n",
    "        \"ADM0_PCODE\",\n",
    "        \"date\",\n",
    "        \"validOn\",\n",
    "        \"validTo\",\n",
    "    ],\n",
    "    inplace=True,\n",
    ")"
   ]
  },
  {
   "cell_type": "code",
   "execution_count": 17,
   "id": "d6ee9782-181b-4cc4-b9a2-3ff88b3cd56d",
   "metadata": {},
   "outputs": [],
   "source": [
    "phl_pixels_with_buildings_sjoin_adm3.to_file(\n",
    "    \"../data/phl_pixels_with_buildings_sjoin_adm3.gpkg\", driver=\"GPKG\"\n",
    ")"
   ]
  },
  {
   "cell_type": "markdown",
   "id": "e215b0ce-2f8f-44fc-8ca4-dbdfdf755c96",
   "metadata": {},
   "source": [
    "#### Find intersection of unmapped pixels and level 3 admin boundary"
   ]
  },
  {
   "cell_type": "code",
   "execution_count": 18,
   "id": "3810f558-f019-40c1-8bee-0370b3c4fdec",
   "metadata": {},
   "outputs": [],
   "source": [
    "phl_pixels_no_buildings_sjoin_adm3 = gpd.sjoin(\n",
    "    phl_pixels_no_buildings, phl_adm3, how=\"left\", op=\"within\"\n",
    ")"
   ]
  },
  {
   "cell_type": "code",
   "execution_count": 19,
   "id": "86478883-d60c-4419-a267-9ef99db1835a",
   "metadata": {},
   "outputs": [],
   "source": [
    "phl_pixels_no_buildings_sjoin_adm3.drop(\n",
    "    columns=[\n",
    "        \"index_right\",\n",
    "        \"Shape_Leng\",\n",
    "        \"Shape_Area\",\n",
    "        \"ADM3_EN\",\n",
    "        \"ADM3_REF\",\n",
    "        \"ADM3ALT1EN\",\n",
    "        \"ADM3ALT2EN\",\n",
    "        \"ADM2_EN\",\n",
    "        \"ADM2_PCODE\",\n",
    "        \"ADM1_EN\",\n",
    "        \"ADM1_PCODE\",\n",
    "        \"ADM0_EN\",\n",
    "        \"ADM0_PCODE\",\n",
    "        \"date\",\n",
    "        \"validOn\",\n",
    "        \"validTo\",\n",
    "    ],\n",
    "    inplace=True,\n",
    ")"
   ]
  },
  {
   "cell_type": "code",
   "execution_count": 20,
   "id": "73339db8-5021-457f-b2bc-28d2b443c9fc",
   "metadata": {},
   "outputs": [],
   "source": [
    "phl_pixels_no_buildings_sjoin_adm3.to_file(\n",
    "    \"../data/phl_pixels_no_buildings_sjoin_adm3.gpkg\", driver=\"GPKG\"\n",
    ")"
   ]
  },
  {
   "cell_type": "markdown",
   "id": "2c0475d1-c4f9-4b5e-95da-8f57393d4864",
   "metadata": {},
   "source": [
    "#### Load level 2 admin boundary"
   ]
  },
  {
   "cell_type": "code",
   "execution_count": 21,
   "id": "2a9de8df-ac8d-4972-be04-b7fb848ed907",
   "metadata": {},
   "outputs": [],
   "source": [
    "phl_adm2 = gpd.read_file(\n",
    "    \"../download_data/phl_adm_all/phl_admbnda_adm2_psa_namria_20200529.shp\"\n",
    ")"
   ]
  },
  {
   "cell_type": "markdown",
   "id": "c002a3c2-4f43-4911-a9c8-3b7fdc284be8",
   "metadata": {},
   "source": [
    "#### Find intersection of mapped pixels and level 2 admin boundary"
   ]
  },
  {
   "cell_type": "code",
   "execution_count": 29,
   "id": "17d8cbae-f782-4d1a-ad27-5e3e882971c6",
   "metadata": {},
   "outputs": [],
   "source": [
    "phl_pixels_with_buildings_sjoin_adm2 = gpd.sjoin(\n",
    "    phl_pixels_with_buildings, phl_adm2, how=\"left\", op=\"within\"\n",
    ")"
   ]
  },
  {
   "cell_type": "code",
   "execution_count": 31,
   "id": "b2f57bd1-1320-4e68-9b8e-eac3722ae2a3",
   "metadata": {},
   "outputs": [],
   "source": [
    "phl_pixels_with_buildings_sjoin_adm2.drop(\n",
    "    columns=[\n",
    "        \"index_right\",\n",
    "        \"Shape_Leng\",\n",
    "        \"Shape_Area\",\n",
    "        \"ADM2_EN\",\n",
    "        \"ADM2_REF\",\n",
    "        \"ADM2ALT1EN\",\n",
    "        \"ADM2ALT2EN\",\n",
    "        \"ADM1_EN\",\n",
    "        \"ADM1_PCODE\",\n",
    "        \"ADM0_EN\",\n",
    "        \"ADM0_PCODE\",\n",
    "        \"date\",\n",
    "        \"validOn\",\n",
    "        \"validTo\",\n",
    "    ],\n",
    "    inplace=True,\n",
    ")"
   ]
  },
  {
   "cell_type": "code",
   "execution_count": 34,
   "id": "31a2b42d-2a21-4b5b-9fd1-2a78a583c720",
   "metadata": {},
   "outputs": [],
   "source": [
    "phl_pixels_with_buildings_sjoin_adm2.to_file(\n",
    "    \"../data/phl_pixels_with_buildings_sjoin_adm2.gpkg\", driver=\"GPKG\"\n",
    ")"
   ]
  },
  {
   "cell_type": "markdown",
   "id": "2203bce8-8814-4c8a-9bfb-11244a29b29f",
   "metadata": {},
   "source": [
    "#### Find intersection of unmapped pixels and level 2 admin boundary"
   ]
  },
  {
   "cell_type": "code",
   "execution_count": 35,
   "id": "b9f0015b-b33d-4cc0-9605-3d2957056f78",
   "metadata": {},
   "outputs": [],
   "source": [
    "phl_pixels_no_buildings_sjoin_adm2 = gpd.sjoin(\n",
    "    phl_pixels_no_buildings, phl_adm2, how=\"left\", op=\"within\"\n",
    ")"
   ]
  },
  {
   "cell_type": "code",
   "execution_count": 36,
   "id": "5943de33-bc8c-4ca8-bac6-1ea2e723d9b3",
   "metadata": {},
   "outputs": [],
   "source": [
    "phl_pixels_no_buildings_sjoin_adm2.drop(\n",
    "    columns=[\n",
    "        \"index_right\",\n",
    "        \"Shape_Leng\",\n",
    "        \"Shape_Area\",\n",
    "        \"ADM2_EN\",\n",
    "        \"ADM2_REF\",\n",
    "        \"ADM2ALT1EN\",\n",
    "        \"ADM2ALT2EN\",\n",
    "        \"ADM1_EN\",\n",
    "        \"ADM1_PCODE\",\n",
    "        \"ADM0_EN\",\n",
    "        \"ADM0_PCODE\",\n",
    "        \"date\",\n",
    "        \"validOn\",\n",
    "        \"validTo\",\n",
    "    ],\n",
    "    inplace=True,\n",
    ")"
   ]
  },
  {
   "cell_type": "code",
   "execution_count": 38,
   "id": "1a9dbccb-74e6-453a-a523-237e702e5aeb",
   "metadata": {},
   "outputs": [],
   "source": [
    "phl_pixels_no_buildings_sjoin_adm2.to_file(\n",
    "    \"../data/phl_pixels_no_buildings_sjoin_adm2.gpkg\", driver=\"GPKG\"\n",
    ")"
   ]
  },
  {
   "cell_type": "markdown",
   "id": "85fac98b-725f-4d18-b36a-2f3e3aca6d47",
   "metadata": {},
   "source": [
    "#### Merge and concatenate dataframes"
   ]
  },
  {
   "cell_type": "markdown",
   "id": "f0d50f07-4a6b-4234-b061-9a430f60176c",
   "metadata": {},
   "source": [
    "Uncomment the cell below if you have not yet loaded these variables."
   ]
  },
  {
   "cell_type": "code",
   "execution_count": 16,
   "id": "13a588c3-2581-469e-a896-b8c6944e8113",
   "metadata": {},
   "outputs": [],
   "source": [
    "# # You can run this so you don't have to rerun everything up top\n",
    "# phl_pixels_with_buildings_sjoin_adm4 = gpd.read_file(\n",
    "#     \"../data/phl_pixels_with_buildings_sjoin_adm4.gpkg\", driver=\"GPKG\"\n",
    "# )\n",
    "# phl_pixels_with_buildings_sjoin_adm3 = gpd.read_file(\n",
    "#     \"../data/phl_pixels_with_buildings_sjoin_adm3.gpkg\", driver=\"GPKG\"\n",
    "# )\n",
    "# phl_pixels_with_buildings_sjoin_adm2 = gpd.read_file(\n",
    "#     \"../data/phl_pixels_with_buildings_sjoin_adm2.gpkg\", driver=\"GPKG\"\n",
    "# )\n",
    "# phl_pixels_no_buildings_sjoin_adm4 = gpd.read_file(\n",
    "#     \"../data/phl_pixels_no_buildings_sjoin_adm4.gpkg\", driver=\"GPKG\"\n",
    "# )\n",
    "# phl_pixels_no_buildings_sjoin_adm3 = gpd.read_file(\n",
    "#     \"../data/phl_pixels_no_buildings_sjoin_adm3.gpkg\", driver=\"GPKG\"\n",
    "# )\n",
    "# phl_pixels_no_buildings_sjoin_adm2 = gpd.read_file(\n",
    "#     \"../data/phl_pixels_no_buildings_sjoin_adm2.gpkg\", driver=\"GPKG\"\n",
    "# )"
   ]
  },
  {
   "cell_type": "code",
   "execution_count": 49,
   "id": "3bf19387-d351-424a-a390-56ec0d6823bf",
   "metadata": {},
   "outputs": [
    {
     "data": {
      "text/html": [
       "<div>\n",
       "<style scoped>\n",
       "    .dataframe tbody tr th:only-of-type {\n",
       "        vertical-align: middle;\n",
       "    }\n",
       "\n",
       "    .dataframe tbody tr th {\n",
       "        vertical-align: top;\n",
       "    }\n",
       "\n",
       "    .dataframe thead th {\n",
       "        text-align: right;\n",
       "    }\n",
       "</style>\n",
       "<table border=\"1\" class=\"dataframe\">\n",
       "  <thead>\n",
       "    <tr style=\"text-align: right;\">\n",
       "      <th></th>\n",
       "      <th>index</th>\n",
       "      <th>ADM2_PCODE</th>\n",
       "      <th>geometry</th>\n",
       "    </tr>\n",
       "  </thead>\n",
       "  <tbody>\n",
       "    <tr>\n",
       "      <th>0</th>\n",
       "      <td>1</td>\n",
       "      <td>PH020900000</td>\n",
       "      <td>POINT (121.84083 20.79833)</td>\n",
       "    </tr>\n",
       "    <tr>\n",
       "      <th>1</th>\n",
       "      <td>3</td>\n",
       "      <td>PH020900000</td>\n",
       "      <td>POINT (121.84389 20.79083)</td>\n",
       "    </tr>\n",
       "    <tr>\n",
       "      <th>2</th>\n",
       "      <td>4</td>\n",
       "      <td>PH020900000</td>\n",
       "      <td>POINT (121.84389 20.79056)</td>\n",
       "    </tr>\n",
       "    <tr>\n",
       "      <th>3</th>\n",
       "      <td>5</td>\n",
       "      <td>PH020900000</td>\n",
       "      <td>POINT (121.84222 20.79028)</td>\n",
       "    </tr>\n",
       "    <tr>\n",
       "      <th>4</th>\n",
       "      <td>8</td>\n",
       "      <td>PH020900000</td>\n",
       "      <td>POINT (121.84306 20.79000)</td>\n",
       "    </tr>\n",
       "    <tr>\n",
       "      <th>...</th>\n",
       "      <td>...</td>\n",
       "      <td>...</td>\n",
       "      <td>...</td>\n",
       "    </tr>\n",
       "    <tr>\n",
       "      <th>2155192</th>\n",
       "      <td>5515845</td>\n",
       "      <td>PH157000000</td>\n",
       "      <td>POINT (119.47556 4.66139)</td>\n",
       "    </tr>\n",
       "    <tr>\n",
       "      <th>2155193</th>\n",
       "      <td>5515841</td>\n",
       "      <td>PH157000000</td>\n",
       "      <td>POINT (119.39306 4.66139)</td>\n",
       "    </tr>\n",
       "    <tr>\n",
       "      <th>2155194</th>\n",
       "      <td>5515843</td>\n",
       "      <td>PH157000000</td>\n",
       "      <td>POINT (119.39472 4.66139)</td>\n",
       "    </tr>\n",
       "    <tr>\n",
       "      <th>2155195</th>\n",
       "      <td>5515846</td>\n",
       "      <td>PH157000000</td>\n",
       "      <td>POINT (119.47556 4.66111)</td>\n",
       "    </tr>\n",
       "    <tr>\n",
       "      <th>2155196</th>\n",
       "      <td>5515916</td>\n",
       "      <td>PH157000000</td>\n",
       "      <td>POINT (119.46778 4.58833)</td>\n",
       "    </tr>\n",
       "  </tbody>\n",
       "</table>\n",
       "<p>2155197 rows × 3 columns</p>\n",
       "</div>"
      ],
      "text/plain": [
       "           index   ADM2_PCODE                    geometry\n",
       "0              1  PH020900000  POINT (121.84083 20.79833)\n",
       "1              3  PH020900000  POINT (121.84389 20.79083)\n",
       "2              4  PH020900000  POINT (121.84389 20.79056)\n",
       "3              5  PH020900000  POINT (121.84222 20.79028)\n",
       "4              8  PH020900000  POINT (121.84306 20.79000)\n",
       "...          ...          ...                         ...\n",
       "2155192  5515845  PH157000000   POINT (119.47556 4.66139)\n",
       "2155193  5515841  PH157000000   POINT (119.39306 4.66139)\n",
       "2155194  5515843  PH157000000   POINT (119.39472 4.66139)\n",
       "2155195  5515846  PH157000000   POINT (119.47556 4.66111)\n",
       "2155196  5515916  PH157000000   POINT (119.46778 4.58833)\n",
       "\n",
       "[2155197 rows x 3 columns]"
      ]
     },
     "execution_count": 49,
     "metadata": {},
     "output_type": "execute_result"
    }
   ],
   "source": [
    "phl_pixels_with_buildings_sjoin_adm2.head()"
   ]
  },
  {
   "cell_type": "code",
   "execution_count": 50,
   "id": "0129ecc8-ee81-4808-9124-f06a0c824779",
   "metadata": {},
   "outputs": [
    {
     "data": {
      "text/html": [
       "<div>\n",
       "<style scoped>\n",
       "    .dataframe tbody tr th:only-of-type {\n",
       "        vertical-align: middle;\n",
       "    }\n",
       "\n",
       "    .dataframe tbody tr th {\n",
       "        vertical-align: top;\n",
       "    }\n",
       "\n",
       "    .dataframe thead th {\n",
       "        text-align: right;\n",
       "    }\n",
       "</style>\n",
       "<table border=\"1\" class=\"dataframe\">\n",
       "  <thead>\n",
       "    <tr style=\"text-align: right;\">\n",
       "      <th></th>\n",
       "      <th>index</th>\n",
       "      <th>ADM3_PCODE</th>\n",
       "      <th>geometry</th>\n",
       "    </tr>\n",
       "  </thead>\n",
       "  <tbody>\n",
       "    <tr>\n",
       "      <th>0</th>\n",
       "      <td>1</td>\n",
       "      <td>PH020902000</td>\n",
       "      <td>POINT (121.84083 20.79833)</td>\n",
       "    </tr>\n",
       "    <tr>\n",
       "      <th>1</th>\n",
       "      <td>3</td>\n",
       "      <td>PH020902000</td>\n",
       "      <td>POINT (121.84389 20.79083)</td>\n",
       "    </tr>\n",
       "    <tr>\n",
       "      <th>2</th>\n",
       "      <td>4</td>\n",
       "      <td>PH020902000</td>\n",
       "      <td>POINT (121.84389 20.79056)</td>\n",
       "    </tr>\n",
       "    <tr>\n",
       "      <th>3</th>\n",
       "      <td>5</td>\n",
       "      <td>PH020902000</td>\n",
       "      <td>POINT (121.84222 20.79028)</td>\n",
       "    </tr>\n",
       "    <tr>\n",
       "      <th>4</th>\n",
       "      <td>8</td>\n",
       "      <td>PH020902000</td>\n",
       "      <td>POINT (121.84306 20.79000)</td>\n",
       "    </tr>\n",
       "  </tbody>\n",
       "</table>\n",
       "</div>"
      ],
      "text/plain": [
       "   index   ADM3_PCODE                    geometry\n",
       "0      1  PH020902000  POINT (121.84083 20.79833)\n",
       "1      3  PH020902000  POINT (121.84389 20.79083)\n",
       "2      4  PH020902000  POINT (121.84389 20.79056)\n",
       "3      5  PH020902000  POINT (121.84222 20.79028)\n",
       "4      8  PH020902000  POINT (121.84306 20.79000)"
      ]
     },
     "execution_count": 50,
     "metadata": {},
     "output_type": "execute_result"
    }
   ],
   "source": [
    "phl_pixels_with_buildings_sjoin_adm3.head()"
   ]
  },
  {
   "cell_type": "code",
   "execution_count": 51,
   "id": "78e52e0b-4533-4efc-b68b-6327d95443ad",
   "metadata": {},
   "outputs": [
    {
     "data": {
      "text/html": [
       "<div>\n",
       "<style scoped>\n",
       "    .dataframe tbody tr th:only-of-type {\n",
       "        vertical-align: middle;\n",
       "    }\n",
       "\n",
       "    .dataframe tbody tr th {\n",
       "        vertical-align: top;\n",
       "    }\n",
       "\n",
       "    .dataframe thead th {\n",
       "        text-align: right;\n",
       "    }\n",
       "</style>\n",
       "<table border=\"1\" class=\"dataframe\">\n",
       "  <thead>\n",
       "    <tr style=\"text-align: right;\">\n",
       "      <th></th>\n",
       "      <th>index</th>\n",
       "      <th>RURBAN</th>\n",
       "      <th>ADM4_PCODE_NAME</th>\n",
       "      <th>geometry</th>\n",
       "    </tr>\n",
       "  </thead>\n",
       "  <tbody>\n",
       "    <tr>\n",
       "      <th>0</th>\n",
       "      <td>1</td>\n",
       "      <td>R</td>\n",
       "      <td>020902010_Santa Rosa (Kaynatuan)</td>\n",
       "      <td>POINT (121.84083 20.79833)</td>\n",
       "    </tr>\n",
       "    <tr>\n",
       "      <th>1</th>\n",
       "      <td>3</td>\n",
       "      <td>R</td>\n",
       "      <td>020902010_Santa Rosa (Kaynatuan)</td>\n",
       "      <td>POINT (121.84389 20.79083)</td>\n",
       "    </tr>\n",
       "    <tr>\n",
       "      <th>2</th>\n",
       "      <td>4</td>\n",
       "      <td>R</td>\n",
       "      <td>020902010_Santa Rosa (Kaynatuan)</td>\n",
       "      <td>POINT (121.84389 20.79056)</td>\n",
       "    </tr>\n",
       "    <tr>\n",
       "      <th>3</th>\n",
       "      <td>5</td>\n",
       "      <td>R</td>\n",
       "      <td>020902010_Santa Rosa (Kaynatuan)</td>\n",
       "      <td>POINT (121.84222 20.79028)</td>\n",
       "    </tr>\n",
       "    <tr>\n",
       "      <th>4</th>\n",
       "      <td>8</td>\n",
       "      <td>R</td>\n",
       "      <td>020902010_Santa Rosa (Kaynatuan)</td>\n",
       "      <td>POINT (121.84306 20.79000)</td>\n",
       "    </tr>\n",
       "  </tbody>\n",
       "</table>\n",
       "</div>"
      ],
      "text/plain": [
       "   index RURBAN                   ADM4_PCODE_NAME                    geometry\n",
       "0      1      R  020902010_Santa Rosa (Kaynatuan)  POINT (121.84083 20.79833)\n",
       "1      3      R  020902010_Santa Rosa (Kaynatuan)  POINT (121.84389 20.79083)\n",
       "2      4      R  020902010_Santa Rosa (Kaynatuan)  POINT (121.84389 20.79056)\n",
       "3      5      R  020902010_Santa Rosa (Kaynatuan)  POINT (121.84222 20.79028)\n",
       "4      8      R  020902010_Santa Rosa (Kaynatuan)  POINT (121.84306 20.79000)"
      ]
     },
     "execution_count": 51,
     "metadata": {},
     "output_type": "execute_result"
    }
   ],
   "source": [
    "phl_pixels_with_buildings_sjoin_adm4.head()"
   ]
  },
  {
   "cell_type": "markdown",
   "id": "a9584298-fbe7-4ec0-aed6-07403aa44e7d",
   "metadata": {},
   "source": [
    "### Saving final pixel output"
   ]
  },
  {
   "cell_type": "markdown",
   "id": "148f089d-8803-4bd9-9262-5e526d53d8b1",
   "metadata": {},
   "source": [
    "Merging and concatenating for level 2/3/4 admin boundaries."
   ]
  },
  {
   "cell_type": "code",
   "execution_count": 21,
   "id": "272f6d41-46bf-4660-b79f-c3b19a61f471",
   "metadata": {},
   "outputs": [],
   "source": [
    "# Merging adm3 boundaries with adm4\n",
    "phl_pixels_with_buildings_sjoin = phl_pixels_with_buildings_sjoin_adm3.merge(\n",
    "    phl_pixels_with_buildings_sjoin_adm4[[\"index\", \"RURBAN\", \"ADM4_PCODE_NAME\"]],\n",
    "    how=\"left\",\n",
    "    left_on=\"index\",\n",
    "    right_on=\"index\",\n",
    ")\n",
    "\n",
    "# Additionally merging adm2 to adm3 and adm4\n",
    "phl_pixels_with_buildings_sjoin = phl_pixels_with_buildings_sjoin.merge(\n",
    "    phl_pixels_with_buildings_sjoin_adm2[[\"index\", \"ADM2_PCODE\"]],\n",
    "    how=\"left\",\n",
    "    left_on=\"index\",\n",
    "    right_on=\"index\",\n",
    ")"
   ]
  },
  {
   "cell_type": "code",
   "execution_count": 26,
   "id": "a639c6a1-1d0c-4cdb-8330-a67a8dfd35b7",
   "metadata": {},
   "outputs": [],
   "source": [
    "# Drop nan values in the dataframe\n",
    "phl_pixels_with_buildings_sjoin.dropna(\n",
    "    subset=[\"ADM3_PCODE\", \"RURBAN\", \"ADM4_PCODE_NAME\",\"ADM2_PCODE\"], inplace=True\n",
    ")"
   ]
  },
  {
   "cell_type": "code",
   "execution_count": 28,
   "id": "cf1d0bc8-1401-4c71-bec2-a386764e8ee2",
   "metadata": {},
   "outputs": [],
   "source": [
    "# Adding a column to indicate that these pixels are mapped\n",
    "phl_pixels_with_buildings_sjoin[\"status\"] = \"mapped\""
   ]
  },
  {
   "cell_type": "code",
   "execution_count": 31,
   "id": "71e0a599-24ac-4cc8-bd11-561f1a8ba585",
   "metadata": {},
   "outputs": [],
   "source": [
    "# Merging adm3 boundaries with adm4\n",
    "phl_pixels_no_buildings_sjoin = phl_pixels_no_buildings_sjoin_adm3.merge(\n",
    "    phl_pixels_no_buildings_sjoin_adm4[[\"index\", \"RURBAN\", \"ADM4_PCODE_NAME\"]],\n",
    "    how=\"left\",\n",
    "    left_on=\"index\",\n",
    "    right_on=\"index\",\n",
    ")\n",
    "\n",
    "# Additionally merging adm2 to adm3 and adm4\n",
    "phl_pixels_no_buildings_sjoin = phl_pixels_no_buildings_sjoin.merge(\n",
    "    phl_pixels_no_buildings_sjoin_adm2[[\"index\", \"ADM2_PCODE\"]],\n",
    "    how=\"left\",\n",
    "    left_on=\"index\",\n",
    "    right_on=\"index\",\n",
    ")"
   ]
  },
  {
   "cell_type": "code",
   "execution_count": 32,
   "id": "0c40f072-fac2-4760-870e-eba4ca38b8b2",
   "metadata": {},
   "outputs": [],
   "source": [
    "# Drop nan values in the dataframe\n",
    "phl_pixels_no_buildings_sjoin.dropna(\n",
    "    subset=[\"ADM3_PCODE\", \"RURBAN\", \"ADM4_PCODE_NAME\", \"ADM2_PCODE\"], inplace=True\n",
    ")"
   ]
  },
  {
   "cell_type": "code",
   "execution_count": 33,
   "id": "4cb69a82-5bc7-415e-ad9e-ac5e3bf137b2",
   "metadata": {},
   "outputs": [],
   "source": [
    "# Adding a column to indicate that these pixels are unmapped\n",
    "phl_pixels_no_buildings_sjoin[\"status\"] = \"unmapped\""
   ]
  },
  {
   "cell_type": "code",
   "execution_count": 44,
   "id": "d463de36-1ef8-4729-aee8-01152c41c328",
   "metadata": {},
   "outputs": [],
   "source": [
    "# Join the mapped and unppaed pixels together\n",
    "phl_pixels_all = pd.concat(\n",
    "    [phl_pixels_with_buildings_sjoin, phl_pixels_no_buildings_sjoin]\n",
    ")"
   ]
  },
  {
   "cell_type": "markdown",
   "id": "54157605-0039-4a8e-8d46-c303fe77d58c",
   "metadata": {},
   "source": [
    "The final output of this notebook should look like this!"
   ]
  },
  {
   "cell_type": "code",
   "execution_count": 45,
   "id": "a9f8c463-22cf-484b-b1ab-c9659d4e6a7a",
   "metadata": {},
   "outputs": [
    {
     "data": {
      "text/html": [
       "<div>\n",
       "<style scoped>\n",
       "    .dataframe tbody tr th:only-of-type {\n",
       "        vertical-align: middle;\n",
       "    }\n",
       "\n",
       "    .dataframe tbody tr th {\n",
       "        vertical-align: top;\n",
       "    }\n",
       "\n",
       "    .dataframe thead th {\n",
       "        text-align: right;\n",
       "    }\n",
       "</style>\n",
       "<table border=\"1\" class=\"dataframe\">\n",
       "  <thead>\n",
       "    <tr style=\"text-align: right;\">\n",
       "      <th></th>\n",
       "      <th>index</th>\n",
       "      <th>ADM3_PCODE</th>\n",
       "      <th>geometry</th>\n",
       "      <th>RURBAN</th>\n",
       "      <th>ADM4_PCODE_NAME</th>\n",
       "      <th>ADM2_PCODE</th>\n",
       "      <th>status</th>\n",
       "    </tr>\n",
       "  </thead>\n",
       "  <tbody>\n",
       "    <tr>\n",
       "      <th>0</th>\n",
       "      <td>1</td>\n",
       "      <td>PH020902000</td>\n",
       "      <td>POINT (121.84083 20.79833)</td>\n",
       "      <td>R</td>\n",
       "      <td>020902010_Santa Rosa (Kaynatuan)</td>\n",
       "      <td>PH020900000</td>\n",
       "      <td>mapped</td>\n",
       "    </tr>\n",
       "    <tr>\n",
       "      <th>1</th>\n",
       "      <td>3</td>\n",
       "      <td>PH020902000</td>\n",
       "      <td>POINT (121.84389 20.79083)</td>\n",
       "      <td>R</td>\n",
       "      <td>020902010_Santa Rosa (Kaynatuan)</td>\n",
       "      <td>PH020900000</td>\n",
       "      <td>mapped</td>\n",
       "    </tr>\n",
       "    <tr>\n",
       "      <th>2</th>\n",
       "      <td>4</td>\n",
       "      <td>PH020902000</td>\n",
       "      <td>POINT (121.84389 20.79056)</td>\n",
       "      <td>R</td>\n",
       "      <td>020902010_Santa Rosa (Kaynatuan)</td>\n",
       "      <td>PH020900000</td>\n",
       "      <td>mapped</td>\n",
       "    </tr>\n",
       "    <tr>\n",
       "      <th>3</th>\n",
       "      <td>5</td>\n",
       "      <td>PH020902000</td>\n",
       "      <td>POINT (121.84222 20.79028)</td>\n",
       "      <td>R</td>\n",
       "      <td>020902010_Santa Rosa (Kaynatuan)</td>\n",
       "      <td>PH020900000</td>\n",
       "      <td>mapped</td>\n",
       "    </tr>\n",
       "    <tr>\n",
       "      <th>4</th>\n",
       "      <td>8</td>\n",
       "      <td>PH020902000</td>\n",
       "      <td>POINT (121.84306 20.79000)</td>\n",
       "      <td>R</td>\n",
       "      <td>020902010_Santa Rosa (Kaynatuan)</td>\n",
       "      <td>PH020900000</td>\n",
       "      <td>mapped</td>\n",
       "    </tr>\n",
       "  </tbody>\n",
       "</table>\n",
       "</div>"
      ],
      "text/plain": [
       "   index   ADM3_PCODE                    geometry RURBAN  \\\n",
       "0      1  PH020902000  POINT (121.84083 20.79833)      R   \n",
       "1      3  PH020902000  POINT (121.84389 20.79083)      R   \n",
       "2      4  PH020902000  POINT (121.84389 20.79056)      R   \n",
       "3      5  PH020902000  POINT (121.84222 20.79028)      R   \n",
       "4      8  PH020902000  POINT (121.84306 20.79000)      R   \n",
       "\n",
       "                    ADM4_PCODE_NAME   ADM2_PCODE  status  \n",
       "0  020902010_Santa Rosa (Kaynatuan)  PH020900000  mapped  \n",
       "1  020902010_Santa Rosa (Kaynatuan)  PH020900000  mapped  \n",
       "2  020902010_Santa Rosa (Kaynatuan)  PH020900000  mapped  \n",
       "3  020902010_Santa Rosa (Kaynatuan)  PH020900000  mapped  \n",
       "4  020902010_Santa Rosa (Kaynatuan)  PH020900000  mapped  "
      ]
     },
     "execution_count": 45,
     "metadata": {},
     "output_type": "execute_result"
    }
   ],
   "source": [
    "phl_pixels_all.head()"
   ]
  },
  {
   "cell_type": "code",
   "execution_count": 46,
   "id": "b2e62231-abfe-4511-890d-7c38b5a47ad0",
   "metadata": {},
   "outputs": [],
   "source": [
    "# Save all columns (including geometry) to gkpg\n",
    "phl_pixels_all.to_file(\"../data/phl_pixels_all.gpkg\", driver=\"GPKG\")"
   ]
  },
  {
   "cell_type": "code",
   "execution_count": 47,
   "id": "f47984db-7802-4228-96b7-bf67e50977dd",
   "metadata": {},
   "outputs": [],
   "source": [
    "# Drop geometry column\n",
    "phl_pixels_all.drop(columns=[\"geometry\"], inplace=True)"
   ]
  },
  {
   "cell_type": "code",
   "execution_count": 48,
   "id": "eb2d1982-b1d7-4735-aa05-c15fe38578f6",
   "metadata": {},
   "outputs": [],
   "source": [
    "# Save remaining columns as csv \n",
    "phl_pixels_all.to_csv(\"../data/phl_pixels_all.csv\", index=False)"
   ]
  },
  {
   "cell_type": "markdown",
   "id": "7c305dc9-2a6d-4ccc-b2a2-2acda57124d6",
   "metadata": {},
   "source": [
    "## Calculate percent completeness per admin boundary level"
   ]
  },
  {
   "cell_type": "markdown",
   "id": "3517f299-79c8-42da-a340-edd2ce4bbe7b",
   "metadata": {},
   "source": [
    "In the following code snippets, we use a pivot table to get the number of mapped and unmapped pixels for each administrative region, then calculate the percent completeness\n",
    "\n",
    "We use `ADM2_PCODE` ,`ADM3_PCODE`, and `ADM4_PCODE_Name`   as the index for each admin region."
   ]
  },
  {
   "cell_type": "markdown",
   "id": "b81e1f56-d5f5-4c54-ad7d-08c775a38dcb",
   "metadata": {},
   "source": [
    "### Loading mapped/unmapped pixels"
   ]
  },
  {
   "cell_type": "code",
   "execution_count": 3,
   "id": "a128e5bc-07fb-4cd8-86c8-830469cc4fb7",
   "metadata": {},
   "outputs": [],
   "source": [
    "# Just run this so you don't have to rerun everything up top\n",
    "phl_pixels_all = pd.read_csv(\"../data/phl_pixels_all.csv\")"
   ]
  },
  {
   "cell_type": "markdown",
   "id": "d4cc1088-dda8-42cc-a932-33dcee8d6df3",
   "metadata": {},
   "source": [
    "### Loading admin boundaries"
   ]
  },
  {
   "cell_type": "code",
   "execution_count": 4,
   "id": "80316c43-550a-4d1f-9716-de6b98150ca5",
   "metadata": {},
   "outputs": [],
   "source": [
    "phl_adm2 = gpd.read_file(\n",
    "    \"../download_data/phl_adm_all/phl_admbnda_adm2_psa_namria_20200529.shp\"\n",
    ")"
   ]
  },
  {
   "cell_type": "code",
   "execution_count": 5,
   "id": "431d3bbb-8ae4-4d1b-b6cf-c2ccd7e286b3",
   "metadata": {},
   "outputs": [],
   "source": [
    "phl_adm3 = gpd.read_file(\n",
    "    \"../download_data/phl_adm_all/phl_admbnda_adm3_psa_namria_20200529.shp\"\n",
    ")"
   ]
  },
  {
   "cell_type": "code",
   "execution_count": 6,
   "id": "17512e7a-8291-4fc6-8a00-1a5c08181131",
   "metadata": {},
   "outputs": [],
   "source": [
    "phl_adm4 = gpd.read_file(\n",
    "    \"../download_data/phl_adm_2015_level4_barangay.gpkg/phl_adm_2015_level4_barangay.gpkg\"\n",
    ")"
   ]
  },
  {
   "cell_type": "code",
   "execution_count": 50,
   "id": "47e03076-5bcb-45ac-946d-c220a4c20908",
   "metadata": {},
   "outputs": [
    {
     "data": {
      "text/html": [
       "<div>\n",
       "<style scoped>\n",
       "    .dataframe tbody tr th:only-of-type {\n",
       "        vertical-align: middle;\n",
       "    }\n",
       "\n",
       "    .dataframe tbody tr th {\n",
       "        vertical-align: top;\n",
       "    }\n",
       "\n",
       "    .dataframe thead th {\n",
       "        text-align: right;\n",
       "    }\n",
       "</style>\n",
       "<table border=\"1\" class=\"dataframe\">\n",
       "  <thead>\n",
       "    <tr style=\"text-align: right;\">\n",
       "      <th></th>\n",
       "      <th>Reg_Code</th>\n",
       "      <th>Reg_Name</th>\n",
       "      <th>Pro_Code</th>\n",
       "      <th>Pro_Name</th>\n",
       "      <th>Mun_Code</th>\n",
       "      <th>Mun_Name</th>\n",
       "      <th>Bgy_Code</th>\n",
       "      <th>Bgy_Name</th>\n",
       "      <th>RURBAN</th>\n",
       "      <th>geometry</th>\n",
       "    </tr>\n",
       "  </thead>\n",
       "  <tbody>\n",
       "    <tr>\n",
       "      <th>0</th>\n",
       "      <td>110000000</td>\n",
       "      <td>REGION XI (DAVAO REGION)</td>\n",
       "      <td>118200000</td>\n",
       "      <td>COMPOSTELA VALLEY</td>\n",
       "      <td>118206000</td>\n",
       "      <td>MAWAB</td>\n",
       "      <td>118206010</td>\n",
       "      <td>Sawangan</td>\n",
       "      <td>R</td>\n",
       "      <td>MULTIPOLYGON (((125.89647 7.49963, 125.89640 7...</td>\n",
       "    </tr>\n",
       "    <tr>\n",
       "      <th>1</th>\n",
       "      <td>180000000</td>\n",
       "      <td>NEGROS ISLAND REGION (NIR)</td>\n",
       "      <td>184500000</td>\n",
       "      <td>NEGROS OCCIDENTAL</td>\n",
       "      <td>184501000</td>\n",
       "      <td>BACOLOD CITY (Capital)</td>\n",
       "      <td>184501048</td>\n",
       "      <td>Felisa</td>\n",
       "      <td>U</td>\n",
       "      <td>MULTIPOLYGON (((123.00528 10.60504, 123.00541 ...</td>\n",
       "    </tr>\n",
       "    <tr>\n",
       "      <th>2</th>\n",
       "      <td>120000000</td>\n",
       "      <td>REGION XII (SOCCSKSARGEN)</td>\n",
       "      <td>126300000</td>\n",
       "      <td>SOUTH COTABATO</td>\n",
       "      <td>126311000</td>\n",
       "      <td>NORALA</td>\n",
       "      <td>126311020</td>\n",
       "      <td>Simsiman</td>\n",
       "      <td>R</td>\n",
       "      <td>MULTIPOLYGON (((124.66187 6.56818, 124.66324 6...</td>\n",
       "    </tr>\n",
       "    <tr>\n",
       "      <th>3</th>\n",
       "      <td>150000000</td>\n",
       "      <td>AUTONOMOUS REGION IN MUSLIM MINDANAO (ARMM)</td>\n",
       "      <td>157000000</td>\n",
       "      <td>TAWI-TAWI</td>\n",
       "      <td>157001000</td>\n",
       "      <td>PANGLIMA SUGALA (BALIMBING)</td>\n",
       "      <td>157001001</td>\n",
       "      <td>Balimbing Proper</td>\n",
       "      <td>R</td>\n",
       "      <td>MULTIPOLYGON (((119.95374 5.07851, 119.95384 5...</td>\n",
       "    </tr>\n",
       "    <tr>\n",
       "      <th>4</th>\n",
       "      <td>150000000</td>\n",
       "      <td>AUTONOMOUS REGION IN MUSLIM MINDANAO (ARMM)</td>\n",
       "      <td>157000000</td>\n",
       "      <td>TAWI-TAWI</td>\n",
       "      <td>157001000</td>\n",
       "      <td>PANGLIMA SUGALA (BALIMBING)</td>\n",
       "      <td>157001002</td>\n",
       "      <td>Batu-batu (Pob.)</td>\n",
       "      <td>R</td>\n",
       "      <td>MULTIPOLYGON (((119.88709 5.06919, 119.88709 5...</td>\n",
       "    </tr>\n",
       "  </tbody>\n",
       "</table>\n",
       "</div>"
      ],
      "text/plain": [
       "    Reg_Code                                     Reg_Name   Pro_Code  \\\n",
       "0  110000000                     REGION XI (DAVAO REGION)  118200000   \n",
       "1  180000000                   NEGROS ISLAND REGION (NIR)  184500000   \n",
       "2  120000000                    REGION XII (SOCCSKSARGEN)  126300000   \n",
       "3  150000000  AUTONOMOUS REGION IN MUSLIM MINDANAO (ARMM)  157000000   \n",
       "4  150000000  AUTONOMOUS REGION IN MUSLIM MINDANAO (ARMM)  157000000   \n",
       "\n",
       "            Pro_Name   Mun_Code                     Mun_Name   Bgy_Code  \\\n",
       "0  COMPOSTELA VALLEY  118206000                        MAWAB  118206010   \n",
       "1  NEGROS OCCIDENTAL  184501000       BACOLOD CITY (Capital)  184501048   \n",
       "2     SOUTH COTABATO  126311000                       NORALA  126311020   \n",
       "3          TAWI-TAWI  157001000  PANGLIMA SUGALA (BALIMBING)  157001001   \n",
       "4          TAWI-TAWI  157001000  PANGLIMA SUGALA (BALIMBING)  157001002   \n",
       "\n",
       "           Bgy_Name RURBAN                                           geometry  \n",
       "0          Sawangan      R  MULTIPOLYGON (((125.89647 7.49963, 125.89640 7...  \n",
       "1            Felisa      U  MULTIPOLYGON (((123.00528 10.60504, 123.00541 ...  \n",
       "2          Simsiman      R  MULTIPOLYGON (((124.66187 6.56818, 124.66324 6...  \n",
       "3  Balimbing Proper      R  MULTIPOLYGON (((119.95374 5.07851, 119.95384 5...  \n",
       "4  Batu-batu (Pob.)      R  MULTIPOLYGON (((119.88709 5.06919, 119.88709 5...  "
      ]
     },
     "execution_count": 50,
     "metadata": {},
     "output_type": "execute_result"
    }
   ],
   "source": [
    "phl_adm4.head()"
   ]
  },
  {
   "cell_type": "markdown",
   "id": "a5ac2d10-11ef-4585-bb34-02203663bd0b",
   "metadata": {},
   "source": [
    "### Loading previous output\n",
    "\n",
    "We will join the results from this notebook to the output from past years"
   ]
  },
  {
   "cell_type": "code",
   "execution_count": 34,
   "id": "405532c8-8d94-4295-9b76-2b68b7ea2853",
   "metadata": {},
   "outputs": [],
   "source": [
    "province_output = pd.read_csv('../download_data/mapthegap-phl-adm2-2021-05-29.csv')"
   ]
  },
  {
   "cell_type": "code",
   "execution_count": 32,
   "id": "d212c0db-5361-4a61-85a7-778820eb0fcc",
   "metadata": {},
   "outputs": [],
   "source": [
    "citymuni_output = pd.read_csv('../download_data/mapthegap-phl-adm3-2021-05-29.csv')"
   ]
  },
  {
   "cell_type": "code",
   "execution_count": 31,
   "id": "80411f04-2886-40c4-8de0-3acb76e7303f",
   "metadata": {},
   "outputs": [],
   "source": [
    "brgy_output = pd.read_csv('../download_data/mapthegap-phl-adm4-2021-05-29.csv')"
   ]
  },
  {
   "cell_type": "markdown",
   "id": "672f5677-87ab-4c02-9d3e-567e1cb0d33d",
   "metadata": {},
   "source": [
    "### Pivot Table"
   ]
  },
  {
   "cell_type": "code",
   "execution_count": 11,
   "id": "7d566e18-3cba-4460-aaea-c614b65db952",
   "metadata": {},
   "outputs": [],
   "source": [
    "# fill_value = 0 fills in NaN values with 0\n",
    "# If a region has no mapped pixels, it will give NaN\n",
    "# which would cause a bug in calculating pct completness\n",
    "adm2_df = pd.pivot_table(phl_pixels_all[[\"ADM2_PCODE\",\"status\", \"index\"]], index = [\"ADM2_PCODE\"], columns = [\"status\"], aggfunc=\"count\", fill_value=0)"
   ]
  },
  {
   "cell_type": "code",
   "execution_count": 12,
   "id": "a62e6586-51e2-4e0f-8341-4eb4edeed7c3",
   "metadata": {},
   "outputs": [
    {
     "data": {
      "text/html": [
       "<div>\n",
       "<style scoped>\n",
       "    .dataframe tbody tr th:only-of-type {\n",
       "        vertical-align: middle;\n",
       "    }\n",
       "\n",
       "    .dataframe tbody tr th {\n",
       "        vertical-align: top;\n",
       "    }\n",
       "\n",
       "    .dataframe thead tr th {\n",
       "        text-align: left;\n",
       "    }\n",
       "\n",
       "    .dataframe thead tr:last-of-type th {\n",
       "        text-align: right;\n",
       "    }\n",
       "</style>\n",
       "<table border=\"1\" class=\"dataframe\">\n",
       "  <thead>\n",
       "    <tr>\n",
       "      <th></th>\n",
       "      <th colspan=\"2\" halign=\"left\">index</th>\n",
       "    </tr>\n",
       "    <tr>\n",
       "      <th>status</th>\n",
       "      <th>mapped</th>\n",
       "      <th>unmapped</th>\n",
       "    </tr>\n",
       "    <tr>\n",
       "      <th>ADM2_PCODE</th>\n",
       "      <th></th>\n",
       "      <th></th>\n",
       "    </tr>\n",
       "  </thead>\n",
       "  <tbody>\n",
       "    <tr>\n",
       "      <th>PH012800000</th>\n",
       "      <td>45646</td>\n",
       "      <td>18479</td>\n",
       "    </tr>\n",
       "    <tr>\n",
       "      <th>PH012900000</th>\n",
       "      <td>54459</td>\n",
       "      <td>23735</td>\n",
       "    </tr>\n",
       "    <tr>\n",
       "      <th>PH013300000</th>\n",
       "      <td>32348</td>\n",
       "      <td>42918</td>\n",
       "    </tr>\n",
       "    <tr>\n",
       "      <th>PH015500000</th>\n",
       "      <td>17768</td>\n",
       "      <td>238488</td>\n",
       "    </tr>\n",
       "    <tr>\n",
       "      <th>PH020900000</th>\n",
       "      <td>998</td>\n",
       "      <td>187</td>\n",
       "    </tr>\n",
       "  </tbody>\n",
       "</table>\n",
       "</div>"
      ],
      "text/plain": [
       "             index         \n",
       "status      mapped unmapped\n",
       "ADM2_PCODE                 \n",
       "PH012800000  45646    18479\n",
       "PH012900000  54459    23735\n",
       "PH013300000  32348    42918\n",
       "PH015500000  17768   238488\n",
       "PH020900000    998      187"
      ]
     },
     "execution_count": 12,
     "metadata": {},
     "output_type": "execute_result"
    }
   ],
   "source": [
    "adm2_df.head()"
   ]
  },
  {
   "cell_type": "markdown",
   "id": "ff71201f-214b-4e9e-bb13-d333d2b4d092",
   "metadata": {},
   "source": [
    "The resulting dataframe has a multiindex, which we will fix in the next code blocks"
   ]
  },
  {
   "cell_type": "code",
   "execution_count": 13,
   "id": "23327f0c-beb7-467c-ab97-6a3081d55f07",
   "metadata": {},
   "outputs": [],
   "source": [
    "adm2_df.columns = adm2_df.columns.get_level_values(1)\n",
    "adm2_df = adm2_df.reset_index().reset_index()"
   ]
  },
  {
   "cell_type": "code",
   "execution_count": 14,
   "id": "6b195e12-481d-4227-8700-668d079d96b0",
   "metadata": {},
   "outputs": [
    {
     "data": {
      "text/html": [
       "<div>\n",
       "<style scoped>\n",
       "    .dataframe tbody tr th:only-of-type {\n",
       "        vertical-align: middle;\n",
       "    }\n",
       "\n",
       "    .dataframe tbody tr th {\n",
       "        vertical-align: top;\n",
       "    }\n",
       "\n",
       "    .dataframe thead th {\n",
       "        text-align: right;\n",
       "    }\n",
       "</style>\n",
       "<table border=\"1\" class=\"dataframe\">\n",
       "  <thead>\n",
       "    <tr style=\"text-align: right;\">\n",
       "      <th>status</th>\n",
       "      <th>index</th>\n",
       "      <th>ADM2_PCODE</th>\n",
       "      <th>mapped</th>\n",
       "      <th>unmapped</th>\n",
       "    </tr>\n",
       "  </thead>\n",
       "  <tbody>\n",
       "    <tr>\n",
       "      <th>0</th>\n",
       "      <td>0</td>\n",
       "      <td>PH012800000</td>\n",
       "      <td>45646</td>\n",
       "      <td>18479</td>\n",
       "    </tr>\n",
       "    <tr>\n",
       "      <th>1</th>\n",
       "      <td>1</td>\n",
       "      <td>PH012900000</td>\n",
       "      <td>54459</td>\n",
       "      <td>23735</td>\n",
       "    </tr>\n",
       "    <tr>\n",
       "      <th>2</th>\n",
       "      <td>2</td>\n",
       "      <td>PH013300000</td>\n",
       "      <td>32348</td>\n",
       "      <td>42918</td>\n",
       "    </tr>\n",
       "    <tr>\n",
       "      <th>3</th>\n",
       "      <td>3</td>\n",
       "      <td>PH015500000</td>\n",
       "      <td>17768</td>\n",
       "      <td>238488</td>\n",
       "    </tr>\n",
       "    <tr>\n",
       "      <th>4</th>\n",
       "      <td>4</td>\n",
       "      <td>PH020900000</td>\n",
       "      <td>998</td>\n",
       "      <td>187</td>\n",
       "    </tr>\n",
       "  </tbody>\n",
       "</table>\n",
       "</div>"
      ],
      "text/plain": [
       "status  index   ADM2_PCODE  mapped  unmapped\n",
       "0           0  PH012800000   45646     18479\n",
       "1           1  PH012900000   54459     23735\n",
       "2           2  PH013300000   32348     42918\n",
       "3           3  PH015500000   17768    238488\n",
       "4           4  PH020900000     998       187"
      ]
     },
     "execution_count": 14,
     "metadata": {},
     "output_type": "execute_result"
    }
   ],
   "source": [
    "# Dataframe now has a regular index!\n",
    "adm2_df.head()"
   ]
  },
  {
   "cell_type": "code",
   "execution_count": 15,
   "id": "821c90ec-53a9-41b5-8143-f7614d0ef034",
   "metadata": {},
   "outputs": [],
   "source": [
    "# Drop the index column \n",
    "adm2_df.drop([\"index\"],axis = 1,inplace=True)\n",
    "\n",
    "# Renaming columns to fit previous convention\n",
    "adm2_df.rename(columns = {\n",
    "    'mapped':'pixels_withbuilding_june2021',\n",
    "    'unmapped':'pixels_nobuilding_june2021'\n",
    "    },\n",
    "    inplace=True\n",
    ")\n",
    "\n",
    "# Adding a column for percent completeness\n",
    "adm2_df['percentage_completeness_june2021'] = (adm2_df['pixels_withbuilding_june2021']/(adm2_df['pixels_withbuilding_june2021'] + adm2_df['pixels_nobuilding_june2021'])) * 100"
   ]
  },
  {
   "cell_type": "code",
   "execution_count": 18,
   "id": "5d22629c-6e6a-4a8d-bc41-ea4321305148",
   "metadata": {},
   "outputs": [
    {
     "data": {
      "text/html": [
       "<div>\n",
       "<style scoped>\n",
       "    .dataframe tbody tr th:only-of-type {\n",
       "        vertical-align: middle;\n",
       "    }\n",
       "\n",
       "    .dataframe tbody tr th {\n",
       "        vertical-align: top;\n",
       "    }\n",
       "\n",
       "    .dataframe thead th {\n",
       "        text-align: right;\n",
       "    }\n",
       "</style>\n",
       "<table border=\"1\" class=\"dataframe\">\n",
       "  <thead>\n",
       "    <tr style=\"text-align: right;\">\n",
       "      <th>status</th>\n",
       "      <th>ADM2_PCODE</th>\n",
       "      <th>pixels_withbuilding_june2021</th>\n",
       "      <th>pixels_nobuilding_june2021</th>\n",
       "      <th>percentage_completeness_june2021</th>\n",
       "    </tr>\n",
       "  </thead>\n",
       "  <tbody>\n",
       "    <tr>\n",
       "      <th>0</th>\n",
       "      <td>PH012800000</td>\n",
       "      <td>45646</td>\n",
       "      <td>18479</td>\n",
       "      <td>71.182846</td>\n",
       "    </tr>\n",
       "    <tr>\n",
       "      <th>1</th>\n",
       "      <td>PH012900000</td>\n",
       "      <td>54459</td>\n",
       "      <td>23735</td>\n",
       "      <td>69.646009</td>\n",
       "    </tr>\n",
       "    <tr>\n",
       "      <th>2</th>\n",
       "      <td>PH013300000</td>\n",
       "      <td>32348</td>\n",
       "      <td>42918</td>\n",
       "      <td>42.978237</td>\n",
       "    </tr>\n",
       "    <tr>\n",
       "      <th>3</th>\n",
       "      <td>PH015500000</td>\n",
       "      <td>17768</td>\n",
       "      <td>238488</td>\n",
       "      <td>6.933691</td>\n",
       "    </tr>\n",
       "    <tr>\n",
       "      <th>4</th>\n",
       "      <td>PH020900000</td>\n",
       "      <td>998</td>\n",
       "      <td>187</td>\n",
       "      <td>84.219409</td>\n",
       "    </tr>\n",
       "  </tbody>\n",
       "</table>\n",
       "</div>"
      ],
      "text/plain": [
       "status   ADM2_PCODE  pixels_withbuilding_june2021  pixels_nobuilding_june2021  \\\n",
       "0       PH012800000                         45646                       18479   \n",
       "1       PH012900000                         54459                       23735   \n",
       "2       PH013300000                         32348                       42918   \n",
       "3       PH015500000                         17768                      238488   \n",
       "4       PH020900000                           998                         187   \n",
       "\n",
       "status  percentage_completeness_june2021  \n",
       "0                              71.182846  \n",
       "1                              69.646009  \n",
       "2                              42.978237  \n",
       "3                               6.933691  \n",
       "4                              84.219409  "
      ]
     },
     "execution_count": 18,
     "metadata": {},
     "output_type": "execute_result"
    }
   ],
   "source": [
    "adm2_df.head()"
   ]
  },
  {
   "cell_type": "markdown",
   "id": "4c953c75-fb8f-4524-b6db-0ca614e07bb8",
   "metadata": {},
   "source": [
    "We've successfully calculated the percentage completeness for level 2. Next, we will join the data with the admin boundaries information."
   ]
  },
  {
   "cell_type": "code",
   "execution_count": 21,
   "id": "8e1f1c83-4c26-4bfe-a8cf-bf9bbcdc578f",
   "metadata": {},
   "outputs": [],
   "source": [
    "# Create new dataframe that will store phl_adm2 \n",
    "# with percentage completness output\n",
    "phl_adm2_with_output = phl_adm2\n",
    "\n",
    "# Get only the columns we need to identify region\n",
    "phl_adm2_with_output = phl_adm2_with_output[[\n",
    "    'ADM2_EN',\n",
    "    'ADM2_PCODE',\n",
    "    'ADM2_REF',\n",
    "    'ADM2ALT1EN',\n",
    "    'ADM2ALT2EN',\n",
    "    'geometry'\n",
    " ]]"
   ]
  },
  {
   "cell_type": "code",
   "execution_count": 22,
   "id": "83f70a81-9e0c-4013-8a04-ab5e6d586aa1",
   "metadata": {},
   "outputs": [],
   "source": [
    "# Left joining percentage completness values \n",
    "# to their respective regions\n",
    "phl_adm2_with_output = pd.merge(phl_adm2_with_output,adm2_df,how=\"left\", on = \"ADM2_PCODE\")"
   ]
  },
  {
   "cell_type": "code",
   "execution_count": 60,
   "id": "4e5be977-4687-4b11-a3c3-3dc5daf8b227",
   "metadata": {},
   "outputs": [
    {
     "data": {
      "text/html": [
       "<div>\n",
       "<style scoped>\n",
       "    .dataframe tbody tr th:only-of-type {\n",
       "        vertical-align: middle;\n",
       "    }\n",
       "\n",
       "    .dataframe tbody tr th {\n",
       "        vertical-align: top;\n",
       "    }\n",
       "\n",
       "    .dataframe thead th {\n",
       "        text-align: right;\n",
       "    }\n",
       "</style>\n",
       "<table border=\"1\" class=\"dataframe\">\n",
       "  <thead>\n",
       "    <tr style=\"text-align: right;\">\n",
       "      <th></th>\n",
       "      <th>ADM2_EN</th>\n",
       "      <th>ADM2_PCODE</th>\n",
       "      <th>ADM2_REF</th>\n",
       "      <th>ADM2ALT1EN</th>\n",
       "      <th>ADM2ALT2EN</th>\n",
       "      <th>geometry</th>\n",
       "      <th>pixels_withbuilding_june2021</th>\n",
       "      <th>pixels_nobuilding_june2021</th>\n",
       "      <th>percentage_completeness_june2021</th>\n",
       "    </tr>\n",
       "  </thead>\n",
       "  <tbody>\n",
       "    <tr>\n",
       "      <th>0</th>\n",
       "      <td>Abra</td>\n",
       "      <td>PH140100000</td>\n",
       "      <td>None</td>\n",
       "      <td>None</td>\n",
       "      <td>None</td>\n",
       "      <td>POLYGON ((120.96109 17.95348, 120.97201 17.946...</td>\n",
       "      <td>13862</td>\n",
       "      <td>5080</td>\n",
       "      <td>73.181290</td>\n",
       "    </tr>\n",
       "    <tr>\n",
       "      <th>1</th>\n",
       "      <td>Agusan del Norte</td>\n",
       "      <td>PH160200000</td>\n",
       "      <td>None</td>\n",
       "      <td>None</td>\n",
       "      <td>None</td>\n",
       "      <td>MULTIPOLYGON (((125.58886 9.45793, 125.59687 9...</td>\n",
       "      <td>15586</td>\n",
       "      <td>24304</td>\n",
       "      <td>39.072449</td>\n",
       "    </tr>\n",
       "    <tr>\n",
       "      <th>2</th>\n",
       "      <td>Agusan del Sur</td>\n",
       "      <td>PH160300000</td>\n",
       "      <td>None</td>\n",
       "      <td>None</td>\n",
       "      <td>None</td>\n",
       "      <td>POLYGON ((125.88961 8.98195, 125.88896 8.96446...</td>\n",
       "      <td>3549</td>\n",
       "      <td>37551</td>\n",
       "      <td>8.635036</td>\n",
       "    </tr>\n",
       "    <tr>\n",
       "      <th>3</th>\n",
       "      <td>Aklan</td>\n",
       "      <td>PH060400000</td>\n",
       "      <td>None</td>\n",
       "      <td>None</td>\n",
       "      <td>None</td>\n",
       "      <td>MULTIPOLYGON (((122.43980 11.59717, 122.43979 ...</td>\n",
       "      <td>21777</td>\n",
       "      <td>24894</td>\n",
       "      <td>46.660667</td>\n",
       "    </tr>\n",
       "    <tr>\n",
       "      <th>4</th>\n",
       "      <td>Albay</td>\n",
       "      <td>PH050500000</td>\n",
       "      <td>None</td>\n",
       "      <td>None</td>\n",
       "      <td>None</td>\n",
       "      <td>MULTIPOLYGON (((124.20992 13.16871, 124.20993 ...</td>\n",
       "      <td>32784</td>\n",
       "      <td>25916</td>\n",
       "      <td>55.850085</td>\n",
       "    </tr>\n",
       "  </tbody>\n",
       "</table>\n",
       "</div>"
      ],
      "text/plain": [
       "            ADM2_EN   ADM2_PCODE ADM2_REF ADM2ALT1EN ADM2ALT2EN  \\\n",
       "0              Abra  PH140100000     None       None       None   \n",
       "1  Agusan del Norte  PH160200000     None       None       None   \n",
       "2    Agusan del Sur  PH160300000     None       None       None   \n",
       "3             Aklan  PH060400000     None       None       None   \n",
       "4             Albay  PH050500000     None       None       None   \n",
       "\n",
       "                                            geometry  \\\n",
       "0  POLYGON ((120.96109 17.95348, 120.97201 17.946...   \n",
       "1  MULTIPOLYGON (((125.58886 9.45793, 125.59687 9...   \n",
       "2  POLYGON ((125.88961 8.98195, 125.88896 8.96446...   \n",
       "3  MULTIPOLYGON (((122.43980 11.59717, 122.43979 ...   \n",
       "4  MULTIPOLYGON (((124.20992 13.16871, 124.20993 ...   \n",
       "\n",
       "   pixels_withbuilding_june2021  pixels_nobuilding_june2021  \\\n",
       "0                         13862                        5080   \n",
       "1                         15586                       24304   \n",
       "2                          3549                       37551   \n",
       "3                         21777                       24894   \n",
       "4                         32784                       25916   \n",
       "\n",
       "   percentage_completeness_june2021  \n",
       "0                         73.181290  \n",
       "1                         39.072449  \n",
       "2                          8.635036  \n",
       "3                         46.660667  \n",
       "4                         55.850085  "
      ]
     },
     "execution_count": 60,
     "metadata": {},
     "output_type": "execute_result"
    }
   ],
   "source": [
    "phl_adm2_with_output.head()"
   ]
  },
  {
   "cell_type": "markdown",
   "id": "ab452e42-1007-414d-9949-f661db19e28b",
   "metadata": {},
   "source": [
    "The last step will be to join it to the previous output and save it to file."
   ]
  },
  {
   "cell_type": "code",
   "execution_count": 24,
   "id": "642049d4-9055-432f-b5b5-7f9811fefb23",
   "metadata": {},
   "outputs": [],
   "source": [
    "# Left joining the new percent completness values \n",
    "# to the existing values using ADM2_PCODE as index\n",
    "# For the second dataframe, we only keep wanted columns\n",
    "province_output_june2021 = pd.merge(\n",
    "    province_output,\n",
    "    phl_adm2_with_output[['ADM2_PCODE',\\\n",
    "                          'pixels_withbuilding_june2021',\\\n",
    "                          'pixels_nobuilding_june2021',\\\n",
    "                          'percentage_completeness_june2021',\\\n",
    "                          'geometry'\n",
    "                         ]],\n",
    "    how=\"left\", \n",
    "    on = \"ADM2_PCODE\"\n",
    ")"
   ]
  },
  {
   "cell_type": "code",
   "execution_count": 25,
   "id": "a4a606e0-f2b7-4176-b1ff-7dc9d9002d3a",
   "metadata": {},
   "outputs": [
    {
     "data": {
      "text/html": [
       "<div>\n",
       "<style scoped>\n",
       "    .dataframe tbody tr th:only-of-type {\n",
       "        vertical-align: middle;\n",
       "    }\n",
       "\n",
       "    .dataframe tbody tr th {\n",
       "        vertical-align: top;\n",
       "    }\n",
       "\n",
       "    .dataframe thead th {\n",
       "        text-align: right;\n",
       "    }\n",
       "</style>\n",
       "<table border=\"1\" class=\"dataframe\">\n",
       "  <thead>\n",
       "    <tr style=\"text-align: right;\">\n",
       "      <th></th>\n",
       "      <th>ADM2_EN</th>\n",
       "      <th>ADM2_PCODE</th>\n",
       "      <th>ADM2_REF</th>\n",
       "      <th>ADM2ALT1EN</th>\n",
       "      <th>ADM2ALT2EN</th>\n",
       "      <th>pixels_withbuilding_june2020</th>\n",
       "      <th>pixels_nobuilding_june2020</th>\n",
       "      <th>percentage_completeness_june2020</th>\n",
       "      <th>pixels_withbuilding_may2021</th>\n",
       "      <th>pixels_nobuilding_may2021</th>\n",
       "      <th>percentage_completeness_may2021</th>\n",
       "      <th>pixels_withbuilding_june2021</th>\n",
       "      <th>pixels_nobuilding_june2021</th>\n",
       "      <th>percentage_completeness_june2021</th>\n",
       "      <th>geometry</th>\n",
       "    </tr>\n",
       "  </thead>\n",
       "  <tbody>\n",
       "    <tr>\n",
       "      <th>0</th>\n",
       "      <td>Abra</td>\n",
       "      <td>PH140100000</td>\n",
       "      <td>NaN</td>\n",
       "      <td>NaN</td>\n",
       "      <td>NaN</td>\n",
       "      <td>13790</td>\n",
       "      <td>5152</td>\n",
       "      <td>72.801183</td>\n",
       "      <td>13862</td>\n",
       "      <td>5080</td>\n",
       "      <td>73.181290</td>\n",
       "      <td>13862</td>\n",
       "      <td>5080</td>\n",
       "      <td>73.181290</td>\n",
       "      <td>POLYGON ((120.96109 17.95348, 120.97201 17.946...</td>\n",
       "    </tr>\n",
       "    <tr>\n",
       "      <th>1</th>\n",
       "      <td>Agusan del Norte</td>\n",
       "      <td>PH160200000</td>\n",
       "      <td>NaN</td>\n",
       "      <td>NaN</td>\n",
       "      <td>NaN</td>\n",
       "      <td>4202</td>\n",
       "      <td>35688</td>\n",
       "      <td>10.533968</td>\n",
       "      <td>15586</td>\n",
       "      <td>24304</td>\n",
       "      <td>39.072449</td>\n",
       "      <td>15586</td>\n",
       "      <td>24304</td>\n",
       "      <td>39.072449</td>\n",
       "      <td>MULTIPOLYGON (((125.58886 9.45793, 125.59687 9...</td>\n",
       "    </tr>\n",
       "    <tr>\n",
       "      <th>2</th>\n",
       "      <td>Agusan del Sur</td>\n",
       "      <td>PH160300000</td>\n",
       "      <td>NaN</td>\n",
       "      <td>NaN</td>\n",
       "      <td>NaN</td>\n",
       "      <td>2953</td>\n",
       "      <td>38147</td>\n",
       "      <td>7.184915</td>\n",
       "      <td>3422</td>\n",
       "      <td>37678</td>\n",
       "      <td>8.326034</td>\n",
       "      <td>3549</td>\n",
       "      <td>37551</td>\n",
       "      <td>8.635036</td>\n",
       "      <td>POLYGON ((125.88961 8.98195, 125.88896 8.96446...</td>\n",
       "    </tr>\n",
       "    <tr>\n",
       "      <th>3</th>\n",
       "      <td>Aklan</td>\n",
       "      <td>PH060400000</td>\n",
       "      <td>NaN</td>\n",
       "      <td>NaN</td>\n",
       "      <td>NaN</td>\n",
       "      <td>14693</td>\n",
       "      <td>31978</td>\n",
       "      <td>31.482077</td>\n",
       "      <td>21519</td>\n",
       "      <td>25152</td>\n",
       "      <td>46.107861</td>\n",
       "      <td>21777</td>\n",
       "      <td>24894</td>\n",
       "      <td>46.660667</td>\n",
       "      <td>MULTIPOLYGON (((122.43980 11.59717, 122.43979 ...</td>\n",
       "    </tr>\n",
       "    <tr>\n",
       "      <th>4</th>\n",
       "      <td>Albay</td>\n",
       "      <td>PH050500000</td>\n",
       "      <td>NaN</td>\n",
       "      <td>NaN</td>\n",
       "      <td>NaN</td>\n",
       "      <td>27168</td>\n",
       "      <td>31532</td>\n",
       "      <td>46.282794</td>\n",
       "      <td>32756</td>\n",
       "      <td>25944</td>\n",
       "      <td>55.802385</td>\n",
       "      <td>32784</td>\n",
       "      <td>25916</td>\n",
       "      <td>55.850085</td>\n",
       "      <td>MULTIPOLYGON (((124.20992 13.16871, 124.20993 ...</td>\n",
       "    </tr>\n",
       "  </tbody>\n",
       "</table>\n",
       "</div>"
      ],
      "text/plain": [
       "            ADM2_EN   ADM2_PCODE  ADM2_REF  ADM2ALT1EN  ADM2ALT2EN  \\\n",
       "0              Abra  PH140100000       NaN         NaN         NaN   \n",
       "1  Agusan del Norte  PH160200000       NaN         NaN         NaN   \n",
       "2    Agusan del Sur  PH160300000       NaN         NaN         NaN   \n",
       "3             Aklan  PH060400000       NaN         NaN         NaN   \n",
       "4             Albay  PH050500000       NaN         NaN         NaN   \n",
       "\n",
       "   pixels_withbuilding_june2020  pixels_nobuilding_june2020  \\\n",
       "0                         13790                        5152   \n",
       "1                          4202                       35688   \n",
       "2                          2953                       38147   \n",
       "3                         14693                       31978   \n",
       "4                         27168                       31532   \n",
       "\n",
       "   percentage_completeness_june2020  pixels_withbuilding_may2021  \\\n",
       "0                         72.801183                        13862   \n",
       "1                         10.533968                        15586   \n",
       "2                          7.184915                         3422   \n",
       "3                         31.482077                        21519   \n",
       "4                         46.282794                        32756   \n",
       "\n",
       "   pixels_nobuilding_may2021  percentage_completeness_may2021  \\\n",
       "0                       5080                        73.181290   \n",
       "1                      24304                        39.072449   \n",
       "2                      37678                         8.326034   \n",
       "3                      25152                        46.107861   \n",
       "4                      25944                        55.802385   \n",
       "\n",
       "   pixels_withbuilding_june2021  pixels_nobuilding_june2021  \\\n",
       "0                         13862                        5080   \n",
       "1                         15586                       24304   \n",
       "2                          3549                       37551   \n",
       "3                         21777                       24894   \n",
       "4                         32784                       25916   \n",
       "\n",
       "   percentage_completeness_june2021  \\\n",
       "0                         73.181290   \n",
       "1                         39.072449   \n",
       "2                          8.635036   \n",
       "3                         46.660667   \n",
       "4                         55.850085   \n",
       "\n",
       "                                            geometry  \n",
       "0  POLYGON ((120.96109 17.95348, 120.97201 17.946...  \n",
       "1  MULTIPOLYGON (((125.58886 9.45793, 125.59687 9...  \n",
       "2  POLYGON ((125.88961 8.98195, 125.88896 8.96446...  \n",
       "3  MULTIPOLYGON (((122.43980 11.59717, 122.43979 ...  \n",
       "4  MULTIPOLYGON (((124.20992 13.16871, 124.20993 ...  "
      ]
     },
     "execution_count": 25,
     "metadata": {},
     "output_type": "execute_result"
    }
   ],
   "source": [
    "# Scroll through the columns to see how percentage completeness increased over time!\n",
    "province_output_june2021.head()"
   ]
  },
  {
   "cell_type": "code",
   "execution_count": 26,
   "id": "c9e94d94-0736-41db-96c7-3a4067b7dfe8",
   "metadata": {},
   "outputs": [],
   "source": [
    "# Save to .csv file\n",
    "filename = \"../data/mapthegap-phl-adm2-2021-06-28.csv\"\n",
    "province_output_june2021.to_csv(filename,index=False)"
   ]
  },
  {
   "cell_type": "code",
   "execution_count": 35,
   "id": "ba4c4f8b-cb71-4fc6-ad04-a6efc65dc5af",
   "metadata": {},
   "outputs": [],
   "source": [
    "# Save to .gpkg file\n",
    "filename = \"../data/mapthegap-phl-adm2-2021-06-28.gpkg\"\n",
    "province_output_june2021 = gpd.GeoDataFrame(province_output_june2021,geometry='geometry')\n",
    "province_output_june2021.to_file(filename,driver='GPKG')"
   ]
  },
  {
   "cell_type": "markdown",
   "id": "1595824d-6bf5-48c3-afe9-d6e29409be48",
   "metadata": {},
   "source": [
    "Mostly same steps will be followed for the level 3 and 4 boundaries"
   ]
  },
  {
   "cell_type": "markdown",
   "id": "96598b90-cabe-4397-b33e-7493116e3309",
   "metadata": {},
   "source": [
    "### Level 3 (cities and municipalities)"
   ]
  },
  {
   "cell_type": "code",
   "execution_count": 39,
   "id": "262fb2bf-6e61-42db-8472-bb9a12cda919",
   "metadata": {},
   "outputs": [],
   "source": [
    "# Pivot table of mapped and unmapped pixels\n",
    "# fill_value = 0 fills in NaN values with 0\n",
    "# If a region has no mapped pixels, it will give NaN\n",
    "# which would cause a bug in calculating pct completness\n",
    "adm3_df = pd.pivot_table(phl_pixels_all[[\"ADM3_PCODE\",\"status\", \"index\"]], index = [\"ADM3_PCODE\"], columns = [\"status\"], aggfunc=\"count\", fill_value=0)\n",
    "\n",
    "# Fix dataframe index\n",
    "adm3_df.columns = adm3_df.columns.get_level_values(1)\n",
    "adm3_df = adm3_df.reset_index().reset_index()"
   ]
  },
  {
   "cell_type": "code",
   "execution_count": 40,
   "id": "9830cffa-2a10-4115-83ac-fe152fdfbb41",
   "metadata": {},
   "outputs": [
    {
     "data": {
      "text/html": [
       "<div>\n",
       "<style scoped>\n",
       "    .dataframe tbody tr th:only-of-type {\n",
       "        vertical-align: middle;\n",
       "    }\n",
       "\n",
       "    .dataframe tbody tr th {\n",
       "        vertical-align: top;\n",
       "    }\n",
       "\n",
       "    .dataframe thead th {\n",
       "        text-align: right;\n",
       "    }\n",
       "</style>\n",
       "<table border=\"1\" class=\"dataframe\">\n",
       "  <thead>\n",
       "    <tr style=\"text-align: right;\">\n",
       "      <th>status</th>\n",
       "      <th>index</th>\n",
       "      <th>ADM3_PCODE</th>\n",
       "      <th>mapped</th>\n",
       "      <th>unmapped</th>\n",
       "    </tr>\n",
       "  </thead>\n",
       "  <tbody>\n",
       "    <tr>\n",
       "      <th>0</th>\n",
       "      <td>0</td>\n",
       "      <td>PH012801000</td>\n",
       "      <td>184</td>\n",
       "      <td>38</td>\n",
       "    </tr>\n",
       "    <tr>\n",
       "      <th>1</th>\n",
       "      <td>1</td>\n",
       "      <td>PH012802000</td>\n",
       "      <td>2965</td>\n",
       "      <td>883</td>\n",
       "    </tr>\n",
       "    <tr>\n",
       "      <th>2</th>\n",
       "      <td>2</td>\n",
       "      <td>PH012803000</td>\n",
       "      <td>2284</td>\n",
       "      <td>928</td>\n",
       "    </tr>\n",
       "    <tr>\n",
       "      <th>3</th>\n",
       "      <td>3</td>\n",
       "      <td>PH012804000</td>\n",
       "      <td>1573</td>\n",
       "      <td>334</td>\n",
       "    </tr>\n",
       "    <tr>\n",
       "      <th>4</th>\n",
       "      <td>4</td>\n",
       "      <td>PH012805000</td>\n",
       "      <td>3800</td>\n",
       "      <td>2193</td>\n",
       "    </tr>\n",
       "  </tbody>\n",
       "</table>\n",
       "</div>"
      ],
      "text/plain": [
       "status  index   ADM3_PCODE  mapped  unmapped\n",
       "0           0  PH012801000     184        38\n",
       "1           1  PH012802000    2965       883\n",
       "2           2  PH012803000    2284       928\n",
       "3           3  PH012804000    1573       334\n",
       "4           4  PH012805000    3800      2193"
      ]
     },
     "execution_count": 40,
     "metadata": {},
     "output_type": "execute_result"
    }
   ],
   "source": [
    "# Dataframe now has a regular index!\n",
    "adm3_df.head()"
   ]
  },
  {
   "cell_type": "code",
   "execution_count": 41,
   "id": "8436c948-4f24-4730-b16e-a063a813743c",
   "metadata": {},
   "outputs": [],
   "source": [
    "# Drop the index column \n",
    "adm3_df.drop([\"index\"],axis = 1,inplace=True)\n",
    "\n",
    "# Renaming columns to fit previous convention\n",
    "adm3_df.rename(columns = {\n",
    "    'mapped':'pixels_withbuilding_june2021',\n",
    "    'unmapped':'pixels_nobuilding_june2021'\n",
    "    },\n",
    "    inplace=True\n",
    ")\n",
    "\n",
    "# Adding a column for percent completeness\n",
    "adm3_df['percentage_completeness_june2021'] = (adm3_df['pixels_withbuilding_june2021']/(adm3_df['pixels_withbuilding_june2021'] + adm3_df['pixels_nobuilding_june2021'])) * 100"
   ]
  },
  {
   "cell_type": "code",
   "execution_count": 42,
   "id": "35b423d8-54d4-4e3a-9670-e7db9745cd6b",
   "metadata": {},
   "outputs": [
    {
     "data": {
      "text/html": [
       "<div>\n",
       "<style scoped>\n",
       "    .dataframe tbody tr th:only-of-type {\n",
       "        vertical-align: middle;\n",
       "    }\n",
       "\n",
       "    .dataframe tbody tr th {\n",
       "        vertical-align: top;\n",
       "    }\n",
       "\n",
       "    .dataframe thead th {\n",
       "        text-align: right;\n",
       "    }\n",
       "</style>\n",
       "<table border=\"1\" class=\"dataframe\">\n",
       "  <thead>\n",
       "    <tr style=\"text-align: right;\">\n",
       "      <th>status</th>\n",
       "      <th>ADM3_PCODE</th>\n",
       "      <th>pixels_withbuilding_june2021</th>\n",
       "      <th>pixels_nobuilding_june2021</th>\n",
       "      <th>percentage_completeness_june2021</th>\n",
       "    </tr>\n",
       "  </thead>\n",
       "  <tbody>\n",
       "    <tr>\n",
       "      <th>0</th>\n",
       "      <td>PH012801000</td>\n",
       "      <td>184</td>\n",
       "      <td>38</td>\n",
       "      <td>82.882883</td>\n",
       "    </tr>\n",
       "    <tr>\n",
       "      <th>1</th>\n",
       "      <td>PH012802000</td>\n",
       "      <td>2965</td>\n",
       "      <td>883</td>\n",
       "      <td>77.053015</td>\n",
       "    </tr>\n",
       "    <tr>\n",
       "      <th>2</th>\n",
       "      <td>PH012803000</td>\n",
       "      <td>2284</td>\n",
       "      <td>928</td>\n",
       "      <td>71.108344</td>\n",
       "    </tr>\n",
       "    <tr>\n",
       "      <th>3</th>\n",
       "      <td>PH012804000</td>\n",
       "      <td>1573</td>\n",
       "      <td>334</td>\n",
       "      <td>82.485579</td>\n",
       "    </tr>\n",
       "    <tr>\n",
       "      <th>4</th>\n",
       "      <td>PH012805000</td>\n",
       "      <td>3800</td>\n",
       "      <td>2193</td>\n",
       "      <td>63.407309</td>\n",
       "    </tr>\n",
       "  </tbody>\n",
       "</table>\n",
       "</div>"
      ],
      "text/plain": [
       "status   ADM3_PCODE  pixels_withbuilding_june2021  pixels_nobuilding_june2021  \\\n",
       "0       PH012801000                           184                          38   \n",
       "1       PH012802000                          2965                         883   \n",
       "2       PH012803000                          2284                         928   \n",
       "3       PH012804000                          1573                         334   \n",
       "4       PH012805000                          3800                        2193   \n",
       "\n",
       "status  percentage_completeness_june2021  \n",
       "0                              82.882883  \n",
       "1                              77.053015  \n",
       "2                              71.108344  \n",
       "3                              82.485579  \n",
       "4                              63.407309  "
      ]
     },
     "execution_count": 42,
     "metadata": {},
     "output_type": "execute_result"
    }
   ],
   "source": [
    "adm3_df.head()"
   ]
  },
  {
   "cell_type": "code",
   "execution_count": 43,
   "id": "053b6374-4620-4918-a975-c82448c5eac4",
   "metadata": {},
   "outputs": [],
   "source": [
    "# Create new dataframe that will store phl_adm3\n",
    "# with percentage completness output\n",
    "phl_adm3_with_output = phl_adm3\n",
    "\n",
    "# Get only the columns we need to identify region\n",
    "phl_adm3_with_output = phl_adm3_with_output[[\n",
    "    'ADM3_EN',\n",
    "    'ADM3_PCODE',\n",
    "    'ADM3_REF',\n",
    "    'ADM3ALT1EN',\n",
    "    'ADM3ALT2EN',\n",
    "    'geometry'\n",
    " ]]"
   ]
  },
  {
   "cell_type": "code",
   "execution_count": 44,
   "id": "935765ba-c22a-4084-8126-e2b5e2543692",
   "metadata": {},
   "outputs": [],
   "source": [
    "# Left joining percentage completness values \n",
    "# to their respective regions\n",
    "phl_adm3_with_output = pd.merge(phl_adm3_with_output,adm3_df,how=\"left\", on = \"ADM3_PCODE\")"
   ]
  },
  {
   "cell_type": "code",
   "execution_count": 62,
   "id": "aa9ca7f9-9058-4792-bac9-2ff5082ceb98",
   "metadata": {},
   "outputs": [
    {
     "data": {
      "text/html": [
       "<div>\n",
       "<style scoped>\n",
       "    .dataframe tbody tr th:only-of-type {\n",
       "        vertical-align: middle;\n",
       "    }\n",
       "\n",
       "    .dataframe tbody tr th {\n",
       "        vertical-align: top;\n",
       "    }\n",
       "\n",
       "    .dataframe thead th {\n",
       "        text-align: right;\n",
       "    }\n",
       "</style>\n",
       "<table border=\"1\" class=\"dataframe\">\n",
       "  <thead>\n",
       "    <tr style=\"text-align: right;\">\n",
       "      <th></th>\n",
       "      <th>ADM3_EN</th>\n",
       "      <th>ADM3_PCODE</th>\n",
       "      <th>ADM3_REF</th>\n",
       "      <th>ADM3ALT1EN</th>\n",
       "      <th>ADM3ALT2EN</th>\n",
       "      <th>geometry</th>\n",
       "      <th>pixels_withbuilding_june2021</th>\n",
       "      <th>pixels_nobuilding_june2021</th>\n",
       "      <th>percentage_completeness_june2021</th>\n",
       "    </tr>\n",
       "  </thead>\n",
       "  <tbody>\n",
       "    <tr>\n",
       "      <th>0</th>\n",
       "      <td>Aborlan</td>\n",
       "      <td>PH175301000</td>\n",
       "      <td>None</td>\n",
       "      <td>None</td>\n",
       "      <td>None</td>\n",
       "      <td>MULTIPOLYGON (((118.58350 9.37700, 118.58398 9...</td>\n",
       "      <td>652.0</td>\n",
       "      <td>3541.0</td>\n",
       "      <td>15.549726</td>\n",
       "    </tr>\n",
       "    <tr>\n",
       "      <th>1</th>\n",
       "      <td>Abra de Ilog</td>\n",
       "      <td>PH175101000</td>\n",
       "      <td>None</td>\n",
       "      <td>None</td>\n",
       "      <td>None</td>\n",
       "      <td>POLYGON ((120.58412 13.50198, 120.58420 13.501...</td>\n",
       "      <td>1316.0</td>\n",
       "      <td>728.0</td>\n",
       "      <td>64.383562</td>\n",
       "    </tr>\n",
       "    <tr>\n",
       "      <th>2</th>\n",
       "      <td>Abucay</td>\n",
       "      <td>PH030801000</td>\n",
       "      <td>None</td>\n",
       "      <td>None</td>\n",
       "      <td>None</td>\n",
       "      <td>POLYGON ((120.49873 14.75614, 120.49891 14.755...</td>\n",
       "      <td>1993.0</td>\n",
       "      <td>649.0</td>\n",
       "      <td>75.435276</td>\n",
       "    </tr>\n",
       "    <tr>\n",
       "      <th>3</th>\n",
       "      <td>Abulug</td>\n",
       "      <td>PH021501000</td>\n",
       "      <td>None</td>\n",
       "      <td>None</td>\n",
       "      <td>None</td>\n",
       "      <td>POLYGON ((121.43455 18.46651, 121.43502 18.466...</td>\n",
       "      <td>3405.0</td>\n",
       "      <td>918.0</td>\n",
       "      <td>78.764747</td>\n",
       "    </tr>\n",
       "    <tr>\n",
       "      <th>4</th>\n",
       "      <td>Abuyog</td>\n",
       "      <td>PH083701000</td>\n",
       "      <td>None</td>\n",
       "      <td>None</td>\n",
       "      <td>None</td>\n",
       "      <td>MULTIPOLYGON (((125.02684 10.73500, 125.02683 ...</td>\n",
       "      <td>1473.0</td>\n",
       "      <td>988.0</td>\n",
       "      <td>59.853718</td>\n",
       "    </tr>\n",
       "  </tbody>\n",
       "</table>\n",
       "</div>"
      ],
      "text/plain": [
       "        ADM3_EN   ADM3_PCODE ADM3_REF ADM3ALT1EN ADM3ALT2EN  \\\n",
       "0       Aborlan  PH175301000     None       None       None   \n",
       "1  Abra de Ilog  PH175101000     None       None       None   \n",
       "2        Abucay  PH030801000     None       None       None   \n",
       "3        Abulug  PH021501000     None       None       None   \n",
       "4        Abuyog  PH083701000     None       None       None   \n",
       "\n",
       "                                            geometry  \\\n",
       "0  MULTIPOLYGON (((118.58350 9.37700, 118.58398 9...   \n",
       "1  POLYGON ((120.58412 13.50198, 120.58420 13.501...   \n",
       "2  POLYGON ((120.49873 14.75614, 120.49891 14.755...   \n",
       "3  POLYGON ((121.43455 18.46651, 121.43502 18.466...   \n",
       "4  MULTIPOLYGON (((125.02684 10.73500, 125.02683 ...   \n",
       "\n",
       "   pixels_withbuilding_june2021  pixels_nobuilding_june2021  \\\n",
       "0                         652.0                      3541.0   \n",
       "1                        1316.0                       728.0   \n",
       "2                        1993.0                       649.0   \n",
       "3                        3405.0                       918.0   \n",
       "4                        1473.0                       988.0   \n",
       "\n",
       "   percentage_completeness_june2021  \n",
       "0                         15.549726  \n",
       "1                         64.383562  \n",
       "2                         75.435276  \n",
       "3                         78.764747  \n",
       "4                         59.853718  "
      ]
     },
     "execution_count": 62,
     "metadata": {},
     "output_type": "execute_result"
    }
   ],
   "source": [
    "phl_adm3_with_output.head()"
   ]
  },
  {
   "cell_type": "markdown",
   "id": "ea8f49c9-a6d6-4129-b4af-458f521174f6",
   "metadata": {},
   "source": [
    "The last step will be to join it to the previous output and save it to file."
   ]
  },
  {
   "cell_type": "code",
   "execution_count": 46,
   "id": "cc0cc030-edb0-4d29-9b61-236322bab177",
   "metadata": {},
   "outputs": [],
   "source": [
    "# Left joining the new percent completness values \n",
    "# to the existing values using ADM3_PCODE as index\n",
    "# For the second dataframe, we only keep wanted columns\n",
    "citymuni_output_june2021 = pd.merge(\n",
    "    citymuni_output,\n",
    "    phl_adm3_with_output[['ADM3_PCODE',\\\n",
    "                          'pixels_withbuilding_june2021',\\\n",
    "                          'pixels_nobuilding_june2021',\\\n",
    "                          'percentage_completeness_june2021',\\\n",
    "                          'geometry'\n",
    "                         ]],\n",
    "    how=\"left\", \n",
    "    on = \"ADM3_PCODE\"\n",
    ")"
   ]
  },
  {
   "cell_type": "code",
   "execution_count": 47,
   "id": "2120f7a1-2845-4f8e-b6ce-597778948f75",
   "metadata": {},
   "outputs": [
    {
     "data": {
      "text/html": [
       "<div>\n",
       "<style scoped>\n",
       "    .dataframe tbody tr th:only-of-type {\n",
       "        vertical-align: middle;\n",
       "    }\n",
       "\n",
       "    .dataframe tbody tr th {\n",
       "        vertical-align: top;\n",
       "    }\n",
       "\n",
       "    .dataframe thead th {\n",
       "        text-align: right;\n",
       "    }\n",
       "</style>\n",
       "<table border=\"1\" class=\"dataframe\">\n",
       "  <thead>\n",
       "    <tr style=\"text-align: right;\">\n",
       "      <th></th>\n",
       "      <th>ADM3_EN</th>\n",
       "      <th>ADM3_PCODE</th>\n",
       "      <th>ADM3_REF</th>\n",
       "      <th>ADM3ALT1EN</th>\n",
       "      <th>ADM3ALT2EN</th>\n",
       "      <th>pixels_withbuilding_june2020</th>\n",
       "      <th>pixels_nobuilding_june2020</th>\n",
       "      <th>percentage_completeness_june2020</th>\n",
       "      <th>pixels_withbuilding_may2021</th>\n",
       "      <th>pixels_nobuilding_may2021</th>\n",
       "      <th>percentage_completeness_may2021</th>\n",
       "      <th>pixels_withbuilding_june2021</th>\n",
       "      <th>pixels_nobuilding_june2021</th>\n",
       "      <th>percentage_completeness_june2021</th>\n",
       "      <th>geometry</th>\n",
       "    </tr>\n",
       "  </thead>\n",
       "  <tbody>\n",
       "    <tr>\n",
       "      <th>0</th>\n",
       "      <td>Aborlan</td>\n",
       "      <td>PH175301000</td>\n",
       "      <td>NaN</td>\n",
       "      <td>NaN</td>\n",
       "      <td>NaN</td>\n",
       "      <td>594</td>\n",
       "      <td>3599</td>\n",
       "      <td>14.166468</td>\n",
       "      <td>652</td>\n",
       "      <td>3541</td>\n",
       "      <td>15.549726</td>\n",
       "      <td>652.0</td>\n",
       "      <td>3541.0</td>\n",
       "      <td>15.549726</td>\n",
       "      <td>MULTIPOLYGON (((118.58350 9.37700, 118.58398 9...</td>\n",
       "    </tr>\n",
       "    <tr>\n",
       "      <th>1</th>\n",
       "      <td>Abra de Ilog</td>\n",
       "      <td>PH175101000</td>\n",
       "      <td>NaN</td>\n",
       "      <td>NaN</td>\n",
       "      <td>NaN</td>\n",
       "      <td>1315</td>\n",
       "      <td>729</td>\n",
       "      <td>64.334638</td>\n",
       "      <td>1316</td>\n",
       "      <td>728</td>\n",
       "      <td>64.383562</td>\n",
       "      <td>1316.0</td>\n",
       "      <td>728.0</td>\n",
       "      <td>64.383562</td>\n",
       "      <td>POLYGON ((120.58412 13.50198, 120.58420 13.501...</td>\n",
       "    </tr>\n",
       "    <tr>\n",
       "      <th>2</th>\n",
       "      <td>Abucay</td>\n",
       "      <td>PH030801000</td>\n",
       "      <td>NaN</td>\n",
       "      <td>NaN</td>\n",
       "      <td>NaN</td>\n",
       "      <td>1996</td>\n",
       "      <td>646</td>\n",
       "      <td>75.548827</td>\n",
       "      <td>1993</td>\n",
       "      <td>649</td>\n",
       "      <td>75.435276</td>\n",
       "      <td>1993.0</td>\n",
       "      <td>649.0</td>\n",
       "      <td>75.435276</td>\n",
       "      <td>POLYGON ((120.49873 14.75614, 120.49891 14.755...</td>\n",
       "    </tr>\n",
       "    <tr>\n",
       "      <th>3</th>\n",
       "      <td>Abulug</td>\n",
       "      <td>PH021501000</td>\n",
       "      <td>NaN</td>\n",
       "      <td>NaN</td>\n",
       "      <td>NaN</td>\n",
       "      <td>3396</td>\n",
       "      <td>927</td>\n",
       "      <td>78.556558</td>\n",
       "      <td>3405</td>\n",
       "      <td>918</td>\n",
       "      <td>78.764747</td>\n",
       "      <td>3405.0</td>\n",
       "      <td>918.0</td>\n",
       "      <td>78.764747</td>\n",
       "      <td>POLYGON ((121.43455 18.46651, 121.43502 18.466...</td>\n",
       "    </tr>\n",
       "    <tr>\n",
       "      <th>4</th>\n",
       "      <td>Abuyog</td>\n",
       "      <td>PH083701000</td>\n",
       "      <td>NaN</td>\n",
       "      <td>NaN</td>\n",
       "      <td>NaN</td>\n",
       "      <td>1456</td>\n",
       "      <td>1005</td>\n",
       "      <td>59.162942</td>\n",
       "      <td>1473</td>\n",
       "      <td>988</td>\n",
       "      <td>59.853718</td>\n",
       "      <td>1473.0</td>\n",
       "      <td>988.0</td>\n",
       "      <td>59.853718</td>\n",
       "      <td>MULTIPOLYGON (((125.02684 10.73500, 125.02683 ...</td>\n",
       "    </tr>\n",
       "  </tbody>\n",
       "</table>\n",
       "</div>"
      ],
      "text/plain": [
       "        ADM3_EN   ADM3_PCODE ADM3_REF  ADM3ALT1EN  ADM3ALT2EN  \\\n",
       "0       Aborlan  PH175301000      NaN         NaN         NaN   \n",
       "1  Abra de Ilog  PH175101000      NaN         NaN         NaN   \n",
       "2        Abucay  PH030801000      NaN         NaN         NaN   \n",
       "3        Abulug  PH021501000      NaN         NaN         NaN   \n",
       "4        Abuyog  PH083701000      NaN         NaN         NaN   \n",
       "\n",
       "   pixels_withbuilding_june2020  pixels_nobuilding_june2020  \\\n",
       "0                           594                        3599   \n",
       "1                          1315                         729   \n",
       "2                          1996                         646   \n",
       "3                          3396                         927   \n",
       "4                          1456                        1005   \n",
       "\n",
       "   percentage_completeness_june2020  pixels_withbuilding_may2021  \\\n",
       "0                         14.166468                          652   \n",
       "1                         64.334638                         1316   \n",
       "2                         75.548827                         1993   \n",
       "3                         78.556558                         3405   \n",
       "4                         59.162942                         1473   \n",
       "\n",
       "   pixels_nobuilding_may2021  percentage_completeness_may2021  \\\n",
       "0                       3541                        15.549726   \n",
       "1                        728                        64.383562   \n",
       "2                        649                        75.435276   \n",
       "3                        918                        78.764747   \n",
       "4                        988                        59.853718   \n",
       "\n",
       "   pixels_withbuilding_june2021  pixels_nobuilding_june2021  \\\n",
       "0                         652.0                      3541.0   \n",
       "1                        1316.0                       728.0   \n",
       "2                        1993.0                       649.0   \n",
       "3                        3405.0                       918.0   \n",
       "4                        1473.0                       988.0   \n",
       "\n",
       "   percentage_completeness_june2021  \\\n",
       "0                         15.549726   \n",
       "1                         64.383562   \n",
       "2                         75.435276   \n",
       "3                         78.764747   \n",
       "4                         59.853718   \n",
       "\n",
       "                                            geometry  \n",
       "0  MULTIPOLYGON (((118.58350 9.37700, 118.58398 9...  \n",
       "1  POLYGON ((120.58412 13.50198, 120.58420 13.501...  \n",
       "2  POLYGON ((120.49873 14.75614, 120.49891 14.755...  \n",
       "3  POLYGON ((121.43455 18.46651, 121.43502 18.466...  \n",
       "4  MULTIPOLYGON (((125.02684 10.73500, 125.02683 ...  "
      ]
     },
     "execution_count": 47,
     "metadata": {},
     "output_type": "execute_result"
    }
   ],
   "source": [
    "# Scroll through the columns to see how percentage completeness increased over time!\n",
    "citymuni_output_june2021.head()"
   ]
  },
  {
   "cell_type": "code",
   "execution_count": 48,
   "id": "a8b73e83-4afb-42dd-9c55-e024a0e7bc6a",
   "metadata": {},
   "outputs": [],
   "source": [
    "# Save to .csv file\n",
    "filename = \"../data/mapthegap-phl-adm3-2021-06-28.csv\"\n",
    "citymuni_output_june2021.to_csv(filename)"
   ]
  },
  {
   "cell_type": "code",
   "execution_count": 49,
   "id": "a61e2a6a-c59b-4bd3-9357-b197bd02be2c",
   "metadata": {},
   "outputs": [],
   "source": [
    "# Save to .gpkg file\n",
    "filename = \"../data/mapthegap-phl-adm3-2021-06-28.gpkg\"\n",
    "citymuni_output_june2021 = gpd.GeoDataFrame(citymuni_output_june2021,geometry='geometry')\n",
    "citymuni_output_june2021.to_file(filename,driver='GPKG')"
   ]
  },
  {
   "cell_type": "markdown",
   "id": "e67259b6-f660-4b8b-b991-7fca42bf5e69",
   "metadata": {},
   "source": [
    "### Level 4 (barangays)"
   ]
  },
  {
   "cell_type": "markdown",
   "id": "58271e33-b799-4f47-87da-d0d9d0c8a43b",
   "metadata": {},
   "source": [
    "Note: Instead of using PCODE, we use `ADM4_PCODE_NAME` for this section"
   ]
  },
  {
   "cell_type": "code",
   "execution_count": 51,
   "id": "3c301170-4a01-4e88-a642-b3d08da4decf",
   "metadata": {},
   "outputs": [],
   "source": [
    "# Pivot table of mapped and unmapped pixels\n",
    "# fill_value = 0 fills in NaN values with 0\n",
    "# If a region has no mapped pixels, it will give NaN\n",
    "# which would cause a bug in calculating pct completness\n",
    "adm4_df = pd.pivot_table(phl_pixels_all[[\"ADM4_PCODE_NAME\",\"status\", \"index\"]], index = [\"ADM4_PCODE_NAME\"], columns = [\"status\"], aggfunc=\"count\", fill_value=0)\n",
    "\n",
    "# Fix dataframe index\n",
    "adm4_df.columns = adm4_df.columns.get_level_values(1)\n",
    "adm4_df = adm4_df.reset_index().reset_index()"
   ]
  },
  {
   "cell_type": "code",
   "execution_count": 52,
   "id": "d09fcd9e-6244-4533-bdf6-6b255ba30000",
   "metadata": {},
   "outputs": [
    {
     "data": {
      "text/html": [
       "<div>\n",
       "<style scoped>\n",
       "    .dataframe tbody tr th:only-of-type {\n",
       "        vertical-align: middle;\n",
       "    }\n",
       "\n",
       "    .dataframe tbody tr th {\n",
       "        vertical-align: top;\n",
       "    }\n",
       "\n",
       "    .dataframe thead th {\n",
       "        text-align: right;\n",
       "    }\n",
       "</style>\n",
       "<table border=\"1\" class=\"dataframe\">\n",
       "  <thead>\n",
       "    <tr style=\"text-align: right;\">\n",
       "      <th>status</th>\n",
       "      <th>index</th>\n",
       "      <th>ADM4_PCODE_NAME</th>\n",
       "      <th>mapped</th>\n",
       "      <th>unmapped</th>\n",
       "    </tr>\n",
       "  </thead>\n",
       "  <tbody>\n",
       "    <tr>\n",
       "      <th>0</th>\n",
       "      <td>0</td>\n",
       "      <td>012801001_Adams (Pob.)</td>\n",
       "      <td>184</td>\n",
       "      <td>38</td>\n",
       "    </tr>\n",
       "    <tr>\n",
       "      <th>1</th>\n",
       "      <td>1</td>\n",
       "      <td>012802001_Bani</td>\n",
       "      <td>89</td>\n",
       "      <td>52</td>\n",
       "    </tr>\n",
       "    <tr>\n",
       "      <th>2</th>\n",
       "      <td>2</td>\n",
       "      <td>012802002_Buyon</td>\n",
       "      <td>143</td>\n",
       "      <td>54</td>\n",
       "    </tr>\n",
       "    <tr>\n",
       "      <th>3</th>\n",
       "      <td>3</td>\n",
       "      <td>012802003_Cabaruan</td>\n",
       "      <td>151</td>\n",
       "      <td>56</td>\n",
       "    </tr>\n",
       "    <tr>\n",
       "      <th>4</th>\n",
       "      <td>4</td>\n",
       "      <td>012802004_Cabulalaan</td>\n",
       "      <td>80</td>\n",
       "      <td>21</td>\n",
       "    </tr>\n",
       "  </tbody>\n",
       "</table>\n",
       "</div>"
      ],
      "text/plain": [
       "status  index         ADM4_PCODE_NAME  mapped  unmapped\n",
       "0           0  012801001_Adams (Pob.)     184        38\n",
       "1           1          012802001_Bani      89        52\n",
       "2           2         012802002_Buyon     143        54\n",
       "3           3      012802003_Cabaruan     151        56\n",
       "4           4    012802004_Cabulalaan      80        21"
      ]
     },
     "execution_count": 52,
     "metadata": {},
     "output_type": "execute_result"
    }
   ],
   "source": [
    "# Dataframe now has a regular index!\n",
    "adm4_df.head()"
   ]
  },
  {
   "cell_type": "code",
   "execution_count": 53,
   "id": "f25425c6-12e8-4384-b310-90fe33a34d6a",
   "metadata": {},
   "outputs": [],
   "source": [
    "# Drop the index column \n",
    "adm4_df.drop([\"index\"],axis = 1,inplace=True)\n",
    "\n",
    "# Renaming columns to fit previous convention\n",
    "adm4_df.rename(columns = {\n",
    "    'mapped':'pixels_withbuilding_june2021',\n",
    "    'unmapped':'pixels_nobuilding_june2021'\n",
    "    },\n",
    "    inplace=True\n",
    ")\n",
    "\n",
    "# Adding a column for percent completeness\n",
    "adm4_df['percentage_completeness_june2021'] = (adm4_df['pixels_withbuilding_june2021']/(adm4_df['pixels_withbuilding_june2021'] + adm4_df['pixels_nobuilding_june2021'])) * 100"
   ]
  },
  {
   "cell_type": "code",
   "execution_count": 54,
   "id": "d3bc3bf1-c34f-45fa-a00a-82669eb38b8a",
   "metadata": {},
   "outputs": [
    {
     "data": {
      "text/html": [
       "<div>\n",
       "<style scoped>\n",
       "    .dataframe tbody tr th:only-of-type {\n",
       "        vertical-align: middle;\n",
       "    }\n",
       "\n",
       "    .dataframe tbody tr th {\n",
       "        vertical-align: top;\n",
       "    }\n",
       "\n",
       "    .dataframe thead th {\n",
       "        text-align: right;\n",
       "    }\n",
       "</style>\n",
       "<table border=\"1\" class=\"dataframe\">\n",
       "  <thead>\n",
       "    <tr style=\"text-align: right;\">\n",
       "      <th>status</th>\n",
       "      <th>ADM4_PCODE_NAME</th>\n",
       "      <th>pixels_withbuilding_june2021</th>\n",
       "      <th>pixels_nobuilding_june2021</th>\n",
       "      <th>percentage_completeness_june2021</th>\n",
       "    </tr>\n",
       "  </thead>\n",
       "  <tbody>\n",
       "    <tr>\n",
       "      <th>0</th>\n",
       "      <td>012801001_Adams (Pob.)</td>\n",
       "      <td>184</td>\n",
       "      <td>38</td>\n",
       "      <td>82.882883</td>\n",
       "    </tr>\n",
       "    <tr>\n",
       "      <th>1</th>\n",
       "      <td>012802001_Bani</td>\n",
       "      <td>89</td>\n",
       "      <td>52</td>\n",
       "      <td>63.120567</td>\n",
       "    </tr>\n",
       "    <tr>\n",
       "      <th>2</th>\n",
       "      <td>012802002_Buyon</td>\n",
       "      <td>143</td>\n",
       "      <td>54</td>\n",
       "      <td>72.588832</td>\n",
       "    </tr>\n",
       "    <tr>\n",
       "      <th>3</th>\n",
       "      <td>012802003_Cabaruan</td>\n",
       "      <td>151</td>\n",
       "      <td>56</td>\n",
       "      <td>72.946860</td>\n",
       "    </tr>\n",
       "    <tr>\n",
       "      <th>4</th>\n",
       "      <td>012802004_Cabulalaan</td>\n",
       "      <td>80</td>\n",
       "      <td>21</td>\n",
       "      <td>79.207921</td>\n",
       "    </tr>\n",
       "  </tbody>\n",
       "</table>\n",
       "</div>"
      ],
      "text/plain": [
       "status         ADM4_PCODE_NAME  pixels_withbuilding_june2021  \\\n",
       "0       012801001_Adams (Pob.)                           184   \n",
       "1               012802001_Bani                            89   \n",
       "2              012802002_Buyon                           143   \n",
       "3           012802003_Cabaruan                           151   \n",
       "4         012802004_Cabulalaan                            80   \n",
       "\n",
       "status  pixels_nobuilding_june2021  percentage_completeness_june2021  \n",
       "0                               38                         82.882883  \n",
       "1                               52                         63.120567  \n",
       "2                               54                         72.588832  \n",
       "3                               56                         72.946860  \n",
       "4                               21                         79.207921  "
      ]
     },
     "execution_count": 54,
     "metadata": {},
     "output_type": "execute_result"
    }
   ],
   "source": [
    "adm4_df.head()"
   ]
  },
  {
   "cell_type": "code",
   "execution_count": 55,
   "id": "499da39a-cef4-429c-913e-b7b81f6e273d",
   "metadata": {},
   "outputs": [
    {
     "name": "stderr",
     "output_type": "stream",
     "text": [
      "/opt/conda/lib/python3.7/site-packages/geopandas/geodataframe.py:1322: SettingWithCopyWarning: \n",
      "A value is trying to be set on a copy of a slice from a DataFrame.\n",
      "Try using .loc[row_indexer,col_indexer] = value instead\n",
      "\n",
      "See the caveats in the documentation: https://pandas.pydata.org/pandas-docs/stable/user_guide/indexing.html#returning-a-view-versus-a-copy\n",
      "  super(GeoDataFrame, self).__setitem__(key, value)\n"
     ]
    }
   ],
   "source": [
    "# Create new dataframe that will store phl_adm4\n",
    "# with percentage completness output\n",
    "phl_adm4_with_output = phl_adm4\n",
    "\n",
    "# Get only the columns we need to identify region\n",
    "phl_adm4_with_output = phl_adm4_with_output[[\n",
    "    'Reg_Code',\n",
    "    'Reg_Name',\n",
    "    'Pro_Code',\n",
    "    'Bgy_Code',\n",
    "    'Bgy_Name',\n",
    "    'RURBAN',\n",
    "    'geometry'\n",
    " ]]\n",
    "\n",
    "# Create new column indicating both the pcode and name of the barangay\n",
    "phl_adm4_with_output[\"ADM4_PCODE_NAME\"] = phl_adm4_with_output[\"Bgy_Code\"] + \"_\" + phl_adm4_with_output[\"Bgy_Name\"]"
   ]
  },
  {
   "cell_type": "code",
   "execution_count": 56,
   "id": "d44e2c66-9bd7-4f49-8800-00cbb6486acf",
   "metadata": {},
   "outputs": [],
   "source": [
    "# Left joining percentage completness values \n",
    "# to their respective regions\n",
    "phl_adm4_with_output = pd.merge(phl_adm4_with_output,adm4_df,how=\"left\", on = \"ADM4_PCODE_NAME\")"
   ]
  },
  {
   "cell_type": "code",
   "execution_count": 58,
   "id": "4a033cc1-78b7-40fb-8872-6a5e108558ba",
   "metadata": {},
   "outputs": [
    {
     "name": "stdout",
     "output_type": "stream",
     "text": [
      "<class 'geopandas.geodataframe.GeoDataFrame'>\n",
      "Int64Index: 42058 entries, 0 to 42057\n",
      "Data columns (total 11 columns):\n",
      " #   Column                            Non-Null Count  Dtype   \n",
      "---  ------                            --------------  -----   \n",
      " 0   Reg_Code                          42058 non-null  object  \n",
      " 1   Reg_Name                          42058 non-null  object  \n",
      " 2   Pro_Code                          42058 non-null  object  \n",
      " 3   Bgy_Code                          42058 non-null  object  \n",
      " 4   Bgy_Name                          42058 non-null  object  \n",
      " 5   RURBAN                            42058 non-null  object  \n",
      " 6   geometry                          42058 non-null  geometry\n",
      " 7   ADM4_PCODE_NAME                   42058 non-null  object  \n",
      " 8   pixels_withbuilding_june2021      41697 non-null  float64 \n",
      " 9   pixels_nobuilding_june2021        41697 non-null  float64 \n",
      " 10  percentage_completeness_june2021  41697 non-null  float64 \n",
      "dtypes: float64(3), geometry(1), object(7)\n",
      "memory usage: 3.9+ MB\n"
     ]
    }
   ],
   "source": [
    "phl_adm4_with_output.info()"
   ]
  },
  {
   "cell_type": "markdown",
   "id": "2cdd3a44-2814-4887-b1cf-fa181f60abac",
   "metadata": {},
   "source": [
    "The last step will be to join it to the previous output and save it to file."
   ]
  },
  {
   "cell_type": "code",
   "execution_count": 63,
   "id": "a840ff90-4430-4f23-b08c-7585993b4d6c",
   "metadata": {},
   "outputs": [],
   "source": [
    "# Left joining the new percent completness values \n",
    "# to the existing values using ADM3_PCODE as index\n",
    "# For the second dataframe, we only keep wanted columns\n",
    "brgy_output_june2021 = pd.merge(\n",
    "    brgy_output,\n",
    "    phl_adm4_with_output[['ADM4_PCODE_NAME',\\\n",
    "                          'pixels_withbuilding_june2021',\\\n",
    "                          'pixels_nobuilding_june2021',\\\n",
    "                          'percentage_completeness_june2021',\\\n",
    "                          'geometry'\n",
    "                         ]],\n",
    "    how=\"left\", \n",
    "    on = \"ADM4_PCODE_NAME\"\n",
    ")"
   ]
  },
  {
   "cell_type": "code",
   "execution_count": 66,
   "id": "855199f6-7e71-4f34-aec1-eeedb4353be9",
   "metadata": {},
   "outputs": [
    {
     "data": {
      "text/html": [
       "<div>\n",
       "<style scoped>\n",
       "    .dataframe tbody tr th:only-of-type {\n",
       "        vertical-align: middle;\n",
       "    }\n",
       "\n",
       "    .dataframe tbody tr th {\n",
       "        vertical-align: top;\n",
       "    }\n",
       "\n",
       "    .dataframe thead th {\n",
       "        text-align: right;\n",
       "    }\n",
       "</style>\n",
       "<table border=\"1\" class=\"dataframe\">\n",
       "  <thead>\n",
       "    <tr style=\"text-align: right;\">\n",
       "      <th></th>\n",
       "      <th>Reg_Code</th>\n",
       "      <th>Reg_Name</th>\n",
       "      <th>Pro_Code</th>\n",
       "      <th>Pro_Name</th>\n",
       "      <th>Mun_Code</th>\n",
       "      <th>Mun_Name</th>\n",
       "      <th>Bgy_Code</th>\n",
       "      <th>Bgy_Name</th>\n",
       "      <th>RURBAN</th>\n",
       "      <th>ADM4_PCODE_NAME</th>\n",
       "      <th>...</th>\n",
       "      <th>pixels_nobuilding_june2020</th>\n",
       "      <th>percentage_completeness_june2020</th>\n",
       "      <th>ADM4_PCODE</th>\n",
       "      <th>pixels_withbuilding_may2021</th>\n",
       "      <th>pixels_nobuilding_may2021</th>\n",
       "      <th>percentage_completeness_may2021</th>\n",
       "      <th>pixels_withbuilding_june2021</th>\n",
       "      <th>pixels_nobuilding_june2021</th>\n",
       "      <th>percentage_completeness_june2021</th>\n",
       "      <th>geometry</th>\n",
       "    </tr>\n",
       "  </thead>\n",
       "  <tbody>\n",
       "    <tr>\n",
       "      <th>0</th>\n",
       "      <td>110000000</td>\n",
       "      <td>REGION XI (DAVAO REGION)</td>\n",
       "      <td>118200000</td>\n",
       "      <td>COMPOSTELA VALLEY</td>\n",
       "      <td>118206000.0</td>\n",
       "      <td>MAWAB</td>\n",
       "      <td>118206010.0</td>\n",
       "      <td>Sawangan</td>\n",
       "      <td>R</td>\n",
       "      <td>118206010_Sawangan</td>\n",
       "      <td>...</td>\n",
       "      <td>71</td>\n",
       "      <td>4.054054</td>\n",
       "      <td>118206010.0</td>\n",
       "      <td>6</td>\n",
       "      <td>68</td>\n",
       "      <td>8.108108</td>\n",
       "      <td>6.0</td>\n",
       "      <td>68.0</td>\n",
       "      <td>8.108108</td>\n",
       "      <td>MULTIPOLYGON (((125.89647 7.49963, 125.89640 7...</td>\n",
       "    </tr>\n",
       "    <tr>\n",
       "      <th>1</th>\n",
       "      <td>180000000</td>\n",
       "      <td>NEGROS ISLAND REGION (NIR)</td>\n",
       "      <td>184500000</td>\n",
       "      <td>NEGROS OCCIDENTAL</td>\n",
       "      <td>184501000.0</td>\n",
       "      <td>BACOLOD CITY (Capital)</td>\n",
       "      <td>184501048.0</td>\n",
       "      <td>Felisa</td>\n",
       "      <td>U</td>\n",
       "      <td>184501048_Felisa</td>\n",
       "      <td>...</td>\n",
       "      <td>272</td>\n",
       "      <td>0.729927</td>\n",
       "      <td>184501048.0</td>\n",
       "      <td>3</td>\n",
       "      <td>271</td>\n",
       "      <td>1.094891</td>\n",
       "      <td>3.0</td>\n",
       "      <td>271.0</td>\n",
       "      <td>1.094891</td>\n",
       "      <td>MULTIPOLYGON (((123.00528 10.60504, 123.00541 ...</td>\n",
       "    </tr>\n",
       "    <tr>\n",
       "      <th>2</th>\n",
       "      <td>120000000</td>\n",
       "      <td>REGION XII (SOCCSKSARGEN)</td>\n",
       "      <td>126300000</td>\n",
       "      <td>SOUTH COTABATO</td>\n",
       "      <td>126311000.0</td>\n",
       "      <td>NORALA</td>\n",
       "      <td>126311020.0</td>\n",
       "      <td>Simsiman</td>\n",
       "      <td>R</td>\n",
       "      <td>126311020_Simsiman</td>\n",
       "      <td>...</td>\n",
       "      <td>90</td>\n",
       "      <td>56.310680</td>\n",
       "      <td>126311020.0</td>\n",
       "      <td>147</td>\n",
       "      <td>59</td>\n",
       "      <td>71.359223</td>\n",
       "      <td>147.0</td>\n",
       "      <td>59.0</td>\n",
       "      <td>71.359223</td>\n",
       "      <td>MULTIPOLYGON (((124.66187 6.56818, 124.66324 6...</td>\n",
       "    </tr>\n",
       "    <tr>\n",
       "      <th>3</th>\n",
       "      <td>150000000</td>\n",
       "      <td>AUTONOMOUS REGION IN MUSLIM MINDANAO (ARMM)</td>\n",
       "      <td>157000000</td>\n",
       "      <td>TAWI-TAWI</td>\n",
       "      <td>157001000.0</td>\n",
       "      <td>PANGLIMA SUGALA (BALIMBING)</td>\n",
       "      <td>157001001.0</td>\n",
       "      <td>Balimbing Proper</td>\n",
       "      <td>R</td>\n",
       "      <td>157001001_Balimbing Proper</td>\n",
       "      <td>...</td>\n",
       "      <td>93</td>\n",
       "      <td>0.000000</td>\n",
       "      <td>157001001.0</td>\n",
       "      <td>5</td>\n",
       "      <td>88</td>\n",
       "      <td>5.376344</td>\n",
       "      <td>5.0</td>\n",
       "      <td>88.0</td>\n",
       "      <td>5.376344</td>\n",
       "      <td>MULTIPOLYGON (((119.95374 5.07851, 119.95384 5...</td>\n",
       "    </tr>\n",
       "    <tr>\n",
       "      <th>4</th>\n",
       "      <td>150000000</td>\n",
       "      <td>AUTONOMOUS REGION IN MUSLIM MINDANAO (ARMM)</td>\n",
       "      <td>157000000</td>\n",
       "      <td>TAWI-TAWI</td>\n",
       "      <td>157001000.0</td>\n",
       "      <td>PANGLIMA SUGALA (BALIMBING)</td>\n",
       "      <td>157001002.0</td>\n",
       "      <td>Batu-batu (Pob.)</td>\n",
       "      <td>R</td>\n",
       "      <td>157001002_Batu-batu (Pob.)</td>\n",
       "      <td>...</td>\n",
       "      <td>182</td>\n",
       "      <td>5.699482</td>\n",
       "      <td>157001002.0</td>\n",
       "      <td>25</td>\n",
       "      <td>168</td>\n",
       "      <td>12.953368</td>\n",
       "      <td>25.0</td>\n",
       "      <td>168.0</td>\n",
       "      <td>12.953368</td>\n",
       "      <td>MULTIPOLYGON (((119.88709 5.06919, 119.88709 5...</td>\n",
       "    </tr>\n",
       "  </tbody>\n",
       "</table>\n",
       "<p>5 rows × 21 columns</p>\n",
       "</div>"
      ],
      "text/plain": [
       "    Reg_Code                                     Reg_Name   Pro_Code  \\\n",
       "0  110000000                     REGION XI (DAVAO REGION)  118200000   \n",
       "1  180000000                   NEGROS ISLAND REGION (NIR)  184500000   \n",
       "2  120000000                    REGION XII (SOCCSKSARGEN)  126300000   \n",
       "3  150000000  AUTONOMOUS REGION IN MUSLIM MINDANAO (ARMM)  157000000   \n",
       "4  150000000  AUTONOMOUS REGION IN MUSLIM MINDANAO (ARMM)  157000000   \n",
       "\n",
       "            Pro_Name     Mun_Code                     Mun_Name     Bgy_Code  \\\n",
       "0  COMPOSTELA VALLEY  118206000.0                        MAWAB  118206010.0   \n",
       "1  NEGROS OCCIDENTAL  184501000.0       BACOLOD CITY (Capital)  184501048.0   \n",
       "2     SOUTH COTABATO  126311000.0                       NORALA  126311020.0   \n",
       "3          TAWI-TAWI  157001000.0  PANGLIMA SUGALA (BALIMBING)  157001001.0   \n",
       "4          TAWI-TAWI  157001000.0  PANGLIMA SUGALA (BALIMBING)  157001002.0   \n",
       "\n",
       "           Bgy_Name RURBAN             ADM4_PCODE_NAME  ...  \\\n",
       "0          Sawangan      R          118206010_Sawangan  ...   \n",
       "1            Felisa      U            184501048_Felisa  ...   \n",
       "2          Simsiman      R          126311020_Simsiman  ...   \n",
       "3  Balimbing Proper      R  157001001_Balimbing Proper  ...   \n",
       "4  Batu-batu (Pob.)      R  157001002_Batu-batu (Pob.)  ...   \n",
       "\n",
       "   pixels_nobuilding_june2020  percentage_completeness_june2020   ADM4_PCODE  \\\n",
       "0                          71                          4.054054  118206010.0   \n",
       "1                         272                          0.729927  184501048.0   \n",
       "2                          90                         56.310680  126311020.0   \n",
       "3                          93                          0.000000  157001001.0   \n",
       "4                         182                          5.699482  157001002.0   \n",
       "\n",
       "   pixels_withbuilding_may2021  pixels_nobuilding_may2021  \\\n",
       "0                            6                         68   \n",
       "1                            3                        271   \n",
       "2                          147                         59   \n",
       "3                            5                         88   \n",
       "4                           25                        168   \n",
       "\n",
       "   percentage_completeness_may2021  pixels_withbuilding_june2021  \\\n",
       "0                         8.108108                           6.0   \n",
       "1                         1.094891                           3.0   \n",
       "2                        71.359223                         147.0   \n",
       "3                         5.376344                           5.0   \n",
       "4                        12.953368                          25.0   \n",
       "\n",
       "   pixels_nobuilding_june2021  percentage_completeness_june2021  \\\n",
       "0                        68.0                          8.108108   \n",
       "1                       271.0                          1.094891   \n",
       "2                        59.0                         71.359223   \n",
       "3                        88.0                          5.376344   \n",
       "4                       168.0                         12.953368   \n",
       "\n",
       "                                            geometry  \n",
       "0  MULTIPOLYGON (((125.89647 7.49963, 125.89640 7...  \n",
       "1  MULTIPOLYGON (((123.00528 10.60504, 123.00541 ...  \n",
       "2  MULTIPOLYGON (((124.66187 6.56818, 124.66324 6...  \n",
       "3  MULTIPOLYGON (((119.95374 5.07851, 119.95384 5...  \n",
       "4  MULTIPOLYGON (((119.88709 5.06919, 119.88709 5...  \n",
       "\n",
       "[5 rows x 21 columns]"
      ]
     },
     "execution_count": 66,
     "metadata": {},
     "output_type": "execute_result"
    }
   ],
   "source": [
    "# Scroll through the columns to see how percentage completeness increased over time!\n",
    "brgy_output_june2021.head()"
   ]
  },
  {
   "cell_type": "code",
   "execution_count": 67,
   "id": "aabba887-757a-4df7-94f5-c342f2beb4c5",
   "metadata": {},
   "outputs": [],
   "source": [
    "# Save to .csv file\n",
    "filename = \"../data/mapthegap-phl-adm4-2021-06-28.csv\"\n",
    "brgy_output_june2021.to_csv(filename)"
   ]
  },
  {
   "cell_type": "code",
   "execution_count": 68,
   "id": "92e42888-80ed-443d-84c7-3c0963f3ce27",
   "metadata": {},
   "outputs": [],
   "source": [
    "# Save to .gpkg file\n",
    "filename = \"../data/mapthegap-phl-adm4-2021-06-28.gpkg\"\n",
    "brgy_output_june2021 = gpd.GeoDataFrame(brgy_output_june2021,geometry='geometry')\n",
    "brgy_output_june2021.to_file(filename,driver='GPKG')"
   ]
  },
  {
   "cell_type": "markdown",
   "id": "6adafefd-c518-4ac9-81bd-6dddecd641ca",
   "metadata": {},
   "source": [
    "# Finish!\n",
    "By this point, you should already have the percent completeness for the whole country and per admin region.\n",
    "\n",
    "1. `phl_pixels_all.csv` and `phl_pixels_all.gpkg` which contains mapped/unmapped pixels, labelled by admin boundary PCODES\n",
    "2. `mapthegap-phl-adm<2/3/4>-2021-06-28.csv` and `mapthegap-phl-adm<2/3/4>-2021-06-28.gpkg`, which contains percent completeness values per administrative region.\n",
    "\n",
    "To convert this into tilesets for plotting, refer to `2_CreateTileset.ipynb`"
   ]
  }
 ],
 "metadata": {
  "environment": {
   "name": "common-cpu.m71",
   "type": "gcloud",
   "uri": "gcr.io/deeplearning-platform-release/base-cpu:m71"
  },
  "kernelspec": {
   "display_name": "Python 3",
   "language": "python",
   "name": "python3"
  },
  "language_info": {
   "codemirror_mode": {
    "name": "ipython",
    "version": 3
   },
   "file_extension": ".py",
   "mimetype": "text/x-python",
   "name": "python",
   "nbconvert_exporter": "python",
   "pygments_lexer": "ipython3",
   "version": "3.7.10"
  }
 },
 "nbformat": 4,
 "nbformat_minor": 5
}
