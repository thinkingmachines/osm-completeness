{
 "cells": [
  {
   "cell_type": "markdown",
   "id": "320b85c9-439f-40e7-ab0e-d9655edd549b",
   "metadata": {},
   "source": [
    "# Methodology (MDG)"
   ]
  },
  {
   "cell_type": "markdown",
   "id": "648354dc-c908-4845-9339-e465176b80cd",
   "metadata": {},
   "source": [
    "This notebook shows the methodology for the paper \"Measuring OpenStreetMap building footprint completeness using human settlement layers\", specifically for the Madagascar\n",
    "\n",
    "Note: the notebook processes OSM completeness for two dates: January 2020 and July 12, 2021, and combines these results together."
   ]
  },
  {
   "cell_type": "markdown",
   "id": "81aeb7f1-34bc-4e27-bfd7-d4c645e0f835",
   "metadata": {},
   "source": [
    "## Setup"
   ]
  },
  {
   "cell_type": "markdown",
   "id": "e0a28f83-8b92-4ebb-a114-8f804b8bc85a",
   "metadata": {},
   "source": [
    "We import all of the relevant packages as well as download the datasets.\n",
    "\n",
    "For reference, here are the original download links for the datasets:\n",
    "1. High Resolution Settlement Layer (HRSL) ([Philippines](https://data.humdata.org/dataset/philippines-high-resolution-population-density-maps-demographic-estimates)) ([Madagascar](https://data.humdata.org/dataset/highresolutionpopulationdensitymaps-mdg))\n",
    "2. Administrative Boundaries ([Philippines](https://data.humdata.org/dataset/philippines-administrative-levels-0-to-3)) ([Madagascar](https://data.humdata.org/dataset/madagascar-administrative-level-0-4-boundaries))\n",
    "3. OpenStreetMap (OSM) ([Philippines](https://download.geofabrik.de/asia/philippines.html)) ([Madagascar](https://download.geofabrik.de/africa/madagascar.html))"
   ]
  },
  {
   "cell_type": "code",
   "execution_count": 1,
   "id": "ab515d44-9498-45ba-931e-21f3fc73aebc",
   "metadata": {},
   "outputs": [],
   "source": [
    "import numpy as np\n",
    "import pandas as pd\n",
    "import matplotlib.pyplot as plt\n",
    "\n",
    "import shapely\n",
    "import geopandas as gpd\n",
    "import rasterio\n",
    "import rasterio.features\n",
    "\n",
    "import wget\n",
    "\n",
    "import os\n",
    "import glob\n",
    "from zipfile import ZipFile"
   ]
  },
  {
   "cell_type": "code",
   "execution_count": 3,
   "id": "6314ee3b-a60e-43bc-9c72-c42d356e6baa",
   "metadata": {},
   "outputs": [],
   "source": [
    "try:\n",
    "    os.mkdir(\"../download_data\")\n",
    "except Exception:\n",
    "    pass"
   ]
  },
  {
   "cell_type": "markdown",
   "id": "3fd3f1db-2253-40cc-8bd4-6d838e57de7c",
   "metadata": {},
   "source": [
    "### HRSL download"
   ]
  },
  {
   "cell_type": "markdown",
   "id": "3ace74e8-bfed-433e-aab6-6ee344dda7bf",
   "metadata": {},
   "source": [
    "Uncomment the cells below if you have not yet downloaded the HRSL datasets."
   ]
  },
  {
   "cell_type": "code",
   "execution_count": 8,
   "id": "92680e39-db89-4e4c-a6ff-ca3271af4e1c",
   "metadata": {},
   "outputs": [],
   "source": [
    "hrsl_mdg_url = \"https://data.humdata.org/dataset/9e7ff424-7b9c-42cc-b869-5756fcad0956/resource/1fafdd04-8e0b-4c2a-b4dc-8f3ff39e3015/download/population_mdg_2018-10-01.zip\""
   ]
  },
  {
   "cell_type": "code",
   "execution_count": 15,
   "id": "3ec12e94-e6d6-4209-818c-2d738be52d37",
   "metadata": {},
   "outputs": [
    {
     "data": {
      "text/plain": [
       "'../download_data/mdg_hrsl_oct_2018.zip'"
      ]
     },
     "execution_count": 15,
     "metadata": {},
     "output_type": "execute_result"
    }
   ],
   "source": [
    "wget.download(hrsl_mdg_url, '../download_data/mdg_hrsl_oct_2018.zip')"
   ]
  },
  {
   "cell_type": "markdown",
   "id": "c5182058-3e0c-4e1c-9df8-ad9b8cb4d458",
   "metadata": {},
   "source": [
    "### Admin boundary download"
   ]
  },
  {
   "cell_type": "markdown",
   "id": "c50c0909-176a-4e8e-a671-6b9e83c7a139",
   "metadata": {},
   "source": [
    "Uncomment the cells below if you have not yet downloaded the admin boundary datasets."
   ]
  },
  {
   "cell_type": "code",
   "execution_count": 40,
   "id": "a3f116e1-5f7c-4fdd-b5e1-88498451c8fc",
   "metadata": {},
   "outputs": [],
   "source": [
    "adm_mdg_url = \"https://data.humdata.org/dataset/26fa506b-0727-4d9d-a590-d2abee21ee22/resource/ed94d52e-349e-41be-80cb-62dc0435bd34/download/mdg_adm_bngrc_ocha_20181031_shp.zip\""
   ]
  },
  {
   "cell_type": "code",
   "execution_count": 43,
   "id": "3897587c-61dd-4c58-b6d6-bfa51925e4f2",
   "metadata": {},
   "outputs": [
    {
     "data": {
      "text/plain": [
       "'../download_data/mdg_adm_all.zip'"
      ]
     },
     "execution_count": 43,
     "metadata": {},
     "output_type": "execute_result"
    }
   ],
   "source": [
    "wget.download(adm_mdg_url, '../download_data/mdg_adm_all.zip')"
   ]
  },
  {
   "cell_type": "markdown",
   "id": "7daff439-4447-4520-9190-34c4101f04bf",
   "metadata": {},
   "source": [
    "### OSM download"
   ]
  },
  {
   "cell_type": "markdown",
   "id": "5844d04e-abe7-4115-a3cd-b2cbfe833447",
   "metadata": {},
   "source": [
    "Uncomment the cells below if you have not yet downloaded the OSM datasets. We download both 2020 and 2021 datasets."
   ]
  },
  {
   "cell_type": "code",
   "execution_count": 65,
   "id": "3a86196b-8f6a-49cd-8636-4a967da37fdb",
   "metadata": {},
   "outputs": [],
   "source": [
    "##### 2020 OSM Dataset\n",
    "osm_mdg_url = \"https://storage.googleapis.com/osm-completeness-thinkingmachines/mdg_osm_jan_2020_buildings.gpkg.zip\""
   ]
  },
  {
   "cell_type": "code",
   "execution_count": 66,
   "id": "6ad1e103-8e6c-4434-98da-e8544edee13b",
   "metadata": {},
   "outputs": [
    {
     "data": {
      "text/plain": [
       "'../download_data/mdg_osm_jan_2020_buildings.gpkg.zip'"
      ]
     },
     "execution_count": 66,
     "metadata": {},
     "output_type": "execute_result"
    }
   ],
   "source": [
    "wget.download(osm_mdg_url, '../download_data/mdg_osm_jan_2020_buildings.gpkg.zip')"
   ]
  },
  {
   "cell_type": "code",
   "execution_count": 10,
   "id": "7340651a-29c1-4554-9204-0893e5b74f30",
   "metadata": {},
   "outputs": [],
   "source": [
    "##### 2021 OSM Dataset\n",
    "osm_mdg_url = \"https://download.geofabrik.de/africa/madagascar-latest-free.shp.zip\""
   ]
  },
  {
   "cell_type": "code",
   "execution_count": 11,
   "id": "d4d722bb-d033-4d6a-a235-c89499fca0ee",
   "metadata": {},
   "outputs": [
    {
     "data": {
      "text/plain": [
       "'../download_data/madagascar-latest-free.shp.zip'"
      ]
     },
     "execution_count": 11,
     "metadata": {},
     "output_type": "execute_result"
    }
   ],
   "source": [
    "wget.download(osm_mdg_url, '../download_data/madagascar-latest-free.shp.zip')"
   ]
  },
  {
   "cell_type": "markdown",
   "id": "0f1da402-9a07-4ae4-8210-a89928845c84",
   "metadata": {},
   "source": [
    "### Unzip all datasets"
   ]
  },
  {
   "cell_type": "code",
   "execution_count": 67,
   "id": "337717e3-a4a3-4819-b91a-4f941b931cc7",
   "metadata": {},
   "outputs": [],
   "source": [
    "for i in glob.glob(\"../download_data/*.zip\"):\n",
    "    if os.path.isdir(os.path.splitext(i)[0]):\n",
    "        pass\n",
    "    else:\n",
    "        with ZipFile(i) as myzip:\n",
    "            myzip.extractall(os.path.splitext(i)[0])"
   ]
  },
  {
   "cell_type": "markdown",
   "id": "844144a6-8ec4-497c-ae36-8bf4e5d9b5e3",
   "metadata": {},
   "source": [
    "### Load HRSL dataset"
   ]
  },
  {
   "cell_type": "markdown",
   "id": "fcb86297-3315-4fe8-b7d5-3143e47addc1",
   "metadata": {},
   "source": [
    "Note: unlike Philippines, Madagascar has no separate male and female layers, so the \"Add male and female population to get total population\" step is skipped"
   ]
  },
  {
   "cell_type": "code",
   "execution_count": 2,
   "id": "73217945-88d5-4235-af0a-07eee87c45d2",
   "metadata": {},
   "outputs": [],
   "source": [
    "hrsl_mdg = rasterio.open(\n",
    "    \"../download_data/mdg_hrsl_oct_2018/population_mdg_2018-10-01.tif\"\n",
    ")"
   ]
  },
  {
   "cell_type": "code",
   "execution_count": 3,
   "id": "844458de-7d3c-442e-aa73-a83d5ee41818",
   "metadata": {},
   "outputs": [],
   "source": [
    "hrsl_mdg_band1_mask = hrsl_mdg.read_masks(1)"
   ]
  },
  {
   "cell_type": "markdown",
   "id": "d92100ba-1c53-4ef9-a29a-c118f831b4bb",
   "metadata": {},
   "source": [
    "### Convert HRSL dataset from raster to vector"
   ]
  },
  {
   "cell_type": "code",
   "execution_count": 4,
   "id": "f4d2a40e-befd-4f7b-9f21-37b52c576f1d",
   "metadata": {},
   "outputs": [],
   "source": [
    "hrsl_mdg_rand = np.random.rand(\n",
    "    np.shape(hrsl_mdg_band1_mask)[0], np.shape(hrsl_mdg_band1_mask)[1]\n",
    ")\n",
    "hrsl_mdg_rand = hrsl_mdg_rand.astype(\"float32\")"
   ]
  },
  {
   "cell_type": "code",
   "execution_count": 5,
   "id": "ae71889c-705e-4794-9fda-e297570b2104",
   "metadata": {},
   "outputs": [],
   "source": [
    "hrsl_mdg_band1_poly = list(\n",
    "    rasterio.features.shapes(\n",
    "        hrsl_mdg_rand, transform=hrsl_mdg.transform, mask=hrsl_mdg_band1_mask\n",
    "    )\n",
    ")"
   ]
  },
  {
   "cell_type": "code",
   "execution_count": 6,
   "id": "ae123382-2640-476a-986d-0107f22af461",
   "metadata": {},
   "outputs": [],
   "source": [
    "hrsl_mdg_geom = []\n",
    "for geom, value in hrsl_mdg_band1_poly:\n",
    "    geom = shapely.geometry.shape(geom)\n",
    "    hrsl_mdg_geom.append(geom)"
   ]
  },
  {
   "cell_type": "code",
   "execution_count": 7,
   "id": "ce912048-1786-46fc-b33f-c356b3fa491b",
   "metadata": {},
   "outputs": [],
   "source": [
    "hrsl_mdg_gdf = pd.DataFrame(hrsl_mdg_geom)\n",
    "hrsl_mdg_gdf = gpd.GeoDataFrame(hrsl_mdg_gdf, geometry=hrsl_mdg_gdf[0], crs=\"EPSG:4326\")\n",
    "hrsl_mdg_gdf.drop(columns=[0], inplace=True)\n",
    "hrsl_mdg_gdf.reset_index(level=0, inplace=True)"
   ]
  },
  {
   "cell_type": "code",
   "execution_count": 74,
   "id": "7df5a224-7597-4e80-a760-8d2e07c932d3",
   "metadata": {},
   "outputs": [],
   "source": [
    "hrsl_mdg_gdf.to_file('../data/hrsl_mdg.gpkg', driver='GPKG')"
   ]
  },
  {
   "cell_type": "markdown",
   "id": "83c0e107-79db-4b6b-a03e-abfb3d540ed8",
   "metadata": {},
   "source": [
    "Note: At this point in the code, processing will be split into separate portions for 2020 and 2021 respectively. "
   ]
  },
  {
   "cell_type": "markdown",
   "id": "cacb2dfc-fd69-4552-b04d-3bfb400fa60b",
   "metadata": {},
   "source": [
    "# 2021"
   ]
  },
  {
   "cell_type": "markdown",
   "id": "7f1c70fa-7fcf-4884-8e3d-1365f86dfbe3",
   "metadata": {},
   "source": [
    "### Get intersection of HRSL pixels and OSM Buildings"
   ]
  },
  {
   "cell_type": "markdown",
   "id": "d7ebf5d3-bbea-43a7-bf32-c0f5d5e02597",
   "metadata": {},
   "source": [
    "#### Load OSM dataset"
   ]
  },
  {
   "cell_type": "code",
   "execution_count": 28,
   "id": "db4a961f-48b9-4642-b4bf-1ec1d3a8a279",
   "metadata": {},
   "outputs": [],
   "source": [
    "# The 2021 zip file contains many shapefiles for points of interests, landuse, waterways, etc. \n",
    "# We are only interested in loading the building footprint data\n",
    "osm_mdg = gpd.read_file(\n",
    "    \"../download_data/madagascar-latest-free.shp/gis_osm_buildings_a_free_1.shp\",\n",
    "    driver=\"shp\",\n",
    ")"
   ]
  },
  {
   "cell_type": "code",
   "execution_count": 29,
   "id": "abc2cadc-6b35-426c-bd4b-dd86920e5a9e",
   "metadata": {},
   "outputs": [],
   "source": [
    "osm_mdg.to_file('../data/madagascar-latest-free.gpkg',driver = 'GPKG')"
   ]
  },
  {
   "cell_type": "markdown",
   "id": "5c72b43c-8e59-4619-8a7b-034eeac0151e",
   "metadata": {},
   "source": [
    "#### Get mapped pixels"
   ]
  },
  {
   "cell_type": "code",
   "execution_count": 30,
   "id": "df5ee3c0-773b-4b2b-a0f4-087966de40c3",
   "metadata": {},
   "outputs": [],
   "source": [
    "# Just run this so you don't have to rerun everything up top\n",
    "hrsl_mdg_gdf = gpd.read_file('../data/hrsl_mdg.gpkg', driver='GPKG')"
   ]
  },
  {
   "cell_type": "code",
   "execution_count": 30,
   "id": "71a671b8-86c2-45f3-96f1-a45c5d3859d1",
   "metadata": {},
   "outputs": [],
   "source": [
    "# 2021 OSM File\n",
    "# Just run this so you don't have to rerun everything up top\n",
    "osm_mdg = gpd.read_file('../data/madagascar-latest-free.gpkg',driver = 'GPKG')"
   ]
  },
  {
   "cell_type": "code",
   "execution_count": 76,
   "id": "5f5f2cfa-ec60-48e2-a92c-5773cc04bbda",
   "metadata": {},
   "outputs": [],
   "source": [
    "mdg_pixels_with_buildings = gpd.sjoin(\n",
    "    hrsl_mdg_gdf, osm_mdg, how=\"inner\", op=\"intersects\"\n",
    ")"
   ]
  },
  {
   "cell_type": "code",
   "execution_count": 77,
   "id": "9d35b988-91a4-4be6-9072-8fd054477ccb",
   "metadata": {},
   "outputs": [],
   "source": [
    "mdg_pixels_with_buildings = mdg_pixels_with_buildings.drop_duplicates(subset='index')"
   ]
  },
  {
   "cell_type": "code",
   "execution_count": 78,
   "id": "89ccd8d7-85fa-43cb-8ead-11d8689225a2",
   "metadata": {},
   "outputs": [],
   "source": [
    "mdg_pixels_with_buildings.drop(columns=['index_right', 'osm_id', 'code', 'fclass', 'name', 'type'], inplace=True)"
   ]
  },
  {
   "cell_type": "code",
   "execution_count": 46,
   "id": "7c7cb2f3-9b89-4d5d-9ce6-fe0d99cb3043",
   "metadata": {},
   "outputs": [],
   "source": [
    "# 2021\n",
    "mdg_pixels_with_buildings.to_file('../data/mdg_pixels_with_buildings.gpkg', driver='GPKG')"
   ]
  },
  {
   "cell_type": "markdown",
   "id": "86f4d253-3801-4e5c-a7df-49267c07e47c",
   "metadata": {},
   "source": [
    "#### Get unmapped pixels"
   ]
  },
  {
   "cell_type": "code",
   "execution_count": 80,
   "id": "7e3be1fd-ebfe-473c-84a6-72b48fd2ca27",
   "metadata": {},
   "outputs": [],
   "source": [
    "mdg_pixels_no_buildings = pd.merge(hrsl_mdg_gdf, mdg_pixels_with_buildings, how='outer', indicator=True)"
   ]
  },
  {
   "cell_type": "code",
   "execution_count": 81,
   "id": "253834a8-b9a7-4a43-90d1-e91cb034c871",
   "metadata": {},
   "outputs": [],
   "source": [
    "mdg_pixels_no_buildings = mdg_pixels_no_buildings[mdg_pixels_no_buildings['_merge'] == 'left_only']"
   ]
  },
  {
   "cell_type": "code",
   "execution_count": 82,
   "id": "51ea1f55-8b94-44a3-892d-c3d8e264f2fe",
   "metadata": {},
   "outputs": [],
   "source": [
    "mdg_pixels_no_buildings.drop(columns=['_merge'], inplace=True)"
   ]
  },
  {
   "cell_type": "code",
   "execution_count": 38,
   "id": "ab331e36-4403-4773-a389-1b51067529c0",
   "metadata": {},
   "outputs": [],
   "source": [
    "# 2021\n",
    "mdg_pixels_no_buildings.to_file('../data/mdg_pixels_no_buildings.gpkg', driver='GPKG')"
   ]
  },
  {
   "cell_type": "markdown",
   "id": "55c80e54-2332-463f-b11b-e7ea10f04ed5",
   "metadata": {},
   "source": [
    "#### Calculate percent completeness"
   ]
  },
  {
   "cell_type": "code",
   "execution_count": 84,
   "id": "e507935f-e1de-4231-98b1-751eede54078",
   "metadata": {},
   "outputs": [
    {
     "data": {
      "text/plain": [
       "10.89030131380777"
      ]
     },
     "execution_count": 84,
     "metadata": {},
     "output_type": "execute_result"
    }
   ],
   "source": [
    "len(mdg_pixels_with_buildings) / (len(mdg_pixels_with_buildings) + len(mdg_pixels_no_buildings)) * 100"
   ]
  },
  {
   "cell_type": "markdown",
   "id": "c54f92db-46c9-4fac-9b27-bcf207d53490",
   "metadata": {},
   "source": [
    "### Aggregate to different admin boundaries"
   ]
  },
  {
   "cell_type": "markdown",
   "id": "b1ecb68f-56ec-41eb-8f6b-7e7afb2026f0",
   "metadata": {},
   "source": [
    "#### Turn mapped pixels from a polygon layer to a point layer"
   ]
  },
  {
   "cell_type": "code",
   "execution_count": 8,
   "id": "8640954b-b4b7-4667-88fe-5dca3011ae47",
   "metadata": {},
   "outputs": [],
   "source": [
    "# # 2021\n",
    "# # Just run this so you don't have to rerun everything up top\n",
    "mdg_pixels_with_buildings = gpd.read_file(\n",
    "    \"../data/mdg_pixels_with_buildings.gpkg\", driver=\"GPKG\"\n",
    ")"
   ]
  },
  {
   "cell_type": "code",
   "execution_count": 85,
   "id": "f48c8ae9-39ec-4686-bb44-763b5daece81",
   "metadata": {},
   "outputs": [
    {
     "name": "stderr",
     "output_type": "stream",
     "text": [
      "/opt/conda/lib/python3.7/site-packages/ipykernel_launcher.py:1: UserWarning: Geometry is in a geographic CRS. Results from 'centroid' are likely incorrect. Use 'GeoSeries.to_crs()' to re-project geometries to a projected CRS before this operation.\n",
      "\n",
      "  \"\"\"Entry point for launching an IPython kernel.\n"
     ]
    }
   ],
   "source": [
    "mdg_pixels_with_buildings[\"geometry\"] = mdg_pixels_with_buildings[\"geometry\"].centroid"
   ]
  },
  {
   "cell_type": "markdown",
   "id": "a75c08fb-266d-4832-8192-aecb3388e50b",
   "metadata": {},
   "source": [
    "#### Turn unmapped pixels from a polygon layer to a point layer"
   ]
  },
  {
   "cell_type": "code",
   "execution_count": 10,
   "id": "d48467ab-7eeb-4f97-ad59-4c5b64ce91df",
   "metadata": {},
   "outputs": [],
   "source": [
    "# # 2021\n",
    "# # Just run this so you don't have to rerun everything up top\n",
    "mdg_pixels_no_buildings = gpd.read_file(\n",
    "    \"../data/mdg_pixels_no_buildings.gpkg\", driver=\"GPKG\"\n",
    ")"
   ]
  },
  {
   "cell_type": "code",
   "execution_count": 86,
   "id": "24ded20a-e690-48e0-9aff-63ee4b24d5ac",
   "metadata": {},
   "outputs": [
    {
     "name": "stderr",
     "output_type": "stream",
     "text": [
      "/opt/conda/lib/python3.7/site-packages/ipykernel_launcher.py:1: UserWarning: Geometry is in a geographic CRS. Results from 'centroid' are likely incorrect. Use 'GeoSeries.to_crs()' to re-project geometries to a projected CRS before this operation.\n",
      "\n",
      "  \"\"\"Entry point for launching an IPython kernel.\n"
     ]
    }
   ],
   "source": [
    "mdg_pixels_no_buildings[\"geometry\"] = mdg_pixels_no_buildings[\"geometry\"].centroid"
   ]
  },
  {
   "cell_type": "markdown",
   "id": "74efb643-c2bf-461e-9f8c-e83c41dc20ac",
   "metadata": {},
   "source": [
    "#### Load level 4 admin boundary"
   ]
  },
  {
   "cell_type": "code",
   "execution_count": 12,
   "id": "b6970557-8e9a-4685-907d-bab80e15e3c1",
   "metadata": {},
   "outputs": [],
   "source": [
    "mdg_adm4 = gpd.read_file(\n",
    "    \"../download_data/mdg_adm_all/mdg_admbnda_adm4_BNGRC_OCHA_20181031.shp\"\n",
    ")"
   ]
  },
  {
   "cell_type": "code",
   "execution_count": 44,
   "id": "e216eb01-f769-46cd-9432-4f1efc7a2b9a",
   "metadata": {},
   "outputs": [
    {
     "data": {
      "text/html": [
       "<div>\n",
       "<style scoped>\n",
       "    .dataframe tbody tr th:only-of-type {\n",
       "        vertical-align: middle;\n",
       "    }\n",
       "\n",
       "    .dataframe tbody tr th {\n",
       "        vertical-align: top;\n",
       "    }\n",
       "\n",
       "    .dataframe thead th {\n",
       "        text-align: right;\n",
       "    }\n",
       "</style>\n",
       "<table border=\"1\" class=\"dataframe\">\n",
       "  <thead>\n",
       "    <tr style=\"text-align: right;\">\n",
       "      <th></th>\n",
       "      <th>ADM0_PCODE</th>\n",
       "      <th>ADM0_EN</th>\n",
       "      <th>ADM1_PCODE</th>\n",
       "      <th>ADM1_EN</th>\n",
       "      <th>ADM1_TYPE</th>\n",
       "      <th>ADM2_PCODE</th>\n",
       "      <th>ADM2_EN</th>\n",
       "      <th>ADM2_TYPE</th>\n",
       "      <th>ADM3_PCODE</th>\n",
       "      <th>ADM3_EN</th>\n",
       "      <th>ADM3_TYPE</th>\n",
       "      <th>ADM4_PCODE</th>\n",
       "      <th>ADM4_EN</th>\n",
       "      <th>ADM4_TYPE</th>\n",
       "      <th>PROV_CODE_</th>\n",
       "      <th>OLD_PROVIN</th>\n",
       "      <th>PROV_TYPE</th>\n",
       "      <th>NOTES</th>\n",
       "      <th>SOURCE</th>\n",
       "      <th>geometry</th>\n",
       "    </tr>\n",
       "  </thead>\n",
       "  <tbody>\n",
       "    <tr>\n",
       "      <th>0</th>\n",
       "      <td>MG</td>\n",
       "      <td>Madagascar</td>\n",
       "      <td>MG22</td>\n",
       "      <td>Amoron I Mania</td>\n",
       "      <td>Region</td>\n",
       "      <td>MG22203</td>\n",
       "      <td>Ambositra</td>\n",
       "      <td>District</td>\n",
       "      <td>MG22203090</td>\n",
       "      <td>Andina</td>\n",
       "      <td>Commune</td>\n",
       "      <td>MG22203090008</td>\n",
       "      <td>Ampasina</td>\n",
       "      <td>Fokontany</td>\n",
       "      <td>2</td>\n",
       "      <td>Fianarantsoa</td>\n",
       "      <td>Old Provinces/Faritany dissolved in 2007</td>\n",
       "      <td>None</td>\n",
       "      <td>BNGRC (National Disaster Management Office) Fo...</td>\n",
       "      <td>POLYGON ((47.10540 -20.51447, 47.11485 -20.514...</td>\n",
       "    </tr>\n",
       "    <tr>\n",
       "      <th>1</th>\n",
       "      <td>MG</td>\n",
       "      <td>Madagascar</td>\n",
       "      <td>MG22</td>\n",
       "      <td>Amoron I Mania</td>\n",
       "      <td>Region</td>\n",
       "      <td>MG22203</td>\n",
       "      <td>Ambositra</td>\n",
       "      <td>District</td>\n",
       "      <td>MG22203090</td>\n",
       "      <td>Andina</td>\n",
       "      <td>Commune</td>\n",
       "      <td>MG22203090011</td>\n",
       "      <td>Antanifotsy</td>\n",
       "      <td>Fokontany</td>\n",
       "      <td>2</td>\n",
       "      <td>Fianarantsoa</td>\n",
       "      <td>Old Provinces/Faritany dissolved in 2007</td>\n",
       "      <td>None</td>\n",
       "      <td>BNGRC (National Disaster Management Office) Fo...</td>\n",
       "      <td>POLYGON ((47.13580 -20.54133, 47.13600 -20.544...</td>\n",
       "    </tr>\n",
       "    <tr>\n",
       "      <th>2</th>\n",
       "      <td>MG</td>\n",
       "      <td>Madagascar</td>\n",
       "      <td>MG24</td>\n",
       "      <td>Ihorombe</td>\n",
       "      <td>Region</td>\n",
       "      <td>MG24216</td>\n",
       "      <td>Ihosy</td>\n",
       "      <td>District</td>\n",
       "      <td>MG24216192</td>\n",
       "      <td>Andiolava</td>\n",
       "      <td>Commune</td>\n",
       "      <td>MG24216192006</td>\n",
       "      <td>Amboloando</td>\n",
       "      <td>Fokontany</td>\n",
       "      <td>2</td>\n",
       "      <td>Fianarantsoa</td>\n",
       "      <td>Old Provinces/Faritany dissolved in 2007</td>\n",
       "      <td>None</td>\n",
       "      <td>BNGRC (National Disaster Management Office) Fo...</td>\n",
       "      <td>POLYGON ((45.58350 -22.53003, 45.59102 -22.534...</td>\n",
       "    </tr>\n",
       "    <tr>\n",
       "      <th>3</th>\n",
       "      <td>MG</td>\n",
       "      <td>Madagascar</td>\n",
       "      <td>MG24</td>\n",
       "      <td>Ihorombe</td>\n",
       "      <td>Region</td>\n",
       "      <td>MG24216</td>\n",
       "      <td>Ihosy</td>\n",
       "      <td>District</td>\n",
       "      <td>MG24216192</td>\n",
       "      <td>Andiolava</td>\n",
       "      <td>Commune</td>\n",
       "      <td>MG24216192002</td>\n",
       "      <td>Vatambe Nanarena</td>\n",
       "      <td>Fokontany</td>\n",
       "      <td>2</td>\n",
       "      <td>Fianarantsoa</td>\n",
       "      <td>Old Provinces/Faritany dissolved in 2007</td>\n",
       "      <td>None</td>\n",
       "      <td>BNGRC (National Disaster Management Office) Fo...</td>\n",
       "      <td>POLYGON ((45.51825 -22.27433, 45.51900 -22.274...</td>\n",
       "    </tr>\n",
       "    <tr>\n",
       "      <th>4</th>\n",
       "      <td>MG</td>\n",
       "      <td>Madagascar</td>\n",
       "      <td>MG24</td>\n",
       "      <td>Ihorombe</td>\n",
       "      <td>Region</td>\n",
       "      <td>MG24216</td>\n",
       "      <td>Ihosy</td>\n",
       "      <td>District</td>\n",
       "      <td>MG24216192</td>\n",
       "      <td>Andiolava</td>\n",
       "      <td>Commune</td>\n",
       "      <td>MG24216192003</td>\n",
       "      <td>Vohimary</td>\n",
       "      <td>Fokontany</td>\n",
       "      <td>2</td>\n",
       "      <td>Fianarantsoa</td>\n",
       "      <td>Old Provinces/Faritany dissolved in 2007</td>\n",
       "      <td>None</td>\n",
       "      <td>BNGRC (National Disaster Management Office) Fo...</td>\n",
       "      <td>POLYGON ((45.62246 -22.40084, 45.62173 -22.414...</td>\n",
       "    </tr>\n",
       "  </tbody>\n",
       "</table>\n",
       "</div>"
      ],
      "text/plain": [
       "  ADM0_PCODE     ADM0_EN ADM1_PCODE         ADM1_EN ADM1_TYPE ADM2_PCODE  \\\n",
       "0         MG  Madagascar       MG22  Amoron I Mania    Region    MG22203   \n",
       "1         MG  Madagascar       MG22  Amoron I Mania    Region    MG22203   \n",
       "2         MG  Madagascar       MG24        Ihorombe    Region    MG24216   \n",
       "3         MG  Madagascar       MG24        Ihorombe    Region    MG24216   \n",
       "4         MG  Madagascar       MG24        Ihorombe    Region    MG24216   \n",
       "\n",
       "     ADM2_EN ADM2_TYPE  ADM3_PCODE    ADM3_EN ADM3_TYPE     ADM4_PCODE  \\\n",
       "0  Ambositra  District  MG22203090     Andina   Commune  MG22203090008   \n",
       "1  Ambositra  District  MG22203090     Andina   Commune  MG22203090011   \n",
       "2      Ihosy  District  MG24216192  Andiolava   Commune  MG24216192006   \n",
       "3      Ihosy  District  MG24216192  Andiolava   Commune  MG24216192002   \n",
       "4      Ihosy  District  MG24216192  Andiolava   Commune  MG24216192003   \n",
       "\n",
       "            ADM4_EN  ADM4_TYPE  PROV_CODE_    OLD_PROVIN  \\\n",
       "0          Ampasina  Fokontany           2  Fianarantsoa   \n",
       "1       Antanifotsy  Fokontany           2  Fianarantsoa   \n",
       "2        Amboloando  Fokontany           2  Fianarantsoa   \n",
       "3  Vatambe Nanarena  Fokontany           2  Fianarantsoa   \n",
       "4          Vohimary  Fokontany           2  Fianarantsoa   \n",
       "\n",
       "                                  PROV_TYPE NOTES  \\\n",
       "0  Old Provinces/Faritany dissolved in 2007  None   \n",
       "1  Old Provinces/Faritany dissolved in 2007  None   \n",
       "2  Old Provinces/Faritany dissolved in 2007  None   \n",
       "3  Old Provinces/Faritany dissolved in 2007  None   \n",
       "4  Old Provinces/Faritany dissolved in 2007  None   \n",
       "\n",
       "                                              SOURCE  \\\n",
       "0  BNGRC (National Disaster Management Office) Fo...   \n",
       "1  BNGRC (National Disaster Management Office) Fo...   \n",
       "2  BNGRC (National Disaster Management Office) Fo...   \n",
       "3  BNGRC (National Disaster Management Office) Fo...   \n",
       "4  BNGRC (National Disaster Management Office) Fo...   \n",
       "\n",
       "                                            geometry  \n",
       "0  POLYGON ((47.10540 -20.51447, 47.11485 -20.514...  \n",
       "1  POLYGON ((47.13580 -20.54133, 47.13600 -20.544...  \n",
       "2  POLYGON ((45.58350 -22.53003, 45.59102 -22.534...  \n",
       "3  POLYGON ((45.51825 -22.27433, 45.51900 -22.274...  \n",
       "4  POLYGON ((45.62246 -22.40084, 45.62173 -22.414...  "
      ]
     },
     "execution_count": 44,
     "metadata": {},
     "output_type": "execute_result"
    }
   ],
   "source": [
    "mdg_adm4.head()"
   ]
  },
  {
   "cell_type": "code",
   "execution_count": 87,
   "id": "b2fb8162-fc9b-4893-8ab1-8fc65fc7e83c",
   "metadata": {},
   "outputs": [
    {
     "data": {
      "text/plain": [
       "ADM0_PCODE        1\n",
       "ADM0_EN           1\n",
       "ADM1_PCODE       22\n",
       "ADM1_EN          22\n",
       "ADM1_TYPE         1\n",
       "ADM2_PCODE      119\n",
       "ADM2_EN         119\n",
       "ADM2_TYPE         1\n",
       "ADM3_PCODE     1579\n",
       "ADM3_EN        1429\n",
       "ADM3_TYPE         1\n",
       "ADM4_PCODE    17465\n",
       "ADM4_EN       10977\n",
       "ADM4_TYPE         1\n",
       "PROV_CODE_        6\n",
       "OLD_PROVIN        6\n",
       "PROV_TYPE         1\n",
       "NOTES             1\n",
       "SOURCE           10\n",
       "geometry      17465\n",
       "dtype: int64"
      ]
     },
     "execution_count": 87,
     "metadata": {},
     "output_type": "execute_result"
    }
   ],
   "source": [
    "mdg_adm4.nunique()"
   ]
  },
  {
   "cell_type": "markdown",
   "id": "8557161e-4729-49b8-a96e-bf11d215a874",
   "metadata": {},
   "source": [
    "Note: Unlike the PH boundaries, Madagascar has unique PCODES for each ADM4 region, so no need to create a unique index for level 4"
   ]
  },
  {
   "cell_type": "markdown",
   "id": "46c33dfb-64ec-4dcc-b69e-529ce0ab5e1c",
   "metadata": {},
   "source": [
    "#### Find intersection of mapped pixels and level 4 admin boundary"
   ]
  },
  {
   "cell_type": "code",
   "execution_count": 88,
   "id": "2723835c-42c0-4356-8c97-424e9066f058",
   "metadata": {},
   "outputs": [],
   "source": [
    "mdg_pixels_with_buildings_sjoin_adm4 = gpd.sjoin(\n",
    "    mdg_pixels_with_buildings, mdg_adm4, how=\"left\", op=\"within\"\n",
    ")"
   ]
  },
  {
   "cell_type": "code",
   "execution_count": 89,
   "id": "377cdb73-726f-48a5-95d2-51a697b268ec",
   "metadata": {},
   "outputs": [],
   "source": [
    "mdg_pixels_with_buildings_sjoin_adm4.drop(\n",
    "    columns=[\n",
    "        'index_right', \n",
    "        'ADM0_PCODE',\n",
    "        'ADM0_EN',\n",
    "        'ADM1_EN',\n",
    "        'ADM1_TYPE',\n",
    "        'ADM2_EN',\n",
    "        'ADM2_TYPE',\n",
    "        'ADM3_EN',\n",
    "        'ADM3_TYPE',\n",
    "        'ADM4_EN',\n",
    "        'ADM4_TYPE',\n",
    "        'PROV_CODE_',\n",
    "        'OLD_PROVIN',\n",
    "        'PROV_TYPE',\n",
    "        'NOTES',\n",
    "        'SOURCE'\n",
    "    ],\n",
    "    inplace=True,\n",
    ")"
   ]
  },
  {
   "cell_type": "code",
   "execution_count": 90,
   "id": "70c7576e-004f-427a-9176-8bb19d8887ad",
   "metadata": {},
   "outputs": [
    {
     "data": {
      "text/html": [
       "<div>\n",
       "<style scoped>\n",
       "    .dataframe tbody tr th:only-of-type {\n",
       "        vertical-align: middle;\n",
       "    }\n",
       "\n",
       "    .dataframe tbody tr th {\n",
       "        vertical-align: top;\n",
       "    }\n",
       "\n",
       "    .dataframe thead th {\n",
       "        text-align: right;\n",
       "    }\n",
       "</style>\n",
       "<table border=\"1\" class=\"dataframe\">\n",
       "  <thead>\n",
       "    <tr style=\"text-align: right;\">\n",
       "      <th></th>\n",
       "      <th>index</th>\n",
       "      <th>geometry</th>\n",
       "      <th>ADM1_PCODE</th>\n",
       "      <th>ADM2_PCODE</th>\n",
       "      <th>ADM3_PCODE</th>\n",
       "      <th>ADM4_PCODE</th>\n",
       "    </tr>\n",
       "  </thead>\n",
       "  <tbody>\n",
       "    <tr>\n",
       "      <th>1</th>\n",
       "      <td>1</td>\n",
       "      <td>POINT (49.27167 -11.95611)</td>\n",
       "      <td>MG71</td>\n",
       "      <td>MG71713</td>\n",
       "      <td>MG71713170</td>\n",
       "      <td>MG71713170002</td>\n",
       "    </tr>\n",
       "    <tr>\n",
       "      <th>5</th>\n",
       "      <td>5</td>\n",
       "      <td>POINT (49.25278 -11.99111)</td>\n",
       "      <td>MG71</td>\n",
       "      <td>MG71713</td>\n",
       "      <td>MG71713170</td>\n",
       "      <td>MG71713170002</td>\n",
       "    </tr>\n",
       "    <tr>\n",
       "      <th>6</th>\n",
       "      <td>6</td>\n",
       "      <td>POINT (49.22861 -12.04611)</td>\n",
       "      <td>MG71</td>\n",
       "      <td>MG71713</td>\n",
       "      <td>MG71713170</td>\n",
       "      <td>MG71713170001</td>\n",
       "    </tr>\n",
       "    <tr>\n",
       "      <th>7</th>\n",
       "      <td>7</td>\n",
       "      <td>POINT (49.22861 -12.04639)</td>\n",
       "      <td>MG71</td>\n",
       "      <td>MG71713</td>\n",
       "      <td>MG71713170</td>\n",
       "      <td>MG71713170001</td>\n",
       "    </tr>\n",
       "    <tr>\n",
       "      <th>9</th>\n",
       "      <td>9</td>\n",
       "      <td>POINT (49.23278 -12.05417)</td>\n",
       "      <td>MG71</td>\n",
       "      <td>MG71713</td>\n",
       "      <td>MG71713170</td>\n",
       "      <td>MG71713170001</td>\n",
       "    </tr>\n",
       "  </tbody>\n",
       "</table>\n",
       "</div>"
      ],
      "text/plain": [
       "   index                    geometry ADM1_PCODE ADM2_PCODE  ADM3_PCODE  \\\n",
       "1      1  POINT (49.27167 -11.95611)       MG71    MG71713  MG71713170   \n",
       "5      5  POINT (49.25278 -11.99111)       MG71    MG71713  MG71713170   \n",
       "6      6  POINT (49.22861 -12.04611)       MG71    MG71713  MG71713170   \n",
       "7      7  POINT (49.22861 -12.04639)       MG71    MG71713  MG71713170   \n",
       "9      9  POINT (49.23278 -12.05417)       MG71    MG71713  MG71713170   \n",
       "\n",
       "      ADM4_PCODE  \n",
       "1  MG71713170002  \n",
       "5  MG71713170002  \n",
       "6  MG71713170001  \n",
       "7  MG71713170001  \n",
       "9  MG71713170001  "
      ]
     },
     "execution_count": 90,
     "metadata": {},
     "output_type": "execute_result"
    }
   ],
   "source": [
    "mdg_pixels_with_buildings_sjoin_adm4.head()"
   ]
  },
  {
   "cell_type": "code",
   "execution_count": 26,
   "id": "ac66b92c-d005-43dd-b6ee-420cdb66ee04",
   "metadata": {},
   "outputs": [],
   "source": [
    "# # 2021\n",
    "mdg_pixels_with_buildings_sjoin_adm4.to_file(\n",
    "    \"../data/mdg_pixels_with_buildings_sjoin_adm4.gpkg\", driver=\"GPKG\"\n",
    ")"
   ]
  },
  {
   "cell_type": "markdown",
   "id": "e78ae32c-6e41-4be3-ab31-1943a2449621",
   "metadata": {},
   "source": [
    "#### Find intersection of unmapped pixels and level 4 admin boundary"
   ]
  },
  {
   "cell_type": "code",
   "execution_count": 92,
   "id": "135db3b9-d1ad-4585-957f-755ed471e86f",
   "metadata": {},
   "outputs": [],
   "source": [
    "mdg_pixels_no_buildings_sjoin_adm4 = gpd.sjoin(\n",
    "    mdg_pixels_no_buildings, mdg_adm4, how=\"left\", op=\"within\"\n",
    ")"
   ]
  },
  {
   "cell_type": "code",
   "execution_count": 93,
   "id": "a6024b11-32b4-4bea-ab19-060cdb58f4f4",
   "metadata": {},
   "outputs": [],
   "source": [
    "mdg_pixels_no_buildings_sjoin_adm4.drop(\n",
    "    columns=[\n",
    "        'index_right', \n",
    "        'ADM0_PCODE',\n",
    "        'ADM0_EN',\n",
    "        'ADM1_EN',\n",
    "        'ADM1_TYPE',\n",
    "        'ADM2_EN',\n",
    "        'ADM2_TYPE',\n",
    "        'ADM3_EN',\n",
    "        'ADM3_TYPE',\n",
    "        'ADM4_EN',\n",
    "        'ADM4_TYPE',\n",
    "        'PROV_CODE_',\n",
    "        'OLD_PROVIN',\n",
    "        'PROV_TYPE',\n",
    "        'NOTES',\n",
    "        'SOURCE'\n",
    "    ],\n",
    "    inplace=True,\n",
    ")"
   ]
  },
  {
   "cell_type": "code",
   "execution_count": 94,
   "id": "1dcc23f9-7be0-45a8-8ba7-c196276d5cc8",
   "metadata": {},
   "outputs": [
    {
     "name": "stdout",
     "output_type": "stream",
     "text": [
      "<class 'geopandas.geodataframe.GeoDataFrame'>\n",
      "Int64Index: 1411110 entries, 0 to 1583564\n",
      "Data columns (total 6 columns):\n",
      " #   Column      Non-Null Count    Dtype   \n",
      "---  ------      --------------    -----   \n",
      " 0   index       1411110 non-null  int64   \n",
      " 1   geometry    1411110 non-null  geometry\n",
      " 2   ADM1_PCODE  1410004 non-null  object  \n",
      " 3   ADM2_PCODE  1410004 non-null  object  \n",
      " 4   ADM3_PCODE  1410004 non-null  object  \n",
      " 5   ADM4_PCODE  1410004 non-null  object  \n",
      "dtypes: geometry(1), int64(1), object(4)\n",
      "memory usage: 75.4+ MB\n"
     ]
    }
   ],
   "source": [
    "mdg_pixels_no_buildings_sjoin_adm4.info()"
   ]
  },
  {
   "cell_type": "code",
   "execution_count": 27,
   "id": "b6c2e6dc-a068-40ab-b10f-e69b742e1cae",
   "metadata": {},
   "outputs": [],
   "source": [
    "# # 2021\n",
    "mdg_pixels_no_buildings_sjoin_adm4.to_file(\n",
    "    \"../data/mdg_pixels_no_buildings_sjoin_adm4.gpkg\", driver=\"GPKG\"\n",
    ")"
   ]
  },
  {
   "cell_type": "markdown",
   "id": "0aaeb2aa-1159-40dd-a323-3a696ed3e602",
   "metadata": {},
   "source": [
    "### Saving final output"
   ]
  },
  {
   "cell_type": "code",
   "execution_count": 34,
   "id": "5a8ac3c1-8ea9-47c2-bbbe-592ee3d2e8db",
   "metadata": {},
   "outputs": [],
   "source": [
    "# # 2021\n",
    "# # Just run this so you don't have to rerun everything up top\n",
    "mdg_pixels_no_buildings_sjoin_adm4 = gpd.read_file(\n",
    "    \"../data/mdg_pixels_no_buildings_sjoin_adm4.gpkg\", driver=\"GPKG\"\n",
    ")\n",
    "mdg_pixels_with_buildings_sjoin_adm4 = gpd.read_file(\n",
    "    \"../data/mdg_pixels_with_buildings_sjoin_adm4.gpkg\", driver=\"GPKG\"\n",
    ")"
   ]
  },
  {
   "cell_type": "code",
   "execution_count": 12,
   "id": "bf9cd71d-780a-4bf4-8ce3-19d64dd1647f",
   "metadata": {},
   "outputs": [],
   "source": [
    "# Drop nan values in the dataframe\n",
    "mdg_pixels_no_buildings_sjoin_adm4.dropna(\n",
    "    subset=[\"ADM4_PCODE\",\"ADM3_PCODE\",\"ADM2_PCODE\",\"ADM1_PCODE\"], inplace=True\n",
    ")\n",
    "\n",
    "mdg_pixels_with_buildings_sjoin_adm4.dropna(\n",
    "    subset=[\"ADM4_PCODE\",\"ADM3_PCODE\",\"ADM2_PCODE\",\"ADM1_PCODE\"], inplace=True\n",
    ")"
   ]
  },
  {
   "cell_type": "code",
   "execution_count": 13,
   "id": "4ff13ec9-8ea5-479a-8c95-22cf632ac6d4",
   "metadata": {},
   "outputs": [],
   "source": [
    "# Adding a column to indicate that these pixels are mapped/unmapped\n",
    "mdg_pixels_with_buildings_sjoin_adm4[\"status\"] = \"mapped\"\n",
    "mdg_pixels_no_buildings_sjoin_adm4[\"status\"] = \"unmapped\""
   ]
  },
  {
   "cell_type": "code",
   "execution_count": 14,
   "id": "b3ea29e8-db04-44ec-9aa0-1fc23ec6b945",
   "metadata": {},
   "outputs": [],
   "source": [
    "# Join the mapped and unppaed pixels together\n",
    "mdg_pixels_all = pd.concat(\n",
    "    [mdg_pixels_with_buildings_sjoin_adm4, mdg_pixels_no_buildings_sjoin_adm4]\n",
    ")"
   ]
  },
  {
   "cell_type": "markdown",
   "id": "4ce390a0-40f9-43a6-9a5f-1cf212936701",
   "metadata": {},
   "source": [
    "Final output for Madagascar should be as follows:"
   ]
  },
  {
   "cell_type": "code",
   "execution_count": 15,
   "id": "f60f66c0-ccb2-4054-a4d6-18c1f4cd417e",
   "metadata": {},
   "outputs": [
    {
     "data": {
      "text/html": [
       "<div>\n",
       "<style scoped>\n",
       "    .dataframe tbody tr th:only-of-type {\n",
       "        vertical-align: middle;\n",
       "    }\n",
       "\n",
       "    .dataframe tbody tr th {\n",
       "        vertical-align: top;\n",
       "    }\n",
       "\n",
       "    .dataframe thead th {\n",
       "        text-align: right;\n",
       "    }\n",
       "</style>\n",
       "<table border=\"1\" class=\"dataframe\">\n",
       "  <thead>\n",
       "    <tr style=\"text-align: right;\">\n",
       "      <th></th>\n",
       "      <th>index</th>\n",
       "      <th>ADM1_PCODE</th>\n",
       "      <th>ADM2_PCODE</th>\n",
       "      <th>ADM3_PCODE</th>\n",
       "      <th>ADM4_PCODE</th>\n",
       "      <th>geometry</th>\n",
       "      <th>status</th>\n",
       "    </tr>\n",
       "  </thead>\n",
       "  <tbody>\n",
       "    <tr>\n",
       "      <th>0</th>\n",
       "      <td>1</td>\n",
       "      <td>MG71</td>\n",
       "      <td>MG71713</td>\n",
       "      <td>MG71713170</td>\n",
       "      <td>MG71713170002</td>\n",
       "      <td>POINT (49.27167 -11.95611)</td>\n",
       "      <td>mapped</td>\n",
       "    </tr>\n",
       "    <tr>\n",
       "      <th>1</th>\n",
       "      <td>5</td>\n",
       "      <td>MG71</td>\n",
       "      <td>MG71713</td>\n",
       "      <td>MG71713170</td>\n",
       "      <td>MG71713170002</td>\n",
       "      <td>POINT (49.25278 -11.99111)</td>\n",
       "      <td>mapped</td>\n",
       "    </tr>\n",
       "    <tr>\n",
       "      <th>2</th>\n",
       "      <td>6</td>\n",
       "      <td>MG71</td>\n",
       "      <td>MG71713</td>\n",
       "      <td>MG71713170</td>\n",
       "      <td>MG71713170001</td>\n",
       "      <td>POINT (49.22861 -12.04611)</td>\n",
       "      <td>mapped</td>\n",
       "    </tr>\n",
       "    <tr>\n",
       "      <th>3</th>\n",
       "      <td>7</td>\n",
       "      <td>MG71</td>\n",
       "      <td>MG71713</td>\n",
       "      <td>MG71713170</td>\n",
       "      <td>MG71713170001</td>\n",
       "      <td>POINT (49.22861 -12.04639)</td>\n",
       "      <td>mapped</td>\n",
       "    </tr>\n",
       "    <tr>\n",
       "      <th>4</th>\n",
       "      <td>9</td>\n",
       "      <td>MG71</td>\n",
       "      <td>MG71713</td>\n",
       "      <td>MG71713170</td>\n",
       "      <td>MG71713170001</td>\n",
       "      <td>POINT (49.23278 -12.05417)</td>\n",
       "      <td>mapped</td>\n",
       "    </tr>\n",
       "  </tbody>\n",
       "</table>\n",
       "</div>"
      ],
      "text/plain": [
       "   index ADM1_PCODE ADM2_PCODE  ADM3_PCODE     ADM4_PCODE  \\\n",
       "0      1       MG71    MG71713  MG71713170  MG71713170002   \n",
       "1      5       MG71    MG71713  MG71713170  MG71713170002   \n",
       "2      6       MG71    MG71713  MG71713170  MG71713170001   \n",
       "3      7       MG71    MG71713  MG71713170  MG71713170001   \n",
       "4      9       MG71    MG71713  MG71713170  MG71713170001   \n",
       "\n",
       "                     geometry  status  \n",
       "0  POINT (49.27167 -11.95611)  mapped  \n",
       "1  POINT (49.25278 -11.99111)  mapped  \n",
       "2  POINT (49.22861 -12.04611)  mapped  \n",
       "3  POINT (49.22861 -12.04639)  mapped  \n",
       "4  POINT (49.23278 -12.05417)  mapped  "
      ]
     },
     "execution_count": 15,
     "metadata": {},
     "output_type": "execute_result"
    }
   ],
   "source": [
    "mdg_pixels_all.head()"
   ]
  },
  {
   "cell_type": "code",
   "execution_count": 62,
   "id": "78815c2a-95a0-4906-9a26-78248323c747",
   "metadata": {},
   "outputs": [],
   "source": [
    "# 2021\n",
    "Save all columns (including geometry) to gkpg\n",
    "mdg_pixels_all.to_file(\"../data/mdg_pixels_all.gpkg\", driver=\"GPKG\")"
   ]
  },
  {
   "cell_type": "code",
   "execution_count": 63,
   "id": "24a886c0-7e98-465b-929f-95678977be28",
   "metadata": {},
   "outputs": [],
   "source": [
    "# 2021\n",
    "Drop geometry column\n",
    "mdg_pixels_all.drop(columns=[\"geometry\"], inplace=True)"
   ]
  },
  {
   "cell_type": "code",
   "execution_count": 64,
   "id": "e4c2e4ba-fa70-4606-a4cf-bcac86018b3b",
   "metadata": {},
   "outputs": [],
   "source": [
    "# 2021\n",
    "Save remaining columns as csv \n",
    "mdg_pixels_all.to_csv(\"../data/mdg_pixels_all.csv\", index=False)"
   ]
  },
  {
   "cell_type": "markdown",
   "id": "0f13ea07-e639-472f-9e80-1568e5052736",
   "metadata": {},
   "source": [
    "## Calculate percent completeness per admin boundary level"
   ]
  },
  {
   "cell_type": "markdown",
   "id": "d3c2af4c-4848-4818-b601-83b85cc5d34f",
   "metadata": {},
   "source": [
    "In the following code snippets, we use a pivot table to get the number of mapped and unmapped pixels for each administrative region, then calculate the percent completeness\n",
    "\n",
    "We use `ADM2_PCODE`/`ADM3_PCODE` as the index for each admin region."
   ]
  },
  {
   "cell_type": "markdown",
   "id": "6ce9d103-0529-44bd-9138-48b9dbf08195",
   "metadata": {},
   "source": [
    "### Loading mapped/unmapped pixels"
   ]
  },
  {
   "cell_type": "code",
   "execution_count": 37,
   "id": "185786dd-13f4-4dc0-a38d-9c0830f8a707",
   "metadata": {},
   "outputs": [],
   "source": [
    "# Just run this so you don't have to rerun everything up top\n",
    "mdg_pixels_all = pd.read_csv(\"../data/mdg_pixels_all.csv\")"
   ]
  },
  {
   "cell_type": "markdown",
   "id": "5ec2fa64-812d-43f1-ae4c-f2872c4a4dd1",
   "metadata": {},
   "source": [
    "### Loading admin boundaries"
   ]
  },
  {
   "cell_type": "code",
   "execution_count": 35,
   "id": "5ae51de9-5372-44d1-8503-c11d11b48ebf",
   "metadata": {},
   "outputs": [],
   "source": [
    "mdg_adm2 = gpd.read_file(\n",
    "    \"../download_data/mdg_adm_all/mdg_admbnda_adm2_BNGRC_OCHA_20181031.shp\"\n",
    ")"
   ]
  },
  {
   "cell_type": "code",
   "execution_count": 36,
   "id": "42fcf3a6-9e3c-4464-917d-75574598dbb7",
   "metadata": {},
   "outputs": [],
   "source": [
    "mdg_adm3 = gpd.read_file(\n",
    "    \"../download_data/mdg_adm_all/mdg_admbnda_adm3_BNGRC_OCHA_20181031.shp\"\n",
    ")"
   ]
  },
  {
   "cell_type": "markdown",
   "id": "48bf1c28-3bba-4280-bc99-11d6c7b99ad3",
   "metadata": {},
   "source": [
    "#### Level 2 Boundaries (districts)"
   ]
  },
  {
   "cell_type": "code",
   "execution_count": 45,
   "id": "6a7b9508-5bc5-4a93-afb3-93b6020c1c91",
   "metadata": {},
   "outputs": [],
   "source": [
    "# fill_value = 0 fills in NaN values with 0\n",
    "# If a region has no mapped pixels, it will give NaN\n",
    "# which would cause a bug in calculating pct completness\n",
    "adm2_df = pd.pivot_table(mdg_pixels_all[[\"ADM2_PCODE\",\"status\", \"index\"]], index = [\"ADM2_PCODE\"], columns = [\"status\"], aggfunc=\"count\", fill_value=0)"
   ]
  },
  {
   "cell_type": "code",
   "execution_count": 46,
   "id": "1bcef6a3-31a6-4923-8893-a430fa8b7c60",
   "metadata": {},
   "outputs": [
    {
     "data": {
      "text/html": [
       "<div>\n",
       "<style scoped>\n",
       "    .dataframe tbody tr th:only-of-type {\n",
       "        vertical-align: middle;\n",
       "    }\n",
       "\n",
       "    .dataframe tbody tr th {\n",
       "        vertical-align: top;\n",
       "    }\n",
       "\n",
       "    .dataframe thead tr th {\n",
       "        text-align: left;\n",
       "    }\n",
       "\n",
       "    .dataframe thead tr:last-of-type th {\n",
       "        text-align: right;\n",
       "    }\n",
       "</style>\n",
       "<table border=\"1\" class=\"dataframe\">\n",
       "  <thead>\n",
       "    <tr>\n",
       "      <th></th>\n",
       "      <th colspan=\"2\" halign=\"left\">index</th>\n",
       "    </tr>\n",
       "    <tr>\n",
       "      <th>status</th>\n",
       "      <th>mapped</th>\n",
       "      <th>unmapped</th>\n",
       "    </tr>\n",
       "    <tr>\n",
       "      <th>ADM2_PCODE</th>\n",
       "      <th></th>\n",
       "      <th></th>\n",
       "    </tr>\n",
       "  </thead>\n",
       "  <tbody>\n",
       "    <tr>\n",
       "      <th>MG11101001A</th>\n",
       "      <td>3216</td>\n",
       "      <td>990</td>\n",
       "    </tr>\n",
       "    <tr>\n",
       "      <th>MG11101002A</th>\n",
       "      <td>1519</td>\n",
       "      <td>3911</td>\n",
       "    </tr>\n",
       "    <tr>\n",
       "      <th>MG11101003A</th>\n",
       "      <td>1456</td>\n",
       "      <td>1742</td>\n",
       "    </tr>\n",
       "    <tr>\n",
       "      <th>MG11101004A</th>\n",
       "      <td>2789</td>\n",
       "      <td>2304</td>\n",
       "    </tr>\n",
       "    <tr>\n",
       "      <th>MG11101005A</th>\n",
       "      <td>3037</td>\n",
       "      <td>6104</td>\n",
       "    </tr>\n",
       "  </tbody>\n",
       "</table>\n",
       "</div>"
      ],
      "text/plain": [
       "             index         \n",
       "status      mapped unmapped\n",
       "ADM2_PCODE                 \n",
       "MG11101001A   3216      990\n",
       "MG11101002A   1519     3911\n",
       "MG11101003A   1456     1742\n",
       "MG11101004A   2789     2304\n",
       "MG11101005A   3037     6104"
      ]
     },
     "execution_count": 46,
     "metadata": {},
     "output_type": "execute_result"
    }
   ],
   "source": [
    "adm2_df.head()"
   ]
  },
  {
   "cell_type": "markdown",
   "id": "1f9f445b-1d01-4721-9519-5cccefd007b8",
   "metadata": {},
   "source": [
    "The resulting dataframe has a multiindex, which we will fix in the next code blocks"
   ]
  },
  {
   "cell_type": "code",
   "execution_count": 47,
   "id": "a6c68802-84ea-4c17-a156-47b7bdb623fe",
   "metadata": {},
   "outputs": [],
   "source": [
    "adm2_df.columns = adm2_df.columns.get_level_values(1)\n",
    "adm2_df = adm2_df.reset_index().reset_index()"
   ]
  },
  {
   "cell_type": "code",
   "execution_count": 48,
   "id": "4a617dcb-4008-4b6d-a6bd-789160a568a4",
   "metadata": {},
   "outputs": [
    {
     "data": {
      "text/html": [
       "<div>\n",
       "<style scoped>\n",
       "    .dataframe tbody tr th:only-of-type {\n",
       "        vertical-align: middle;\n",
       "    }\n",
       "\n",
       "    .dataframe tbody tr th {\n",
       "        vertical-align: top;\n",
       "    }\n",
       "\n",
       "    .dataframe thead th {\n",
       "        text-align: right;\n",
       "    }\n",
       "</style>\n",
       "<table border=\"1\" class=\"dataframe\">\n",
       "  <thead>\n",
       "    <tr style=\"text-align: right;\">\n",
       "      <th>status</th>\n",
       "      <th>index</th>\n",
       "      <th>ADM2_PCODE</th>\n",
       "      <th>mapped</th>\n",
       "      <th>unmapped</th>\n",
       "    </tr>\n",
       "  </thead>\n",
       "  <tbody>\n",
       "    <tr>\n",
       "      <th>0</th>\n",
       "      <td>0</td>\n",
       "      <td>MG11101001A</td>\n",
       "      <td>3216</td>\n",
       "      <td>990</td>\n",
       "    </tr>\n",
       "    <tr>\n",
       "      <th>1</th>\n",
       "      <td>1</td>\n",
       "      <td>MG11101002A</td>\n",
       "      <td>1519</td>\n",
       "      <td>3911</td>\n",
       "    </tr>\n",
       "    <tr>\n",
       "      <th>2</th>\n",
       "      <td>2</td>\n",
       "      <td>MG11101003A</td>\n",
       "      <td>1456</td>\n",
       "      <td>1742</td>\n",
       "    </tr>\n",
       "    <tr>\n",
       "      <th>3</th>\n",
       "      <td>3</td>\n",
       "      <td>MG11101004A</td>\n",
       "      <td>2789</td>\n",
       "      <td>2304</td>\n",
       "    </tr>\n",
       "    <tr>\n",
       "      <th>4</th>\n",
       "      <td>4</td>\n",
       "      <td>MG11101005A</td>\n",
       "      <td>3037</td>\n",
       "      <td>6104</td>\n",
       "    </tr>\n",
       "  </tbody>\n",
       "</table>\n",
       "</div>"
      ],
      "text/plain": [
       "status  index   ADM2_PCODE  mapped  unmapped\n",
       "0           0  MG11101001A    3216       990\n",
       "1           1  MG11101002A    1519      3911\n",
       "2           2  MG11101003A    1456      1742\n",
       "3           3  MG11101004A    2789      2304\n",
       "4           4  MG11101005A    3037      6104"
      ]
     },
     "execution_count": 48,
     "metadata": {},
     "output_type": "execute_result"
    }
   ],
   "source": [
    "# Dataframe now has a regular index!\n",
    "adm2_df.head()"
   ]
  },
  {
   "cell_type": "code",
   "execution_count": 49,
   "id": "a14ab04d-06bb-40b2-b247-a48d1aa33afd",
   "metadata": {},
   "outputs": [],
   "source": [
    "# Drop the index column \n",
    "adm2_df.drop([\"index\"],axis = 1,inplace=True)"
   ]
  },
  {
   "cell_type": "code",
   "execution_count": 50,
   "id": "6c42cb8d-61f6-4a0c-ac17-8eb6cfc2528a",
   "metadata": {},
   "outputs": [],
   "source": [
    "# Renaming columns to fit previous convention\n",
    "adm2_df.rename(columns = {\n",
    "    'mapped':'pixels_withbuilding_july2021',\n",
    "    'unmapped':'pixels_nobuilding_july2021'\n",
    "    },\n",
    "    inplace=True\n",
    ")\n",
    "\n",
    "# Adding a column for percent completeness\n",
    "adm2_df['percentage_completeness_july2021'] = (adm2_df['pixels_withbuilding_july2021']/(adm2_df['pixels_withbuilding_july2021'] + adm2_df['pixels_nobuilding_july2021'])) * 100"
   ]
  },
  {
   "cell_type": "code",
   "execution_count": 51,
   "id": "5a751c9d-902a-4d3a-9cd6-8f51bf02e125",
   "metadata": {},
   "outputs": [
    {
     "data": {
      "text/html": [
       "<div>\n",
       "<style scoped>\n",
       "    .dataframe tbody tr th:only-of-type {\n",
       "        vertical-align: middle;\n",
       "    }\n",
       "\n",
       "    .dataframe tbody tr th {\n",
       "        vertical-align: top;\n",
       "    }\n",
       "\n",
       "    .dataframe thead th {\n",
       "        text-align: right;\n",
       "    }\n",
       "</style>\n",
       "<table border=\"1\" class=\"dataframe\">\n",
       "  <thead>\n",
       "    <tr style=\"text-align: right;\">\n",
       "      <th>status</th>\n",
       "      <th>ADM2_PCODE</th>\n",
       "      <th>pixels_withbuilding_july2021</th>\n",
       "      <th>pixels_nobuilding_july2021</th>\n",
       "      <th>percentage_completeness_july2021</th>\n",
       "    </tr>\n",
       "  </thead>\n",
       "  <tbody>\n",
       "    <tr>\n",
       "      <th>0</th>\n",
       "      <td>MG11101001A</td>\n",
       "      <td>3216</td>\n",
       "      <td>990</td>\n",
       "      <td>76.462197</td>\n",
       "    </tr>\n",
       "    <tr>\n",
       "      <th>1</th>\n",
       "      <td>MG11101002A</td>\n",
       "      <td>1519</td>\n",
       "      <td>3911</td>\n",
       "      <td>27.974217</td>\n",
       "    </tr>\n",
       "    <tr>\n",
       "      <th>2</th>\n",
       "      <td>MG11101003A</td>\n",
       "      <td>1456</td>\n",
       "      <td>1742</td>\n",
       "      <td>45.528455</td>\n",
       "    </tr>\n",
       "    <tr>\n",
       "      <th>3</th>\n",
       "      <td>MG11101004A</td>\n",
       "      <td>2789</td>\n",
       "      <td>2304</td>\n",
       "      <td>54.761437</td>\n",
       "    </tr>\n",
       "    <tr>\n",
       "      <th>4</th>\n",
       "      <td>MG11101005A</td>\n",
       "      <td>3037</td>\n",
       "      <td>6104</td>\n",
       "      <td>33.223936</td>\n",
       "    </tr>\n",
       "  </tbody>\n",
       "</table>\n",
       "</div>"
      ],
      "text/plain": [
       "status   ADM2_PCODE  pixels_withbuilding_july2021  pixels_nobuilding_july2021  \\\n",
       "0       MG11101001A                          3216                         990   \n",
       "1       MG11101002A                          1519                        3911   \n",
       "2       MG11101003A                          1456                        1742   \n",
       "3       MG11101004A                          2789                        2304   \n",
       "4       MG11101005A                          3037                        6104   \n",
       "\n",
       "status  percentage_completeness_july2021  \n",
       "0                              76.462197  \n",
       "1                              27.974217  \n",
       "2                              45.528455  \n",
       "3                              54.761437  \n",
       "4                              33.223936  "
      ]
     },
     "execution_count": 51,
     "metadata": {},
     "output_type": "execute_result"
    }
   ],
   "source": [
    "adm2_df.head()"
   ]
  },
  {
   "cell_type": "code",
   "execution_count": 56,
   "id": "0bffa46b-b54d-4542-8916-90c797ba7a1e",
   "metadata": {},
   "outputs": [],
   "source": [
    "# Create new dataframe that will store mdg_adm2 \n",
    "# with percentage completness output\n",
    "mdg_adm2_with_output = mdg_adm2\n",
    "\n",
    "# Get only the columns we need to identify region\n",
    "mdg_adm2_with_output = mdg_adm2_with_output[[\n",
    "    'ADM2_EN',\n",
    "    'ADM2_PCODE',\n",
    " ]]"
   ]
  },
  {
   "cell_type": "code",
   "execution_count": 57,
   "id": "d8ff1e8e-98ea-4d97-9ebb-3b747ed1918c",
   "metadata": {},
   "outputs": [],
   "source": [
    "# Left joining percentage completness values \n",
    "# to their respective regions\n",
    "mdg_adm2_with_output = pd.merge(mdg_adm2_with_output,adm2_df,how=\"left\", on = \"ADM2_PCODE\")"
   ]
  },
  {
   "cell_type": "code",
   "execution_count": 58,
   "id": "eee5db01-fd88-496c-9fed-a3bed50dfb9d",
   "metadata": {},
   "outputs": [],
   "source": [
    "# Left joining the new percent completness values \n",
    "# to the existing values using ADM2_PCODE as index\n",
    "# For the second dataframe, we only keep wanted columns\n",
    "district_output_july2021 = pd.merge(\n",
    "    mdg_adm2[['ADM2_PCODE','ADM2_EN','ADM2_TYPE','geometry']],\n",
    "    mdg_adm2_with_output[['ADM2_PCODE',\\\n",
    "                          'pixels_withbuilding_july2021',\\\n",
    "                          'pixels_nobuilding_july2021',\\\n",
    "                          'percentage_completeness_july2021',\\\n",
    "                         ]],\n",
    "    how=\"left\", \n",
    "    on = \"ADM2_PCODE\"\n",
    ")"
   ]
  },
  {
   "cell_type": "code",
   "execution_count": 59,
   "id": "407bc1c3-4ccb-4a3f-8cd0-77089ab1cbf6",
   "metadata": {},
   "outputs": [
    {
     "name": "stdout",
     "output_type": "stream",
     "text": [
      "<class 'geopandas.geodataframe.GeoDataFrame'>\n",
      "Int64Index: 119 entries, 0 to 118\n",
      "Data columns (total 7 columns):\n",
      " #   Column                            Non-Null Count  Dtype   \n",
      "---  ------                            --------------  -----   \n",
      " 0   ADM2_PCODE                        119 non-null    object  \n",
      " 1   ADM2_EN                           119 non-null    object  \n",
      " 2   ADM2_TYPE                         119 non-null    object  \n",
      " 3   geometry                          119 non-null    geometry\n",
      " 4   pixels_withbuilding_july2021      119 non-null    int64   \n",
      " 5   pixels_nobuilding_july2021        119 non-null    int64   \n",
      " 6   percentage_completeness_july2021  119 non-null    float64 \n",
      "dtypes: float64(1), geometry(1), int64(2), object(3)\n",
      "memory usage: 7.4+ KB\n"
     ]
    }
   ],
   "source": [
    "district_output_july2021.info()"
   ]
  },
  {
   "cell_type": "code",
   "execution_count": 60,
   "id": "0045b02a-16bb-4f2b-84cb-44fc878da964",
   "metadata": {},
   "outputs": [],
   "source": [
    "# Save to .gpkg file\n",
    "filename = \"../data/mapthegap-mdg-adm2-2021-07-12.gpkg\"\n",
    "district_output_july2021.to_file(filename, driver=\"GPKG\")"
   ]
  },
  {
   "cell_type": "markdown",
   "id": "61a6b89b-8127-47a1-9b67-1803cc4c21da",
   "metadata": {},
   "source": [
    "#### Level 3 (Commune)"
   ]
  },
  {
   "cell_type": "code",
   "execution_count": 61,
   "id": "5d7c9a11-e1b9-4c03-a531-7661f23de146",
   "metadata": {},
   "outputs": [],
   "source": [
    "# Pivot table of mapped and unmapped pixels\n",
    "# fill_value = 0 fills in NaN values with 0\n",
    "# If a region has no mapped pixels, it will give NaN\n",
    "# which would cause a bug in calculating pct completness\n",
    "adm3_df = pd.pivot_table(mdg_pixels_all[[\"ADM3_PCODE\",\"status\", \"index\"]], index = [\"ADM3_PCODE\"], columns = [\"status\"], aggfunc=\"count\", fill_value=0)\n",
    "\n",
    "# Fix dataframe index\n",
    "adm3_df.columns = adm3_df.columns.get_level_values(1)\n",
    "adm3_df = adm3_df.reset_index().reset_index()"
   ]
  },
  {
   "cell_type": "code",
   "execution_count": 62,
   "id": "9b4657e8-f7f7-437a-8af3-95d3c8b9dec2",
   "metadata": {},
   "outputs": [
    {
     "data": {
      "text/html": [
       "<div>\n",
       "<style scoped>\n",
       "    .dataframe tbody tr th:only-of-type {\n",
       "        vertical-align: middle;\n",
       "    }\n",
       "\n",
       "    .dataframe tbody tr th {\n",
       "        vertical-align: top;\n",
       "    }\n",
       "\n",
       "    .dataframe thead th {\n",
       "        text-align: right;\n",
       "    }\n",
       "</style>\n",
       "<table border=\"1\" class=\"dataframe\">\n",
       "  <thead>\n",
       "    <tr style=\"text-align: right;\">\n",
       "      <th>status</th>\n",
       "      <th>index</th>\n",
       "      <th>ADM3_PCODE</th>\n",
       "      <th>mapped</th>\n",
       "      <th>unmapped</th>\n",
       "    </tr>\n",
       "  </thead>\n",
       "  <tbody>\n",
       "    <tr>\n",
       "      <th>0</th>\n",
       "      <td>0</td>\n",
       "      <td>MG11101001</td>\n",
       "      <td>3216</td>\n",
       "      <td>990</td>\n",
       "    </tr>\n",
       "    <tr>\n",
       "      <th>1</th>\n",
       "      <td>1</td>\n",
       "      <td>MG11101002</td>\n",
       "      <td>1519</td>\n",
       "      <td>3911</td>\n",
       "    </tr>\n",
       "    <tr>\n",
       "      <th>2</th>\n",
       "      <td>2</td>\n",
       "      <td>MG11101003</td>\n",
       "      <td>1456</td>\n",
       "      <td>1742</td>\n",
       "    </tr>\n",
       "    <tr>\n",
       "      <th>3</th>\n",
       "      <td>3</td>\n",
       "      <td>MG11101004</td>\n",
       "      <td>2789</td>\n",
       "      <td>2304</td>\n",
       "    </tr>\n",
       "    <tr>\n",
       "      <th>4</th>\n",
       "      <td>4</td>\n",
       "      <td>MG11101005</td>\n",
       "      <td>3037</td>\n",
       "      <td>6104</td>\n",
       "    </tr>\n",
       "  </tbody>\n",
       "</table>\n",
       "</div>"
      ],
      "text/plain": [
       "status  index  ADM3_PCODE  mapped  unmapped\n",
       "0           0  MG11101001    3216       990\n",
       "1           1  MG11101002    1519      3911\n",
       "2           2  MG11101003    1456      1742\n",
       "3           3  MG11101004    2789      2304\n",
       "4           4  MG11101005    3037      6104"
      ]
     },
     "execution_count": 62,
     "metadata": {},
     "output_type": "execute_result"
    }
   ],
   "source": [
    "# Dataframe now has a regular index!\n",
    "adm3_df.head()"
   ]
  },
  {
   "cell_type": "code",
   "execution_count": 63,
   "id": "4aeae482-b207-4a17-a79b-74157277bc90",
   "metadata": {},
   "outputs": [],
   "source": [
    "# Drop the index column \n",
    "adm3_df.drop([\"index\"],axis = 1,inplace=True)\n",
    "\n",
    "# Renaming columns to fit previous convention\n",
    "adm3_df.rename(columns = {\n",
    "    'mapped':'pixels_withbuilding_july2021',\n",
    "    'unmapped':'pixels_nobuilding_july2021'\n",
    "    },\n",
    "    inplace=True\n",
    ")\n",
    "\n",
    "# Adding a column for percent completeness\n",
    "adm3_df['percentage_completeness_july2021'] = (adm3_df['pixels_withbuilding_july2021']/(adm3_df['pixels_withbuilding_july2021'] + adm3_df['pixels_nobuilding_july2021'])) * 100"
   ]
  },
  {
   "cell_type": "code",
   "execution_count": 64,
   "id": "272833e2-488d-4913-a096-b1cc36cd5cc8",
   "metadata": {},
   "outputs": [
    {
     "data": {
      "text/html": [
       "<div>\n",
       "<style scoped>\n",
       "    .dataframe tbody tr th:only-of-type {\n",
       "        vertical-align: middle;\n",
       "    }\n",
       "\n",
       "    .dataframe tbody tr th {\n",
       "        vertical-align: top;\n",
       "    }\n",
       "\n",
       "    .dataframe thead th {\n",
       "        text-align: right;\n",
       "    }\n",
       "</style>\n",
       "<table border=\"1\" class=\"dataframe\">\n",
       "  <thead>\n",
       "    <tr style=\"text-align: right;\">\n",
       "      <th>status</th>\n",
       "      <th>ADM3_PCODE</th>\n",
       "      <th>pixels_withbuilding_july2021</th>\n",
       "      <th>pixels_nobuilding_july2021</th>\n",
       "      <th>percentage_completeness_july2021</th>\n",
       "    </tr>\n",
       "  </thead>\n",
       "  <tbody>\n",
       "    <tr>\n",
       "      <th>0</th>\n",
       "      <td>MG11101001</td>\n",
       "      <td>3216</td>\n",
       "      <td>990</td>\n",
       "      <td>76.462197</td>\n",
       "    </tr>\n",
       "    <tr>\n",
       "      <th>1</th>\n",
       "      <td>MG11101002</td>\n",
       "      <td>1519</td>\n",
       "      <td>3911</td>\n",
       "      <td>27.974217</td>\n",
       "    </tr>\n",
       "    <tr>\n",
       "      <th>2</th>\n",
       "      <td>MG11101003</td>\n",
       "      <td>1456</td>\n",
       "      <td>1742</td>\n",
       "      <td>45.528455</td>\n",
       "    </tr>\n",
       "    <tr>\n",
       "      <th>3</th>\n",
       "      <td>MG11101004</td>\n",
       "      <td>2789</td>\n",
       "      <td>2304</td>\n",
       "      <td>54.761437</td>\n",
       "    </tr>\n",
       "    <tr>\n",
       "      <th>4</th>\n",
       "      <td>MG11101005</td>\n",
       "      <td>3037</td>\n",
       "      <td>6104</td>\n",
       "      <td>33.223936</td>\n",
       "    </tr>\n",
       "  </tbody>\n",
       "</table>\n",
       "</div>"
      ],
      "text/plain": [
       "status  ADM3_PCODE  pixels_withbuilding_july2021  pixels_nobuilding_july2021  \\\n",
       "0       MG11101001                          3216                         990   \n",
       "1       MG11101002                          1519                        3911   \n",
       "2       MG11101003                          1456                        1742   \n",
       "3       MG11101004                          2789                        2304   \n",
       "4       MG11101005                          3037                        6104   \n",
       "\n",
       "status  percentage_completeness_july2021  \n",
       "0                              76.462197  \n",
       "1                              27.974217  \n",
       "2                              45.528455  \n",
       "3                              54.761437  \n",
       "4                              33.223936  "
      ]
     },
     "execution_count": 64,
     "metadata": {},
     "output_type": "execute_result"
    }
   ],
   "source": [
    "adm3_df.head()"
   ]
  },
  {
   "cell_type": "code",
   "execution_count": 68,
   "id": "0a50b129-be26-4874-94aa-0109ed1e3c2f",
   "metadata": {},
   "outputs": [],
   "source": [
    "# Create new dataframe that will store phl_adm3\n",
    "# with percentage completness output\n",
    "mdg_adm3_with_output = mdg_adm3\n",
    "\n",
    "# Get only the columns we need to identify region\n",
    "mdg_adm3_with_output = mdg_adm3_with_output[[\n",
    "    'ADM3_EN',\n",
    "    'ADM3_PCODE',\n",
    "    'ADM3_TYPE'\n",
    " ]]"
   ]
  },
  {
   "cell_type": "code",
   "execution_count": 69,
   "id": "e16cab9c-762c-4c86-9a54-977b699b1e7b",
   "metadata": {},
   "outputs": [],
   "source": [
    "# Left joining percentage completness values \n",
    "# to their respective regions\n",
    "mdg_adm3_with_output = pd.merge(mdg_adm3_with_output,adm3_df,how=\"left\", on = \"ADM3_PCODE\")"
   ]
  },
  {
   "cell_type": "code",
   "execution_count": 70,
   "id": "843d3f7f-3f99-4a58-b201-4bf92d6486ae",
   "metadata": {},
   "outputs": [
    {
     "name": "stdout",
     "output_type": "stream",
     "text": [
      "<class 'pandas.core.frame.DataFrame'>\n",
      "Int64Index: 1579 entries, 0 to 1578\n",
      "Data columns (total 6 columns):\n",
      " #   Column                            Non-Null Count  Dtype  \n",
      "---  ------                            --------------  -----  \n",
      " 0   ADM3_EN                           1579 non-null   object \n",
      " 1   ADM3_PCODE                        1579 non-null   object \n",
      " 2   ADM3_TYPE                         1579 non-null   object \n",
      " 3   pixels_withbuilding_july2021      1579 non-null   int64  \n",
      " 4   pixels_nobuilding_july2021        1579 non-null   int64  \n",
      " 5   percentage_completeness_july2021  1579 non-null   float64\n",
      "dtypes: float64(1), int64(2), object(3)\n",
      "memory usage: 86.4+ KB\n"
     ]
    }
   ],
   "source": [
    "mdg_adm3_with_output.info()"
   ]
  },
  {
   "cell_type": "code",
   "execution_count": 71,
   "id": "cef787d5-26ec-4c7a-b585-2ada0dcfbebd",
   "metadata": {},
   "outputs": [
    {
     "data": {
      "text/html": [
       "<div>\n",
       "<style scoped>\n",
       "    .dataframe tbody tr th:only-of-type {\n",
       "        vertical-align: middle;\n",
       "    }\n",
       "\n",
       "    .dataframe tbody tr th {\n",
       "        vertical-align: top;\n",
       "    }\n",
       "\n",
       "    .dataframe thead th {\n",
       "        text-align: right;\n",
       "    }\n",
       "</style>\n",
       "<table border=\"1\" class=\"dataframe\">\n",
       "  <thead>\n",
       "    <tr style=\"text-align: right;\">\n",
       "      <th></th>\n",
       "      <th>ADM3_EN</th>\n",
       "      <th>ADM3_PCODE</th>\n",
       "      <th>ADM3_TYPE</th>\n",
       "      <th>pixels_withbuilding_july2021</th>\n",
       "      <th>pixels_nobuilding_july2021</th>\n",
       "      <th>percentage_completeness_july2021</th>\n",
       "    </tr>\n",
       "  </thead>\n",
       "  <tbody>\n",
       "    <tr>\n",
       "      <th>0</th>\n",
       "      <td>1er Arrondissement</td>\n",
       "      <td>MG11101001</td>\n",
       "      <td>Commune</td>\n",
       "      <td>3216</td>\n",
       "      <td>990</td>\n",
       "      <td>76.462197</td>\n",
       "    </tr>\n",
       "    <tr>\n",
       "      <th>1</th>\n",
       "      <td>2e Arrondissement</td>\n",
       "      <td>MG11101002</td>\n",
       "      <td>Commune</td>\n",
       "      <td>1519</td>\n",
       "      <td>3911</td>\n",
       "      <td>27.974217</td>\n",
       "    </tr>\n",
       "    <tr>\n",
       "      <th>2</th>\n",
       "      <td>3e Arrondissement</td>\n",
       "      <td>MG11101003</td>\n",
       "      <td>Commune</td>\n",
       "      <td>1456</td>\n",
       "      <td>1742</td>\n",
       "      <td>45.528455</td>\n",
       "    </tr>\n",
       "    <tr>\n",
       "      <th>3</th>\n",
       "      <td>4e Arrondissement</td>\n",
       "      <td>MG11101004</td>\n",
       "      <td>Commune</td>\n",
       "      <td>2789</td>\n",
       "      <td>2304</td>\n",
       "      <td>54.761437</td>\n",
       "    </tr>\n",
       "    <tr>\n",
       "      <th>4</th>\n",
       "      <td>5e Arrondissement</td>\n",
       "      <td>MG11101005</td>\n",
       "      <td>Commune</td>\n",
       "      <td>3037</td>\n",
       "      <td>6104</td>\n",
       "      <td>33.223936</td>\n",
       "    </tr>\n",
       "  </tbody>\n",
       "</table>\n",
       "</div>"
      ],
      "text/plain": [
       "              ADM3_EN  ADM3_PCODE ADM3_TYPE  pixels_withbuilding_july2021  \\\n",
       "0  1er Arrondissement  MG11101001   Commune                          3216   \n",
       "1   2e Arrondissement  MG11101002   Commune                          1519   \n",
       "2   3e Arrondissement  MG11101003   Commune                          1456   \n",
       "3   4e Arrondissement  MG11101004   Commune                          2789   \n",
       "4   5e Arrondissement  MG11101005   Commune                          3037   \n",
       "\n",
       "   pixels_nobuilding_july2021  percentage_completeness_july2021  \n",
       "0                         990                         76.462197  \n",
       "1                        3911                         27.974217  \n",
       "2                        1742                         45.528455  \n",
       "3                        2304                         54.761437  \n",
       "4                        6104                         33.223936  "
      ]
     },
     "execution_count": 71,
     "metadata": {},
     "output_type": "execute_result"
    }
   ],
   "source": [
    "mdg_adm3_with_output.head()"
   ]
  },
  {
   "cell_type": "markdown",
   "id": "09c3a5db-e170-4047-b867-f2ab10e15fa9",
   "metadata": {},
   "source": [
    "The last step will be to join it to the previous output and save it to file."
   ]
  },
  {
   "cell_type": "code",
   "execution_count": 72,
   "id": "b03972d3-95b3-4f62-8630-ce47ccffe289",
   "metadata": {},
   "outputs": [],
   "source": [
    "# Left joining the new percent completness values \n",
    "# to the existing values using ADM3_PCODE as index\n",
    "# For the second dataframe, we only keep wanted columns\n",
    "commune_output_july2021 = pd.merge(\n",
    "    mdg_adm3[['ADM3_PCODE','ADM3_EN','ADM3_TYPE','geometry']],\n",
    "    mdg_adm3_with_output[['ADM3_PCODE',\\\n",
    "                          'pixels_withbuilding_july2021',\\\n",
    "                          'pixels_nobuilding_july2021',\\\n",
    "                          'percentage_completeness_july2021'\\\n",
    "                         ]],\n",
    "    how=\"left\", \n",
    "    on = \"ADM3_PCODE\"\n",
    ")"
   ]
  },
  {
   "cell_type": "code",
   "execution_count": 73,
   "id": "0a220dc1-3568-4e20-a891-6a400d5fbcae",
   "metadata": {},
   "outputs": [
    {
     "data": {
      "text/html": [
       "<div>\n",
       "<style scoped>\n",
       "    .dataframe tbody tr th:only-of-type {\n",
       "        vertical-align: middle;\n",
       "    }\n",
       "\n",
       "    .dataframe tbody tr th {\n",
       "        vertical-align: top;\n",
       "    }\n",
       "\n",
       "    .dataframe thead th {\n",
       "        text-align: right;\n",
       "    }\n",
       "</style>\n",
       "<table border=\"1\" class=\"dataframe\">\n",
       "  <thead>\n",
       "    <tr style=\"text-align: right;\">\n",
       "      <th></th>\n",
       "      <th>ADM3_PCODE</th>\n",
       "      <th>ADM3_EN</th>\n",
       "      <th>ADM3_TYPE</th>\n",
       "      <th>geometry</th>\n",
       "      <th>pixels_withbuilding_july2021</th>\n",
       "      <th>pixels_nobuilding_july2021</th>\n",
       "      <th>percentage_completeness_july2021</th>\n",
       "    </tr>\n",
       "  </thead>\n",
       "  <tbody>\n",
       "    <tr>\n",
       "      <th>0</th>\n",
       "      <td>MG11101001</td>\n",
       "      <td>1er Arrondissement</td>\n",
       "      <td>Commune</td>\n",
       "      <td>POLYGON ((47.50556 -18.89146, 47.50563 -18.891...</td>\n",
       "      <td>3216</td>\n",
       "      <td>990</td>\n",
       "      <td>76.462197</td>\n",
       "    </tr>\n",
       "    <tr>\n",
       "      <th>1</th>\n",
       "      <td>MG11101002</td>\n",
       "      <td>2e Arrondissement</td>\n",
       "      <td>Commune</td>\n",
       "      <td>POLYGON ((47.55842 -18.91178, 47.55857 -18.911...</td>\n",
       "      <td>1519</td>\n",
       "      <td>3911</td>\n",
       "      <td>27.974217</td>\n",
       "    </tr>\n",
       "    <tr>\n",
       "      <th>2</th>\n",
       "      <td>MG11101003</td>\n",
       "      <td>3e Arrondissement</td>\n",
       "      <td>Commune</td>\n",
       "      <td>POLYGON ((47.51365 -18.87834, 47.51775 -18.879...</td>\n",
       "      <td>1456</td>\n",
       "      <td>1742</td>\n",
       "      <td>45.528455</td>\n",
       "    </tr>\n",
       "    <tr>\n",
       "      <th>3</th>\n",
       "      <td>MG11101004</td>\n",
       "      <td>4e Arrondissement</td>\n",
       "      <td>Commune</td>\n",
       "      <td>POLYGON ((47.50262 -18.91043, 47.50261 -18.910...</td>\n",
       "      <td>2789</td>\n",
       "      <td>2304</td>\n",
       "      <td>54.761437</td>\n",
       "    </tr>\n",
       "    <tr>\n",
       "      <th>4</th>\n",
       "      <td>MG11101005</td>\n",
       "      <td>5e Arrondissement</td>\n",
       "      <td>Commune</td>\n",
       "      <td>POLYGON ((47.53500 -18.85464, 47.53518 -18.854...</td>\n",
       "      <td>3037</td>\n",
       "      <td>6104</td>\n",
       "      <td>33.223936</td>\n",
       "    </tr>\n",
       "  </tbody>\n",
       "</table>\n",
       "</div>"
      ],
      "text/plain": [
       "   ADM3_PCODE             ADM3_EN ADM3_TYPE  \\\n",
       "0  MG11101001  1er Arrondissement   Commune   \n",
       "1  MG11101002   2e Arrondissement   Commune   \n",
       "2  MG11101003   3e Arrondissement   Commune   \n",
       "3  MG11101004   4e Arrondissement   Commune   \n",
       "4  MG11101005   5e Arrondissement   Commune   \n",
       "\n",
       "                                            geometry  \\\n",
       "0  POLYGON ((47.50556 -18.89146, 47.50563 -18.891...   \n",
       "1  POLYGON ((47.55842 -18.91178, 47.55857 -18.911...   \n",
       "2  POLYGON ((47.51365 -18.87834, 47.51775 -18.879...   \n",
       "3  POLYGON ((47.50262 -18.91043, 47.50261 -18.910...   \n",
       "4  POLYGON ((47.53500 -18.85464, 47.53518 -18.854...   \n",
       "\n",
       "   pixels_withbuilding_july2021  pixels_nobuilding_july2021  \\\n",
       "0                          3216                         990   \n",
       "1                          1519                        3911   \n",
       "2                          1456                        1742   \n",
       "3                          2789                        2304   \n",
       "4                          3037                        6104   \n",
       "\n",
       "   percentage_completeness_july2021  \n",
       "0                         76.462197  \n",
       "1                         27.974217  \n",
       "2                         45.528455  \n",
       "3                         54.761437  \n",
       "4                         33.223936  "
      ]
     },
     "execution_count": 73,
     "metadata": {},
     "output_type": "execute_result"
    }
   ],
   "source": [
    "# Scroll through the columns to see how percentage completeness increased over time!\n",
    "commune_output_july2021.head()"
   ]
  },
  {
   "cell_type": "code",
   "execution_count": 74,
   "id": "03cd3884-3f61-49fd-aa07-1126cef54414",
   "metadata": {},
   "outputs": [],
   "source": [
    "# Save to .gpkg file\n",
    "filename = \"../data/mapthegap-mdg-adm3-2021-07-12.gpkg\"\n",
    "commune_output_july2021.to_file(filename, driver=\"GPKG\")"
   ]
  },
  {
   "cell_type": "markdown",
   "id": "6020f9e1-fc49-4ba1-b2ca-ce505bfacb24",
   "metadata": {},
   "source": [
    "# Checkpoint\n",
    "\n",
    "At this point, we should have calculated the latest percent completeness as of July 12, 2020 for the whole country and per admin region. \n",
    "\n",
    "1. `mdg_pixels_all.csv` and `mdg_pixels_all(_jan2020).gpkg` which contains mapped/unmapped pixels, labelled by admin boundary PCODES\n",
    "2. `mapthegap-mdg-adm<2/3>-2021-07-12.gpkg`, which contains percent completeness values per administrative region, for Jul 2021 **only**\n",
    "\n",
    "The succeeding code is for running the same methodology for Jan 2020, with the same steps. Run the following code as needed. "
   ]
  },
  {
   "cell_type": "markdown",
   "id": "4a8a55a9-7d9a-416d-b68e-5fba0d28ecdf",
   "metadata": {},
   "source": [
    "# 2020"
   ]
  },
  {
   "cell_type": "markdown",
   "id": "bf56835a-8d0c-47b1-a9d6-d96e6caee01e",
   "metadata": {},
   "source": [
    "### Get intersection of HRSL pixels and OSM Buildings"
   ]
  },
  {
   "cell_type": "markdown",
   "id": "4d994a21-8408-428e-897b-c9035da9b964",
   "metadata": {},
   "source": [
    "#### Load OSM dataset"
   ]
  },
  {
   "cell_type": "code",
   "execution_count": 8,
   "id": "05692ae8-50c6-4a3f-bb31-70234e126c47",
   "metadata": {},
   "outputs": [],
   "source": [
    "# 2020 OSM File\n",
    "osm_mdg = gpd.read_file(\n",
    "    \"../download_data/mdg_osm_jan_2020_buildings.gpkg/mdg_osm_jan_2020_buildings.gpkg\",\n",
    "    driver=\"GPKG\",\n",
    ")"
   ]
  },
  {
   "cell_type": "markdown",
   "id": "4df1abde-35b9-4fec-8e3e-9569c48eb779",
   "metadata": {},
   "source": [
    "#### Get mapped pixels"
   ]
  },
  {
   "cell_type": "code",
   "execution_count": 30,
   "id": "ac9683ec-d6d7-4490-87b3-df5dca8ee13b",
   "metadata": {},
   "outputs": [],
   "source": [
    "# Just run this so you don't have to rerun everything up top\n",
    "hrsl_mdg_gdf = gpd.read_file('../data/hrsl_mdg.gpkg', driver='GPKG')"
   ]
  },
  {
   "cell_type": "code",
   "execution_count": 9,
   "id": "ea4ffd1c-62d1-4514-ac36-93cc4bed9c04",
   "metadata": {},
   "outputs": [],
   "source": [
    "mdg_pixels_with_buildings = gpd.sjoin(\n",
    "    hrsl_mdg_gdf, osm_mdg, how=\"inner\", op=\"intersects\"\n",
    ")"
   ]
  },
  {
   "cell_type": "code",
   "execution_count": 10,
   "id": "b6cac9f0-8b24-40e4-8c08-895ee44cbcb8",
   "metadata": {},
   "outputs": [],
   "source": [
    "mdg_pixels_with_buildings = mdg_pixels_with_buildings.drop_duplicates(subset='index')"
   ]
  },
  {
   "cell_type": "code",
   "execution_count": 11,
   "id": "136f76ef-ce7d-436f-a968-3e86b417b4cc",
   "metadata": {},
   "outputs": [],
   "source": [
    "mdg_pixels_with_buildings.drop(columns=['index_right', 'osm_id', 'code', 'fclass', 'name', 'type'], inplace=True)"
   ]
  },
  {
   "cell_type": "code",
   "execution_count": 12,
   "id": "4d512cfd-e333-4cd7-b6d8-4048ebf22bb6",
   "metadata": {},
   "outputs": [],
   "source": [
    "# 2020\n",
    "mdg_pixels_with_buildings.to_file('../data/mdg_pixels_with_buildings_jan2020.gpkg', driver='GPKG')"
   ]
  },
  {
   "cell_type": "markdown",
   "id": "0cc2adc6-e22c-4363-87ba-08850673bc9b",
   "metadata": {},
   "source": [
    "#### Get unmapped pixels"
   ]
  },
  {
   "cell_type": "code",
   "execution_count": 13,
   "id": "7602e47e-3e5a-42b8-8833-af672248d9ae",
   "metadata": {},
   "outputs": [],
   "source": [
    "mdg_pixels_no_buildings = pd.merge(hrsl_mdg_gdf, mdg_pixels_with_buildings, how='outer', indicator=True)"
   ]
  },
  {
   "cell_type": "code",
   "execution_count": 14,
   "id": "6893f0b4-f0d1-47e8-90a4-aa4970c0c5e1",
   "metadata": {},
   "outputs": [],
   "source": [
    "mdg_pixels_no_buildings = mdg_pixels_no_buildings[mdg_pixels_no_buildings['_merge'] == 'left_only']"
   ]
  },
  {
   "cell_type": "code",
   "execution_count": 15,
   "id": "19e72fc9-dea5-4f12-a9ca-6b6f1e8a1f89",
   "metadata": {},
   "outputs": [],
   "source": [
    "mdg_pixels_no_buildings.drop(columns=['_merge'], inplace=True)"
   ]
  },
  {
   "cell_type": "code",
   "execution_count": 16,
   "id": "aba4879e-3c11-40e3-92e1-94b00250baac",
   "metadata": {},
   "outputs": [],
   "source": [
    "# 2020\n",
    "# mdg_pixels_no_buildings.to_file('../data/mdg_pixels_no_buildings_jan2020.gpkg', driver='GPKG')"
   ]
  },
  {
   "cell_type": "markdown",
   "id": "71627636-422b-49ee-a1f6-6808074470d8",
   "metadata": {},
   "source": [
    "#### Calculate percent completeness"
   ]
  },
  {
   "cell_type": "code",
   "execution_count": 17,
   "id": "ab4bdf09-b5a4-4492-83d5-3c34edac37c8",
   "metadata": {},
   "outputs": [
    {
     "data": {
      "text/plain": [
       "10.890343831145868"
      ]
     },
     "execution_count": 17,
     "metadata": {},
     "output_type": "execute_result"
    }
   ],
   "source": [
    "len(mdg_pixels_with_buildings) / (len(mdg_pixels_with_buildings) + len(mdg_pixels_no_buildings)) * 100"
   ]
  },
  {
   "cell_type": "markdown",
   "id": "069ea3a3-7099-403d-bea6-cef3f2d2eaa7",
   "metadata": {},
   "source": [
    "### Aggregate to different admin boundaries"
   ]
  },
  {
   "cell_type": "markdown",
   "id": "cd5330c5-a6f0-4c0b-bfb0-b84d12d234de",
   "metadata": {},
   "source": [
    "#### Turn mapped pixels from a polygon layer to a point layer"
   ]
  },
  {
   "cell_type": "code",
   "execution_count": 8,
   "id": "e14aecfe-f947-4e6d-ad45-6ec96a10d693",
   "metadata": {},
   "outputs": [],
   "source": [
    "# # 2020\n",
    "# Just run this so you don't have to rerun everything up top\n",
    "# mdg_pixels_with_buildings = gpd.read_file(\n",
    "#     \"../data/mdg_pixels_with_buildings_jan2020.gpkg\", driver=\"GPKG\"\n",
    "# )"
   ]
  },
  {
   "cell_type": "code",
   "execution_count": 18,
   "id": "12d77479-0a14-41d0-a81f-313999b09631",
   "metadata": {},
   "outputs": [
    {
     "name": "stderr",
     "output_type": "stream",
     "text": [
      "/opt/conda/lib/python3.7/site-packages/ipykernel_launcher.py:1: UserWarning: Geometry is in a geographic CRS. Results from 'centroid' are likely incorrect. Use 'GeoSeries.to_crs()' to re-project geometries to a projected CRS before this operation.\n",
      "\n",
      "  \"\"\"Entry point for launching an IPython kernel.\n"
     ]
    }
   ],
   "source": [
    "mdg_pixels_with_buildings[\"geometry\"] = mdg_pixels_with_buildings[\"geometry\"].centroid"
   ]
  },
  {
   "cell_type": "markdown",
   "id": "7dc79baa-6b80-405d-bf15-8eb69f834a2e",
   "metadata": {},
   "source": [
    "#### Turn unmapped pixels from a polygon layer to a point layer"
   ]
  },
  {
   "cell_type": "code",
   "execution_count": 10,
   "id": "95d6e200-9ecd-4562-9f04-fad54455fe48",
   "metadata": {},
   "outputs": [],
   "source": [
    "# # 2020\n",
    "# # Just run this so you don't have to rerun everything up top\n",
    "# mdg_pixels_no_buildings = gpd.read_file(\n",
    "#     \"../data/mdg_pixels_no_buildings_jan2020.gpkg\", driver=\"GPKG\"\n",
    "# )"
   ]
  },
  {
   "cell_type": "code",
   "execution_count": 19,
   "id": "949b8e76-9185-44b2-a757-73f684074de5",
   "metadata": {},
   "outputs": [
    {
     "name": "stderr",
     "output_type": "stream",
     "text": [
      "/opt/conda/lib/python3.7/site-packages/ipykernel_launcher.py:1: UserWarning: Geometry is in a geographic CRS. Results from 'centroid' are likely incorrect. Use 'GeoSeries.to_crs()' to re-project geometries to a projected CRS before this operation.\n",
      "\n",
      "  \"\"\"Entry point for launching an IPython kernel.\n"
     ]
    }
   ],
   "source": [
    "mdg_pixels_no_buildings[\"geometry\"] = mdg_pixels_no_buildings[\"geometry\"].centroid"
   ]
  },
  {
   "cell_type": "markdown",
   "id": "1ce227cb-bb1e-4a74-957d-ce150ed31809",
   "metadata": {},
   "source": [
    "#### Load level 4 admin boundary"
   ]
  },
  {
   "cell_type": "code",
   "execution_count": 20,
   "id": "b19d4a91-e772-4e8a-a8c9-e36e5bf3507b",
   "metadata": {},
   "outputs": [],
   "source": [
    "mdg_adm4 = gpd.read_file(\n",
    "    \"../download_data/mdg_adm_all/mdg_admbnda_adm4_BNGRC_OCHA_20181031.shp\"\n",
    ")"
   ]
  },
  {
   "cell_type": "code",
   "execution_count": 44,
   "id": "c1cd899d-01ec-4ebd-8355-344fc019f34f",
   "metadata": {},
   "outputs": [
    {
     "data": {
      "text/html": [
       "<div>\n",
       "<style scoped>\n",
       "    .dataframe tbody tr th:only-of-type {\n",
       "        vertical-align: middle;\n",
       "    }\n",
       "\n",
       "    .dataframe tbody tr th {\n",
       "        vertical-align: top;\n",
       "    }\n",
       "\n",
       "    .dataframe thead th {\n",
       "        text-align: right;\n",
       "    }\n",
       "</style>\n",
       "<table border=\"1\" class=\"dataframe\">\n",
       "  <thead>\n",
       "    <tr style=\"text-align: right;\">\n",
       "      <th></th>\n",
       "      <th>ADM0_PCODE</th>\n",
       "      <th>ADM0_EN</th>\n",
       "      <th>ADM1_PCODE</th>\n",
       "      <th>ADM1_EN</th>\n",
       "      <th>ADM1_TYPE</th>\n",
       "      <th>ADM2_PCODE</th>\n",
       "      <th>ADM2_EN</th>\n",
       "      <th>ADM2_TYPE</th>\n",
       "      <th>ADM3_PCODE</th>\n",
       "      <th>ADM3_EN</th>\n",
       "      <th>ADM3_TYPE</th>\n",
       "      <th>ADM4_PCODE</th>\n",
       "      <th>ADM4_EN</th>\n",
       "      <th>ADM4_TYPE</th>\n",
       "      <th>PROV_CODE_</th>\n",
       "      <th>OLD_PROVIN</th>\n",
       "      <th>PROV_TYPE</th>\n",
       "      <th>NOTES</th>\n",
       "      <th>SOURCE</th>\n",
       "      <th>geometry</th>\n",
       "    </tr>\n",
       "  </thead>\n",
       "  <tbody>\n",
       "    <tr>\n",
       "      <th>0</th>\n",
       "      <td>MG</td>\n",
       "      <td>Madagascar</td>\n",
       "      <td>MG22</td>\n",
       "      <td>Amoron I Mania</td>\n",
       "      <td>Region</td>\n",
       "      <td>MG22203</td>\n",
       "      <td>Ambositra</td>\n",
       "      <td>District</td>\n",
       "      <td>MG22203090</td>\n",
       "      <td>Andina</td>\n",
       "      <td>Commune</td>\n",
       "      <td>MG22203090008</td>\n",
       "      <td>Ampasina</td>\n",
       "      <td>Fokontany</td>\n",
       "      <td>2</td>\n",
       "      <td>Fianarantsoa</td>\n",
       "      <td>Old Provinces/Faritany dissolved in 2007</td>\n",
       "      <td>None</td>\n",
       "      <td>BNGRC (National Disaster Management Office) Fo...</td>\n",
       "      <td>POLYGON ((47.10540 -20.51447, 47.11485 -20.514...</td>\n",
       "    </tr>\n",
       "    <tr>\n",
       "      <th>1</th>\n",
       "      <td>MG</td>\n",
       "      <td>Madagascar</td>\n",
       "      <td>MG22</td>\n",
       "      <td>Amoron I Mania</td>\n",
       "      <td>Region</td>\n",
       "      <td>MG22203</td>\n",
       "      <td>Ambositra</td>\n",
       "      <td>District</td>\n",
       "      <td>MG22203090</td>\n",
       "      <td>Andina</td>\n",
       "      <td>Commune</td>\n",
       "      <td>MG22203090011</td>\n",
       "      <td>Antanifotsy</td>\n",
       "      <td>Fokontany</td>\n",
       "      <td>2</td>\n",
       "      <td>Fianarantsoa</td>\n",
       "      <td>Old Provinces/Faritany dissolved in 2007</td>\n",
       "      <td>None</td>\n",
       "      <td>BNGRC (National Disaster Management Office) Fo...</td>\n",
       "      <td>POLYGON ((47.13580 -20.54133, 47.13600 -20.544...</td>\n",
       "    </tr>\n",
       "    <tr>\n",
       "      <th>2</th>\n",
       "      <td>MG</td>\n",
       "      <td>Madagascar</td>\n",
       "      <td>MG24</td>\n",
       "      <td>Ihorombe</td>\n",
       "      <td>Region</td>\n",
       "      <td>MG24216</td>\n",
       "      <td>Ihosy</td>\n",
       "      <td>District</td>\n",
       "      <td>MG24216192</td>\n",
       "      <td>Andiolava</td>\n",
       "      <td>Commune</td>\n",
       "      <td>MG24216192006</td>\n",
       "      <td>Amboloando</td>\n",
       "      <td>Fokontany</td>\n",
       "      <td>2</td>\n",
       "      <td>Fianarantsoa</td>\n",
       "      <td>Old Provinces/Faritany dissolved in 2007</td>\n",
       "      <td>None</td>\n",
       "      <td>BNGRC (National Disaster Management Office) Fo...</td>\n",
       "      <td>POLYGON ((45.58350 -22.53003, 45.59102 -22.534...</td>\n",
       "    </tr>\n",
       "    <tr>\n",
       "      <th>3</th>\n",
       "      <td>MG</td>\n",
       "      <td>Madagascar</td>\n",
       "      <td>MG24</td>\n",
       "      <td>Ihorombe</td>\n",
       "      <td>Region</td>\n",
       "      <td>MG24216</td>\n",
       "      <td>Ihosy</td>\n",
       "      <td>District</td>\n",
       "      <td>MG24216192</td>\n",
       "      <td>Andiolava</td>\n",
       "      <td>Commune</td>\n",
       "      <td>MG24216192002</td>\n",
       "      <td>Vatambe Nanarena</td>\n",
       "      <td>Fokontany</td>\n",
       "      <td>2</td>\n",
       "      <td>Fianarantsoa</td>\n",
       "      <td>Old Provinces/Faritany dissolved in 2007</td>\n",
       "      <td>None</td>\n",
       "      <td>BNGRC (National Disaster Management Office) Fo...</td>\n",
       "      <td>POLYGON ((45.51825 -22.27433, 45.51900 -22.274...</td>\n",
       "    </tr>\n",
       "    <tr>\n",
       "      <th>4</th>\n",
       "      <td>MG</td>\n",
       "      <td>Madagascar</td>\n",
       "      <td>MG24</td>\n",
       "      <td>Ihorombe</td>\n",
       "      <td>Region</td>\n",
       "      <td>MG24216</td>\n",
       "      <td>Ihosy</td>\n",
       "      <td>District</td>\n",
       "      <td>MG24216192</td>\n",
       "      <td>Andiolava</td>\n",
       "      <td>Commune</td>\n",
       "      <td>MG24216192003</td>\n",
       "      <td>Vohimary</td>\n",
       "      <td>Fokontany</td>\n",
       "      <td>2</td>\n",
       "      <td>Fianarantsoa</td>\n",
       "      <td>Old Provinces/Faritany dissolved in 2007</td>\n",
       "      <td>None</td>\n",
       "      <td>BNGRC (National Disaster Management Office) Fo...</td>\n",
       "      <td>POLYGON ((45.62246 -22.40084, 45.62173 -22.414...</td>\n",
       "    </tr>\n",
       "  </tbody>\n",
       "</table>\n",
       "</div>"
      ],
      "text/plain": [
       "  ADM0_PCODE     ADM0_EN ADM1_PCODE         ADM1_EN ADM1_TYPE ADM2_PCODE  \\\n",
       "0         MG  Madagascar       MG22  Amoron I Mania    Region    MG22203   \n",
       "1         MG  Madagascar       MG22  Amoron I Mania    Region    MG22203   \n",
       "2         MG  Madagascar       MG24        Ihorombe    Region    MG24216   \n",
       "3         MG  Madagascar       MG24        Ihorombe    Region    MG24216   \n",
       "4         MG  Madagascar       MG24        Ihorombe    Region    MG24216   \n",
       "\n",
       "     ADM2_EN ADM2_TYPE  ADM3_PCODE    ADM3_EN ADM3_TYPE     ADM4_PCODE  \\\n",
       "0  Ambositra  District  MG22203090     Andina   Commune  MG22203090008   \n",
       "1  Ambositra  District  MG22203090     Andina   Commune  MG22203090011   \n",
       "2      Ihosy  District  MG24216192  Andiolava   Commune  MG24216192006   \n",
       "3      Ihosy  District  MG24216192  Andiolava   Commune  MG24216192002   \n",
       "4      Ihosy  District  MG24216192  Andiolava   Commune  MG24216192003   \n",
       "\n",
       "            ADM4_EN  ADM4_TYPE  PROV_CODE_    OLD_PROVIN  \\\n",
       "0          Ampasina  Fokontany           2  Fianarantsoa   \n",
       "1       Antanifotsy  Fokontany           2  Fianarantsoa   \n",
       "2        Amboloando  Fokontany           2  Fianarantsoa   \n",
       "3  Vatambe Nanarena  Fokontany           2  Fianarantsoa   \n",
       "4          Vohimary  Fokontany           2  Fianarantsoa   \n",
       "\n",
       "                                  PROV_TYPE NOTES  \\\n",
       "0  Old Provinces/Faritany dissolved in 2007  None   \n",
       "1  Old Provinces/Faritany dissolved in 2007  None   \n",
       "2  Old Provinces/Faritany dissolved in 2007  None   \n",
       "3  Old Provinces/Faritany dissolved in 2007  None   \n",
       "4  Old Provinces/Faritany dissolved in 2007  None   \n",
       "\n",
       "                                              SOURCE  \\\n",
       "0  BNGRC (National Disaster Management Office) Fo...   \n",
       "1  BNGRC (National Disaster Management Office) Fo...   \n",
       "2  BNGRC (National Disaster Management Office) Fo...   \n",
       "3  BNGRC (National Disaster Management Office) Fo...   \n",
       "4  BNGRC (National Disaster Management Office) Fo...   \n",
       "\n",
       "                                            geometry  \n",
       "0  POLYGON ((47.10540 -20.51447, 47.11485 -20.514...  \n",
       "1  POLYGON ((47.13580 -20.54133, 47.13600 -20.544...  \n",
       "2  POLYGON ((45.58350 -22.53003, 45.59102 -22.534...  \n",
       "3  POLYGON ((45.51825 -22.27433, 45.51900 -22.274...  \n",
       "4  POLYGON ((45.62246 -22.40084, 45.62173 -22.414...  "
      ]
     },
     "execution_count": 44,
     "metadata": {},
     "output_type": "execute_result"
    }
   ],
   "source": [
    "mdg_adm4.head()"
   ]
  },
  {
   "cell_type": "code",
   "execution_count": 87,
   "id": "81132749-7136-45f8-b8a0-66031fef4574",
   "metadata": {},
   "outputs": [
    {
     "data": {
      "text/plain": [
       "ADM0_PCODE        1\n",
       "ADM0_EN           1\n",
       "ADM1_PCODE       22\n",
       "ADM1_EN          22\n",
       "ADM1_TYPE         1\n",
       "ADM2_PCODE      119\n",
       "ADM2_EN         119\n",
       "ADM2_TYPE         1\n",
       "ADM3_PCODE     1579\n",
       "ADM3_EN        1429\n",
       "ADM3_TYPE         1\n",
       "ADM4_PCODE    17465\n",
       "ADM4_EN       10977\n",
       "ADM4_TYPE         1\n",
       "PROV_CODE_        6\n",
       "OLD_PROVIN        6\n",
       "PROV_TYPE         1\n",
       "NOTES             1\n",
       "SOURCE           10\n",
       "geometry      17465\n",
       "dtype: int64"
      ]
     },
     "execution_count": 87,
     "metadata": {},
     "output_type": "execute_result"
    }
   ],
   "source": [
    "mdg_adm4.nunique()"
   ]
  },
  {
   "cell_type": "markdown",
   "id": "eb08bfef-eca5-47b3-b27e-8f148e1a598e",
   "metadata": {},
   "source": [
    "Note: Unlike the PH boundaries, Madagascar has unique PCODES for each ADM4 region, so no need to create a unique index for level 4"
   ]
  },
  {
   "cell_type": "markdown",
   "id": "d10f1fc1-b492-4db2-ba07-cc5f87cf50ef",
   "metadata": {},
   "source": [
    "#### Find intersection of mapped pixels and level 4 admin boundary"
   ]
  },
  {
   "cell_type": "code",
   "execution_count": 21,
   "id": "28c49b81-c75e-4c38-9ae5-f520e647121b",
   "metadata": {},
   "outputs": [],
   "source": [
    "mdg_pixels_with_buildings_sjoin_adm4 = gpd.sjoin(\n",
    "    mdg_pixels_with_buildings, mdg_adm4, how=\"left\", op=\"within\"\n",
    ")"
   ]
  },
  {
   "cell_type": "code",
   "execution_count": 22,
   "id": "879505ac-9b0c-4787-81ac-a749623e9f98",
   "metadata": {},
   "outputs": [],
   "source": [
    "mdg_pixels_with_buildings_sjoin_adm4.drop(\n",
    "    columns=[\n",
    "        'index_right', \n",
    "        'ADM0_PCODE',\n",
    "        'ADM0_EN',\n",
    "        'ADM1_EN',\n",
    "        'ADM1_TYPE',\n",
    "        'ADM2_EN',\n",
    "        'ADM2_TYPE',\n",
    "        'ADM3_EN',\n",
    "        'ADM3_TYPE',\n",
    "        'ADM4_EN',\n",
    "        'ADM4_TYPE',\n",
    "        'PROV_CODE_',\n",
    "        'OLD_PROVIN',\n",
    "        'PROV_TYPE',\n",
    "        'NOTES',\n",
    "        'SOURCE'\n",
    "    ],\n",
    "    inplace=True,\n",
    ")"
   ]
  },
  {
   "cell_type": "code",
   "execution_count": 23,
   "id": "83536ade-59e3-4864-aaf6-65d503236df7",
   "metadata": {},
   "outputs": [
    {
     "data": {
      "text/html": [
       "<div>\n",
       "<style scoped>\n",
       "    .dataframe tbody tr th:only-of-type {\n",
       "        vertical-align: middle;\n",
       "    }\n",
       "\n",
       "    .dataframe tbody tr th {\n",
       "        vertical-align: top;\n",
       "    }\n",
       "\n",
       "    .dataframe thead th {\n",
       "        text-align: right;\n",
       "    }\n",
       "</style>\n",
       "<table border=\"1\" class=\"dataframe\">\n",
       "  <thead>\n",
       "    <tr style=\"text-align: right;\">\n",
       "      <th></th>\n",
       "      <th>index</th>\n",
       "      <th>geometry</th>\n",
       "      <th>ADM1_PCODE</th>\n",
       "      <th>ADM2_PCODE</th>\n",
       "      <th>ADM3_PCODE</th>\n",
       "      <th>ADM4_PCODE</th>\n",
       "    </tr>\n",
       "  </thead>\n",
       "  <tbody>\n",
       "    <tr>\n",
       "      <th>1</th>\n",
       "      <td>1</td>\n",
       "      <td>POINT (49.27167 -11.95611)</td>\n",
       "      <td>MG71</td>\n",
       "      <td>MG71713</td>\n",
       "      <td>MG71713170</td>\n",
       "      <td>MG71713170002</td>\n",
       "    </tr>\n",
       "    <tr>\n",
       "      <th>5</th>\n",
       "      <td>5</td>\n",
       "      <td>POINT (49.25278 -11.99111)</td>\n",
       "      <td>MG71</td>\n",
       "      <td>MG71713</td>\n",
       "      <td>MG71713170</td>\n",
       "      <td>MG71713170002</td>\n",
       "    </tr>\n",
       "    <tr>\n",
       "      <th>6</th>\n",
       "      <td>6</td>\n",
       "      <td>POINT (49.22861 -12.04611)</td>\n",
       "      <td>MG71</td>\n",
       "      <td>MG71713</td>\n",
       "      <td>MG71713170</td>\n",
       "      <td>MG71713170001</td>\n",
       "    </tr>\n",
       "    <tr>\n",
       "      <th>7</th>\n",
       "      <td>7</td>\n",
       "      <td>POINT (49.22861 -12.04639)</td>\n",
       "      <td>MG71</td>\n",
       "      <td>MG71713</td>\n",
       "      <td>MG71713170</td>\n",
       "      <td>MG71713170001</td>\n",
       "    </tr>\n",
       "    <tr>\n",
       "      <th>9</th>\n",
       "      <td>9</td>\n",
       "      <td>POINT (49.23278 -12.05417)</td>\n",
       "      <td>MG71</td>\n",
       "      <td>MG71713</td>\n",
       "      <td>MG71713170</td>\n",
       "      <td>MG71713170001</td>\n",
       "    </tr>\n",
       "  </tbody>\n",
       "</table>\n",
       "</div>"
      ],
      "text/plain": [
       "   index                    geometry ADM1_PCODE ADM2_PCODE  ADM3_PCODE  \\\n",
       "1      1  POINT (49.27167 -11.95611)       MG71    MG71713  MG71713170   \n",
       "5      5  POINT (49.25278 -11.99111)       MG71    MG71713  MG71713170   \n",
       "6      6  POINT (49.22861 -12.04611)       MG71    MG71713  MG71713170   \n",
       "7      7  POINT (49.22861 -12.04639)       MG71    MG71713  MG71713170   \n",
       "9      9  POINT (49.23278 -12.05417)       MG71    MG71713  MG71713170   \n",
       "\n",
       "      ADM4_PCODE  \n",
       "1  MG71713170002  \n",
       "5  MG71713170002  \n",
       "6  MG71713170001  \n",
       "7  MG71713170001  \n",
       "9  MG71713170001  "
      ]
     },
     "execution_count": 23,
     "metadata": {},
     "output_type": "execute_result"
    }
   ],
   "source": [
    "mdg_pixels_with_buildings_sjoin_adm4.head()"
   ]
  },
  {
   "cell_type": "code",
   "execution_count": 91,
   "id": "8abb8488-3f1f-468c-9d6a-61762f523a7f",
   "metadata": {},
   "outputs": [],
   "source": [
    "# 2020\n",
    "mdg_pixels_with_buildings_sjoin_adm4.to_file(\n",
    "    \"../data/mdg_pixels_with_buildings_sjoin_adm4_jan2020.gpkg\", driver=\"GPKG\"\n",
    ")"
   ]
  },
  {
   "cell_type": "markdown",
   "id": "24067a63-6d57-4691-91aa-3c27b133f577",
   "metadata": {},
   "source": [
    "#### Find intersection of unmapped pixels and level 4 admin boundary"
   ]
  },
  {
   "cell_type": "code",
   "execution_count": 24,
   "id": "1462d911-9bdb-4d97-bce9-4892f3ddd78d",
   "metadata": {},
   "outputs": [],
   "source": [
    "mdg_pixels_no_buildings_sjoin_adm4 = gpd.sjoin(\n",
    "    mdg_pixels_no_buildings, mdg_adm4, how=\"left\", op=\"within\"\n",
    ")"
   ]
  },
  {
   "cell_type": "code",
   "execution_count": 25,
   "id": "8a6fcdd0-e745-4331-9b7e-b4f25ddacdd1",
   "metadata": {},
   "outputs": [],
   "source": [
    "mdg_pixels_no_buildings_sjoin_adm4.drop(\n",
    "    columns=[\n",
    "        'index_right', \n",
    "        'ADM0_PCODE',\n",
    "        'ADM0_EN',\n",
    "        'ADM1_EN',\n",
    "        'ADM1_TYPE',\n",
    "        'ADM2_EN',\n",
    "        'ADM2_TYPE',\n",
    "        'ADM3_EN',\n",
    "        'ADM3_TYPE',\n",
    "        'ADM4_EN',\n",
    "        'ADM4_TYPE',\n",
    "        'PROV_CODE_',\n",
    "        'OLD_PROVIN',\n",
    "        'PROV_TYPE',\n",
    "        'NOTES',\n",
    "        'SOURCE'\n",
    "    ],\n",
    "    inplace=True,\n",
    ")"
   ]
  },
  {
   "cell_type": "code",
   "execution_count": 26,
   "id": "41c203cb-c6c5-43d2-9bbf-0db7b7ef0b1b",
   "metadata": {},
   "outputs": [
    {
     "name": "stdout",
     "output_type": "stream",
     "text": [
      "<class 'geopandas.geodataframe.GeoDataFrame'>\n",
      "Int64Index: 1411112 entries, 0 to 1583567\n",
      "Data columns (total 6 columns):\n",
      " #   Column      Non-Null Count    Dtype   \n",
      "---  ------      --------------    -----   \n",
      " 0   index       1411112 non-null  int64   \n",
      " 1   geometry    1411112 non-null  geometry\n",
      " 2   ADM1_PCODE  1410006 non-null  object  \n",
      " 3   ADM2_PCODE  1410006 non-null  object  \n",
      " 4   ADM3_PCODE  1410006 non-null  object  \n",
      " 5   ADM4_PCODE  1410006 non-null  object  \n",
      "dtypes: geometry(1), int64(1), object(4)\n",
      "memory usage: 75.4+ MB\n"
     ]
    }
   ],
   "source": [
    "mdg_pixels_no_buildings_sjoin_adm4.info()"
   ]
  },
  {
   "cell_type": "code",
   "execution_count": 95,
   "id": "f756e06f-3ec3-412e-a079-2c61d643bcc9",
   "metadata": {},
   "outputs": [],
   "source": [
    "# # 2020\n",
    "# mdg_pixels_no_buildings_sjoin_adm4.to_file(\n",
    "#     \"../data/mdg_pixels_no_buildings_sjoin_adm4_jan2020.gpkg\", driver=\"GPKG\"\n",
    "# )"
   ]
  },
  {
   "cell_type": "markdown",
   "id": "1eabf1fa-056f-4a5a-b71a-c70b4a31d352",
   "metadata": {},
   "source": [
    "### Saving final output"
   ]
  },
  {
   "cell_type": "code",
   "execution_count": 11,
   "id": "9a13df46-b1b0-4202-8dec-c88a204ce43c",
   "metadata": {},
   "outputs": [],
   "source": [
    "# # 2020\n",
    "# # Just run this so you don't have to rerun everything up top\n",
    "mdg_pixels_no_buildings_sjoin_adm4 = gpd.read_file(\n",
    "    \"../data/mdg_pixels_no_buildings_sjoin_adm4_jan2020.gpkg\", driver=\"GPKG\"\n",
    ")\n",
    "mdg_pixels_with_buildings_sjoin_adm4 = gpd.read_file(\n",
    "    \"../data/mdg_pixels_with_buildings_sjoin_adm4_jan2020.gpkg\", driver=\"GPKG\"\n",
    ")"
   ]
  },
  {
   "cell_type": "code",
   "execution_count": 27,
   "id": "0fd85c6b-a156-443b-8a3b-ec1d82f32c22",
   "metadata": {},
   "outputs": [],
   "source": [
    "# Drop nan values in the dataframe\n",
    "mdg_pixels_no_buildings_sjoin_adm4.dropna(\n",
    "    subset=[\"ADM4_PCODE\",\"ADM3_PCODE\",\"ADM2_PCODE\",\"ADM1_PCODE\"], inplace=True\n",
    ")\n",
    "\n",
    "mdg_pixels_with_buildings_sjoin_adm4.dropna(\n",
    "    subset=[\"ADM4_PCODE\",\"ADM3_PCODE\",\"ADM2_PCODE\",\"ADM1_PCODE\"], inplace=True\n",
    ")"
   ]
  },
  {
   "cell_type": "code",
   "execution_count": 28,
   "id": "97b3be1e-aaec-43e0-88d5-7c64c2297333",
   "metadata": {},
   "outputs": [],
   "source": [
    "# Adding a column to indicate that these pixels are mapped/unmapped\n",
    "mdg_pixels_with_buildings_sjoin_adm4[\"status\"] = \"mapped\"\n",
    "mdg_pixels_no_buildings_sjoin_adm4[\"status\"] = \"unmapped\""
   ]
  },
  {
   "cell_type": "code",
   "execution_count": 29,
   "id": "d76d1406-9869-4047-9f48-291c1272dd30",
   "metadata": {},
   "outputs": [],
   "source": [
    "# Join the mapped and unppaed pixels together\n",
    "mdg_pixels_all = pd.concat(\n",
    "    [mdg_pixels_with_buildings_sjoin_adm4, mdg_pixels_no_buildings_sjoin_adm4]\n",
    ")"
   ]
  },
  {
   "cell_type": "markdown",
   "id": "5b4ced42-6f56-43fc-abc2-8002c29dd136",
   "metadata": {},
   "source": [
    "Final output for Madagascar should be as follows:"
   ]
  },
  {
   "cell_type": "code",
   "execution_count": 30,
   "id": "8683a7f5-7645-4c74-8879-28080fa7a1e2",
   "metadata": {},
   "outputs": [
    {
     "data": {
      "text/html": [
       "<div>\n",
       "<style scoped>\n",
       "    .dataframe tbody tr th:only-of-type {\n",
       "        vertical-align: middle;\n",
       "    }\n",
       "\n",
       "    .dataframe tbody tr th {\n",
       "        vertical-align: top;\n",
       "    }\n",
       "\n",
       "    .dataframe thead th {\n",
       "        text-align: right;\n",
       "    }\n",
       "</style>\n",
       "<table border=\"1\" class=\"dataframe\">\n",
       "  <thead>\n",
       "    <tr style=\"text-align: right;\">\n",
       "      <th></th>\n",
       "      <th>index</th>\n",
       "      <th>geometry</th>\n",
       "      <th>ADM1_PCODE</th>\n",
       "      <th>ADM2_PCODE</th>\n",
       "      <th>ADM3_PCODE</th>\n",
       "      <th>ADM4_PCODE</th>\n",
       "      <th>status</th>\n",
       "    </tr>\n",
       "  </thead>\n",
       "  <tbody>\n",
       "    <tr>\n",
       "      <th>1</th>\n",
       "      <td>1</td>\n",
       "      <td>POINT (49.27167 -11.95611)</td>\n",
       "      <td>MG71</td>\n",
       "      <td>MG71713</td>\n",
       "      <td>MG71713170</td>\n",
       "      <td>MG71713170002</td>\n",
       "      <td>mapped</td>\n",
       "    </tr>\n",
       "    <tr>\n",
       "      <th>5</th>\n",
       "      <td>5</td>\n",
       "      <td>POINT (49.25278 -11.99111)</td>\n",
       "      <td>MG71</td>\n",
       "      <td>MG71713</td>\n",
       "      <td>MG71713170</td>\n",
       "      <td>MG71713170002</td>\n",
       "      <td>mapped</td>\n",
       "    </tr>\n",
       "    <tr>\n",
       "      <th>6</th>\n",
       "      <td>6</td>\n",
       "      <td>POINT (49.22861 -12.04611)</td>\n",
       "      <td>MG71</td>\n",
       "      <td>MG71713</td>\n",
       "      <td>MG71713170</td>\n",
       "      <td>MG71713170001</td>\n",
       "      <td>mapped</td>\n",
       "    </tr>\n",
       "    <tr>\n",
       "      <th>7</th>\n",
       "      <td>7</td>\n",
       "      <td>POINT (49.22861 -12.04639)</td>\n",
       "      <td>MG71</td>\n",
       "      <td>MG71713</td>\n",
       "      <td>MG71713170</td>\n",
       "      <td>MG71713170001</td>\n",
       "      <td>mapped</td>\n",
       "    </tr>\n",
       "    <tr>\n",
       "      <th>9</th>\n",
       "      <td>9</td>\n",
       "      <td>POINT (49.23278 -12.05417)</td>\n",
       "      <td>MG71</td>\n",
       "      <td>MG71713</td>\n",
       "      <td>MG71713170</td>\n",
       "      <td>MG71713170001</td>\n",
       "      <td>mapped</td>\n",
       "    </tr>\n",
       "  </tbody>\n",
       "</table>\n",
       "</div>"
      ],
      "text/plain": [
       "   index                    geometry ADM1_PCODE ADM2_PCODE  ADM3_PCODE  \\\n",
       "1      1  POINT (49.27167 -11.95611)       MG71    MG71713  MG71713170   \n",
       "5      5  POINT (49.25278 -11.99111)       MG71    MG71713  MG71713170   \n",
       "6      6  POINT (49.22861 -12.04611)       MG71    MG71713  MG71713170   \n",
       "7      7  POINT (49.22861 -12.04639)       MG71    MG71713  MG71713170   \n",
       "9      9  POINT (49.23278 -12.05417)       MG71    MG71713  MG71713170   \n",
       "\n",
       "      ADM4_PCODE  status  \n",
       "1  MG71713170002  mapped  \n",
       "5  MG71713170002  mapped  \n",
       "6  MG71713170001  mapped  \n",
       "7  MG71713170001  mapped  \n",
       "9  MG71713170001  mapped  "
      ]
     },
     "execution_count": 30,
     "metadata": {},
     "output_type": "execute_result"
    }
   ],
   "source": [
    "mdg_pixels_all.head()"
   ]
  },
  {
   "cell_type": "code",
   "execution_count": 16,
   "id": "089eab98-736f-482c-9b9e-3633fbd4b9bf",
   "metadata": {},
   "outputs": [],
   "source": [
    "# 2020\n",
    "# Save all columns (including geometry) to gpkg\n",
    "mdg_pixels_all.to_file(\"../data/mdg_pixels_all_jan2020.gpkg\", driver=\"GPKG\")"
   ]
  },
  {
   "cell_type": "code",
   "execution_count": 17,
   "id": "ae262f91-f734-4ecd-a865-adc69b4e9f7d",
   "metadata": {},
   "outputs": [],
   "source": [
    "# 2020\n",
    "# Drop geometry column\n",
    "mdg_pixels_all.drop(columns=[\"geometry\"], inplace=True)"
   ]
  },
  {
   "cell_type": "code",
   "execution_count": 18,
   "id": "0e50d98a-fcaf-4117-a086-211cbece601d",
   "metadata": {},
   "outputs": [],
   "source": [
    "# 2020\n",
    "# Save remaining columns as csv \n",
    "mdg_pixels_all.to_csv(\"../data/mdg_pixels_all_jan2020.csv\", index=False)"
   ]
  },
  {
   "cell_type": "markdown",
   "id": "888ccc93-0fbc-4b42-9723-b33def5a8730",
   "metadata": {},
   "source": [
    "## Calculate percent completeness per admin boundary level"
   ]
  },
  {
   "cell_type": "markdown",
   "id": "addffc49-ed59-4238-8dee-bc45d705891b",
   "metadata": {},
   "source": [
    "In the following code snippets, we use a pivot table to get the number of mapped and unmapped pixels for each administrative region, then calculate the percent completeness\n",
    "\n",
    "We use `ADM2_PCODE`/`ADM3_PCODE` as the index for each admin region."
   ]
  },
  {
   "cell_type": "markdown",
   "id": "fe0f3678-6c8e-47d2-8445-60efdb92c554",
   "metadata": {},
   "source": [
    "### Loading mapped/unmapped pixels"
   ]
  },
  {
   "cell_type": "code",
   "execution_count": 81,
   "id": "1f32ed87-c965-47f1-91ed-8cec6a23636d",
   "metadata": {},
   "outputs": [],
   "source": [
    "# Just run this so you don't have to rerun everything up top\n",
    "mdg_pixels_all_jan2020 = pd.read_csv(\"../data/mdg_pixels_all_jan2020.csv\")"
   ]
  },
  {
   "cell_type": "markdown",
   "id": "1ea80a28-b2c8-42d2-ba7c-34b5c0877a7d",
   "metadata": {},
   "source": [
    "### Loading admin boundaries"
   ]
  },
  {
   "cell_type": "code",
   "execution_count": 76,
   "id": "e74cf750-9ac4-45b2-a0a6-bd9ae2e5d1a3",
   "metadata": {},
   "outputs": [],
   "source": [
    "mdg_adm2 = gpd.read_file(\n",
    "    \"../download_data/mdg_adm_all/mdg_admbnda_adm2_BNGRC_OCHA_20181031.shp\"\n",
    ")"
   ]
  },
  {
   "cell_type": "code",
   "execution_count": 77,
   "id": "e23de5c0-f2c8-4a60-9d12-92b33644c69f",
   "metadata": {},
   "outputs": [],
   "source": [
    "mdg_adm3 = gpd.read_file(\n",
    "    \"../download_data/mdg_adm_all/mdg_admbnda_adm3_BNGRC_OCHA_20181031.shp\"\n",
    ")"
   ]
  },
  {
   "cell_type": "markdown",
   "id": "3f076e8a-e1e0-4c2d-b6e5-d2b0160aca85",
   "metadata": {},
   "source": [
    "### Loading previous output\n",
    "\n",
    "These were the files generated by the 2021 section above."
   ]
  },
  {
   "cell_type": "code",
   "execution_count": 78,
   "id": "4c561d49-c1ce-4864-b6bd-7b24d4044dfe",
   "metadata": {},
   "outputs": [
    {
     "name": "stdout",
     "output_type": "stream",
     "text": [
      "<class 'geopandas.geodataframe.GeoDataFrame'>\n",
      "RangeIndex: 119 entries, 0 to 118\n",
      "Data columns (total 7 columns):\n",
      " #   Column                            Non-Null Count  Dtype   \n",
      "---  ------                            --------------  -----   \n",
      " 0   ADM2_PCODE                        119 non-null    object  \n",
      " 1   ADM2_EN                           119 non-null    object  \n",
      " 2   ADM2_TYPE                         119 non-null    object  \n",
      " 3   pixels_withbuilding_july2021      119 non-null    int64   \n",
      " 4   pixels_nobuilding_july2021        119 non-null    int64   \n",
      " 5   percentage_completeness_july2021  119 non-null    float64 \n",
      " 6   geometry                          119 non-null    geometry\n",
      "dtypes: float64(1), geometry(1), int64(2), object(3)\n",
      "memory usage: 6.6+ KB\n"
     ]
    }
   ],
   "source": [
    "district_output_july2021 = gpd.read_file(\n",
    "    '../data/mapthegap-mdg-adm2-2021-07-12.gpkg',\n",
    "    driver='GPKG'\n",
    ")\n",
    "district_output_july2021.info()"
   ]
  },
  {
   "cell_type": "code",
   "execution_count": 79,
   "id": "1f4cb731-3ae1-4c6d-b07e-98f395031e5c",
   "metadata": {},
   "outputs": [
    {
     "name": "stdout",
     "output_type": "stream",
     "text": [
      "<class 'geopandas.geodataframe.GeoDataFrame'>\n",
      "RangeIndex: 1579 entries, 0 to 1578\n",
      "Data columns (total 7 columns):\n",
      " #   Column                            Non-Null Count  Dtype   \n",
      "---  ------                            --------------  -----   \n",
      " 0   ADM3_PCODE                        1579 non-null   object  \n",
      " 1   ADM3_EN                           1579 non-null   object  \n",
      " 2   ADM3_TYPE                         1579 non-null   object  \n",
      " 3   pixels_withbuilding_july2021      1579 non-null   int64   \n",
      " 4   pixels_nobuilding_july2021        1579 non-null   int64   \n",
      " 5   percentage_completeness_july2021  1579 non-null   float64 \n",
      " 6   geometry                          1579 non-null   geometry\n",
      "dtypes: float64(1), geometry(1), int64(2), object(3)\n",
      "memory usage: 86.5+ KB\n"
     ]
    }
   ],
   "source": [
    "commune_output_july2021 = gpd.read_file(\n",
    "    \"../data/mapthegap-mdg-adm3-2021-07-12.gpkg\",\n",
    "    driver=\"GPKG\"\n",
    ")\n",
    "commune_output_july2021.info()"
   ]
  },
  {
   "cell_type": "markdown",
   "id": "ff7dde16-b18c-44b8-a4aa-41902d3695c9",
   "metadata": {},
   "source": [
    "#### Level 2 Boundaries (districts)"
   ]
  },
  {
   "cell_type": "code",
   "execution_count": 82,
   "id": "9c5115be-85ec-4805-a611-e26241fd7e3b",
   "metadata": {},
   "outputs": [],
   "source": [
    "# fill_value = 0 fills in NaN values with 0\n",
    "# If a region has no mapped pixels, it will give NaN\n",
    "# which would cause a bug in calculating pct completness\n",
    "adm2_df = pd.pivot_table(mdg_pixels_all_jan2020[[\"ADM2_PCODE\",\"status\", \"index\"]], index = [\"ADM2_PCODE\"], columns = [\"status\"], aggfunc=\"count\", fill_value=0)"
   ]
  },
  {
   "cell_type": "code",
   "execution_count": 83,
   "id": "5d09c5f7-8a79-4443-8a17-24a40edd980e",
   "metadata": {},
   "outputs": [
    {
     "data": {
      "text/html": [
       "<div>\n",
       "<style scoped>\n",
       "    .dataframe tbody tr th:only-of-type {\n",
       "        vertical-align: middle;\n",
       "    }\n",
       "\n",
       "    .dataframe tbody tr th {\n",
       "        vertical-align: top;\n",
       "    }\n",
       "\n",
       "    .dataframe thead tr th {\n",
       "        text-align: left;\n",
       "    }\n",
       "\n",
       "    .dataframe thead tr:last-of-type th {\n",
       "        text-align: right;\n",
       "    }\n",
       "</style>\n",
       "<table border=\"1\" class=\"dataframe\">\n",
       "  <thead>\n",
       "    <tr>\n",
       "      <th></th>\n",
       "      <th colspan=\"2\" halign=\"left\">index</th>\n",
       "    </tr>\n",
       "    <tr>\n",
       "      <th>status</th>\n",
       "      <th>mapped</th>\n",
       "      <th>unmapped</th>\n",
       "    </tr>\n",
       "    <tr>\n",
       "      <th>ADM2_PCODE</th>\n",
       "      <th></th>\n",
       "      <th></th>\n",
       "    </tr>\n",
       "  </thead>\n",
       "  <tbody>\n",
       "    <tr>\n",
       "      <th>MG11101001A</th>\n",
       "      <td>2472</td>\n",
       "      <td>1734</td>\n",
       "    </tr>\n",
       "    <tr>\n",
       "      <th>MG11101002A</th>\n",
       "      <td>1439</td>\n",
       "      <td>3991</td>\n",
       "    </tr>\n",
       "    <tr>\n",
       "      <th>MG11101003A</th>\n",
       "      <td>1424</td>\n",
       "      <td>1774</td>\n",
       "    </tr>\n",
       "    <tr>\n",
       "      <th>MG11101004A</th>\n",
       "      <td>1646</td>\n",
       "      <td>3447</td>\n",
       "    </tr>\n",
       "    <tr>\n",
       "      <th>MG11101005A</th>\n",
       "      <td>2153</td>\n",
       "      <td>6988</td>\n",
       "    </tr>\n",
       "  </tbody>\n",
       "</table>\n",
       "</div>"
      ],
      "text/plain": [
       "             index         \n",
       "status      mapped unmapped\n",
       "ADM2_PCODE                 \n",
       "MG11101001A   2472     1734\n",
       "MG11101002A   1439     3991\n",
       "MG11101003A   1424     1774\n",
       "MG11101004A   1646     3447\n",
       "MG11101005A   2153     6988"
      ]
     },
     "execution_count": 83,
     "metadata": {},
     "output_type": "execute_result"
    }
   ],
   "source": [
    "adm2_df.head()"
   ]
  },
  {
   "cell_type": "markdown",
   "id": "129e0f9d-29b0-4561-8e12-a676e8d08982",
   "metadata": {},
   "source": [
    "The resulting dataframe has a multiindex, which we will fix in the next code blocks"
   ]
  },
  {
   "cell_type": "code",
   "execution_count": 84,
   "id": "153b9f19-d01e-4a47-8c72-97f889330aeb",
   "metadata": {},
   "outputs": [],
   "source": [
    "adm2_df.columns = adm2_df.columns.get_level_values(1)\n",
    "adm2_df = adm2_df.reset_index().reset_index()"
   ]
  },
  {
   "cell_type": "code",
   "execution_count": 85,
   "id": "8011f51c-3a7f-4eb4-9253-d2091e6d7bf9",
   "metadata": {},
   "outputs": [
    {
     "data": {
      "text/html": [
       "<div>\n",
       "<style scoped>\n",
       "    .dataframe tbody tr th:only-of-type {\n",
       "        vertical-align: middle;\n",
       "    }\n",
       "\n",
       "    .dataframe tbody tr th {\n",
       "        vertical-align: top;\n",
       "    }\n",
       "\n",
       "    .dataframe thead th {\n",
       "        text-align: right;\n",
       "    }\n",
       "</style>\n",
       "<table border=\"1\" class=\"dataframe\">\n",
       "  <thead>\n",
       "    <tr style=\"text-align: right;\">\n",
       "      <th>status</th>\n",
       "      <th>index</th>\n",
       "      <th>ADM2_PCODE</th>\n",
       "      <th>mapped</th>\n",
       "      <th>unmapped</th>\n",
       "    </tr>\n",
       "  </thead>\n",
       "  <tbody>\n",
       "    <tr>\n",
       "      <th>0</th>\n",
       "      <td>0</td>\n",
       "      <td>MG11101001A</td>\n",
       "      <td>2472</td>\n",
       "      <td>1734</td>\n",
       "    </tr>\n",
       "    <tr>\n",
       "      <th>1</th>\n",
       "      <td>1</td>\n",
       "      <td>MG11101002A</td>\n",
       "      <td>1439</td>\n",
       "      <td>3991</td>\n",
       "    </tr>\n",
       "    <tr>\n",
       "      <th>2</th>\n",
       "      <td>2</td>\n",
       "      <td>MG11101003A</td>\n",
       "      <td>1424</td>\n",
       "      <td>1774</td>\n",
       "    </tr>\n",
       "    <tr>\n",
       "      <th>3</th>\n",
       "      <td>3</td>\n",
       "      <td>MG11101004A</td>\n",
       "      <td>1646</td>\n",
       "      <td>3447</td>\n",
       "    </tr>\n",
       "    <tr>\n",
       "      <th>4</th>\n",
       "      <td>4</td>\n",
       "      <td>MG11101005A</td>\n",
       "      <td>2153</td>\n",
       "      <td>6988</td>\n",
       "    </tr>\n",
       "  </tbody>\n",
       "</table>\n",
       "</div>"
      ],
      "text/plain": [
       "status  index   ADM2_PCODE  mapped  unmapped\n",
       "0           0  MG11101001A    2472      1734\n",
       "1           1  MG11101002A    1439      3991\n",
       "2           2  MG11101003A    1424      1774\n",
       "3           3  MG11101004A    1646      3447\n",
       "4           4  MG11101005A    2153      6988"
      ]
     },
     "execution_count": 85,
     "metadata": {},
     "output_type": "execute_result"
    }
   ],
   "source": [
    "# Dataframe now has a regular index!\n",
    "adm2_df.head()"
   ]
  },
  {
   "cell_type": "code",
   "execution_count": 86,
   "id": "ac3e7438-72ec-4d20-a7c7-a0e722bd475a",
   "metadata": {},
   "outputs": [],
   "source": [
    "# Drop the index column \n",
    "adm2_df.drop([\"index\"],axis = 1,inplace=True)\n",
    "\n",
    "# Renaming columns to fit previous convention\n",
    "adm2_df.rename(columns = {\n",
    "    'mapped':'pixels_withbuilding_jan2020',\n",
    "    'unmapped':'pixels_nobuilding_jan2020'\n",
    "    },\n",
    "    inplace=True\n",
    ")\n",
    "\n",
    "# Adding a column for percent completeness\n",
    "adm2_df['percentage_completeness_jan2020'] = (adm2_df['pixels_withbuilding_jan2020']/(adm2_df['pixels_withbuilding_jan2020'] + adm2_df['pixels_nobuilding_jan2020'])) * 100"
   ]
  },
  {
   "cell_type": "code",
   "execution_count": 87,
   "id": "3ec6043a-235d-4f56-ad3d-19d87e22f5f3",
   "metadata": {},
   "outputs": [
    {
     "data": {
      "text/html": [
       "<div>\n",
       "<style scoped>\n",
       "    .dataframe tbody tr th:only-of-type {\n",
       "        vertical-align: middle;\n",
       "    }\n",
       "\n",
       "    .dataframe tbody tr th {\n",
       "        vertical-align: top;\n",
       "    }\n",
       "\n",
       "    .dataframe thead th {\n",
       "        text-align: right;\n",
       "    }\n",
       "</style>\n",
       "<table border=\"1\" class=\"dataframe\">\n",
       "  <thead>\n",
       "    <tr style=\"text-align: right;\">\n",
       "      <th>status</th>\n",
       "      <th>ADM2_PCODE</th>\n",
       "      <th>pixels_withbuilding_jan2020</th>\n",
       "      <th>pixels_nobuilding_jan2020</th>\n",
       "      <th>percentage_completeness_jan2020</th>\n",
       "    </tr>\n",
       "  </thead>\n",
       "  <tbody>\n",
       "    <tr>\n",
       "      <th>0</th>\n",
       "      <td>MG11101001A</td>\n",
       "      <td>2472</td>\n",
       "      <td>1734</td>\n",
       "      <td>58.773181</td>\n",
       "    </tr>\n",
       "    <tr>\n",
       "      <th>1</th>\n",
       "      <td>MG11101002A</td>\n",
       "      <td>1439</td>\n",
       "      <td>3991</td>\n",
       "      <td>26.500921</td>\n",
       "    </tr>\n",
       "    <tr>\n",
       "      <th>2</th>\n",
       "      <td>MG11101003A</td>\n",
       "      <td>1424</td>\n",
       "      <td>1774</td>\n",
       "      <td>44.527830</td>\n",
       "    </tr>\n",
       "    <tr>\n",
       "      <th>3</th>\n",
       "      <td>MG11101004A</td>\n",
       "      <td>1646</td>\n",
       "      <td>3447</td>\n",
       "      <td>32.318869</td>\n",
       "    </tr>\n",
       "    <tr>\n",
       "      <th>4</th>\n",
       "      <td>MG11101005A</td>\n",
       "      <td>2153</td>\n",
       "      <td>6988</td>\n",
       "      <td>23.553222</td>\n",
       "    </tr>\n",
       "  </tbody>\n",
       "</table>\n",
       "</div>"
      ],
      "text/plain": [
       "status   ADM2_PCODE  pixels_withbuilding_jan2020  pixels_nobuilding_jan2020  \\\n",
       "0       MG11101001A                         2472                       1734   \n",
       "1       MG11101002A                         1439                       3991   \n",
       "2       MG11101003A                         1424                       1774   \n",
       "3       MG11101004A                         1646                       3447   \n",
       "4       MG11101005A                         2153                       6988   \n",
       "\n",
       "status  percentage_completeness_jan2020  \n",
       "0                             58.773181  \n",
       "1                             26.500921  \n",
       "2                             44.527830  \n",
       "3                             32.318869  \n",
       "4                             23.553222  "
      ]
     },
     "execution_count": 87,
     "metadata": {},
     "output_type": "execute_result"
    }
   ],
   "source": [
    "adm2_df.head()"
   ]
  },
  {
   "cell_type": "markdown",
   "id": "a2f903ac-f7dc-4913-9489-96c38aea4ea6",
   "metadata": {},
   "source": [
    "We've successfully calculated the percentage completeness for level 2! Next, we will join the data with the admin boundaries information."
   ]
  },
  {
   "cell_type": "code",
   "execution_count": 88,
   "id": "be3000f3-52e6-44c9-9dc0-5221cd916946",
   "metadata": {},
   "outputs": [],
   "source": [
    "# Create new dataframe that will store mdg_adm2 \n",
    "# with percentage completness output\n",
    "mdg_adm2_with_output = mdg_adm2\n",
    "\n",
    "# Get only the columns we need to identify region\n",
    "mdg_adm2_with_output = mdg_adm2_with_output[[\n",
    "    'ADM2_EN',\n",
    "    'ADM2_PCODE',\n",
    " ]]"
   ]
  },
  {
   "cell_type": "code",
   "execution_count": 89,
   "id": "2b91b35f-ea1c-4b18-824c-ac8300a08596",
   "metadata": {},
   "outputs": [],
   "source": [
    "# Left joining percentage completness values \n",
    "# to their respective regions\n",
    "mdg_adm2_with_output = pd.merge(mdg_adm2_with_output,adm2_df,how=\"left\", on = \"ADM2_PCODE\")"
   ]
  },
  {
   "cell_type": "code",
   "execution_count": 90,
   "id": "022dc253-f73d-4d0d-be84-de144ac997fb",
   "metadata": {},
   "outputs": [
    {
     "name": "stdout",
     "output_type": "stream",
     "text": [
      "<class 'pandas.core.frame.DataFrame'>\n",
      "Int64Index: 119 entries, 0 to 118\n",
      "Data columns (total 5 columns):\n",
      " #   Column                           Non-Null Count  Dtype  \n",
      "---  ------                           --------------  -----  \n",
      " 0   ADM2_EN                          119 non-null    object \n",
      " 1   ADM2_PCODE                       119 non-null    object \n",
      " 2   pixels_withbuilding_jan2020      119 non-null    int64  \n",
      " 3   pixels_nobuilding_jan2020        119 non-null    int64  \n",
      " 4   percentage_completeness_jan2020  119 non-null    float64\n",
      "dtypes: float64(1), int64(2), object(2)\n",
      "memory usage: 5.6+ KB\n"
     ]
    }
   ],
   "source": [
    "mdg_adm2_with_output.info()"
   ]
  },
  {
   "cell_type": "code",
   "execution_count": 91,
   "id": "664b1efb-0d08-4440-be90-4d3f41a73013",
   "metadata": {},
   "outputs": [
    {
     "data": {
      "text/plain": [
       "0.10889578597380667"
      ]
     },
     "execution_count": 91,
     "metadata": {},
     "output_type": "execute_result"
    }
   ],
   "source": [
    "mdg_adm2_with_output['pixels_withbuilding_jan2020'].sum() / (mdg_adm2_with_output['pixels_withbuilding_jan2020'].sum() + mdg_adm2_with_output['pixels_nobuilding_jan2020'].sum())"
   ]
  },
  {
   "cell_type": "markdown",
   "id": "3fee667b-eee5-4ef5-9626-72bdca96d953",
   "metadata": {},
   "source": [
    "The last step will be to join it to the previous output and save it to file."
   ]
  },
  {
   "cell_type": "code",
   "execution_count": 92,
   "id": "06575b41-8115-43e8-9e96-4f3f35679a88",
   "metadata": {},
   "outputs": [],
   "source": [
    "# Left joining the new percent completness values \n",
    "# to the existing values using ADM2_PCODE as index\n",
    "# For the second dataframe, we only keep wanted columns\n",
    "district_output_jan2020 = pd.merge(\n",
    "    district_output_july2021,\n",
    "    mdg_adm2_with_output[['ADM2_PCODE',\\\n",
    "                          'pixels_withbuilding_jan2020',\\\n",
    "                          'pixels_nobuilding_jan2020',\\\n",
    "                          'percentage_completeness_jan2020'\\\n",
    "                         ]],\n",
    "    how=\"left\", \n",
    "    on = \"ADM2_PCODE\"\n",
    ")"
   ]
  },
  {
   "cell_type": "code",
   "execution_count": 93,
   "id": "54359a12-0a49-47fc-8859-e9888f3a70a8",
   "metadata": {},
   "outputs": [
    {
     "name": "stdout",
     "output_type": "stream",
     "text": [
      "<class 'geopandas.geodataframe.GeoDataFrame'>\n",
      "Int64Index: 119 entries, 0 to 118\n",
      "Data columns (total 10 columns):\n",
      " #   Column                            Non-Null Count  Dtype   \n",
      "---  ------                            --------------  -----   \n",
      " 0   ADM2_PCODE                        119 non-null    object  \n",
      " 1   ADM2_EN                           119 non-null    object  \n",
      " 2   ADM2_TYPE                         119 non-null    object  \n",
      " 3   pixels_withbuilding_july2021      119 non-null    int64   \n",
      " 4   pixels_nobuilding_july2021        119 non-null    int64   \n",
      " 5   percentage_completeness_july2021  119 non-null    float64 \n",
      " 6   geometry                          119 non-null    geometry\n",
      " 7   pixels_withbuilding_jan2020       119 non-null    int64   \n",
      " 8   pixels_nobuilding_jan2020         119 non-null    int64   \n",
      " 9   percentage_completeness_jan2020   119 non-null    float64 \n",
      "dtypes: float64(2), geometry(1), int64(4), object(3)\n",
      "memory usage: 10.2+ KB\n"
     ]
    }
   ],
   "source": [
    "district_output_jan2020.info()"
   ]
  },
  {
   "cell_type": "code",
   "execution_count": 94,
   "id": "3cdd3dc4-de1b-4723-8c41-b6e5250c321e",
   "metadata": {},
   "outputs": [
    {
     "data": {
      "text/html": [
       "<div>\n",
       "<style scoped>\n",
       "    .dataframe tbody tr th:only-of-type {\n",
       "        vertical-align: middle;\n",
       "    }\n",
       "\n",
       "    .dataframe tbody tr th {\n",
       "        vertical-align: top;\n",
       "    }\n",
       "\n",
       "    .dataframe thead th {\n",
       "        text-align: right;\n",
       "    }\n",
       "</style>\n",
       "<table border=\"1\" class=\"dataframe\">\n",
       "  <thead>\n",
       "    <tr style=\"text-align: right;\">\n",
       "      <th></th>\n",
       "      <th>ADM2_PCODE</th>\n",
       "      <th>ADM2_EN</th>\n",
       "      <th>ADM2_TYPE</th>\n",
       "      <th>pixels_withbuilding_july2021</th>\n",
       "      <th>pixels_nobuilding_july2021</th>\n",
       "      <th>percentage_completeness_july2021</th>\n",
       "      <th>geometry</th>\n",
       "      <th>pixels_withbuilding_jan2020</th>\n",
       "      <th>pixels_nobuilding_jan2020</th>\n",
       "      <th>percentage_completeness_jan2020</th>\n",
       "    </tr>\n",
       "  </thead>\n",
       "  <tbody>\n",
       "    <tr>\n",
       "      <th>0</th>\n",
       "      <td>MG11101001A</td>\n",
       "      <td>1er Arrondissement</td>\n",
       "      <td>District</td>\n",
       "      <td>3216</td>\n",
       "      <td>990</td>\n",
       "      <td>76.462197</td>\n",
       "      <td>POLYGON ((47.50556 -18.89146, 47.50563 -18.891...</td>\n",
       "      <td>2472</td>\n",
       "      <td>1734</td>\n",
       "      <td>58.773181</td>\n",
       "    </tr>\n",
       "    <tr>\n",
       "      <th>1</th>\n",
       "      <td>MG11101002A</td>\n",
       "      <td>2e Arrondissement</td>\n",
       "      <td>District</td>\n",
       "      <td>1519</td>\n",
       "      <td>3911</td>\n",
       "      <td>27.974217</td>\n",
       "      <td>POLYGON ((47.55842 -18.91178, 47.55857 -18.911...</td>\n",
       "      <td>1439</td>\n",
       "      <td>3991</td>\n",
       "      <td>26.500921</td>\n",
       "    </tr>\n",
       "    <tr>\n",
       "      <th>2</th>\n",
       "      <td>MG11101003A</td>\n",
       "      <td>3e Arrondissement</td>\n",
       "      <td>District</td>\n",
       "      <td>1456</td>\n",
       "      <td>1742</td>\n",
       "      <td>45.528455</td>\n",
       "      <td>POLYGON ((47.51365 -18.87834, 47.51775 -18.879...</td>\n",
       "      <td>1424</td>\n",
       "      <td>1774</td>\n",
       "      <td>44.527830</td>\n",
       "    </tr>\n",
       "    <tr>\n",
       "      <th>3</th>\n",
       "      <td>MG11101004A</td>\n",
       "      <td>4e Arrondissement</td>\n",
       "      <td>District</td>\n",
       "      <td>2789</td>\n",
       "      <td>2304</td>\n",
       "      <td>54.761437</td>\n",
       "      <td>POLYGON ((47.50262 -18.91043, 47.50261 -18.910...</td>\n",
       "      <td>1646</td>\n",
       "      <td>3447</td>\n",
       "      <td>32.318869</td>\n",
       "    </tr>\n",
       "    <tr>\n",
       "      <th>4</th>\n",
       "      <td>MG11101005A</td>\n",
       "      <td>5e Arrondissement</td>\n",
       "      <td>District</td>\n",
       "      <td>3037</td>\n",
       "      <td>6104</td>\n",
       "      <td>33.223936</td>\n",
       "      <td>POLYGON ((47.53500 -18.85464, 47.53518 -18.854...</td>\n",
       "      <td>2153</td>\n",
       "      <td>6988</td>\n",
       "      <td>23.553222</td>\n",
       "    </tr>\n",
       "    <tr>\n",
       "      <th>5</th>\n",
       "      <td>MG11101006A</td>\n",
       "      <td>6e Arrondissement</td>\n",
       "      <td>District</td>\n",
       "      <td>636</td>\n",
       "      <td>2423</td>\n",
       "      <td>20.791108</td>\n",
       "      <td>POLYGON ((47.48436 -18.83989, 47.48491 -18.840...</td>\n",
       "      <td>561</td>\n",
       "      <td>2498</td>\n",
       "      <td>18.339327</td>\n",
       "    </tr>\n",
       "    <tr>\n",
       "      <th>6</th>\n",
       "      <td>MG11102</td>\n",
       "      <td>Antananarivo Avaradrano</td>\n",
       "      <td>District</td>\n",
       "      <td>6692</td>\n",
       "      <td>27525</td>\n",
       "      <td>19.557530</td>\n",
       "      <td>POLYGON ((47.61521 -18.71709, 47.61702 -18.717...</td>\n",
       "      <td>4015</td>\n",
       "      <td>30201</td>\n",
       "      <td>11.734276</td>\n",
       "    </tr>\n",
       "    <tr>\n",
       "      <th>7</th>\n",
       "      <td>MG11103</td>\n",
       "      <td>Ambohidratrimo</td>\n",
       "      <td>District</td>\n",
       "      <td>4332</td>\n",
       "      <td>31492</td>\n",
       "      <td>12.092452</td>\n",
       "      <td>POLYGON ((47.49982 -18.43546, 47.50490 -18.439...</td>\n",
       "      <td>3797</td>\n",
       "      <td>32027</td>\n",
       "      <td>10.599040</td>\n",
       "    </tr>\n",
       "    <tr>\n",
       "      <th>8</th>\n",
       "      <td>MG11104</td>\n",
       "      <td>Ankazobe</td>\n",
       "      <td>District</td>\n",
       "      <td>1486</td>\n",
       "      <td>15437</td>\n",
       "      <td>8.780949</td>\n",
       "      <td>POLYGON ((46.74249 -17.71321, 46.74325 -17.713...</td>\n",
       "      <td>645</td>\n",
       "      <td>16278</td>\n",
       "      <td>3.811381</td>\n",
       "    </tr>\n",
       "    <tr>\n",
       "      <th>9</th>\n",
       "      <td>MG11106</td>\n",
       "      <td>Manjakandriana</td>\n",
       "      <td>District</td>\n",
       "      <td>1296</td>\n",
       "      <td>24520</td>\n",
       "      <td>5.020143</td>\n",
       "      <td>POLYGON ((47.72437 -18.47394, 47.72465 -18.477...</td>\n",
       "      <td>648</td>\n",
       "      <td>25168</td>\n",
       "      <td>2.510071</td>\n",
       "    </tr>\n",
       "    <tr>\n",
       "      <th>10</th>\n",
       "      <td>MG11107</td>\n",
       "      <td>Anjozorobe</td>\n",
       "      <td>District</td>\n",
       "      <td>605</td>\n",
       "      <td>15474</td>\n",
       "      <td>3.762672</td>\n",
       "      <td>POLYGON ((47.84665 -17.76164, 47.84740 -17.762...</td>\n",
       "      <td>597</td>\n",
       "      <td>15482</td>\n",
       "      <td>3.712917</td>\n",
       "    </tr>\n",
       "    <tr>\n",
       "      <th>11</th>\n",
       "      <td>MG11115</td>\n",
       "      <td>Andramasina</td>\n",
       "      <td>District</td>\n",
       "      <td>118</td>\n",
       "      <td>15036</td>\n",
       "      <td>0.778672</td>\n",
       "      <td>POLYGON ((47.72871 -19.14659, 47.72961 -19.147...</td>\n",
       "      <td>112</td>\n",
       "      <td>15042</td>\n",
       "      <td>0.739079</td>\n",
       "    </tr>\n",
       "    <tr>\n",
       "      <th>12</th>\n",
       "      <td>MG11117</td>\n",
       "      <td>Antananarivo Atsimondrano</td>\n",
       "      <td>District</td>\n",
       "      <td>8343</td>\n",
       "      <td>24057</td>\n",
       "      <td>25.750000</td>\n",
       "      <td>POLYGON ((47.47574 -18.87596, 47.47633 -18.876...</td>\n",
       "      <td>8129</td>\n",
       "      <td>24271</td>\n",
       "      <td>25.089506</td>\n",
       "    </tr>\n",
       "    <tr>\n",
       "      <th>13</th>\n",
       "      <td>MG12108</td>\n",
       "      <td>Antsirabe I</td>\n",
       "      <td>District</td>\n",
       "      <td>3575</td>\n",
       "      <td>14401</td>\n",
       "      <td>19.887628</td>\n",
       "      <td>POLYGON ((47.00604 -19.81027, 47.00615 -19.810...</td>\n",
       "      <td>3237</td>\n",
       "      <td>14739</td>\n",
       "      <td>18.007343</td>\n",
       "    </tr>\n",
       "    <tr>\n",
       "      <th>14</th>\n",
       "      <td>MG12109</td>\n",
       "      <td>Betafo</td>\n",
       "      <td>District</td>\n",
       "      <td>1013</td>\n",
       "      <td>20291</td>\n",
       "      <td>4.754976</td>\n",
       "      <td>POLYGON ((46.68300 -19.50925, 46.68347 -19.509...</td>\n",
       "      <td>367</td>\n",
       "      <td>20937</td>\n",
       "      <td>1.722681</td>\n",
       "    </tr>\n",
       "    <tr>\n",
       "      <th>15</th>\n",
       "      <td>MG12110</td>\n",
       "      <td>Ambatolampy</td>\n",
       "      <td>District</td>\n",
       "      <td>967</td>\n",
       "      <td>24341</td>\n",
       "      <td>3.820926</td>\n",
       "      <td>POLYGON ((47.49716 -19.11777, 47.49748 -19.118...</td>\n",
       "      <td>963</td>\n",
       "      <td>24345</td>\n",
       "      <td>3.805121</td>\n",
       "    </tr>\n",
       "    <tr>\n",
       "      <th>16</th>\n",
       "      <td>MG12114</td>\n",
       "      <td>Antanifotsy</td>\n",
       "      <td>District</td>\n",
       "      <td>872</td>\n",
       "      <td>28634</td>\n",
       "      <td>2.955331</td>\n",
       "      <td>POLYGON ((47.23724 -19.40838, 47.23734 -19.408...</td>\n",
       "      <td>872</td>\n",
       "      <td>28634</td>\n",
       "      <td>2.955331</td>\n",
       "    </tr>\n",
       "    <tr>\n",
       "      <th>17</th>\n",
       "      <td>MG12116</td>\n",
       "      <td>Faratsiho</td>\n",
       "      <td>District</td>\n",
       "      <td>1209</td>\n",
       "      <td>16714</td>\n",
       "      <td>6.745523</td>\n",
       "      <td>POLYGON ((46.95737 -19.19505, 46.95835 -19.195...</td>\n",
       "      <td>652</td>\n",
       "      <td>17271</td>\n",
       "      <td>3.637784</td>\n",
       "    </tr>\n",
       "    <tr>\n",
       "      <th>18</th>\n",
       "      <td>MG12118</td>\n",
       "      <td>Antsirabe II</td>\n",
       "      <td>District</td>\n",
       "      <td>3008</td>\n",
       "      <td>32980</td>\n",
       "      <td>8.358342</td>\n",
       "      <td>POLYGON ((47.17360 -19.45900, 47.17463 -19.459...</td>\n",
       "      <td>1411</td>\n",
       "      <td>34577</td>\n",
       "      <td>3.920751</td>\n",
       "    </tr>\n",
       "    <tr>\n",
       "      <th>19</th>\n",
       "      <td>MG12120</td>\n",
       "      <td>Mandoto</td>\n",
       "      <td>District</td>\n",
       "      <td>183</td>\n",
       "      <td>12929</td>\n",
       "      <td>1.395668</td>\n",
       "      <td>POLYGON ((46.44324 -19.37849, 46.44407 -19.380...</td>\n",
       "      <td>44</td>\n",
       "      <td>13068</td>\n",
       "      <td>0.335570</td>\n",
       "    </tr>\n",
       "  </tbody>\n",
       "</table>\n",
       "</div>"
      ],
      "text/plain": [
       "     ADM2_PCODE                    ADM2_EN ADM2_TYPE  \\\n",
       "0   MG11101001A         1er Arrondissement  District   \n",
       "1   MG11101002A          2e Arrondissement  District   \n",
       "2   MG11101003A          3e Arrondissement  District   \n",
       "3   MG11101004A          4e Arrondissement  District   \n",
       "4   MG11101005A          5e Arrondissement  District   \n",
       "5   MG11101006A          6e Arrondissement  District   \n",
       "6       MG11102    Antananarivo Avaradrano  District   \n",
       "7       MG11103             Ambohidratrimo  District   \n",
       "8       MG11104                   Ankazobe  District   \n",
       "9       MG11106             Manjakandriana  District   \n",
       "10      MG11107                 Anjozorobe  District   \n",
       "11      MG11115                Andramasina  District   \n",
       "12      MG11117  Antananarivo Atsimondrano  District   \n",
       "13      MG12108                Antsirabe I  District   \n",
       "14      MG12109                     Betafo  District   \n",
       "15      MG12110                Ambatolampy  District   \n",
       "16      MG12114                Antanifotsy  District   \n",
       "17      MG12116                  Faratsiho  District   \n",
       "18      MG12118               Antsirabe II  District   \n",
       "19      MG12120                    Mandoto  District   \n",
       "\n",
       "    pixels_withbuilding_july2021  pixels_nobuilding_july2021  \\\n",
       "0                           3216                         990   \n",
       "1                           1519                        3911   \n",
       "2                           1456                        1742   \n",
       "3                           2789                        2304   \n",
       "4                           3037                        6104   \n",
       "5                            636                        2423   \n",
       "6                           6692                       27525   \n",
       "7                           4332                       31492   \n",
       "8                           1486                       15437   \n",
       "9                           1296                       24520   \n",
       "10                           605                       15474   \n",
       "11                           118                       15036   \n",
       "12                          8343                       24057   \n",
       "13                          3575                       14401   \n",
       "14                          1013                       20291   \n",
       "15                           967                       24341   \n",
       "16                           872                       28634   \n",
       "17                          1209                       16714   \n",
       "18                          3008                       32980   \n",
       "19                           183                       12929   \n",
       "\n",
       "    percentage_completeness_july2021  \\\n",
       "0                          76.462197   \n",
       "1                          27.974217   \n",
       "2                          45.528455   \n",
       "3                          54.761437   \n",
       "4                          33.223936   \n",
       "5                          20.791108   \n",
       "6                          19.557530   \n",
       "7                          12.092452   \n",
       "8                           8.780949   \n",
       "9                           5.020143   \n",
       "10                          3.762672   \n",
       "11                          0.778672   \n",
       "12                         25.750000   \n",
       "13                         19.887628   \n",
       "14                          4.754976   \n",
       "15                          3.820926   \n",
       "16                          2.955331   \n",
       "17                          6.745523   \n",
       "18                          8.358342   \n",
       "19                          1.395668   \n",
       "\n",
       "                                             geometry  \\\n",
       "0   POLYGON ((47.50556 -18.89146, 47.50563 -18.891...   \n",
       "1   POLYGON ((47.55842 -18.91178, 47.55857 -18.911...   \n",
       "2   POLYGON ((47.51365 -18.87834, 47.51775 -18.879...   \n",
       "3   POLYGON ((47.50262 -18.91043, 47.50261 -18.910...   \n",
       "4   POLYGON ((47.53500 -18.85464, 47.53518 -18.854...   \n",
       "5   POLYGON ((47.48436 -18.83989, 47.48491 -18.840...   \n",
       "6   POLYGON ((47.61521 -18.71709, 47.61702 -18.717...   \n",
       "7   POLYGON ((47.49982 -18.43546, 47.50490 -18.439...   \n",
       "8   POLYGON ((46.74249 -17.71321, 46.74325 -17.713...   \n",
       "9   POLYGON ((47.72437 -18.47394, 47.72465 -18.477...   \n",
       "10  POLYGON ((47.84665 -17.76164, 47.84740 -17.762...   \n",
       "11  POLYGON ((47.72871 -19.14659, 47.72961 -19.147...   \n",
       "12  POLYGON ((47.47574 -18.87596, 47.47633 -18.876...   \n",
       "13  POLYGON ((47.00604 -19.81027, 47.00615 -19.810...   \n",
       "14  POLYGON ((46.68300 -19.50925, 46.68347 -19.509...   \n",
       "15  POLYGON ((47.49716 -19.11777, 47.49748 -19.118...   \n",
       "16  POLYGON ((47.23724 -19.40838, 47.23734 -19.408...   \n",
       "17  POLYGON ((46.95737 -19.19505, 46.95835 -19.195...   \n",
       "18  POLYGON ((47.17360 -19.45900, 47.17463 -19.459...   \n",
       "19  POLYGON ((46.44324 -19.37849, 46.44407 -19.380...   \n",
       "\n",
       "    pixels_withbuilding_jan2020  pixels_nobuilding_jan2020  \\\n",
       "0                          2472                       1734   \n",
       "1                          1439                       3991   \n",
       "2                          1424                       1774   \n",
       "3                          1646                       3447   \n",
       "4                          2153                       6988   \n",
       "5                           561                       2498   \n",
       "6                          4015                      30201   \n",
       "7                          3797                      32027   \n",
       "8                           645                      16278   \n",
       "9                           648                      25168   \n",
       "10                          597                      15482   \n",
       "11                          112                      15042   \n",
       "12                         8129                      24271   \n",
       "13                         3237                      14739   \n",
       "14                          367                      20937   \n",
       "15                          963                      24345   \n",
       "16                          872                      28634   \n",
       "17                          652                      17271   \n",
       "18                         1411                      34577   \n",
       "19                           44                      13068   \n",
       "\n",
       "    percentage_completeness_jan2020  \n",
       "0                         58.773181  \n",
       "1                         26.500921  \n",
       "2                         44.527830  \n",
       "3                         32.318869  \n",
       "4                         23.553222  \n",
       "5                         18.339327  \n",
       "6                         11.734276  \n",
       "7                         10.599040  \n",
       "8                          3.811381  \n",
       "9                          2.510071  \n",
       "10                         3.712917  \n",
       "11                         0.739079  \n",
       "12                        25.089506  \n",
       "13                        18.007343  \n",
       "14                         1.722681  \n",
       "15                         3.805121  \n",
       "16                         2.955331  \n",
       "17                         3.637784  \n",
       "18                         3.920751  \n",
       "19                         0.335570  "
      ]
     },
     "execution_count": 94,
     "metadata": {},
     "output_type": "execute_result"
    }
   ],
   "source": [
    "district_output_jan2020.head(20)"
   ]
  },
  {
   "cell_type": "code",
   "execution_count": 96,
   "id": "e5fdd8a4-e68a-4816-8a2a-0155690dc494",
   "metadata": {},
   "outputs": [],
   "source": [
    "# Save to .gpkg file\n",
    "filename = \"../data/mapthegap-mdg-adm2-2021-07-12.gpkg\"\n",
    "district_output_jan2020.to_file(filename, driver=\"GPKG\")"
   ]
  },
  {
   "cell_type": "markdown",
   "id": "e7e90487-8e87-4ca3-9bc2-abb6d5d49f77",
   "metadata": {},
   "source": [
    "#### Level 3 Boundaries (communes)"
   ]
  },
  {
   "cell_type": "code",
   "execution_count": 95,
   "id": "d101fa6c-e2ab-4589-b0cb-84e87398e92d",
   "metadata": {},
   "outputs": [],
   "source": [
    "# fill_value = 0 fills in NaN values with 0\n",
    "# If a region has no mapped pixels, it will give NaN\n",
    "# which would cause a bug in calculating pct completness\n",
    "adm3_df = pd.pivot_table(mdg_pixels_all_jan2020[[\"ADM3_PCODE\",\"status\", \"index\"]], index = [\"ADM3_PCODE\"], columns = [\"status\"], aggfunc=\"count\", fill_value=0)"
   ]
  },
  {
   "cell_type": "code",
   "execution_count": 97,
   "id": "464b50ae-fb19-4ca8-b301-4fd182372be0",
   "metadata": {},
   "outputs": [
    {
     "data": {
      "text/html": [
       "<div>\n",
       "<style scoped>\n",
       "    .dataframe tbody tr th:only-of-type {\n",
       "        vertical-align: middle;\n",
       "    }\n",
       "\n",
       "    .dataframe tbody tr th {\n",
       "        vertical-align: top;\n",
       "    }\n",
       "\n",
       "    .dataframe thead tr th {\n",
       "        text-align: left;\n",
       "    }\n",
       "\n",
       "    .dataframe thead tr:last-of-type th {\n",
       "        text-align: right;\n",
       "    }\n",
       "</style>\n",
       "<table border=\"1\" class=\"dataframe\">\n",
       "  <thead>\n",
       "    <tr>\n",
       "      <th></th>\n",
       "      <th colspan=\"2\" halign=\"left\">index</th>\n",
       "    </tr>\n",
       "    <tr>\n",
       "      <th>status</th>\n",
       "      <th>mapped</th>\n",
       "      <th>unmapped</th>\n",
       "    </tr>\n",
       "    <tr>\n",
       "      <th>ADM3_PCODE</th>\n",
       "      <th></th>\n",
       "      <th></th>\n",
       "    </tr>\n",
       "  </thead>\n",
       "  <tbody>\n",
       "    <tr>\n",
       "      <th>MG11101001</th>\n",
       "      <td>2472</td>\n",
       "      <td>1734</td>\n",
       "    </tr>\n",
       "    <tr>\n",
       "      <th>MG11101002</th>\n",
       "      <td>1439</td>\n",
       "      <td>3991</td>\n",
       "    </tr>\n",
       "    <tr>\n",
       "      <th>MG11101003</th>\n",
       "      <td>1424</td>\n",
       "      <td>1774</td>\n",
       "    </tr>\n",
       "    <tr>\n",
       "      <th>MG11101004</th>\n",
       "      <td>1646</td>\n",
       "      <td>3447</td>\n",
       "    </tr>\n",
       "    <tr>\n",
       "      <th>MG11101005</th>\n",
       "      <td>2153</td>\n",
       "      <td>6988</td>\n",
       "    </tr>\n",
       "  </tbody>\n",
       "</table>\n",
       "</div>"
      ],
      "text/plain": [
       "            index         \n",
       "status     mapped unmapped\n",
       "ADM3_PCODE                \n",
       "MG11101001   2472     1734\n",
       "MG11101002   1439     3991\n",
       "MG11101003   1424     1774\n",
       "MG11101004   1646     3447\n",
       "MG11101005   2153     6988"
      ]
     },
     "execution_count": 97,
     "metadata": {},
     "output_type": "execute_result"
    }
   ],
   "source": [
    "adm3_df.head()"
   ]
  },
  {
   "cell_type": "markdown",
   "id": "31df1335-908b-4948-a71e-4043ea0e146b",
   "metadata": {},
   "source": [
    "The resulting dataframe has a multiindex, which we will fix in the next code blocks"
   ]
  },
  {
   "cell_type": "code",
   "execution_count": 98,
   "id": "8f150abd-8e16-4465-9d57-772e0664b969",
   "metadata": {},
   "outputs": [],
   "source": [
    "adm3_df.columns = adm3_df.columns.get_level_values(1)\n",
    "adm3_df = adm3_df.reset_index().reset_index()"
   ]
  },
  {
   "cell_type": "code",
   "execution_count": 99,
   "id": "7a882e7c-3a16-43d7-abcd-4affde353e33",
   "metadata": {},
   "outputs": [
    {
     "name": "stdout",
     "output_type": "stream",
     "text": [
      "<class 'pandas.core.frame.DataFrame'>\n",
      "RangeIndex: 1579 entries, 0 to 1578\n",
      "Data columns (total 4 columns):\n",
      " #   Column      Non-Null Count  Dtype \n",
      "---  ------      --------------  ----- \n",
      " 0   index       1579 non-null   int64 \n",
      " 1   ADM3_PCODE  1579 non-null   object\n",
      " 2   mapped      1579 non-null   int64 \n",
      " 3   unmapped    1579 non-null   int64 \n",
      "dtypes: int64(3), object(1)\n",
      "memory usage: 49.5+ KB\n"
     ]
    }
   ],
   "source": [
    "# Dataframe now has a regular index!\n",
    "adm3_df.info()"
   ]
  },
  {
   "cell_type": "code",
   "execution_count": 100,
   "id": "38b10567-49bc-4092-a7be-aa44f7bfa8ce",
   "metadata": {},
   "outputs": [],
   "source": [
    "# Drop the index column \n",
    "adm3_df.drop([\"index\"],axis = 1,inplace=True)\n",
    "\n",
    "# Renaming columns to fit previous convention\n",
    "adm3_df.rename(columns = {\n",
    "    'mapped':'pixels_withbuilding_jan2020',\n",
    "    'unmapped':'pixels_nobuilding_jan2020'\n",
    "    },\n",
    "    inplace=True\n",
    ")\n",
    "\n",
    "# Adding a column for percent completeness\n",
    "adm3_df['percentage_completeness_jan2020'] = (adm3_df['pixels_withbuilding_jan2020']/(adm3_df['pixels_withbuilding_jan2020'] + adm3_df['pixels_nobuilding_jan2020'])) * 100"
   ]
  },
  {
   "cell_type": "code",
   "execution_count": 101,
   "id": "dfa6b68a-61b8-41f0-adae-7c0dd74e06f9",
   "metadata": {},
   "outputs": [
    {
     "data": {
      "text/html": [
       "<div>\n",
       "<style scoped>\n",
       "    .dataframe tbody tr th:only-of-type {\n",
       "        vertical-align: middle;\n",
       "    }\n",
       "\n",
       "    .dataframe tbody tr th {\n",
       "        vertical-align: top;\n",
       "    }\n",
       "\n",
       "    .dataframe thead th {\n",
       "        text-align: right;\n",
       "    }\n",
       "</style>\n",
       "<table border=\"1\" class=\"dataframe\">\n",
       "  <thead>\n",
       "    <tr style=\"text-align: right;\">\n",
       "      <th>status</th>\n",
       "      <th>ADM3_PCODE</th>\n",
       "      <th>pixels_withbuilding_jan2020</th>\n",
       "      <th>pixels_nobuilding_jan2020</th>\n",
       "      <th>percentage_completeness_jan2020</th>\n",
       "    </tr>\n",
       "  </thead>\n",
       "  <tbody>\n",
       "    <tr>\n",
       "      <th>0</th>\n",
       "      <td>MG11101001</td>\n",
       "      <td>2472</td>\n",
       "      <td>1734</td>\n",
       "      <td>58.773181</td>\n",
       "    </tr>\n",
       "    <tr>\n",
       "      <th>1</th>\n",
       "      <td>MG11101002</td>\n",
       "      <td>1439</td>\n",
       "      <td>3991</td>\n",
       "      <td>26.500921</td>\n",
       "    </tr>\n",
       "    <tr>\n",
       "      <th>2</th>\n",
       "      <td>MG11101003</td>\n",
       "      <td>1424</td>\n",
       "      <td>1774</td>\n",
       "      <td>44.527830</td>\n",
       "    </tr>\n",
       "    <tr>\n",
       "      <th>3</th>\n",
       "      <td>MG11101004</td>\n",
       "      <td>1646</td>\n",
       "      <td>3447</td>\n",
       "      <td>32.318869</td>\n",
       "    </tr>\n",
       "    <tr>\n",
       "      <th>4</th>\n",
       "      <td>MG11101005</td>\n",
       "      <td>2153</td>\n",
       "      <td>6988</td>\n",
       "      <td>23.553222</td>\n",
       "    </tr>\n",
       "  </tbody>\n",
       "</table>\n",
       "</div>"
      ],
      "text/plain": [
       "status  ADM3_PCODE  pixels_withbuilding_jan2020  pixels_nobuilding_jan2020  \\\n",
       "0       MG11101001                         2472                       1734   \n",
       "1       MG11101002                         1439                       3991   \n",
       "2       MG11101003                         1424                       1774   \n",
       "3       MG11101004                         1646                       3447   \n",
       "4       MG11101005                         2153                       6988   \n",
       "\n",
       "status  percentage_completeness_jan2020  \n",
       "0                             58.773181  \n",
       "1                             26.500921  \n",
       "2                             44.527830  \n",
       "3                             32.318869  \n",
       "4                             23.553222  "
      ]
     },
     "execution_count": 101,
     "metadata": {},
     "output_type": "execute_result"
    }
   ],
   "source": [
    "adm3_df.head()"
   ]
  },
  {
   "cell_type": "markdown",
   "id": "b91b08c3-c832-4152-ad68-f785d7f17b6b",
   "metadata": {},
   "source": [
    "We've successfully calculated the percentage completeness for level 2! Next, we will join the data with the admin boundaries information."
   ]
  },
  {
   "cell_type": "code",
   "execution_count": 102,
   "id": "775bb343-ac2a-490b-8f26-403465f10aef",
   "metadata": {},
   "outputs": [],
   "source": [
    "# Create new dataframe that will store mdg_adm2 \n",
    "# with percentage completness output\n",
    "mdg_adm3_with_output = mdg_adm3\n",
    "\n",
    "# Get only the columns we need to identify region\n",
    "mdg_adm3_with_output = mdg_adm3_with_output[[\n",
    "    'ADM3_EN',\n",
    "    'ADM3_PCODE',\n",
    " ]]"
   ]
  },
  {
   "cell_type": "code",
   "execution_count": 103,
   "id": "bf7b3dd2-b2c1-4d76-9e16-b46278fc0d0d",
   "metadata": {},
   "outputs": [],
   "source": [
    "# Left joining percentage completness values \n",
    "# to their respective regions\n",
    "mdg_adm3_with_output = pd.merge(mdg_adm3_with_output,adm3_df,how=\"left\", on = \"ADM3_PCODE\")"
   ]
  },
  {
   "cell_type": "code",
   "execution_count": 104,
   "id": "5491a3d5-759a-421b-82d1-e2480ec499ca",
   "metadata": {},
   "outputs": [
    {
     "name": "stdout",
     "output_type": "stream",
     "text": [
      "<class 'pandas.core.frame.DataFrame'>\n",
      "Int64Index: 1579 entries, 0 to 1578\n",
      "Data columns (total 5 columns):\n",
      " #   Column                           Non-Null Count  Dtype  \n",
      "---  ------                           --------------  -----  \n",
      " 0   ADM3_EN                          1579 non-null   object \n",
      " 1   ADM3_PCODE                       1579 non-null   object \n",
      " 2   pixels_withbuilding_jan2020      1579 non-null   int64  \n",
      " 3   pixels_nobuilding_jan2020        1579 non-null   int64  \n",
      " 4   percentage_completeness_jan2020  1579 non-null   float64\n",
      "dtypes: float64(1), int64(2), object(2)\n",
      "memory usage: 74.0+ KB\n"
     ]
    }
   ],
   "source": [
    "mdg_adm3_with_output.info()"
   ]
  },
  {
   "cell_type": "markdown",
   "id": "39f75f28-6b0d-49b9-a81b-47c23a9175ae",
   "metadata": {},
   "source": [
    "The last step will be to join it to the previous output and save it to file."
   ]
  },
  {
   "cell_type": "code",
   "execution_count": 106,
   "id": "7f6d1aaa-07e5-4540-b5cd-386cc1408d36",
   "metadata": {},
   "outputs": [],
   "source": [
    "# Left joining the new percent completness values \n",
    "# to the existing values using ADM2_PCODE as index\n",
    "# For the second dataframe, we only keep wanted columns\n",
    "commune_output_jan2020 = pd.merge(\n",
    "    commune_output_july2021,\n",
    "    mdg_adm3_with_output[['ADM3_PCODE',\\\n",
    "                          'pixels_withbuilding_jan2020',\\\n",
    "                          'pixels_nobuilding_jan2020',\\\n",
    "                          'percentage_completeness_jan2020'\\\n",
    "                         ]],\n",
    "    how=\"left\", \n",
    "    on = \"ADM3_PCODE\"\n",
    ")"
   ]
  },
  {
   "cell_type": "code",
   "execution_count": 107,
   "id": "ac751da6-f960-4ebf-bf88-f541cdc0ae69",
   "metadata": {},
   "outputs": [
    {
     "name": "stdout",
     "output_type": "stream",
     "text": [
      "<class 'geopandas.geodataframe.GeoDataFrame'>\n",
      "Int64Index: 1579 entries, 0 to 1578\n",
      "Data columns (total 10 columns):\n",
      " #   Column                            Non-Null Count  Dtype   \n",
      "---  ------                            --------------  -----   \n",
      " 0   ADM3_PCODE                        1579 non-null   object  \n",
      " 1   ADM3_EN                           1579 non-null   object  \n",
      " 2   ADM3_TYPE                         1579 non-null   object  \n",
      " 3   pixels_withbuilding_july2021      1579 non-null   int64   \n",
      " 4   pixels_nobuilding_july2021        1579 non-null   int64   \n",
      " 5   percentage_completeness_july2021  1579 non-null   float64 \n",
      " 6   geometry                          1579 non-null   geometry\n",
      " 7   pixels_withbuilding_jan2020       1579 non-null   int64   \n",
      " 8   pixels_nobuilding_jan2020         1579 non-null   int64   \n",
      " 9   percentage_completeness_jan2020   1579 non-null   float64 \n",
      "dtypes: float64(2), geometry(1), int64(4), object(3)\n",
      "memory usage: 135.7+ KB\n"
     ]
    }
   ],
   "source": [
    "commune_output_jan2020.info()"
   ]
  },
  {
   "cell_type": "code",
   "execution_count": 108,
   "id": "56175ba2-4fef-478d-a40e-f0d74ef2c20c",
   "metadata": {},
   "outputs": [
    {
     "data": {
      "text/html": [
       "<div>\n",
       "<style scoped>\n",
       "    .dataframe tbody tr th:only-of-type {\n",
       "        vertical-align: middle;\n",
       "    }\n",
       "\n",
       "    .dataframe tbody tr th {\n",
       "        vertical-align: top;\n",
       "    }\n",
       "\n",
       "    .dataframe thead th {\n",
       "        text-align: right;\n",
       "    }\n",
       "</style>\n",
       "<table border=\"1\" class=\"dataframe\">\n",
       "  <thead>\n",
       "    <tr style=\"text-align: right;\">\n",
       "      <th></th>\n",
       "      <th>ADM3_PCODE</th>\n",
       "      <th>ADM3_EN</th>\n",
       "      <th>ADM3_TYPE</th>\n",
       "      <th>pixels_withbuilding_july2021</th>\n",
       "      <th>pixels_nobuilding_july2021</th>\n",
       "      <th>percentage_completeness_july2021</th>\n",
       "      <th>geometry</th>\n",
       "      <th>pixels_withbuilding_jan2020</th>\n",
       "      <th>pixels_nobuilding_jan2020</th>\n",
       "      <th>percentage_completeness_jan2020</th>\n",
       "    </tr>\n",
       "  </thead>\n",
       "  <tbody>\n",
       "    <tr>\n",
       "      <th>0</th>\n",
       "      <td>MG11101001</td>\n",
       "      <td>1er Arrondissement</td>\n",
       "      <td>Commune</td>\n",
       "      <td>3216</td>\n",
       "      <td>990</td>\n",
       "      <td>76.462197</td>\n",
       "      <td>POLYGON ((47.50556 -18.89146, 47.50563 -18.891...</td>\n",
       "      <td>2472</td>\n",
       "      <td>1734</td>\n",
       "      <td>58.773181</td>\n",
       "    </tr>\n",
       "    <tr>\n",
       "      <th>1</th>\n",
       "      <td>MG11101002</td>\n",
       "      <td>2e Arrondissement</td>\n",
       "      <td>Commune</td>\n",
       "      <td>1519</td>\n",
       "      <td>3911</td>\n",
       "      <td>27.974217</td>\n",
       "      <td>POLYGON ((47.55842 -18.91178, 47.55857 -18.911...</td>\n",
       "      <td>1439</td>\n",
       "      <td>3991</td>\n",
       "      <td>26.500921</td>\n",
       "    </tr>\n",
       "    <tr>\n",
       "      <th>2</th>\n",
       "      <td>MG11101003</td>\n",
       "      <td>3e Arrondissement</td>\n",
       "      <td>Commune</td>\n",
       "      <td>1456</td>\n",
       "      <td>1742</td>\n",
       "      <td>45.528455</td>\n",
       "      <td>POLYGON ((47.51365 -18.87834, 47.51775 -18.879...</td>\n",
       "      <td>1424</td>\n",
       "      <td>1774</td>\n",
       "      <td>44.527830</td>\n",
       "    </tr>\n",
       "    <tr>\n",
       "      <th>3</th>\n",
       "      <td>MG11101004</td>\n",
       "      <td>4e Arrondissement</td>\n",
       "      <td>Commune</td>\n",
       "      <td>2789</td>\n",
       "      <td>2304</td>\n",
       "      <td>54.761437</td>\n",
       "      <td>POLYGON ((47.50262 -18.91043, 47.50261 -18.910...</td>\n",
       "      <td>1646</td>\n",
       "      <td>3447</td>\n",
       "      <td>32.318869</td>\n",
       "    </tr>\n",
       "    <tr>\n",
       "      <th>4</th>\n",
       "      <td>MG11101005</td>\n",
       "      <td>5e Arrondissement</td>\n",
       "      <td>Commune</td>\n",
       "      <td>3037</td>\n",
       "      <td>6104</td>\n",
       "      <td>33.223936</td>\n",
       "      <td>POLYGON ((47.53500 -18.85464, 47.53518 -18.854...</td>\n",
       "      <td>2153</td>\n",
       "      <td>6988</td>\n",
       "      <td>23.553222</td>\n",
       "    </tr>\n",
       "    <tr>\n",
       "      <th>5</th>\n",
       "      <td>MG11101006</td>\n",
       "      <td>6e Arrondissement</td>\n",
       "      <td>Commune</td>\n",
       "      <td>636</td>\n",
       "      <td>2423</td>\n",
       "      <td>20.791108</td>\n",
       "      <td>POLYGON ((47.48436 -18.83989, 47.48491 -18.840...</td>\n",
       "      <td>561</td>\n",
       "      <td>2498</td>\n",
       "      <td>18.339327</td>\n",
       "    </tr>\n",
       "    <tr>\n",
       "      <th>6</th>\n",
       "      <td>MG11102010</td>\n",
       "      <td>Alasora</td>\n",
       "      <td>Commune</td>\n",
       "      <td>481</td>\n",
       "      <td>3040</td>\n",
       "      <td>13.660892</td>\n",
       "      <td>POLYGON ((47.58420 -18.93248, 47.58459 -18.932...</td>\n",
       "      <td>461</td>\n",
       "      <td>3060</td>\n",
       "      <td>13.092871</td>\n",
       "    </tr>\n",
       "    <tr>\n",
       "      <th>7</th>\n",
       "      <td>MG11102039</td>\n",
       "      <td>Ankadikely Ilafy</td>\n",
       "      <td>Commune</td>\n",
       "      <td>4759</td>\n",
       "      <td>1267</td>\n",
       "      <td>78.974444</td>\n",
       "      <td>POLYGON ((47.60350 -18.83852, 47.60155 -18.841...</td>\n",
       "      <td>2839</td>\n",
       "      <td>3186</td>\n",
       "      <td>47.120332</td>\n",
       "    </tr>\n",
       "    <tr>\n",
       "      <th>8</th>\n",
       "      <td>MG11102050</td>\n",
       "      <td>Ambohimanambola</td>\n",
       "      <td>Commune</td>\n",
       "      <td>13</td>\n",
       "      <td>1351</td>\n",
       "      <td>0.953079</td>\n",
       "      <td>POLYGON ((47.61793 -18.91379, 47.61867 -18.919...</td>\n",
       "      <td>13</td>\n",
       "      <td>1351</td>\n",
       "      <td>0.953079</td>\n",
       "    </tr>\n",
       "    <tr>\n",
       "      <th>9</th>\n",
       "      <td>MG11102079</td>\n",
       "      <td>Sabotsy Namehana</td>\n",
       "      <td>Commune</td>\n",
       "      <td>252</td>\n",
       "      <td>3818</td>\n",
       "      <td>6.191646</td>\n",
       "      <td>POLYGON ((47.54650 -18.78823, 47.54925 -18.791...</td>\n",
       "      <td>52</td>\n",
       "      <td>4018</td>\n",
       "      <td>1.277641</td>\n",
       "    </tr>\n",
       "    <tr>\n",
       "      <th>10</th>\n",
       "      <td>MG11102099</td>\n",
       "      <td>Ambohimangakely</td>\n",
       "      <td>Commune</td>\n",
       "      <td>509</td>\n",
       "      <td>4545</td>\n",
       "      <td>10.071231</td>\n",
       "      <td>POLYGON ((47.59280 -18.85843, 47.59340 -18.858...</td>\n",
       "      <td>339</td>\n",
       "      <td>4715</td>\n",
       "      <td>6.707558</td>\n",
       "    </tr>\n",
       "    <tr>\n",
       "      <th>11</th>\n",
       "      <td>MG11102210</td>\n",
       "      <td>Manandriana</td>\n",
       "      <td>Commune</td>\n",
       "      <td>10</td>\n",
       "      <td>797</td>\n",
       "      <td>1.239157</td>\n",
       "      <td>POLYGON ((47.63012 -18.80685, 47.63291 -18.807...</td>\n",
       "      <td>10</td>\n",
       "      <td>797</td>\n",
       "      <td>1.239157</td>\n",
       "    </tr>\n",
       "    <tr>\n",
       "      <th>12</th>\n",
       "      <td>MG11102230</td>\n",
       "      <td>Ambohimalaza Miray</td>\n",
       "      <td>Commune</td>\n",
       "      <td>19</td>\n",
       "      <td>2026</td>\n",
       "      <td>0.929095</td>\n",
       "      <td>POLYGON ((47.67178 -18.84597, 47.67144 -18.846...</td>\n",
       "      <td>19</td>\n",
       "      <td>2026</td>\n",
       "      <td>0.929095</td>\n",
       "    </tr>\n",
       "    <tr>\n",
       "      <th>13</th>\n",
       "      <td>MG11102279</td>\n",
       "      <td>Fiaferana</td>\n",
       "      <td>Commune</td>\n",
       "      <td>416</td>\n",
       "      <td>655</td>\n",
       "      <td>38.842204</td>\n",
       "      <td>POLYGON ((47.66837 -18.82982, 47.66725 -18.833...</td>\n",
       "      <td>59</td>\n",
       "      <td>1012</td>\n",
       "      <td>5.508870</td>\n",
       "    </tr>\n",
       "    <tr>\n",
       "      <th>14</th>\n",
       "      <td>MG11102319</td>\n",
       "      <td>Ambohimanga Rova</td>\n",
       "      <td>Commune</td>\n",
       "      <td>34</td>\n",
       "      <td>2823</td>\n",
       "      <td>1.190060</td>\n",
       "      <td>POLYGON ((47.57265 -18.73703, 47.57513 -18.740...</td>\n",
       "      <td>31</td>\n",
       "      <td>2826</td>\n",
       "      <td>1.085054</td>\n",
       "    </tr>\n",
       "    <tr>\n",
       "      <th>15</th>\n",
       "      <td>MG11102350</td>\n",
       "      <td>Viliahazo</td>\n",
       "      <td>Commune</td>\n",
       "      <td>7</td>\n",
       "      <td>367</td>\n",
       "      <td>1.871658</td>\n",
       "      <td>POLYGON ((47.68924 -18.79263, 47.68992 -18.794...</td>\n",
       "      <td>0</td>\n",
       "      <td>374</td>\n",
       "      <td>0.000000</td>\n",
       "    </tr>\n",
       "    <tr>\n",
       "      <th>16</th>\n",
       "      <td>MG11102379</td>\n",
       "      <td>Talata Volonondry</td>\n",
       "      <td>Commune</td>\n",
       "      <td>88</td>\n",
       "      <td>3178</td>\n",
       "      <td>2.694427</td>\n",
       "      <td>POLYGON ((47.61521 -18.71709, 47.61702 -18.717...</td>\n",
       "      <td>88</td>\n",
       "      <td>3178</td>\n",
       "      <td>2.694427</td>\n",
       "    </tr>\n",
       "    <tr>\n",
       "      <th>17</th>\n",
       "      <td>MG11102390</td>\n",
       "      <td>Anjeva Gara</td>\n",
       "      <td>Commune</td>\n",
       "      <td>0</td>\n",
       "      <td>980</td>\n",
       "      <td>0.000000</td>\n",
       "      <td>POLYGON ((47.66799 -18.91876, 47.66927 -18.919...</td>\n",
       "      <td>0</td>\n",
       "      <td>980</td>\n",
       "      <td>0.000000</td>\n",
       "    </tr>\n",
       "    <tr>\n",
       "      <th>18</th>\n",
       "      <td>MG11102410</td>\n",
       "      <td>Masindray</td>\n",
       "      <td>Commune</td>\n",
       "      <td>19</td>\n",
       "      <td>1333</td>\n",
       "      <td>1.405325</td>\n",
       "      <td>POLYGON ((47.64800 -18.95135, 47.64809 -18.951...</td>\n",
       "      <td>19</td>\n",
       "      <td>1333</td>\n",
       "      <td>1.405325</td>\n",
       "    </tr>\n",
       "    <tr>\n",
       "      <th>19</th>\n",
       "      <td>MG11102430</td>\n",
       "      <td>Ankadinandriana</td>\n",
       "      <td>Commune</td>\n",
       "      <td>85</td>\n",
       "      <td>1345</td>\n",
       "      <td>5.944056</td>\n",
       "      <td>POLYGON ((47.66539 -19.01001, 47.66598 -19.011...</td>\n",
       "      <td>85</td>\n",
       "      <td>1345</td>\n",
       "      <td>5.944056</td>\n",
       "    </tr>\n",
       "  </tbody>\n",
       "</table>\n",
       "</div>"
      ],
      "text/plain": [
       "    ADM3_PCODE             ADM3_EN ADM3_TYPE  pixels_withbuilding_july2021  \\\n",
       "0   MG11101001  1er Arrondissement   Commune                          3216   \n",
       "1   MG11101002   2e Arrondissement   Commune                          1519   \n",
       "2   MG11101003   3e Arrondissement   Commune                          1456   \n",
       "3   MG11101004   4e Arrondissement   Commune                          2789   \n",
       "4   MG11101005   5e Arrondissement   Commune                          3037   \n",
       "5   MG11101006   6e Arrondissement   Commune                           636   \n",
       "6   MG11102010             Alasora   Commune                           481   \n",
       "7   MG11102039    Ankadikely Ilafy   Commune                          4759   \n",
       "8   MG11102050     Ambohimanambola   Commune                            13   \n",
       "9   MG11102079    Sabotsy Namehana   Commune                           252   \n",
       "10  MG11102099     Ambohimangakely   Commune                           509   \n",
       "11  MG11102210         Manandriana   Commune                            10   \n",
       "12  MG11102230  Ambohimalaza Miray   Commune                            19   \n",
       "13  MG11102279           Fiaferana   Commune                           416   \n",
       "14  MG11102319    Ambohimanga Rova   Commune                            34   \n",
       "15  MG11102350           Viliahazo   Commune                             7   \n",
       "16  MG11102379   Talata Volonondry   Commune                            88   \n",
       "17  MG11102390         Anjeva Gara   Commune                             0   \n",
       "18  MG11102410           Masindray   Commune                            19   \n",
       "19  MG11102430     Ankadinandriana   Commune                            85   \n",
       "\n",
       "    pixels_nobuilding_july2021  percentage_completeness_july2021  \\\n",
       "0                          990                         76.462197   \n",
       "1                         3911                         27.974217   \n",
       "2                         1742                         45.528455   \n",
       "3                         2304                         54.761437   \n",
       "4                         6104                         33.223936   \n",
       "5                         2423                         20.791108   \n",
       "6                         3040                         13.660892   \n",
       "7                         1267                         78.974444   \n",
       "8                         1351                          0.953079   \n",
       "9                         3818                          6.191646   \n",
       "10                        4545                         10.071231   \n",
       "11                         797                          1.239157   \n",
       "12                        2026                          0.929095   \n",
       "13                         655                         38.842204   \n",
       "14                        2823                          1.190060   \n",
       "15                         367                          1.871658   \n",
       "16                        3178                          2.694427   \n",
       "17                         980                          0.000000   \n",
       "18                        1333                          1.405325   \n",
       "19                        1345                          5.944056   \n",
       "\n",
       "                                             geometry  \\\n",
       "0   POLYGON ((47.50556 -18.89146, 47.50563 -18.891...   \n",
       "1   POLYGON ((47.55842 -18.91178, 47.55857 -18.911...   \n",
       "2   POLYGON ((47.51365 -18.87834, 47.51775 -18.879...   \n",
       "3   POLYGON ((47.50262 -18.91043, 47.50261 -18.910...   \n",
       "4   POLYGON ((47.53500 -18.85464, 47.53518 -18.854...   \n",
       "5   POLYGON ((47.48436 -18.83989, 47.48491 -18.840...   \n",
       "6   POLYGON ((47.58420 -18.93248, 47.58459 -18.932...   \n",
       "7   POLYGON ((47.60350 -18.83852, 47.60155 -18.841...   \n",
       "8   POLYGON ((47.61793 -18.91379, 47.61867 -18.919...   \n",
       "9   POLYGON ((47.54650 -18.78823, 47.54925 -18.791...   \n",
       "10  POLYGON ((47.59280 -18.85843, 47.59340 -18.858...   \n",
       "11  POLYGON ((47.63012 -18.80685, 47.63291 -18.807...   \n",
       "12  POLYGON ((47.67178 -18.84597, 47.67144 -18.846...   \n",
       "13  POLYGON ((47.66837 -18.82982, 47.66725 -18.833...   \n",
       "14  POLYGON ((47.57265 -18.73703, 47.57513 -18.740...   \n",
       "15  POLYGON ((47.68924 -18.79263, 47.68992 -18.794...   \n",
       "16  POLYGON ((47.61521 -18.71709, 47.61702 -18.717...   \n",
       "17  POLYGON ((47.66799 -18.91876, 47.66927 -18.919...   \n",
       "18  POLYGON ((47.64800 -18.95135, 47.64809 -18.951...   \n",
       "19  POLYGON ((47.66539 -19.01001, 47.66598 -19.011...   \n",
       "\n",
       "    pixels_withbuilding_jan2020  pixels_nobuilding_jan2020  \\\n",
       "0                          2472                       1734   \n",
       "1                          1439                       3991   \n",
       "2                          1424                       1774   \n",
       "3                          1646                       3447   \n",
       "4                          2153                       6988   \n",
       "5                           561                       2498   \n",
       "6                           461                       3060   \n",
       "7                          2839                       3186   \n",
       "8                            13                       1351   \n",
       "9                            52                       4018   \n",
       "10                          339                       4715   \n",
       "11                           10                        797   \n",
       "12                           19                       2026   \n",
       "13                           59                       1012   \n",
       "14                           31                       2826   \n",
       "15                            0                        374   \n",
       "16                           88                       3178   \n",
       "17                            0                        980   \n",
       "18                           19                       1333   \n",
       "19                           85                       1345   \n",
       "\n",
       "    percentage_completeness_jan2020  \n",
       "0                         58.773181  \n",
       "1                         26.500921  \n",
       "2                         44.527830  \n",
       "3                         32.318869  \n",
       "4                         23.553222  \n",
       "5                         18.339327  \n",
       "6                         13.092871  \n",
       "7                         47.120332  \n",
       "8                          0.953079  \n",
       "9                          1.277641  \n",
       "10                         6.707558  \n",
       "11                         1.239157  \n",
       "12                         0.929095  \n",
       "13                         5.508870  \n",
       "14                         1.085054  \n",
       "15                         0.000000  \n",
       "16                         2.694427  \n",
       "17                         0.000000  \n",
       "18                         1.405325  \n",
       "19                         5.944056  "
      ]
     },
     "execution_count": 108,
     "metadata": {},
     "output_type": "execute_result"
    }
   ],
   "source": [
    "commune_output_jan2020.head(20)"
   ]
  },
  {
   "cell_type": "code",
   "execution_count": 109,
   "id": "ddd30436-c783-4959-9607-1f9083298fa8",
   "metadata": {},
   "outputs": [],
   "source": [
    "# Save to .gpkg file\n",
    "filename = \"../data/mapthegap-mdg-adm3-2021-07-12.gpkg\"\n",
    "commune_output_jan2020.to_file(filename, driver=\"GPKG\")"
   ]
  },
  {
   "cell_type": "markdown",
   "id": "2486cce3-35ac-4001-ac37-7402968f4681",
   "metadata": {},
   "source": [
    "# Finish!\n",
    "By this point, you should already have the percent completeness for the whole country and per admin region.\n",
    "\n",
    "1. `mdg_pixels_all(_jan2020).csv` and `mdg_pixels_all(_jan2020).gpkg` which contains mapped/unmapped pixels, labelled by admin boundary PCODES\n",
    "2. `mapthegap-mdg-adm<2/3>-2021-07-12.gpkg`, which contains percent completeness values per administrative region, with values for both Jan 2020 and Jul 2021\n",
    "\n",
    "To convert this into tilesets for plotting, refer to `2_CreateTileset.ipynb`"
   ]
  }
 ],
 "metadata": {
  "environment": {
   "name": "common-cpu.m71",
   "type": "gcloud",
   "uri": "gcr.io/deeplearning-platform-release/base-cpu:m71"
  },
  "kernelspec": {
   "display_name": "Python 3",
   "language": "python",
   "name": "python3"
  },
  "language_info": {
   "codemirror_mode": {
    "name": "ipython",
    "version": 3
   },
   "file_extension": ".py",
   "mimetype": "text/x-python",
   "name": "python",
   "nbconvert_exporter": "python",
   "pygments_lexer": "ipython3",
   "version": "3.7.10"
  }
 },
 "nbformat": 4,
 "nbformat_minor": 5
}
