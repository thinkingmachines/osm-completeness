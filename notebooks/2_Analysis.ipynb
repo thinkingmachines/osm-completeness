{
 "cells": [
  {
   "cell_type": "markdown",
   "metadata": {
    "Collapsed": "false"
   },
   "source": [
    "# Analysis"
   ]
  },
  {
   "cell_type": "markdown",
   "metadata": {
    "Collapsed": "false"
   },
   "source": [
    "This notebook shows the analysis for the paper \"Measuring OpenStreetMap building footprint completeness using human settlement layers\"."
   ]
  },
  {
   "cell_type": "markdown",
   "metadata": {
    "Collapsed": "false"
   },
   "source": [
    "### Setup"
   ]
  },
  {
   "cell_type": "code",
   "execution_count": 2,
   "metadata": {
    "Collapsed": "false"
   },
   "outputs": [],
   "source": [
    "import numpy as np\n",
    "import pandas as pd\n",
    "import matplotlib.pyplot as plt\n",
    "from scipy.stats.stats import pearsonr"
   ]
  },
  {
   "cell_type": "code",
   "execution_count": 3,
   "metadata": {
    "Collapsed": "false"
   },
   "outputs": [],
   "source": [
    "phl_pixels_all = pd.read_csv(\"../data/phl_pixels_all.csv\")\n",
    "phl_poverty = pd.read_csv(\"../data/phl_poverty_incidence.csv\")"
   ]
  },
  {
   "cell_type": "code",
   "execution_count": 4,
   "metadata": {
    "Collapsed": "false"
   },
   "outputs": [
    {
     "name": "stdout",
     "output_type": "stream",
     "text": [
      "<class 'pandas.core.frame.DataFrame'>\n",
      "RangeIndex: 5500996 entries, 0 to 5500995\n",
      "Data columns (total 5 columns):\n",
      " #   Column           Dtype \n",
      "---  ------           ----- \n",
      " 0   index            int64 \n",
      " 1   ADM3_PCODE       object\n",
      " 2   RURBAN           object\n",
      " 3   ADM4_PCODE_NAME  object\n",
      " 4   status           object\n",
      "dtypes: int64(1), object(4)\n",
      "memory usage: 209.8+ MB\n"
     ]
    }
   ],
   "source": [
    "phl_pixels_all.info()"
   ]
  },
  {
   "cell_type": "code",
   "execution_count": 5,
   "metadata": {
    "Collapsed": "false"
   },
   "outputs": [
    {
     "data": {
      "text/html": [
       "<div>\n",
       "<style scoped>\n",
       "    .dataframe tbody tr th:only-of-type {\n",
       "        vertical-align: middle;\n",
       "    }\n",
       "\n",
       "    .dataframe tbody tr th {\n",
       "        vertical-align: top;\n",
       "    }\n",
       "\n",
       "    .dataframe thead th {\n",
       "        text-align: right;\n",
       "    }\n",
       "</style>\n",
       "<table border=\"1\" class=\"dataframe\">\n",
       "  <thead>\n",
       "    <tr style=\"text-align: right;\">\n",
       "      <th></th>\n",
       "      <th>index</th>\n",
       "      <th>ADM3_PCODE</th>\n",
       "      <th>RURBAN</th>\n",
       "      <th>ADM4_PCODE_NAME</th>\n",
       "      <th>status</th>\n",
       "    </tr>\n",
       "  </thead>\n",
       "  <tbody>\n",
       "    <tr>\n",
       "      <th>0</th>\n",
       "      <td>1</td>\n",
       "      <td>PH020902000</td>\n",
       "      <td>R</td>\n",
       "      <td>020902010_Santa Rosa (Kaynatuan)</td>\n",
       "      <td>mapped</td>\n",
       "    </tr>\n",
       "    <tr>\n",
       "      <th>1</th>\n",
       "      <td>3</td>\n",
       "      <td>PH020902000</td>\n",
       "      <td>R</td>\n",
       "      <td>020902010_Santa Rosa (Kaynatuan)</td>\n",
       "      <td>mapped</td>\n",
       "    </tr>\n",
       "    <tr>\n",
       "      <th>2</th>\n",
       "      <td>4</td>\n",
       "      <td>PH020902000</td>\n",
       "      <td>R</td>\n",
       "      <td>020902010_Santa Rosa (Kaynatuan)</td>\n",
       "      <td>mapped</td>\n",
       "    </tr>\n",
       "    <tr>\n",
       "      <th>3</th>\n",
       "      <td>5</td>\n",
       "      <td>PH020902000</td>\n",
       "      <td>R</td>\n",
       "      <td>020902010_Santa Rosa (Kaynatuan)</td>\n",
       "      <td>mapped</td>\n",
       "    </tr>\n",
       "    <tr>\n",
       "      <th>4</th>\n",
       "      <td>8</td>\n",
       "      <td>PH020902000</td>\n",
       "      <td>R</td>\n",
       "      <td>020902010_Santa Rosa (Kaynatuan)</td>\n",
       "      <td>mapped</td>\n",
       "    </tr>\n",
       "  </tbody>\n",
       "</table>\n",
       "</div>"
      ],
      "text/plain": [
       "   index   ADM3_PCODE RURBAN                   ADM4_PCODE_NAME  status\n",
       "0      1  PH020902000      R  020902010_Santa Rosa (Kaynatuan)  mapped\n",
       "1      3  PH020902000      R  020902010_Santa Rosa (Kaynatuan)  mapped\n",
       "2      4  PH020902000      R  020902010_Santa Rosa (Kaynatuan)  mapped\n",
       "3      5  PH020902000      R  020902010_Santa Rosa (Kaynatuan)  mapped\n",
       "4      8  PH020902000      R  020902010_Santa Rosa (Kaynatuan)  mapped"
      ]
     },
     "execution_count": 5,
     "metadata": {},
     "output_type": "execute_result"
    }
   ],
   "source": [
    "phl_pixels_all.head()"
   ]
  },
  {
   "cell_type": "code",
   "execution_count": 6,
   "metadata": {
    "Collapsed": "false"
   },
   "outputs": [
    {
     "data": {
      "text/plain": [
       "array(['mapped', 'unmapped'], dtype=object)"
      ]
     },
     "execution_count": 6,
     "metadata": {},
     "output_type": "execute_result"
    }
   ],
   "source": [
    "phl_pixels_all.status.unique()"
   ]
  },
  {
   "cell_type": "code",
   "execution_count": 7,
   "metadata": {
    "Collapsed": "false"
   },
   "outputs": [
    {
     "data": {
      "text/plain": [
       "array(['R', 'U', nan, '-'], dtype=object)"
      ]
     },
     "execution_count": 7,
     "metadata": {},
     "output_type": "execute_result"
    }
   ],
   "source": [
    "phl_pixels_all.RURBAN.unique()"
   ]
  },
  {
   "cell_type": "code",
   "execution_count": 8,
   "metadata": {
    "Collapsed": "false"
   },
   "outputs": [
    {
     "data": {
      "text/plain": [
       "array(['R', 'U', nan, '-'], dtype=object)"
      ]
     },
     "execution_count": 8,
     "metadata": {},
     "output_type": "execute_result"
    }
   ],
   "source": [
    "phl_pixels_all[\"RURBAN\"].unique()"
   ]
  },
  {
   "cell_type": "code",
   "execution_count": 9,
   "metadata": {
    "Collapsed": "false"
   },
   "outputs": [
    {
     "data": {
      "text/html": [
       "<div>\n",
       "<style scoped>\n",
       "    .dataframe tbody tr th:only-of-type {\n",
       "        vertical-align: middle;\n",
       "    }\n",
       "\n",
       "    .dataframe tbody tr th {\n",
       "        vertical-align: top;\n",
       "    }\n",
       "\n",
       "    .dataframe thead th {\n",
       "        text-align: right;\n",
       "    }\n",
       "</style>\n",
       "<table border=\"1\" class=\"dataframe\">\n",
       "  <thead>\n",
       "    <tr style=\"text-align: right;\">\n",
       "      <th></th>\n",
       "      <th></th>\n",
       "      <th>index</th>\n",
       "      <th>ADM3_PCODE</th>\n",
       "      <th>ADM4_PCODE_NAME</th>\n",
       "    </tr>\n",
       "    <tr>\n",
       "      <th>RURBAN</th>\n",
       "      <th>status</th>\n",
       "      <th></th>\n",
       "      <th></th>\n",
       "      <th></th>\n",
       "    </tr>\n",
       "  </thead>\n",
       "  <tbody>\n",
       "    <tr>\n",
       "      <th rowspan=\"2\" valign=\"top\">R</th>\n",
       "      <th>mapped</th>\n",
       "      <td>992074</td>\n",
       "      <td>992074</td>\n",
       "      <td>992074</td>\n",
       "    </tr>\n",
       "    <tr>\n",
       "      <th>unmapped</th>\n",
       "      <td>2600890</td>\n",
       "      <td>2600890</td>\n",
       "      <td>2600890</td>\n",
       "    </tr>\n",
       "    <tr>\n",
       "      <th rowspan=\"2\" valign=\"top\">U</th>\n",
       "      <th>mapped</th>\n",
       "      <td>736423</td>\n",
       "      <td>736423</td>\n",
       "      <td>736423</td>\n",
       "    </tr>\n",
       "    <tr>\n",
       "      <th>unmapped</th>\n",
       "      <td>1168036</td>\n",
       "      <td>1168036</td>\n",
       "      <td>1168036</td>\n",
       "    </tr>\n",
       "  </tbody>\n",
       "</table>\n",
       "</div>"
      ],
      "text/plain": [
       "                   index  ADM3_PCODE  ADM4_PCODE_NAME\n",
       "RURBAN status                                        \n",
       "R      mapped     992074      992074           992074\n",
       "       unmapped  2600890     2600890          2600890\n",
       "U      mapped     736423      736423           736423\n",
       "       unmapped  1168036     1168036          1168036"
      ]
     },
     "execution_count": 9,
     "metadata": {},
     "output_type": "execute_result"
    }
   ],
   "source": [
    "phl_pixels_all.loc[phl_pixels_all[\"RURBAN\"] != \"-\"].loc[\n",
    "    phl_pixels_all[\"RURBAN\"].notnull()\n",
    "].groupby([\"RURBAN\", \"status\"]).count()"
   ]
  },
  {
   "cell_type": "code",
   "execution_count": 10,
   "metadata": {
    "Collapsed": "false"
   },
   "outputs": [
    {
     "data": {
      "text/html": [
       "<div>\n",
       "<style scoped>\n",
       "    .dataframe tbody tr th:only-of-type {\n",
       "        vertical-align: middle;\n",
       "    }\n",
       "\n",
       "    .dataframe tbody tr th {\n",
       "        vertical-align: top;\n",
       "    }\n",
       "\n",
       "    .dataframe thead th {\n",
       "        text-align: right;\n",
       "    }\n",
       "</style>\n",
       "<table border=\"1\" class=\"dataframe\">\n",
       "  <thead>\n",
       "    <tr style=\"text-align: right;\">\n",
       "      <th></th>\n",
       "      <th></th>\n",
       "      <th></th>\n",
       "      <th>index</th>\n",
       "      <th>ADM4_PCODE_NAME</th>\n",
       "    </tr>\n",
       "    <tr>\n",
       "      <th>RURBAN</th>\n",
       "      <th>status</th>\n",
       "      <th>ADM3_PCODE</th>\n",
       "      <th></th>\n",
       "      <th></th>\n",
       "    </tr>\n",
       "  </thead>\n",
       "  <tbody>\n",
       "    <tr>\n",
       "      <th rowspan=\"5\" valign=\"top\">R</th>\n",
       "      <th rowspan=\"5\" valign=\"top\">mapped</th>\n",
       "      <th>PH012801000</th>\n",
       "      <td>183</td>\n",
       "      <td>183</td>\n",
       "    </tr>\n",
       "    <tr>\n",
       "      <th>PH012802000</th>\n",
       "      <td>2964</td>\n",
       "      <td>2964</td>\n",
       "    </tr>\n",
       "    <tr>\n",
       "      <th>PH012803000</th>\n",
       "      <td>2258</td>\n",
       "      <td>2258</td>\n",
       "    </tr>\n",
       "    <tr>\n",
       "      <th>PH012804000</th>\n",
       "      <td>1572</td>\n",
       "      <td>1572</td>\n",
       "    </tr>\n",
       "    <tr>\n",
       "      <th>PH012805000</th>\n",
       "      <td>3789</td>\n",
       "      <td>3789</td>\n",
       "    </tr>\n",
       "    <tr>\n",
       "      <th>...</th>\n",
       "      <th>...</th>\n",
       "      <th>...</th>\n",
       "      <td>...</td>\n",
       "      <td>...</td>\n",
       "    </tr>\n",
       "    <tr>\n",
       "      <th rowspan=\"5\" valign=\"top\">U</th>\n",
       "      <th rowspan=\"5\" valign=\"top\">unmapped</th>\n",
       "      <th>PH175319000</th>\n",
       "      <td>556</td>\n",
       "      <td>556</td>\n",
       "    </tr>\n",
       "    <tr>\n",
       "      <th>PH175320000</th>\n",
       "      <td>1068</td>\n",
       "      <td>1068</td>\n",
       "    </tr>\n",
       "    <tr>\n",
       "      <th>PH175323000</th>\n",
       "      <td>1912</td>\n",
       "      <td>1912</td>\n",
       "    </tr>\n",
       "    <tr>\n",
       "      <th>PH175324000</th>\n",
       "      <td>740</td>\n",
       "      <td>740</td>\n",
       "    </tr>\n",
       "    <tr>\n",
       "      <th>PH175910000</th>\n",
       "      <td>65</td>\n",
       "      <td>65</td>\n",
       "    </tr>\n",
       "  </tbody>\n",
       "</table>\n",
       "<p>4662 rows × 2 columns</p>\n",
       "</div>"
      ],
      "text/plain": [
       "                             index  ADM4_PCODE_NAME\n",
       "RURBAN status   ADM3_PCODE                         \n",
       "R      mapped   PH012801000    183              183\n",
       "                PH012802000   2964             2964\n",
       "                PH012803000   2258             2258\n",
       "                PH012804000   1572             1572\n",
       "                PH012805000   3789             3789\n",
       "...                            ...              ...\n",
       "U      unmapped PH175319000    556              556\n",
       "                PH175320000   1068             1068\n",
       "                PH175323000   1912             1912\n",
       "                PH175324000    740              740\n",
       "                PH175910000     65               65\n",
       "\n",
       "[4662 rows x 2 columns]"
      ]
     },
     "execution_count": 10,
     "metadata": {},
     "output_type": "execute_result"
    }
   ],
   "source": [
    "phl_pixels_all.loc[phl_pixels_all[\"RURBAN\"] != \"-\"].loc[\n",
    "    phl_pixels_all[\"RURBAN\"].notnull()\n",
    "].groupby([\"RURBAN\", \"status\", \"ADM3_PCODE\"]).count()"
   ]
  },
  {
   "cell_type": "markdown",
   "metadata": {
    "Collapsed": "false"
   },
   "source": [
    "### Histogram of Barangay Completeness"
   ]
  },
  {
   "cell_type": "code",
   "execution_count": 11,
   "metadata": {
    "Collapsed": "false"
   },
   "outputs": [],
   "source": [
    "by_adm4_count = (\n",
    "    phl_pixels_all.loc[phl_pixels_all[\"RURBAN\"] != \"-\"]\n",
    "    .loc[phl_pixels_all[\"RURBAN\"].notnull()]\n",
    "    .groupby([\"ADM4_PCODE_NAME\", \"status\", \"RURBAN\"])\n",
    "    .count()\n",
    "    .reset_index()\n",
    ")"
   ]
  },
  {
   "cell_type": "code",
   "execution_count": 12,
   "metadata": {
    "Collapsed": "false"
   },
   "outputs": [
    {
     "data": {
      "text/html": [
       "<div>\n",
       "<style scoped>\n",
       "    .dataframe tbody tr th:only-of-type {\n",
       "        vertical-align: middle;\n",
       "    }\n",
       "\n",
       "    .dataframe tbody tr th {\n",
       "        vertical-align: top;\n",
       "    }\n",
       "\n",
       "    .dataframe thead th {\n",
       "        text-align: right;\n",
       "    }\n",
       "</style>\n",
       "<table border=\"1\" class=\"dataframe\">\n",
       "  <thead>\n",
       "    <tr style=\"text-align: right;\">\n",
       "      <th></th>\n",
       "      <th>ADM4_PCODE_NAME</th>\n",
       "      <th>status</th>\n",
       "      <th>RURBAN</th>\n",
       "      <th>index</th>\n",
       "      <th>ADM3_PCODE</th>\n",
       "    </tr>\n",
       "  </thead>\n",
       "  <tbody>\n",
       "    <tr>\n",
       "      <th>0</th>\n",
       "      <td>012801001_Adams (Pob.)</td>\n",
       "      <td>mapped</td>\n",
       "      <td>R</td>\n",
       "      <td>183</td>\n",
       "      <td>183</td>\n",
       "    </tr>\n",
       "  </tbody>\n",
       "</table>\n",
       "</div>"
      ],
      "text/plain": [
       "          ADM4_PCODE_NAME  status RURBAN  index  ADM3_PCODE\n",
       "0  012801001_Adams (Pob.)  mapped      R    183         183"
      ]
     },
     "execution_count": 12,
     "metadata": {},
     "output_type": "execute_result"
    }
   ],
   "source": [
    "by_adm4_count.head(1)"
   ]
  },
  {
   "cell_type": "code",
   "execution_count": 13,
   "metadata": {
    "Collapsed": "false"
   },
   "outputs": [],
   "source": [
    "adm4_mapped = by_adm4_count.loc[\n",
    "    by_adm4_count.status == \"mapped\", [\"ADM4_PCODE_NAME\", \"index\", \"RURBAN\"]\n",
    "].rename(columns={\"index\": \"mapped_count\"})"
   ]
  },
  {
   "cell_type": "code",
   "execution_count": 14,
   "metadata": {
    "Collapsed": "false"
   },
   "outputs": [],
   "source": [
    "adm4_unmapped = by_adm4_count.loc[\n",
    "    by_adm4_count.status == \"unmapped\", [\"ADM4_PCODE_NAME\", \"index\", \"RURBAN\"]\n",
    "].rename(columns={\"index\": \"unmapped_count\"})"
   ]
  },
  {
   "cell_type": "code",
   "execution_count": 15,
   "metadata": {
    "Collapsed": "false"
   },
   "outputs": [],
   "source": [
    "adm4_completeness = adm4_mapped[[\"ADM4_PCODE_NAME\", \"mapped_count\", \"RURBAN\"]].merge(\n",
    "    adm4_unmapped[[\"ADM4_PCODE_NAME\", \"unmapped_count\", \"RURBAN\"]],\n",
    "    on=[\"ADM4_PCODE_NAME\", \"RURBAN\"],\n",
    "    how=\"outer\",\n",
    ")\n",
    "adm4_completeness.mapped_count = adm4_completeness.mapped_count.fillna(0)\n",
    "adm4_completeness.unmapped_count = adm4_completeness.unmapped_count.fillna(0)"
   ]
  },
  {
   "cell_type": "code",
   "execution_count": 16,
   "metadata": {
    "Collapsed": "false"
   },
   "outputs": [],
   "source": [
    "adm4_completeness[\"adm4_completeness\"] = (\n",
    "    adm4_completeness.mapped_count\n",
    "    / (adm4_completeness.mapped_count + adm4_completeness.unmapped_count)\n",
    ") * 100"
   ]
  },
  {
   "cell_type": "code",
   "execution_count": 17,
   "metadata": {
    "Collapsed": "false"
   },
   "outputs": [
    {
     "data": {
      "text/html": [
       "<div>\n",
       "<style scoped>\n",
       "    .dataframe tbody tr th:only-of-type {\n",
       "        vertical-align: middle;\n",
       "    }\n",
       "\n",
       "    .dataframe tbody tr th {\n",
       "        vertical-align: top;\n",
       "    }\n",
       "\n",
       "    .dataframe thead th {\n",
       "        text-align: right;\n",
       "    }\n",
       "</style>\n",
       "<table border=\"1\" class=\"dataframe\">\n",
       "  <thead>\n",
       "    <tr style=\"text-align: right;\">\n",
       "      <th></th>\n",
       "      <th>mapped_count</th>\n",
       "      <th>unmapped_count</th>\n",
       "      <th>adm4_completeness</th>\n",
       "    </tr>\n",
       "  </thead>\n",
       "  <tbody>\n",
       "    <tr>\n",
       "      <th>count</th>\n",
       "      <td>41665.000000</td>\n",
       "      <td>41665.000000</td>\n",
       "      <td>41665.000000</td>\n",
       "    </tr>\n",
       "    <tr>\n",
       "      <th>mean</th>\n",
       "      <td>41.485587</td>\n",
       "      <td>90.457842</td>\n",
       "      <td>32.084048</td>\n",
       "    </tr>\n",
       "    <tr>\n",
       "      <th>std</th>\n",
       "      <td>102.558068</td>\n",
       "      <td>142.700784</td>\n",
       "      <td>36.476193</td>\n",
       "    </tr>\n",
       "    <tr>\n",
       "      <th>min</th>\n",
       "      <td>0.000000</td>\n",
       "      <td>0.000000</td>\n",
       "      <td>0.000000</td>\n",
       "    </tr>\n",
       "    <tr>\n",
       "      <th>25%</th>\n",
       "      <td>0.000000</td>\n",
       "      <td>15.000000</td>\n",
       "      <td>0.000000</td>\n",
       "    </tr>\n",
       "    <tr>\n",
       "      <th>50%</th>\n",
       "      <td>7.000000</td>\n",
       "      <td>43.000000</td>\n",
       "      <td>9.433962</td>\n",
       "    </tr>\n",
       "    <tr>\n",
       "      <th>75%</th>\n",
       "      <td>42.000000</td>\n",
       "      <td>109.000000</td>\n",
       "      <td>68.831169</td>\n",
       "    </tr>\n",
       "    <tr>\n",
       "      <th>max</th>\n",
       "      <td>3028.000000</td>\n",
       "      <td>4089.000000</td>\n",
       "      <td>100.000000</td>\n",
       "    </tr>\n",
       "  </tbody>\n",
       "</table>\n",
       "</div>"
      ],
      "text/plain": [
       "       mapped_count  unmapped_count  adm4_completeness\n",
       "count  41665.000000    41665.000000       41665.000000\n",
       "mean      41.485587       90.457842          32.084048\n",
       "std      102.558068      142.700784          36.476193\n",
       "min        0.000000        0.000000           0.000000\n",
       "25%        0.000000       15.000000           0.000000\n",
       "50%        7.000000       43.000000           9.433962\n",
       "75%       42.000000      109.000000          68.831169\n",
       "max     3028.000000     4089.000000         100.000000"
      ]
     },
     "execution_count": 17,
     "metadata": {},
     "output_type": "execute_result"
    }
   ],
   "source": [
    "adm4_completeness.describe()"
   ]
  },
  {
   "cell_type": "code",
   "execution_count": 18,
   "metadata": {
    "Collapsed": "false"
   },
   "outputs": [
    {
     "data": {
      "text/plain": [
       "<matplotlib.legend.Legend at 0x7fae90c29e90>"
      ]
     },
     "execution_count": 18,
     "metadata": {},
     "output_type": "execute_result"
    },
    {
     "data": {
      "image/png": "[encoded data removed]",
      "text/plain": [
       "<Figure size 432x288 with 1 Axes>"
      ]
     },
     "metadata": {
      "needs_background": "light"
     },
     "output_type": "display_data"
    }
   ],
   "source": [
    "bins = np.linspace(0, 100, 11)\n",
    "\n",
    "plt.hist(\n",
    "    adm4_completeness[adm4_completeness.RURBAN == \"R\"].adm4_completeness,\n",
    "    bins,\n",
    "    alpha=0.5,\n",
    "    label=\"Rural Completeness\",\n",
    ")\n",
    "plt.hist(\n",
    "    adm4_completeness[adm4_completeness.RURBAN == \"U\"].adm4_completeness,\n",
    "    bins,\n",
    "    alpha=0.5,\n",
    "    label=\"Urban Completeness\",\n",
    ")\n",
    "plt.xticks(np.arange(0, 110, 10))\n",
    "plt.xlabel(\"Percent Completeness\")\n",
    "plt.ylabel(\"No. of Barangays\")\n",
    "plt.legend(loc=\"upper right\")\n",
    "# plt.savefig('urban-rural-histogram.png', dpi=300)"
   ]
  },
  {
   "cell_type": "markdown",
   "metadata": {
    "Collapsed": "false"
   },
   "source": [
    "### Urban Pixels Mapped vs Rural Pixels Mapped"
   ]
  },
  {
   "cell_type": "code",
   "execution_count": 19,
   "metadata": {
    "Collapsed": "false"
   },
   "outputs": [],
   "source": [
    "by_adm3_count = (\n",
    "    phl_pixels_all.loc[phl_pixels_all[\"RURBAN\"] != \"-\"]\n",
    "    .loc[phl_pixels_all[\"RURBAN\"].notnull()]\n",
    "    .groupby([\"ADM3_PCODE\", \"status\", \"RURBAN\"])\n",
    "    .count()\n",
    "    .reset_index()\n",
    ")"
   ]
  },
  {
   "cell_type": "code",
   "execution_count": 20,
   "metadata": {
    "Collapsed": "false"
   },
   "outputs": [
    {
     "data": {
      "text/html": [
       "<div>\n",
       "<style scoped>\n",
       "    .dataframe tbody tr th:only-of-type {\n",
       "        vertical-align: middle;\n",
       "    }\n",
       "\n",
       "    .dataframe tbody tr th {\n",
       "        vertical-align: top;\n",
       "    }\n",
       "\n",
       "    .dataframe thead th {\n",
       "        text-align: right;\n",
       "    }\n",
       "</style>\n",
       "<table border=\"1\" class=\"dataframe\">\n",
       "  <thead>\n",
       "    <tr style=\"text-align: right;\">\n",
       "      <th></th>\n",
       "      <th>ADM3_PCODE</th>\n",
       "      <th>status</th>\n",
       "      <th>RURBAN</th>\n",
       "      <th>index</th>\n",
       "      <th>ADM4_PCODE_NAME</th>\n",
       "    </tr>\n",
       "  </thead>\n",
       "  <tbody>\n",
       "    <tr>\n",
       "      <th>0</th>\n",
       "      <td>PH012801000</td>\n",
       "      <td>mapped</td>\n",
       "      <td>R</td>\n",
       "      <td>183</td>\n",
       "      <td>183</td>\n",
       "    </tr>\n",
       "  </tbody>\n",
       "</table>\n",
       "</div>"
      ],
      "text/plain": [
       "    ADM3_PCODE  status RURBAN  index  ADM4_PCODE_NAME\n",
       "0  PH012801000  mapped      R    183              183"
      ]
     },
     "execution_count": 20,
     "metadata": {},
     "output_type": "execute_result"
    }
   ],
   "source": [
    "by_adm3_count.head(1)"
   ]
  },
  {
   "cell_type": "code",
   "execution_count": 21,
   "metadata": {
    "Collapsed": "false"
   },
   "outputs": [],
   "source": [
    "adm3_mapped = by_adm3_count.loc[\n",
    "    by_adm3_count.status == \"mapped\", [\"ADM3_PCODE\", \"index\", \"RURBAN\"]\n",
    "].rename(columns={\"index\": \"mapped_count\"})"
   ]
  },
  {
   "cell_type": "code",
   "execution_count": 22,
   "metadata": {
    "Collapsed": "false"
   },
   "outputs": [],
   "source": [
    "adm3_unmapped = by_adm3_count.loc[\n",
    "    by_adm3_count.status == \"unmapped\", [\"ADM3_PCODE\", \"index\", \"RURBAN\"]\n",
    "].rename(columns={\"index\": \"unmapped_count\"})"
   ]
  },
  {
   "cell_type": "code",
   "execution_count": 23,
   "metadata": {
    "Collapsed": "false"
   },
   "outputs": [],
   "source": [
    "adm3_completeness = adm3_mapped[[\"ADM3_PCODE\", \"mapped_count\", \"RURBAN\"]].merge(\n",
    "    adm3_unmapped[[\"ADM3_PCODE\", \"unmapped_count\", \"RURBAN\"]],\n",
    "    on=[\"ADM3_PCODE\", \"RURBAN\"],\n",
    "    how=\"outer\",\n",
    ")\n",
    "adm3_completeness.mapped_count = adm3_completeness.mapped_count.fillna(0)\n",
    "adm3_completeness.unmapped_count = adm3_completeness.unmapped_count.fillna(0)"
   ]
  },
  {
   "cell_type": "code",
   "execution_count": 24,
   "metadata": {
    "Collapsed": "false"
   },
   "outputs": [],
   "source": [
    "adm3_completeness[\"adm3_completeness\"] = (\n",
    "    adm3_completeness.mapped_count\n",
    "    / (adm3_completeness.mapped_count + adm3_completeness.unmapped_count)\n",
    ") * 100"
   ]
  },
  {
   "cell_type": "code",
   "execution_count": 25,
   "metadata": {
    "Collapsed": "false"
   },
   "outputs": [
    {
     "data": {
      "text/html": [
       "<div>\n",
       "<style scoped>\n",
       "    .dataframe tbody tr th:only-of-type {\n",
       "        vertical-align: middle;\n",
       "    }\n",
       "\n",
       "    .dataframe tbody tr th {\n",
       "        vertical-align: top;\n",
       "    }\n",
       "\n",
       "    .dataframe thead th {\n",
       "        text-align: right;\n",
       "    }\n",
       "</style>\n",
       "<table border=\"1\" class=\"dataframe\">\n",
       "  <thead>\n",
       "    <tr style=\"text-align: right;\">\n",
       "      <th></th>\n",
       "      <th>mapped_count</th>\n",
       "      <th>unmapped_count</th>\n",
       "      <th>adm3_completeness</th>\n",
       "    </tr>\n",
       "  </thead>\n",
       "  <tbody>\n",
       "    <tr>\n",
       "      <th>count</th>\n",
       "      <td>2396.000000</td>\n",
       "      <td>2396.000000</td>\n",
       "      <td>2396.000000</td>\n",
       "    </tr>\n",
       "    <tr>\n",
       "      <th>mean</th>\n",
       "      <td>721.409432</td>\n",
       "      <td>1573.007513</td>\n",
       "      <td>29.876164</td>\n",
       "    </tr>\n",
       "    <tr>\n",
       "      <th>std</th>\n",
       "      <td>1735.507496</td>\n",
       "      <td>2205.398764</td>\n",
       "      <td>31.456789</td>\n",
       "    </tr>\n",
       "    <tr>\n",
       "      <th>min</th>\n",
       "      <td>0.000000</td>\n",
       "      <td>0.000000</td>\n",
       "      <td>0.000000</td>\n",
       "    </tr>\n",
       "    <tr>\n",
       "      <th>25%</th>\n",
       "      <td>30.000000</td>\n",
       "      <td>371.750000</td>\n",
       "      <td>2.293304</td>\n",
       "    </tr>\n",
       "    <tr>\n",
       "      <th>50%</th>\n",
       "      <td>161.500000</td>\n",
       "      <td>918.500000</td>\n",
       "      <td>13.034282</td>\n",
       "    </tr>\n",
       "    <tr>\n",
       "      <th>75%</th>\n",
       "      <td>718.750000</td>\n",
       "      <td>1996.750000</td>\n",
       "      <td>61.795975</td>\n",
       "    </tr>\n",
       "    <tr>\n",
       "      <th>max</th>\n",
       "      <td>46633.000000</td>\n",
       "      <td>42062.000000</td>\n",
       "      <td>100.000000</td>\n",
       "    </tr>\n",
       "  </tbody>\n",
       "</table>\n",
       "</div>"
      ],
      "text/plain": [
       "       mapped_count  unmapped_count  adm3_completeness\n",
       "count   2396.000000     2396.000000        2396.000000\n",
       "mean     721.409432     1573.007513          29.876164\n",
       "std     1735.507496     2205.398764          31.456789\n",
       "min        0.000000        0.000000           0.000000\n",
       "25%       30.000000      371.750000           2.293304\n",
       "50%      161.500000      918.500000          13.034282\n",
       "75%      718.750000     1996.750000          61.795975\n",
       "max    46633.000000    42062.000000         100.000000"
      ]
     },
     "execution_count": 25,
     "metadata": {},
     "output_type": "execute_result"
    }
   ],
   "source": [
    "adm3_completeness.describe()"
   ]
  },
  {
   "cell_type": "code",
   "execution_count": 26,
   "metadata": {
    "Collapsed": "false"
   },
   "outputs": [],
   "source": [
    "rurban_completeness = adm3_completeness.loc[\n",
    "    adm3_completeness.RURBAN == \"R\", [\"ADM3_PCODE\", \"adm3_completeness\"]\n",
    "].merge(\n",
    "    adm3_completeness.loc[\n",
    "        adm3_completeness.RURBAN == \"U\", [\"ADM3_PCODE\", \"adm3_completeness\"]\n",
    "    ],\n",
    "    on=\"ADM3_PCODE\",\n",
    "    how=\"inner\",\n",
    ")"
   ]
  },
  {
   "cell_type": "code",
   "execution_count": 27,
   "metadata": {
    "Collapsed": "false"
   },
   "outputs": [],
   "source": [
    "rurban_completeness.rename(\n",
    "    columns={\n",
    "        \"adm3_completeness_x\": \"rural_complete\",\n",
    "        \"adm3_completeness_y\": \"urban_complete\",\n",
    "    },\n",
    "    inplace=True,\n",
    ")"
   ]
  },
  {
   "cell_type": "code",
   "execution_count": 28,
   "metadata": {
    "Collapsed": "false"
   },
   "outputs": [
    {
     "data": {
      "text/plain": [
       "Text(0, 90, '$r^{2}$ = 0.81')"
      ]
     },
     "execution_count": 28,
     "metadata": {},
     "output_type": "execute_result"
    },
    {
     "data": {
      "image/png": "[encoded data removed]",
      "text/plain": [
       "<Figure size 432x288 with 1 Axes>"
      ]
     },
     "metadata": {
      "needs_background": "light"
     },
     "output_type": "display_data"
    }
   ],
   "source": [
    "x = rurban_completeness.urban_complete\n",
    "y = rurban_completeness.rural_complete\n",
    "correlation_matrix = np.corrcoef(x, y)\n",
    "correlation_xy = correlation_matrix[0, 1]\n",
    "r = correlation_xy ** 2\n",
    "\n",
    "plt.scatter(x, y, s=5)\n",
    "plt.xlabel(\"Urban Pixels Mapped(%)\")\n",
    "plt.ylabel(\"Rural Pixels Mapped(%)\")\n",
    "plt.title(\"Urban Completeness vs Rural Completeness in Municipalities\")\n",
    "plt.xticks(np.arange(0, 110, 10))\n",
    "plt.yticks(np.arange(0, 110, 10))\n",
    "z = np.polyfit(x, y, 1)\n",
    "p = np.poly1d(z)\n",
    "plt.plot(x, p(x), \"r--\")\n",
    "plt.text(0, 90, \"$r^{2}$ = \" + str(round(r, 2)))\n",
    "# plt.savefig('urban-rural-completeness.png', dpi=300)"
   ]
  },
  {
   "cell_type": "markdown",
   "metadata": {
    "Collapsed": "false"
   },
   "source": [
    "### Urban/Rural Pixels Mapped vs Municipal Completeness"
   ]
  },
  {
   "cell_type": "code",
   "execution_count": 29,
   "metadata": {
    "Collapsed": "false"
   },
   "outputs": [],
   "source": [
    "munic_count = (\n",
    "    phl_pixels_all.loc[phl_pixels_all[\"RURBAN\"] != \"-\"]\n",
    "    .loc[phl_pixels_all[\"RURBAN\"].notnull()]\n",
    "    .groupby([\"ADM3_PCODE\", \"status\"])\n",
    "    .count()\n",
    "    .reset_index()\n",
    ")"
   ]
  },
  {
   "cell_type": "code",
   "execution_count": 30,
   "metadata": {
    "Collapsed": "false"
   },
   "outputs": [
    {
     "data": {
      "text/html": [
       "<div>\n",
       "<style scoped>\n",
       "    .dataframe tbody tr th:only-of-type {\n",
       "        vertical-align: middle;\n",
       "    }\n",
       "\n",
       "    .dataframe tbody tr th {\n",
       "        vertical-align: top;\n",
       "    }\n",
       "\n",
       "    .dataframe thead th {\n",
       "        text-align: right;\n",
       "    }\n",
       "</style>\n",
       "<table border=\"1\" class=\"dataframe\">\n",
       "  <thead>\n",
       "    <tr style=\"text-align: right;\">\n",
       "      <th></th>\n",
       "      <th>ADM3_PCODE</th>\n",
       "      <th>status</th>\n",
       "      <th>index</th>\n",
       "      <th>RURBAN</th>\n",
       "      <th>ADM4_PCODE_NAME</th>\n",
       "    </tr>\n",
       "  </thead>\n",
       "  <tbody>\n",
       "    <tr>\n",
       "      <th>0</th>\n",
       "      <td>PH012801000</td>\n",
       "      <td>mapped</td>\n",
       "      <td>183</td>\n",
       "      <td>183</td>\n",
       "      <td>183</td>\n",
       "    </tr>\n",
       "  </tbody>\n",
       "</table>\n",
       "</div>"
      ],
      "text/plain": [
       "    ADM3_PCODE  status  index  RURBAN  ADM4_PCODE_NAME\n",
       "0  PH012801000  mapped    183     183              183"
      ]
     },
     "execution_count": 30,
     "metadata": {},
     "output_type": "execute_result"
    }
   ],
   "source": [
    "munic_count.head(1)"
   ]
  },
  {
   "cell_type": "code",
   "execution_count": 31,
   "metadata": {
    "Collapsed": "false"
   },
   "outputs": [],
   "source": [
    "munic_mapped = munic_count.loc[\n",
    "    munic_count.status == \"mapped\", [\"ADM3_PCODE\", \"index\"]\n",
    "].rename(columns={\"index\": \"mapped_count\"})"
   ]
  },
  {
   "cell_type": "code",
   "execution_count": 32,
   "metadata": {
    "Collapsed": "false"
   },
   "outputs": [],
   "source": [
    "munic_unmapped = munic_count.loc[\n",
    "    munic_count.status == \"unmapped\", [\"ADM3_PCODE\", \"index\"]\n",
    "].rename(columns={\"index\": \"unmapped_count\"})"
   ]
  },
  {
   "cell_type": "code",
   "execution_count": 33,
   "metadata": {
    "Collapsed": "false"
   },
   "outputs": [],
   "source": [
    "munic_completeness = munic_mapped[[\"ADM3_PCODE\", \"mapped_count\"]].merge(\n",
    "    munic_unmapped[[\"ADM3_PCODE\", \"unmapped_count\"]], on=[\"ADM3_PCODE\"], how=\"outer\"\n",
    ")\n",
    "munic_completeness.mapped_count = munic_completeness.mapped_count.fillna(0)\n",
    "munic_completeness.unmapped_count = munic_completeness.unmapped_count.fillna(0)"
   ]
  },
  {
   "cell_type": "code",
   "execution_count": 34,
   "metadata": {
    "Collapsed": "false"
   },
   "outputs": [],
   "source": [
    "munic_completeness[\"munic_completeness\"] = (\n",
    "    munic_completeness.mapped_count\n",
    "    / (munic_completeness.mapped_count + munic_completeness.unmapped_count)\n",
    ") * 100"
   ]
  },
  {
   "cell_type": "code",
   "execution_count": 35,
   "metadata": {
    "Collapsed": "false"
   },
   "outputs": [
    {
     "data": {
      "text/html": [
       "<div>\n",
       "<style scoped>\n",
       "    .dataframe tbody tr th:only-of-type {\n",
       "        vertical-align: middle;\n",
       "    }\n",
       "\n",
       "    .dataframe tbody tr th {\n",
       "        vertical-align: top;\n",
       "    }\n",
       "\n",
       "    .dataframe thead th {\n",
       "        text-align: right;\n",
       "    }\n",
       "</style>\n",
       "<table border=\"1\" class=\"dataframe\">\n",
       "  <thead>\n",
       "    <tr style=\"text-align: right;\">\n",
       "      <th></th>\n",
       "      <th>mapped_count</th>\n",
       "      <th>unmapped_count</th>\n",
       "      <th>munic_completeness</th>\n",
       "    </tr>\n",
       "  </thead>\n",
       "  <tbody>\n",
       "    <tr>\n",
       "      <th>count</th>\n",
       "      <td>1645.000000</td>\n",
       "      <td>1645.000000</td>\n",
       "      <td>1645.000000</td>\n",
       "    </tr>\n",
       "    <tr>\n",
       "      <th>mean</th>\n",
       "      <td>1050.758055</td>\n",
       "      <td>2291.140426</td>\n",
       "      <td>30.363111</td>\n",
       "    </tr>\n",
       "    <tr>\n",
       "      <th>std</th>\n",
       "      <td>2318.185096</td>\n",
       "      <td>3099.872678</td>\n",
       "      <td>30.722180</td>\n",
       "    </tr>\n",
       "    <tr>\n",
       "      <th>min</th>\n",
       "      <td>0.000000</td>\n",
       "      <td>11.000000</td>\n",
       "      <td>0.000000</td>\n",
       "    </tr>\n",
       "    <tr>\n",
       "      <th>25%</th>\n",
       "      <td>51.000000</td>\n",
       "      <td>625.000000</td>\n",
       "      <td>2.577931</td>\n",
       "    </tr>\n",
       "    <tr>\n",
       "      <th>50%</th>\n",
       "      <td>289.000000</td>\n",
       "      <td>1361.000000</td>\n",
       "      <td>14.632502</td>\n",
       "    </tr>\n",
       "    <tr>\n",
       "      <th>75%</th>\n",
       "      <td>1047.000000</td>\n",
       "      <td>2855.000000</td>\n",
       "      <td>62.309469</td>\n",
       "    </tr>\n",
       "    <tr>\n",
       "      <th>max</th>\n",
       "      <td>46633.000000</td>\n",
       "      <td>56365.000000</td>\n",
       "      <td>98.710434</td>\n",
       "    </tr>\n",
       "  </tbody>\n",
       "</table>\n",
       "</div>"
      ],
      "text/plain": [
       "       mapped_count  unmapped_count  munic_completeness\n",
       "count   1645.000000     1645.000000         1645.000000\n",
       "mean    1050.758055     2291.140426           30.363111\n",
       "std     2318.185096     3099.872678           30.722180\n",
       "min        0.000000       11.000000            0.000000\n",
       "25%       51.000000      625.000000            2.577931\n",
       "50%      289.000000     1361.000000           14.632502\n",
       "75%     1047.000000     2855.000000           62.309469\n",
       "max    46633.000000    56365.000000           98.710434"
      ]
     },
     "execution_count": 35,
     "metadata": {},
     "output_type": "execute_result"
    }
   ],
   "source": [
    "munic_completeness.describe()"
   ]
  },
  {
   "cell_type": "code",
   "execution_count": 41,
   "metadata": {
    "Collapsed": "false"
   },
   "outputs": [],
   "source": [
    "munic_completeness = munic_completeness[[\"ADM3_PCODE\", \"munic_completeness\"]].merge(\n",
    "    rurban_completeness, on=\"ADM3_PCODE\", how=\"inner\"\n",
    ")"
   ]
  },
  {
   "cell_type": "code",
   "execution_count": 42,
   "metadata": {
    "Collapsed": "false"
   },
   "outputs": [
    {
     "data": {
      "text/plain": [
       "Text(0, 90, '$r^{2}$ = 0.94')"
      ]
     },
     "execution_count": 42,
     "metadata": {},
     "output_type": "execute_result"
    },
    {
     "data": {
      "image/png": "[encoded data removed]",
      "text/plain": [
       "<Figure size 432x288 with 1 Axes>"
      ]
     },
     "metadata": {
      "needs_background": "light"
     },
     "output_type": "display_data"
    }
   ],
   "source": [
    "x = munic_completeness.munic_completeness\n",
    "y = munic_completeness.urban_complete\n",
    "r, _ = pearsonr(x, y)\n",
    "\n",
    "plt.scatter(x, y, s=5)\n",
    "plt.xlabel(\"Total Pixels Mapped(%)\")\n",
    "plt.ylabel(\"Urban Pixels Mapped(%)\")\n",
    "plt.title(\"Urban Completeness vs Total Completeness\")\n",
    "plt.xticks(np.arange(0, 110, 10))\n",
    "plt.yticks(np.arange(0, 110, 10))\n",
    "z = np.polyfit(x, y, 1)\n",
    "p = np.poly1d(z)\n",
    "plt.plot(x, p(x), \"r--\")\n",
    "plt.text(0, 90, \"$r^{2}$ = \" + str(round(r, 2)))\n",
    "# plt.savefig('urban-total-completeness.png', dpi=300)"
   ]
  },
  {
   "cell_type": "code",
   "execution_count": 43,
   "metadata": {
    "Collapsed": "false"
   },
   "outputs": [
    {
     "data": {
      "text/plain": [
       "Text(0, 90, '$r^{2}$ = 0.98')"
      ]
     },
     "execution_count": 43,
     "metadata": {},
     "output_type": "execute_result"
    },
    {
     "data": {
      "image/png": "[encoded data removed]",
      "text/plain": [
       "<Figure size 432x288 with 1 Axes>"
      ]
     },
     "metadata": {
      "needs_background": "light"
     },
     "output_type": "display_data"
    }
   ],
   "source": [
    "x = munic_completeness.munic_completeness\n",
    "y = munic_completeness.rural_complete\n",
    "r, _ = pearsonr(x, y)\n",
    "\n",
    "plt.scatter(x, y, s=5)\n",
    "plt.xlabel(\"Total Pixels Mapped(%)\")\n",
    "plt.ylabel(\"Rural Pixels Mapped(%)\")\n",
    "plt.title(\"Rural Completeness vs Total Completeness\")\n",
    "plt.xticks(np.arange(0, 110, 10))\n",
    "plt.yticks(np.arange(0, 110, 10))\n",
    "z = np.polyfit(x, y, 1)\n",
    "p = np.poly1d(z)\n",
    "plt.plot(x, p(x), \"r--\")\n",
    "plt.text(0, 90, \"$r^{2}$ = \" + str(round(r, 2)))\n",
    "# plt.savefig('rural-total-completeness.png', dpi=300)"
   ]
  },
  {
   "cell_type": "markdown",
   "metadata": {
    "Collapsed": "false"
   },
   "source": [
    "### Poverty Incidence vs Municipal Completeness"
   ]
  },
  {
   "cell_type": "code",
   "execution_count": 44,
   "metadata": {
    "Collapsed": "false"
   },
   "outputs": [],
   "source": [
    "phl_poverty.Mun_Code = \"PH\" + phl_poverty.Mun_Code.map(\"{:0>9}\".format).astype(\"str\")"
   ]
  },
  {
   "cell_type": "code",
   "execution_count": 45,
   "metadata": {
    "Collapsed": "false"
   },
   "outputs": [
    {
     "data": {
      "text/plain": [
       "Mun_Code                   object\n",
       "Poverty_Incidence_2015    float64\n",
       "dtype: object"
      ]
     },
     "execution_count": 45,
     "metadata": {},
     "output_type": "execute_result"
    }
   ],
   "source": [
    "phl_poverty.dtypes"
   ]
  },
  {
   "cell_type": "code",
   "execution_count": 46,
   "metadata": {
    "Collapsed": "false"
   },
   "outputs": [],
   "source": [
    "munic_completeness = munic_completeness.merge(\n",
    "    phl_poverty, left_on=\"ADM3_PCODE\", right_on=\"Mun_Code\", how=\"inner\"\n",
    ")"
   ]
  },
  {
   "cell_type": "code",
   "execution_count": 47,
   "metadata": {
    "Collapsed": "false"
   },
   "outputs": [
    {
     "data": {
      "text/html": [
       "<div>\n",
       "<style scoped>\n",
       "    .dataframe tbody tr th:only-of-type {\n",
       "        vertical-align: middle;\n",
       "    }\n",
       "\n",
       "    .dataframe tbody tr th {\n",
       "        vertical-align: top;\n",
       "    }\n",
       "\n",
       "    .dataframe thead th {\n",
       "        text-align: right;\n",
       "    }\n",
       "</style>\n",
       "<table border=\"1\" class=\"dataframe\">\n",
       "  <thead>\n",
       "    <tr style=\"text-align: right;\">\n",
       "      <th></th>\n",
       "      <th>ADM3_PCODE</th>\n",
       "      <th>munic_completeness</th>\n",
       "      <th>rural_complete</th>\n",
       "      <th>urban_complete</th>\n",
       "      <th>Mun_Code</th>\n",
       "      <th>Poverty_Incidence_2015</th>\n",
       "    </tr>\n",
       "  </thead>\n",
       "  <tbody>\n",
       "    <tr>\n",
       "      <th>0</th>\n",
       "      <td>PH012809000</td>\n",
       "      <td>60.857217</td>\n",
       "      <td>61.460889</td>\n",
       "      <td>50.000000</td>\n",
       "      <td>PH012809000</td>\n",
       "      <td>11.7</td>\n",
       "    </tr>\n",
       "    <tr>\n",
       "      <th>1</th>\n",
       "      <td>PH012812000</td>\n",
       "      <td>77.335859</td>\n",
       "      <td>77.836231</td>\n",
       "      <td>75.469283</td>\n",
       "      <td>PH012812000</td>\n",
       "      <td>6.6</td>\n",
       "    </tr>\n",
       "    <tr>\n",
       "      <th>2</th>\n",
       "      <td>PH012820000</td>\n",
       "      <td>76.596280</td>\n",
       "      <td>75.925386</td>\n",
       "      <td>80.804388</td>\n",
       "      <td>PH012820000</td>\n",
       "      <td>7.7</td>\n",
       "    </tr>\n",
       "    <tr>\n",
       "      <th>3</th>\n",
       "      <td>PH012903000</td>\n",
       "      <td>81.727420</td>\n",
       "      <td>80.644316</td>\n",
       "      <td>90.184049</td>\n",
       "      <td>PH012903000</td>\n",
       "      <td>11.2</td>\n",
       "    </tr>\n",
       "    <tr>\n",
       "      <th>4</th>\n",
       "      <td>PH012906000</td>\n",
       "      <td>67.948205</td>\n",
       "      <td>66.282216</td>\n",
       "      <td>92.948718</td>\n",
       "      <td>PH012906000</td>\n",
       "      <td>10.4</td>\n",
       "    </tr>\n",
       "  </tbody>\n",
       "</table>\n",
       "</div>"
      ],
      "text/plain": [
       "    ADM3_PCODE  munic_completeness  rural_complete  urban_complete  \\\n",
       "0  PH012809000           60.857217       61.460889       50.000000   \n",
       "1  PH012812000           77.335859       77.836231       75.469283   \n",
       "2  PH012820000           76.596280       75.925386       80.804388   \n",
       "3  PH012903000           81.727420       80.644316       90.184049   \n",
       "4  PH012906000           67.948205       66.282216       92.948718   \n",
       "\n",
       "      Mun_Code  Poverty_Incidence_2015  \n",
       "0  PH012809000                    11.7  \n",
       "1  PH012812000                     6.6  \n",
       "2  PH012820000                     7.7  \n",
       "3  PH012903000                    11.2  \n",
       "4  PH012906000                    10.4  "
      ]
     },
     "execution_count": 47,
     "metadata": {},
     "output_type": "execute_result"
    }
   ],
   "source": [
    "munic_completeness.head()"
   ]
  },
  {
   "cell_type": "code",
   "execution_count": 48,
   "metadata": {
    "Collapsed": "false"
   },
   "outputs": [
    {
     "data": {
      "text/plain": [
       "Text(0, 90, '$r^{2}$ = -0.26')"
      ]
     },
     "execution_count": 48,
     "metadata": {},
     "output_type": "execute_result"
    },
    {
     "data": {
      "image/png": "[encoded data removed]",
      "text/plain": [
       "<Figure size 432x288 with 1 Axes>"
      ]
     },
     "metadata": {
      "needs_background": "light"
     },
     "output_type": "display_data"
    }
   ],
   "source": [
    "x = munic_completeness.munic_completeness\n",
    "y = munic_completeness.Poverty_Incidence_2015\n",
    "r, _ = pearsonr(x, y)\n",
    "\n",
    "plt.scatter(x, y, s=5)\n",
    "plt.ylabel(\"Poverty Incidence(%)\")\n",
    "plt.xlabel(\"Total Pixels Mapped(%)\")\n",
    "plt.title(\"Poverty  Incidence vs Total Completness\")\n",
    "plt.xticks(np.arange(0, 110, 10))\n",
    "plt.yticks(np.arange(0, 110, 10))\n",
    "# z = np.polyfit(x, y, 1)\n",
    "# p = np.poly1d(z)\n",
    "# plt.plot(x,p(x),\"r--\")\n",
    "plt.text(0, 90, \"$r^{2}$ = \" + str(round(r, 2)))\n",
    "# plt.savefig('poverty-total-completeness.png', dpi=300)"
   ]
  }
 ],
 "metadata": {
  "environment": {
   "name": "common-cpu.m46",
   "type": "gcloud",
   "uri": "gcr.io/deeplearning-platform-release/base-cpu:m46"
  },
  "kernelspec": {
   "display_name": "Python 3",
   "language": "python",
   "name": "python3"
  },
  "language_info": {
   "codemirror_mode": {
    "name": "ipython",
    "version": 3
   },
   "file_extension": ".py",
   "mimetype": "text/x-python",
   "name": "python",
   "nbconvert_exporter": "python",
   "pygments_lexer": "ipython3",
   "version": "3.7.6"
  }
 },
 "nbformat": 4,
 "nbformat_minor": 4
}
